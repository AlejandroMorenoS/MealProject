{
 "cells": [
  {
   "cell_type": "code",
   "execution_count": 1,
   "id": "b9a9bbb4-19a9-49b0-84a4-cb1d8d393cc2",
   "metadata": {},
   "outputs": [
    {
     "data": {
      "text/html": [
       "<div>\n",
       "<style scoped>\n",
       "    .dataframe tbody tr th:only-of-type {\n",
       "        vertical-align: middle;\n",
       "    }\n",
       "\n",
       "    .dataframe tbody tr th {\n",
       "        vertical-align: top;\n",
       "    }\n",
       "\n",
       "    .dataframe thead th {\n",
       "        text-align: right;\n",
       "    }\n",
       "</style>\n",
       "<table border=\"1\" class=\"dataframe\">\n",
       "  <thead>\n",
       "    <tr style=\"text-align: right;\">\n",
       "      <th></th>\n",
       "      <th>day</th>\n",
       "      <th>comida</th>\n",
       "      <th>week number</th>\n",
       "      <th>weekday</th>\n",
       "      <th>vegan</th>\n",
       "      <th>veggie</th>\n",
       "      <th>pescaterian</th>\n",
       "      <th>chicken</th>\n",
       "      <th>egg</th>\n",
       "      <th>beef</th>\n",
       "      <th>pork</th>\n",
       "      <th>carbon point</th>\n",
       "      <th>time</th>\n",
       "      <th>category</th>\n",
       "      <th>group</th>\n",
       "      <th>excercise points</th>\n",
       "      <th>meal</th>\n",
       "      <th>calories</th>\n",
       "      <th>num calories</th>\n",
       "    </tr>\n",
       "  </thead>\n",
       "  <tbody>\n",
       "    <tr>\n",
       "      <th>0</th>\n",
       "      <td>16/01/2023</td>\n",
       "      <td>crema zanahoria</td>\n",
       "      <td>3</td>\n",
       "      <td>monday</td>\n",
       "      <td>0</td>\n",
       "      <td>1</td>\n",
       "      <td>1</td>\n",
       "      <td>0</td>\n",
       "      <td>0</td>\n",
       "      <td>0</td>\n",
       "      <td>0</td>\n",
       "      <td>2</td>\n",
       "      <td>20</td>\n",
       "      <td>primero</td>\n",
       "      <td>vegetal</td>\n",
       "      <td>233.0</td>\n",
       "      <td>carrot cream</td>\n",
       "      <td>150-200 calories per serving</td>\n",
       "      <td>175</td>\n",
       "    </tr>\n",
       "    <tr>\n",
       "      <th>1</th>\n",
       "      <td>16/01/2023</td>\n",
       "      <td>merluza con pure</td>\n",
       "      <td>3</td>\n",
       "      <td>monday</td>\n",
       "      <td>0</td>\n",
       "      <td>0</td>\n",
       "      <td>1</td>\n",
       "      <td>0</td>\n",
       "      <td>0</td>\n",
       "      <td>0</td>\n",
       "      <td>0</td>\n",
       "      <td>8</td>\n",
       "      <td>30</td>\n",
       "      <td>principal</td>\n",
       "      <td>proteina animal</td>\n",
       "      <td>NaN</td>\n",
       "      <td>hake with mashed potatoes</td>\n",
       "      <td>300-350 calories per serving</td>\n",
       "      <td>325</td>\n",
       "    </tr>\n",
       "    <tr>\n",
       "      <th>2</th>\n",
       "      <td>17/01/2023</td>\n",
       "      <td>garbanzos</td>\n",
       "      <td>3</td>\n",
       "      <td>tuesday</td>\n",
       "      <td>1</td>\n",
       "      <td>1</td>\n",
       "      <td>1</td>\n",
       "      <td>0</td>\n",
       "      <td>0</td>\n",
       "      <td>0</td>\n",
       "      <td>0</td>\n",
       "      <td>1</td>\n",
       "      <td>30</td>\n",
       "      <td>principal</td>\n",
       "      <td>vegetal</td>\n",
       "      <td>NaN</td>\n",
       "      <td>chickpeas</td>\n",
       "      <td>150-200 calories per serving</td>\n",
       "      <td>175</td>\n",
       "    </tr>\n",
       "    <tr>\n",
       "      <th>3</th>\n",
       "      <td>18/01/2023</td>\n",
       "      <td>crema</td>\n",
       "      <td>3</td>\n",
       "      <td>wednesday</td>\n",
       "      <td>0</td>\n",
       "      <td>1</td>\n",
       "      <td>1</td>\n",
       "      <td>0</td>\n",
       "      <td>0</td>\n",
       "      <td>0</td>\n",
       "      <td>0</td>\n",
       "      <td>2</td>\n",
       "      <td>20</td>\n",
       "      <td>primero</td>\n",
       "      <td>vegetal</td>\n",
       "      <td>NaN</td>\n",
       "      <td>cream</td>\n",
       "      <td>150-200 calories per serving</td>\n",
       "      <td>175</td>\n",
       "    </tr>\n",
       "    <tr>\n",
       "      <th>4</th>\n",
       "      <td>18/01/2023</td>\n",
       "      <td>pollo horno</td>\n",
       "      <td>3</td>\n",
       "      <td>wednesday</td>\n",
       "      <td>0</td>\n",
       "      <td>0</td>\n",
       "      <td>0</td>\n",
       "      <td>1</td>\n",
       "      <td>0</td>\n",
       "      <td>0</td>\n",
       "      <td>0</td>\n",
       "      <td>5</td>\n",
       "      <td>45</td>\n",
       "      <td>principal</td>\n",
       "      <td>proteina animal</td>\n",
       "      <td>NaN</td>\n",
       "      <td>roast chicken</td>\n",
       "      <td>250-300 calories per serving</td>\n",
       "      <td>275</td>\n",
       "    </tr>\n",
       "  </tbody>\n",
       "</table>\n",
       "</div>"
      ],
      "text/plain": [
       "          day            comida  week number    weekday  vegan  veggie  \\\n",
       "0  16/01/2023   crema zanahoria            3     monday      0       1   \n",
       "1  16/01/2023  merluza con pure            3     monday      0       0   \n",
       "2  17/01/2023         garbanzos            3    tuesday      1       1   \n",
       "3  18/01/2023             crema            3  wednesday      0       1   \n",
       "4  18/01/2023       pollo horno            3  wednesday      0       0   \n",
       "\n",
       "   pescaterian  chicken  egg  beef  pork  carbon point  time   category  \\\n",
       "0            1        0    0     0     0             2    20    primero   \n",
       "1            1        0    0     0     0             8    30  principal   \n",
       "2            1        0    0     0     0             1    30  principal   \n",
       "3            1        0    0     0     0             2    20    primero   \n",
       "4            0        1    0     0     0             5    45  principal   \n",
       "\n",
       "             group  excercise points                       meal  \\\n",
       "0          vegetal             233.0               carrot cream   \n",
       "1  proteina animal               NaN  hake with mashed potatoes   \n",
       "2          vegetal               NaN                  chickpeas   \n",
       "3          vegetal               NaN                      cream   \n",
       "4  proteina animal               NaN              roast chicken   \n",
       "\n",
       "                        calories num calories  \n",
       "0   150-200 calories per serving          175  \n",
       "1   300-350 calories per serving          325  \n",
       "2   150-200 calories per serving          175  \n",
       "3   150-200 calories per serving          175  \n",
       "4   250-300 calories per serving          275  "
      ]
     },
     "execution_count": 1,
     "metadata": {},
     "output_type": "execute_result"
    }
   ],
   "source": [
    "import pandas as pd\n",
    "import pandasql as psql\n",
    "import csv\n",
    "import matplotlib.pyplot as plt\n",
    "import numpy as np\n",
    "import seaborn as sns\n",
    "df = pd.read_csv('ProyectMachineLearningMeals.csv')\n",
    "df.head()"
   ]
  },
  {
   "cell_type": "code",
   "execution_count": 118,
   "id": "46741dda-1148-4d43-a1e1-1ef3720b04ae",
   "metadata": {
    "scrolled": true
   },
   "outputs": [
    {
     "data": {
      "text/html": [
       "<div>\n",
       "<style scoped>\n",
       "    .dataframe tbody tr th:only-of-type {\n",
       "        vertical-align: middle;\n",
       "    }\n",
       "\n",
       "    .dataframe tbody tr th {\n",
       "        vertical-align: top;\n",
       "    }\n",
       "\n",
       "    .dataframe thead th {\n",
       "        text-align: right;\n",
       "    }\n",
       "</style>\n",
       "<table border=\"1\" class=\"dataframe\">\n",
       "  <thead>\n",
       "    <tr style=\"text-align: right;\">\n",
       "      <th></th>\n",
       "      <th>weekday</th>\n",
       "      <th>meal</th>\n",
       "      <th>number_meals</th>\n",
       "    </tr>\n",
       "  </thead>\n",
       "  <tbody>\n",
       "    <tr>\n",
       "      <th>0</th>\n",
       "      <td>friday</td>\n",
       "      <td>Soup</td>\n",
       "      <td>5</td>\n",
       "    </tr>\n",
       "    <tr>\n",
       "      <th>1</th>\n",
       "      <td>friday</td>\n",
       "      <td>beef fillet</td>\n",
       "      <td>1</td>\n",
       "    </tr>\n",
       "    <tr>\n",
       "      <th>2</th>\n",
       "      <td>friday</td>\n",
       "      <td>broccoli with fried egg</td>\n",
       "      <td>1</td>\n",
       "    </tr>\n",
       "    <tr>\n",
       "      <th>3</th>\n",
       "      <td>friday</td>\n",
       "      <td>broccoli with meat</td>\n",
       "      <td>1</td>\n",
       "    </tr>\n",
       "    <tr>\n",
       "      <th>4</th>\n",
       "      <td>friday</td>\n",
       "      <td>butterfly chicken</td>\n",
       "      <td>1</td>\n",
       "    </tr>\n",
       "  </tbody>\n",
       "</table>\n",
       "</div>"
      ],
      "text/plain": [
       "  weekday                     meal  number_meals\n",
       "0  friday                     Soup             5\n",
       "1  friday              beef fillet             1\n",
       "2  friday  broccoli with fried egg             1\n",
       "3  friday       broccoli with meat             1\n",
       "4  friday        butterfly chicken             1"
      ]
     },
     "execution_count": 118,
     "metadata": {},
     "output_type": "execute_result"
    }
   ],
   "source": [
    "# Define the SQL query\n",
    "query = '''\n",
    "SELECT weekday, meal, count(weekday) as number_meals\n",
    "FROM df\n",
    "GROUP BY weekday, meal\n",
    "'''\n",
    "\n",
    "# Execute the query\n",
    "result_df = psql.sqldf(query, locals())\n",
    "\n",
    "# Display the results\n",
    "result_df.head()"
   ]
  },
  {
   "cell_type": "code",
   "execution_count": 3,
   "id": "ded31171-0276-48d0-98f8-8fd714fceaa7",
   "metadata": {},
   "outputs": [
    {
     "name": "stderr",
     "output_type": "stream",
     "text": [
      "C:\\Users\\User\\AppData\\Local\\Temp\\ipykernel_3560\\1304782396.py:2: UserWarning: Parsing dates in %d/%m/%Y format when dayfirst=False (the default) was specified. Pass `dayfirst=True` or specify a format to silence this warning.\n",
      "  df['date'] = pd.to_datetime(df['day'])\n"
     ]
    },
    {
     "data": {
      "text/html": [
       "<div>\n",
       "<style scoped>\n",
       "    .dataframe tbody tr th:only-of-type {\n",
       "        vertical-align: middle;\n",
       "    }\n",
       "\n",
       "    .dataframe tbody tr th {\n",
       "        vertical-align: top;\n",
       "    }\n",
       "\n",
       "    .dataframe thead th {\n",
       "        text-align: right;\n",
       "    }\n",
       "</style>\n",
       "<table border=\"1\" class=\"dataframe\">\n",
       "  <thead>\n",
       "    <tr style=\"text-align: right;\">\n",
       "      <th></th>\n",
       "      <th>day</th>\n",
       "      <th>comida</th>\n",
       "      <th>week number</th>\n",
       "      <th>weekday</th>\n",
       "      <th>vegan</th>\n",
       "      <th>veggie</th>\n",
       "      <th>pescaterian</th>\n",
       "      <th>chicken</th>\n",
       "      <th>egg</th>\n",
       "      <th>beef</th>\n",
       "      <th>pork</th>\n",
       "      <th>carbon point</th>\n",
       "      <th>time</th>\n",
       "      <th>category</th>\n",
       "      <th>group</th>\n",
       "      <th>excercise points</th>\n",
       "      <th>meal</th>\n",
       "      <th>calories</th>\n",
       "      <th>num calories</th>\n",
       "      <th>date</th>\n",
       "    </tr>\n",
       "  </thead>\n",
       "  <tbody>\n",
       "    <tr>\n",
       "      <th>0</th>\n",
       "      <td>16/01/2023</td>\n",
       "      <td>crema zanahoria</td>\n",
       "      <td>3</td>\n",
       "      <td>monday</td>\n",
       "      <td>0</td>\n",
       "      <td>1</td>\n",
       "      <td>1</td>\n",
       "      <td>0</td>\n",
       "      <td>0</td>\n",
       "      <td>0</td>\n",
       "      <td>0</td>\n",
       "      <td>2</td>\n",
       "      <td>20</td>\n",
       "      <td>primero</td>\n",
       "      <td>vegetal</td>\n",
       "      <td>233.0</td>\n",
       "      <td>carrot cream</td>\n",
       "      <td>150-200 calories per serving</td>\n",
       "      <td>175</td>\n",
       "      <td>2023-01-16</td>\n",
       "    </tr>\n",
       "    <tr>\n",
       "      <th>1</th>\n",
       "      <td>16/01/2023</td>\n",
       "      <td>merluza con pure</td>\n",
       "      <td>3</td>\n",
       "      <td>monday</td>\n",
       "      <td>0</td>\n",
       "      <td>0</td>\n",
       "      <td>1</td>\n",
       "      <td>0</td>\n",
       "      <td>0</td>\n",
       "      <td>0</td>\n",
       "      <td>0</td>\n",
       "      <td>8</td>\n",
       "      <td>30</td>\n",
       "      <td>principal</td>\n",
       "      <td>proteina animal</td>\n",
       "      <td>NaN</td>\n",
       "      <td>hake with mashed potatoes</td>\n",
       "      <td>300-350 calories per serving</td>\n",
       "      <td>325</td>\n",
       "      <td>2023-01-16</td>\n",
       "    </tr>\n",
       "    <tr>\n",
       "      <th>2</th>\n",
       "      <td>17/01/2023</td>\n",
       "      <td>garbanzos</td>\n",
       "      <td>3</td>\n",
       "      <td>tuesday</td>\n",
       "      <td>1</td>\n",
       "      <td>1</td>\n",
       "      <td>1</td>\n",
       "      <td>0</td>\n",
       "      <td>0</td>\n",
       "      <td>0</td>\n",
       "      <td>0</td>\n",
       "      <td>1</td>\n",
       "      <td>30</td>\n",
       "      <td>principal</td>\n",
       "      <td>vegetal</td>\n",
       "      <td>NaN</td>\n",
       "      <td>chickpeas</td>\n",
       "      <td>150-200 calories per serving</td>\n",
       "      <td>175</td>\n",
       "      <td>2023-01-17</td>\n",
       "    </tr>\n",
       "    <tr>\n",
       "      <th>3</th>\n",
       "      <td>18/01/2023</td>\n",
       "      <td>crema</td>\n",
       "      <td>3</td>\n",
       "      <td>wednesday</td>\n",
       "      <td>0</td>\n",
       "      <td>1</td>\n",
       "      <td>1</td>\n",
       "      <td>0</td>\n",
       "      <td>0</td>\n",
       "      <td>0</td>\n",
       "      <td>0</td>\n",
       "      <td>2</td>\n",
       "      <td>20</td>\n",
       "      <td>primero</td>\n",
       "      <td>vegetal</td>\n",
       "      <td>NaN</td>\n",
       "      <td>cream</td>\n",
       "      <td>150-200 calories per serving</td>\n",
       "      <td>175</td>\n",
       "      <td>2023-01-18</td>\n",
       "    </tr>\n",
       "    <tr>\n",
       "      <th>4</th>\n",
       "      <td>18/01/2023</td>\n",
       "      <td>pollo horno</td>\n",
       "      <td>3</td>\n",
       "      <td>wednesday</td>\n",
       "      <td>0</td>\n",
       "      <td>0</td>\n",
       "      <td>0</td>\n",
       "      <td>1</td>\n",
       "      <td>0</td>\n",
       "      <td>0</td>\n",
       "      <td>0</td>\n",
       "      <td>5</td>\n",
       "      <td>45</td>\n",
       "      <td>principal</td>\n",
       "      <td>proteina animal</td>\n",
       "      <td>NaN</td>\n",
       "      <td>roast chicken</td>\n",
       "      <td>250-300 calories per serving</td>\n",
       "      <td>275</td>\n",
       "      <td>2023-01-18</td>\n",
       "    </tr>\n",
       "  </tbody>\n",
       "</table>\n",
       "</div>"
      ],
      "text/plain": [
       "          day            comida  week number    weekday  vegan  veggie  \\\n",
       "0  16/01/2023   crema zanahoria            3     monday      0       1   \n",
       "1  16/01/2023  merluza con pure            3     monday      0       0   \n",
       "2  17/01/2023         garbanzos            3    tuesday      1       1   \n",
       "3  18/01/2023             crema            3  wednesday      0       1   \n",
       "4  18/01/2023       pollo horno            3  wednesday      0       0   \n",
       "\n",
       "   pescaterian  chicken  egg  beef  pork  carbon point  time   category  \\\n",
       "0            1        0    0     0     0             2    20    primero   \n",
       "1            1        0    0     0     0             8    30  principal   \n",
       "2            1        0    0     0     0             1    30  principal   \n",
       "3            1        0    0     0     0             2    20    primero   \n",
       "4            0        1    0     0     0             5    45  principal   \n",
       "\n",
       "             group  excercise points                       meal  \\\n",
       "0          vegetal             233.0               carrot cream   \n",
       "1  proteina animal               NaN  hake with mashed potatoes   \n",
       "2          vegetal               NaN                  chickpeas   \n",
       "3          vegetal               NaN                      cream   \n",
       "4  proteina animal               NaN              roast chicken   \n",
       "\n",
       "                        calories num calories       date  \n",
       "0   150-200 calories per serving          175 2023-01-16  \n",
       "1   300-350 calories per serving          325 2023-01-16  \n",
       "2   150-200 calories per serving          175 2023-01-17  \n",
       "3   150-200 calories per serving          175 2023-01-18  \n",
       "4   250-300 calories per serving          275 2023-01-18  "
      ]
     },
     "execution_count": 3,
     "metadata": {},
     "output_type": "execute_result"
    }
   ],
   "source": [
    "# Convert the 'date_string' column to datetime\n",
    "df['date'] = pd.to_datetime(df['day'])\n",
    "\n",
    "# Drop the original 'date_string' column if no longer needed\n",
    "#df.drop(columns=['date_string'], inplace=True)\n",
    "df.head()"
   ]
  },
  {
   "cell_type": "code",
   "execution_count": 126,
   "id": "a5088a8a-1bc6-46bc-88d5-7ec2a74af98c",
   "metadata": {},
   "outputs": [
    {
     "data": {
      "text/html": [
       "<div>\n",
       "<style scoped>\n",
       "    .dataframe tbody tr th:only-of-type {\n",
       "        vertical-align: middle;\n",
       "    }\n",
       "\n",
       "    .dataframe tbody tr th {\n",
       "        vertical-align: top;\n",
       "    }\n",
       "\n",
       "    .dataframe thead th {\n",
       "        text-align: right;\n",
       "    }\n",
       "</style>\n",
       "<table border=\"1\" class=\"dataframe\">\n",
       "  <thead>\n",
       "    <tr style=\"text-align: right;\">\n",
       "      <th></th>\n",
       "      <th>day</th>\n",
       "      <th>comida</th>\n",
       "      <th>week number</th>\n",
       "      <th>weekday</th>\n",
       "      <th>vegan</th>\n",
       "      <th>veggie</th>\n",
       "      <th>pescaterian</th>\n",
       "      <th>chicken</th>\n",
       "      <th>egg</th>\n",
       "      <th>beef</th>\n",
       "      <th>...</th>\n",
       "      <th>category</th>\n",
       "      <th>group</th>\n",
       "      <th>excercise points</th>\n",
       "      <th>meal</th>\n",
       "      <th>calories</th>\n",
       "      <th>num calories</th>\n",
       "      <th>date</th>\n",
       "      <th>Calc_Meal</th>\n",
       "      <th>quarter</th>\n",
       "      <th>week</th>\n",
       "    </tr>\n",
       "  </thead>\n",
       "  <tbody>\n",
       "    <tr>\n",
       "      <th>0</th>\n",
       "      <td>16/01/2023</td>\n",
       "      <td>crema zanahoria</td>\n",
       "      <td>3</td>\n",
       "      <td>monday</td>\n",
       "      <td>0</td>\n",
       "      <td>1</td>\n",
       "      <td>1</td>\n",
       "      <td>0</td>\n",
       "      <td>0</td>\n",
       "      <td>0</td>\n",
       "      <td>...</td>\n",
       "      <td>primero</td>\n",
       "      <td>vegetal</td>\n",
       "      <td>233.0</td>\n",
       "      <td>carrot cream</td>\n",
       "      <td>150-200 calories per serving</td>\n",
       "      <td>175</td>\n",
       "      <td>2023-01-16</td>\n",
       "      <td>Non-meat/wDairy</td>\n",
       "      <td>2023-03-31</td>\n",
       "      <td>3</td>\n",
       "    </tr>\n",
       "    <tr>\n",
       "      <th>1</th>\n",
       "      <td>16/01/2023</td>\n",
       "      <td>merluza con pure</td>\n",
       "      <td>3</td>\n",
       "      <td>monday</td>\n",
       "      <td>0</td>\n",
       "      <td>0</td>\n",
       "      <td>1</td>\n",
       "      <td>0</td>\n",
       "      <td>0</td>\n",
       "      <td>0</td>\n",
       "      <td>...</td>\n",
       "      <td>principal</td>\n",
       "      <td>proteina animal</td>\n",
       "      <td>NaN</td>\n",
       "      <td>hake with mashed potatoes</td>\n",
       "      <td>300-350 calories per serving</td>\n",
       "      <td>325</td>\n",
       "      <td>2023-01-16</td>\n",
       "      <td>Fish</td>\n",
       "      <td>2023-03-31</td>\n",
       "      <td>3</td>\n",
       "    </tr>\n",
       "    <tr>\n",
       "      <th>2</th>\n",
       "      <td>17/01/2023</td>\n",
       "      <td>garbanzos</td>\n",
       "      <td>3</td>\n",
       "      <td>tuesday</td>\n",
       "      <td>1</td>\n",
       "      <td>1</td>\n",
       "      <td>1</td>\n",
       "      <td>0</td>\n",
       "      <td>0</td>\n",
       "      <td>0</td>\n",
       "      <td>...</td>\n",
       "      <td>principal</td>\n",
       "      <td>vegetal</td>\n",
       "      <td>NaN</td>\n",
       "      <td>chickpeas</td>\n",
       "      <td>150-200 calories per serving</td>\n",
       "      <td>175</td>\n",
       "      <td>2023-01-17</td>\n",
       "      <td>Vegetable</td>\n",
       "      <td>2023-03-31</td>\n",
       "      <td>3</td>\n",
       "    </tr>\n",
       "    <tr>\n",
       "      <th>3</th>\n",
       "      <td>18/01/2023</td>\n",
       "      <td>crema</td>\n",
       "      <td>3</td>\n",
       "      <td>wednesday</td>\n",
       "      <td>0</td>\n",
       "      <td>1</td>\n",
       "      <td>1</td>\n",
       "      <td>0</td>\n",
       "      <td>0</td>\n",
       "      <td>0</td>\n",
       "      <td>...</td>\n",
       "      <td>primero</td>\n",
       "      <td>vegetal</td>\n",
       "      <td>NaN</td>\n",
       "      <td>cream</td>\n",
       "      <td>150-200 calories per serving</td>\n",
       "      <td>175</td>\n",
       "      <td>2023-01-18</td>\n",
       "      <td>Non-meat/wDairy</td>\n",
       "      <td>2023-03-31</td>\n",
       "      <td>3</td>\n",
       "    </tr>\n",
       "    <tr>\n",
       "      <th>4</th>\n",
       "      <td>18/01/2023</td>\n",
       "      <td>pollo horno</td>\n",
       "      <td>3</td>\n",
       "      <td>wednesday</td>\n",
       "      <td>0</td>\n",
       "      <td>0</td>\n",
       "      <td>0</td>\n",
       "      <td>1</td>\n",
       "      <td>0</td>\n",
       "      <td>0</td>\n",
       "      <td>...</td>\n",
       "      <td>principal</td>\n",
       "      <td>proteina animal</td>\n",
       "      <td>NaN</td>\n",
       "      <td>roast chicken</td>\n",
       "      <td>250-300 calories per serving</td>\n",
       "      <td>275</td>\n",
       "      <td>2023-01-18</td>\n",
       "      <td>Chicken</td>\n",
       "      <td>2023-03-31</td>\n",
       "      <td>3</td>\n",
       "    </tr>\n",
       "  </tbody>\n",
       "</table>\n",
       "<p>5 rows × 23 columns</p>\n",
       "</div>"
      ],
      "text/plain": [
       "          day            comida  week number    weekday  vegan  veggie  \\\n",
       "0  16/01/2023   crema zanahoria            3     monday      0       1   \n",
       "1  16/01/2023  merluza con pure            3     monday      0       0   \n",
       "2  17/01/2023         garbanzos            3    tuesday      1       1   \n",
       "3  18/01/2023             crema            3  wednesday      0       1   \n",
       "4  18/01/2023       pollo horno            3  wednesday      0       0   \n",
       "\n",
       "   pescaterian  chicken  egg  beef  ...   category            group  \\\n",
       "0            1        0    0     0  ...    primero          vegetal   \n",
       "1            1        0    0     0  ...  principal  proteina animal   \n",
       "2            1        0    0     0  ...  principal          vegetal   \n",
       "3            1        0    0     0  ...    primero          vegetal   \n",
       "4            0        1    0     0  ...  principal  proteina animal   \n",
       "\n",
       "   excercise points                       meal                       calories  \\\n",
       "0             233.0               carrot cream   150-200 calories per serving   \n",
       "1               NaN  hake with mashed potatoes   300-350 calories per serving   \n",
       "2               NaN                  chickpeas   150-200 calories per serving   \n",
       "3               NaN                      cream   150-200 calories per serving   \n",
       "4               NaN              roast chicken   250-300 calories per serving   \n",
       "\n",
       "   num calories       date        Calc_Meal     quarter week  \n",
       "0           175 2023-01-16  Non-meat/wDairy  2023-03-31    3  \n",
       "1           325 2023-01-16             Fish  2023-03-31    3  \n",
       "2           175 2023-01-17        Vegetable  2023-03-31    3  \n",
       "3           175 2023-01-18  Non-meat/wDairy  2023-03-31    3  \n",
       "4           275 2023-01-18          Chicken  2023-03-31    3  \n",
       "\n",
       "[5 rows x 23 columns]"
      ]
     },
     "execution_count": 126,
     "metadata": {},
     "output_type": "execute_result"
    }
   ],
   "source": [
    "# Define a function to apply the logic\n",
    "def calculate_meal(row):\n",
    "    if row['beef'] == 1:\n",
    "        return 'beef'\n",
    "    elif row['chicken'] == 1:\n",
    "        return 'Chicken'\n",
    "    elif row['egg'] == 1:\n",
    "        return 'Egg'\n",
    "    elif row['pork'] == 1:\n",
    "        return 'Pork'\n",
    "    elif row['vegan'] == 1:\n",
    "        return 'Vegetable'\n",
    "    elif row['veggie'] == 1:\n",
    "        return 'Non-meat/wDairy'\n",
    "    elif row['pescaterian'] == 1:\n",
    "        return 'Fish'\n",
    "    else:\n",
    "        return None  # You can adjust this to whatever makes sense for your data\n",
    "\n",
    "# Apply the function to each row in the DataFrame\n",
    "df['Calc_Meal'] = df.apply(calculate_meal, axis=1)\n",
    "\n",
    "# Display the DataFrame\n",
    "df.head()"
   ]
  },
  {
   "cell_type": "code",
   "execution_count": 146,
   "id": "ba2de0c0-0f4a-4cc8-b051-08589417e369",
   "metadata": {},
   "outputs": [
    {
     "data": {
      "application/vnd.plotly.v1+json": {
       "config": {
        "plotlyServerURL": "https://plot.ly"
       },
       "data": [
        {
         "hovertemplate": "<b>%{hovertext}</b><br><br>Calc_Meal=Chicken<br>weekday=%{x}<br>number_meals=%{y}<extra></extra>",
         "hovertext": [
          "Soup",
          "butterfly chicken",
          "chicken fillet",
          "chicken soup",
          "roast chicken",
          "turkey fillet",
          "Soup",
          "chicken fillet",
          "chicken soup",
          "pasta soup",
          "roast chicken",
          "turkey fillet",
          "Soup",
          "butterfly chicken",
          "chicken and turnip greens",
          "chicken fillet",
          "chicken soup",
          "green beans with chicken",
          "roast chicken",
          "turkey fillet",
          "Soup",
          "chicken fillet",
          "chicken soup",
          "roast chicken",
          "turkey fillet",
          "Soup",
          "chicken fillet",
          "chicken soup",
          "pasta soup",
          "roast chicken",
          "turkey fillet"
         ],
         "legendgroup": "Chicken",
         "marker": {
          "color": "#636efa",
          "opacity": 0.6,
          "size": 8,
          "symbol": "circle"
         },
         "mode": "markers",
         "name": "Chicken",
         "orientation": "v",
         "showlegend": true,
         "type": "scatter",
         "x": [
          "friday",
          "friday",
          "friday",
          "friday",
          "friday",
          "friday",
          "monday",
          "monday",
          "monday",
          "monday",
          "monday",
          "monday",
          "thursday",
          "thursday",
          "thursday",
          "thursday",
          "thursday",
          "thursday",
          "thursday",
          "thursday",
          "tuesday",
          "tuesday",
          "tuesday",
          "tuesday",
          "tuesday",
          "wednesday",
          "wednesday",
          "wednesday",
          "wednesday",
          "wednesday",
          "wednesday"
         ],
         "xaxis": "x",
         "y": [
          5,
          1,
          1,
          2,
          2,
          1,
          4,
          4,
          1,
          1,
          1,
          2,
          4,
          1,
          1,
          2,
          3,
          1,
          1,
          1,
          5,
          2,
          2,
          1,
          1,
          2,
          3,
          3,
          2,
          5,
          2
         ],
         "yaxis": "y"
        },
        {
         "hovertemplate": "<b>%{hovertext}</b><br><br>Calc_Meal=beef<br>weekday=%{x}<br>number_meals=%{y}<extra></extra>",
         "hovertext": [
          "beef fillet",
          "broccoli with meat",
          "eggplant bolognese",
          "ground/minced meat",
          "steak",
          "breaded fillet",
          "meat",
          "spaghetti bolognese",
          "steak",
          "beef fillet",
          "breaded fillet",
          "broccoli with meat",
          "eggplant bolognese",
          "spaghetti bolognese",
          "steak",
          "breaded fillet",
          "roast beef",
          "spaghetti bolognese",
          "steak",
          "breaded fillet",
          "spaghetti bolognese",
          "steak"
         ],
         "legendgroup": "beef",
         "marker": {
          "color": "#EF553B",
          "opacity": 0.6,
          "size": 8,
          "symbol": "circle"
         },
         "mode": "markers",
         "name": "beef",
         "orientation": "v",
         "showlegend": true,
         "type": "scatter",
         "x": [
          "friday",
          "friday",
          "friday",
          "friday",
          "friday",
          "monday",
          "monday",
          "monday",
          "monday",
          "thursday",
          "thursday",
          "thursday",
          "thursday",
          "thursday",
          "thursday",
          "tuesday",
          "tuesday",
          "tuesday",
          "tuesday",
          "wednesday",
          "wednesday",
          "wednesday"
         ],
         "xaxis": "x",
         "y": [
          1,
          1,
          3,
          1,
          2,
          3,
          1,
          1,
          5,
          1,
          1,
          1,
          1,
          3,
          3,
          3,
          1,
          5,
          3,
          1,
          4,
          1
         ],
         "yaxis": "y"
        },
        {
         "hovertemplate": "<b>%{hovertext}</b><br><br>Calc_Meal=Egg<br>weekday=%{x}<br>number_meals=%{y}<extra></extra>",
         "hovertext": [
          "broccoli with fried egg",
          "egg",
          "green beans with fried egg",
          "peas with fried egg",
          "potato omelette",
          "boiled egg",
          "boiled eggs",
          "fried egg",
          "green beans with fried egg",
          "potato omelette",
          "boiled eggs",
          "egg",
          "fried egg",
          "potato omelette",
          "boiled egg",
          "fried egg",
          "potato omelette"
         ],
         "legendgroup": "Egg",
         "marker": {
          "color": "#00cc96",
          "opacity": 0.6,
          "size": 8,
          "symbol": "circle"
         },
         "mode": "markers",
         "name": "Egg",
         "orientation": "v",
         "showlegend": true,
         "type": "scatter",
         "x": [
          "friday",
          "friday",
          "friday",
          "friday",
          "friday",
          "monday",
          "monday",
          "monday",
          "thursday",
          "thursday",
          "tuesday",
          "tuesday",
          "tuesday",
          "tuesday",
          "wednesday",
          "wednesday",
          "wednesday"
         ],
         "xaxis": "x",
         "y": [
          1,
          1,
          1,
          1,
          9,
          1,
          1,
          4,
          1,
          2,
          1,
          1,
          3,
          6,
          1,
          3,
          3
         ],
         "yaxis": "y"
        },
        {
         "hovertemplate": "<b>%{hovertext}</b><br><br>Calc_Meal=Non-meat/wDairy<br>weekday=%{x}<br>number_meals=%{y}<extra></extra>",
         "hovertext": [
          "carrot cream",
          "cream",
          "leek cream",
          "pumpkin cream",
          "zucchini cream",
          "carrot cream",
          "cream",
          "leek cream",
          "pasta salad",
          "pumpkin cream",
          "quesadillas",
          "zucchini cream",
          "carrot cream",
          "cream",
          "fava bean cream",
          "leek cream",
          "pumpkin cream",
          "zucchini cream",
          "carrot cream",
          "cream",
          "leek cream",
          "quesadillas",
          "zucchini cream",
          "carrot cream",
          "cream",
          "leek cream",
          "pumpkin cream",
          "quesadillas",
          "zucchini cream"
         ],
         "legendgroup": "Non-meat/wDairy",
         "marker": {
          "color": "#ab63fa",
          "opacity": 0.6,
          "size": 8,
          "symbol": "circle"
         },
         "mode": "markers",
         "name": "Non-meat/wDairy",
         "orientation": "v",
         "showlegend": true,
         "type": "scatter",
         "x": [
          "friday",
          "friday",
          "friday",
          "friday",
          "friday",
          "monday",
          "monday",
          "monday",
          "monday",
          "monday",
          "monday",
          "monday",
          "thursday",
          "thursday",
          "thursday",
          "thursday",
          "thursday",
          "thursday",
          "tuesday",
          "tuesday",
          "tuesday",
          "tuesday",
          "tuesday",
          "wednesday",
          "wednesday",
          "wednesday",
          "wednesday",
          "wednesday",
          "wednesday"
         ],
         "xaxis": "x",
         "y": [
          7,
          7,
          3,
          1,
          1,
          6,
          4,
          3,
          1,
          1,
          1,
          8,
          6,
          5,
          1,
          5,
          2,
          3,
          2,
          5,
          2,
          2,
          5,
          4,
          4,
          5,
          2,
          1,
          4
         ],
         "yaxis": "y"
        },
        {
         "hovertemplate": "<b>%{hovertext}</b><br><br>Calc_Meal=Vegetable<br>weekday=%{x}<br>number_meals=%{y}<extra></extra>",
         "hovertext": [
          "chickpea salad",
          "french fries",
          "garlic mushrooms",
          "gazpacho",
          "kale with fried potatoes",
          "lentils",
          "refried beans",
          "rice",
          "salad",
          "sauteed spinach",
          "spinach mashed potatoes",
          "stewed vegetables",
          "tomato sauce",
          "boiled potato",
          "broccoli with garlic sauce",
          "broccoli with potato",
          "chard with potatoes",
          "french fries",
          "fried potato",
          "garlic mushrooms",
          "gazpacho",
          "green beans with potato",
          "kale with fried potatoes",
          "lentils",
          "peas with onion",
          "refried beans",
          "rice",
          "salad",
          "sauteed vegetables",
          "spinach mashed potatoes",
          "stewed vegetables",
          "stir-fried green beans",
          "tomato sauce",
          "turnip greens with potato",
          "baked eggplant and zucchini",
          "boiled potato",
          "broccoli with potato",
          "chickpea salad",
          "french fries",
          "garlic mushrooms",
          "green beans with potato",
          "large beans",
          "leftover mushrooms",
          "lentils",
          "refried beans",
          "rice",
          "salad",
          "sauteed spinach",
          "sauteed vegetables",
          "spaghetti with garlic mushrooms",
          "spinach mashed potatoes",
          "spinach stew",
          "stewed vegetables",
          "tomato sauce",
          "boiled potato",
          "broccoli with potato",
          "chickpea stew",
          "chickpeas",
          "chickpeas with spinach",
          "french fries",
          "garlic mushrooms",
          "green beans with garlic sauce",
          "grilled asparagus",
          "grilled zucchini",
          "large beans",
          "lentils",
          "pea puree",
          "peas with potato",
          "refried beans",
          "rice",
          "rice with tomato",
          "salad",
          "sauteed cauliflower",
          "sauteed spinach",
          "spinach mashed potatoes",
          "stewed vegetables",
          "stir-fried green beans",
          "boiled potato",
          "broccoli with garlic sauce",
          "broccoli with potato",
          "french fries",
          "garlic mushrooms",
          "green beans",
          "green beans with potato",
          "grilled asparagus",
          "grilled zucchini",
          "lentils",
          "peas with onion",
          "peas with potato",
          "rice",
          "salad",
          "sauteed spinach",
          "sauteed vegetables",
          "spaghetti with garlic mushrooms",
          "spinach mashed potatoes",
          "stewed vegetables",
          "tomato",
          "tomato sauce"
         ],
         "legendgroup": "Vegetable",
         "marker": {
          "color": "#FFA15A",
          "opacity": 0.6,
          "size": 8,
          "symbol": "circle"
         },
         "mode": "markers",
         "name": "Vegetable",
         "orientation": "v",
         "showlegend": true,
         "type": "scatter",
         "x": [
          "friday",
          "friday",
          "friday",
          "friday",
          "friday",
          "friday",
          "friday",
          "friday",
          "friday",
          "friday",
          "friday",
          "friday",
          "friday",
          "monday",
          "monday",
          "monday",
          "monday",
          "monday",
          "monday",
          "monday",
          "monday",
          "monday",
          "monday",
          "monday",
          "monday",
          "monday",
          "monday",
          "monday",
          "monday",
          "monday",
          "monday",
          "monday",
          "monday",
          "monday",
          "thursday",
          "thursday",
          "thursday",
          "thursday",
          "thursday",
          "thursday",
          "thursday",
          "thursday",
          "thursday",
          "thursday",
          "thursday",
          "thursday",
          "thursday",
          "thursday",
          "thursday",
          "thursday",
          "thursday",
          "thursday",
          "thursday",
          "thursday",
          "tuesday",
          "tuesday",
          "tuesday",
          "tuesday",
          "tuesday",
          "tuesday",
          "tuesday",
          "tuesday",
          "tuesday",
          "tuesday",
          "tuesday",
          "tuesday",
          "tuesday",
          "tuesday",
          "tuesday",
          "tuesday",
          "tuesday",
          "tuesday",
          "tuesday",
          "tuesday",
          "tuesday",
          "tuesday",
          "tuesday",
          "wednesday",
          "wednesday",
          "wednesday",
          "wednesday",
          "wednesday",
          "wednesday",
          "wednesday",
          "wednesday",
          "wednesday",
          "wednesday",
          "wednesday",
          "wednesday",
          "wednesday",
          "wednesday",
          "wednesday",
          "wednesday",
          "wednesday",
          "wednesday",
          "wednesday",
          "wednesday",
          "wednesday"
         ],
         "xaxis": "x",
         "y": [
          1,
          1,
          2,
          1,
          1,
          1,
          3,
          6,
          11,
          1,
          1,
          1,
          1,
          2,
          1,
          3,
          2,
          2,
          1,
          1,
          1,
          2,
          1,
          4,
          1,
          3,
          4,
          10,
          1,
          6,
          7,
          1,
          1,
          1,
          1,
          1,
          3,
          1,
          5,
          1,
          2,
          1,
          1,
          4,
          1,
          3,
          13,
          4,
          1,
          1,
          2,
          1,
          1,
          1,
          3,
          2,
          1,
          1,
          1,
          6,
          1,
          1,
          1,
          1,
          1,
          1,
          1,
          1,
          2,
          5,
          2,
          11,
          1,
          4,
          4,
          3,
          1,
          4,
          2,
          1,
          4,
          1,
          1,
          3,
          1,
          1,
          3,
          1,
          1,
          6,
          14,
          2,
          1,
          1,
          4,
          3,
          1,
          2
         ],
         "yaxis": "y"
        },
        {
         "hovertemplate": "<b>%{hovertext}</b><br><br>Calc_Meal=Fish<br>weekday=%{x}<br>number_meals=%{y}<extra></extra>",
         "hovertext": [
          "fish stew",
          "hake",
          "mixed salad",
          "peas with fish",
          "sea bass",
          "tuna",
          "Russian salad",
          "baked hake",
          "baked salmon",
          "battered hake",
          "croquettes",
          "fish stew",
          "gilt-head bream",
          "hake",
          "hake with mashed potatoes",
          "mixed salad",
          "paella with squid",
          "sea bass",
          "tuna",
          "baked fish",
          "baked salmon",
          "battered hake",
          "croquettes",
          "fish stew",
          "grilled sea bass",
          "hake",
          "mixed salad",
          "peas with fish",
          "sea bass",
          "baked hake",
          "baked salmon",
          "battered hake",
          "croquettes",
          "fish stew",
          "gilt-head bream",
          "grilled sea bass",
          "hake",
          "mixed salad",
          "sea bass",
          "baked salmon",
          "battered hake",
          "croquettes",
          "fish stew",
          "fried rooster",
          "hake",
          "mixed salad",
          "peas with fish",
          "sea bass",
          "swordfish"
         ],
         "legendgroup": "Fish",
         "marker": {
          "color": "#19d3f3",
          "opacity": 0.6,
          "size": 8,
          "symbol": "circle"
         },
         "mode": "markers",
         "name": "Fish",
         "orientation": "v",
         "showlegend": true,
         "type": "scatter",
         "x": [
          "friday",
          "friday",
          "friday",
          "friday",
          "friday",
          "friday",
          "monday",
          "monday",
          "monday",
          "monday",
          "monday",
          "monday",
          "monday",
          "monday",
          "monday",
          "monday",
          "monday",
          "monday",
          "monday",
          "thursday",
          "thursday",
          "thursday",
          "thursday",
          "thursday",
          "thursday",
          "thursday",
          "thursday",
          "thursday",
          "thursday",
          "tuesday",
          "tuesday",
          "tuesday",
          "tuesday",
          "tuesday",
          "tuesday",
          "tuesday",
          "tuesday",
          "tuesday",
          "tuesday",
          "wednesday",
          "wednesday",
          "wednesday",
          "wednesday",
          "wednesday",
          "wednesday",
          "wednesday",
          "wednesday",
          "wednesday",
          "wednesday"
         ],
         "xaxis": "x",
         "y": [
          1,
          2,
          1,
          1,
          2,
          1,
          1,
          1,
          1,
          1,
          1,
          2,
          1,
          1,
          1,
          3,
          1,
          1,
          1,
          1,
          1,
          1,
          4,
          3,
          1,
          1,
          2,
          1,
          4,
          1,
          3,
          1,
          4,
          2,
          2,
          1,
          3,
          3,
          2,
          2,
          2,
          5,
          2,
          1,
          2,
          1,
          1,
          5,
          1
         ],
         "yaxis": "y"
        },
        {
         "hovertemplate": "<b>%{hovertext}</b><br><br>Calc_Meal=Pork<br>weekday=%{x}<br>number_meals=%{y}<extra></extra>",
         "hovertext": [
          "pizza",
          "Saxon loin",
          "broccoli with ham",
          "macaroni",
          "peas with ham",
          "pork tenderloin",
          "sausages",
          "Saxon loin",
          "carbonara pasta",
          "loin",
          "peas with ham",
          "pork fillet",
          "sausages",
          "spaghetti carbonara",
          "marinated pork loin",
          "peas with ham",
          "sausages",
          "stroganoff tenderloin",
          "carbonara macaroni",
          "loin fillet",
          "peas with ham",
          "pork tenderloin",
          "sausages"
         ],
         "legendgroup": "Pork",
         "marker": {
          "color": "#FF6692",
          "opacity": 0.6,
          "size": 8,
          "symbol": "circle"
         },
         "mode": "markers",
         "name": "Pork",
         "orientation": "v",
         "showlegend": true,
         "type": "scatter",
         "x": [
          "friday",
          "monday",
          "monday",
          "monday",
          "monday",
          "monday",
          "monday",
          "thursday",
          "thursday",
          "thursday",
          "thursday",
          "thursday",
          "thursday",
          "thursday",
          "tuesday",
          "tuesday",
          "tuesday",
          "tuesday",
          "wednesday",
          "wednesday",
          "wednesday",
          "wednesday",
          "wednesday"
         ],
         "xaxis": "x",
         "y": [
          1,
          1,
          1,
          1,
          2,
          2,
          3,
          1,
          1,
          1,
          2,
          1,
          2,
          2,
          1,
          5,
          2,
          1,
          1,
          1,
          3,
          2,
          5
         ],
         "yaxis": "y"
        }
       ],
       "layout": {
        "autosize": true,
        "legend": {
         "title": {
          "text": "Calc_Meal"
         },
         "tracegroupgap": 0
        },
        "template": {
         "data": {
          "bar": [
           {
            "error_x": {
             "color": "#2a3f5f"
            },
            "error_y": {
             "color": "#2a3f5f"
            },
            "marker": {
             "line": {
              "color": "#E5ECF6",
              "width": 0.5
             },
             "pattern": {
              "fillmode": "overlay",
              "size": 10,
              "solidity": 0.2
             }
            },
            "type": "bar"
           }
          ],
          "barpolar": [
           {
            "marker": {
             "line": {
              "color": "#E5ECF6",
              "width": 0.5
             },
             "pattern": {
              "fillmode": "overlay",
              "size": 10,
              "solidity": 0.2
             }
            },
            "type": "barpolar"
           }
          ],
          "carpet": [
           {
            "aaxis": {
             "endlinecolor": "#2a3f5f",
             "gridcolor": "white",
             "linecolor": "white",
             "minorgridcolor": "white",
             "startlinecolor": "#2a3f5f"
            },
            "baxis": {
             "endlinecolor": "#2a3f5f",
             "gridcolor": "white",
             "linecolor": "white",
             "minorgridcolor": "white",
             "startlinecolor": "#2a3f5f"
            },
            "type": "carpet"
           }
          ],
          "choropleth": [
           {
            "colorbar": {
             "outlinewidth": 0,
             "ticks": ""
            },
            "type": "choropleth"
           }
          ],
          "contour": [
           {
            "colorbar": {
             "outlinewidth": 0,
             "ticks": ""
            },
            "colorscale": [
             [
              0,
              "#0d0887"
             ],
             [
              0.1111111111111111,
              "#46039f"
             ],
             [
              0.2222222222222222,
              "#7201a8"
             ],
             [
              0.3333333333333333,
              "#9c179e"
             ],
             [
              0.4444444444444444,
              "#bd3786"
             ],
             [
              0.5555555555555556,
              "#d8576b"
             ],
             [
              0.6666666666666666,
              "#ed7953"
             ],
             [
              0.7777777777777778,
              "#fb9f3a"
             ],
             [
              0.8888888888888888,
              "#fdca26"
             ],
             [
              1,
              "#f0f921"
             ]
            ],
            "type": "contour"
           }
          ],
          "contourcarpet": [
           {
            "colorbar": {
             "outlinewidth": 0,
             "ticks": ""
            },
            "type": "contourcarpet"
           }
          ],
          "heatmap": [
           {
            "colorbar": {
             "outlinewidth": 0,
             "ticks": ""
            },
            "colorscale": [
             [
              0,
              "#0d0887"
             ],
             [
              0.1111111111111111,
              "#46039f"
             ],
             [
              0.2222222222222222,
              "#7201a8"
             ],
             [
              0.3333333333333333,
              "#9c179e"
             ],
             [
              0.4444444444444444,
              "#bd3786"
             ],
             [
              0.5555555555555556,
              "#d8576b"
             ],
             [
              0.6666666666666666,
              "#ed7953"
             ],
             [
              0.7777777777777778,
              "#fb9f3a"
             ],
             [
              0.8888888888888888,
              "#fdca26"
             ],
             [
              1,
              "#f0f921"
             ]
            ],
            "type": "heatmap"
           }
          ],
          "heatmapgl": [
           {
            "colorbar": {
             "outlinewidth": 0,
             "ticks": ""
            },
            "colorscale": [
             [
              0,
              "#0d0887"
             ],
             [
              0.1111111111111111,
              "#46039f"
             ],
             [
              0.2222222222222222,
              "#7201a8"
             ],
             [
              0.3333333333333333,
              "#9c179e"
             ],
             [
              0.4444444444444444,
              "#bd3786"
             ],
             [
              0.5555555555555556,
              "#d8576b"
             ],
             [
              0.6666666666666666,
              "#ed7953"
             ],
             [
              0.7777777777777778,
              "#fb9f3a"
             ],
             [
              0.8888888888888888,
              "#fdca26"
             ],
             [
              1,
              "#f0f921"
             ]
            ],
            "type": "heatmapgl"
           }
          ],
          "histogram": [
           {
            "marker": {
             "pattern": {
              "fillmode": "overlay",
              "size": 10,
              "solidity": 0.2
             }
            },
            "type": "histogram"
           }
          ],
          "histogram2d": [
           {
            "colorbar": {
             "outlinewidth": 0,
             "ticks": ""
            },
            "colorscale": [
             [
              0,
              "#0d0887"
             ],
             [
              0.1111111111111111,
              "#46039f"
             ],
             [
              0.2222222222222222,
              "#7201a8"
             ],
             [
              0.3333333333333333,
              "#9c179e"
             ],
             [
              0.4444444444444444,
              "#bd3786"
             ],
             [
              0.5555555555555556,
              "#d8576b"
             ],
             [
              0.6666666666666666,
              "#ed7953"
             ],
             [
              0.7777777777777778,
              "#fb9f3a"
             ],
             [
              0.8888888888888888,
              "#fdca26"
             ],
             [
              1,
              "#f0f921"
             ]
            ],
            "type": "histogram2d"
           }
          ],
          "histogram2dcontour": [
           {
            "colorbar": {
             "outlinewidth": 0,
             "ticks": ""
            },
            "colorscale": [
             [
              0,
              "#0d0887"
             ],
             [
              0.1111111111111111,
              "#46039f"
             ],
             [
              0.2222222222222222,
              "#7201a8"
             ],
             [
              0.3333333333333333,
              "#9c179e"
             ],
             [
              0.4444444444444444,
              "#bd3786"
             ],
             [
              0.5555555555555556,
              "#d8576b"
             ],
             [
              0.6666666666666666,
              "#ed7953"
             ],
             [
              0.7777777777777778,
              "#fb9f3a"
             ],
             [
              0.8888888888888888,
              "#fdca26"
             ],
             [
              1,
              "#f0f921"
             ]
            ],
            "type": "histogram2dcontour"
           }
          ],
          "mesh3d": [
           {
            "colorbar": {
             "outlinewidth": 0,
             "ticks": ""
            },
            "type": "mesh3d"
           }
          ],
          "parcoords": [
           {
            "line": {
             "colorbar": {
              "outlinewidth": 0,
              "ticks": ""
             }
            },
            "type": "parcoords"
           }
          ],
          "pie": [
           {
            "automargin": true,
            "type": "pie"
           }
          ],
          "scatter": [
           {
            "fillpattern": {
             "fillmode": "overlay",
             "size": 10,
             "solidity": 0.2
            },
            "type": "scatter"
           }
          ],
          "scatter3d": [
           {
            "line": {
             "colorbar": {
              "outlinewidth": 0,
              "ticks": ""
             }
            },
            "marker": {
             "colorbar": {
              "outlinewidth": 0,
              "ticks": ""
             }
            },
            "type": "scatter3d"
           }
          ],
          "scattercarpet": [
           {
            "marker": {
             "colorbar": {
              "outlinewidth": 0,
              "ticks": ""
             }
            },
            "type": "scattercarpet"
           }
          ],
          "scattergeo": [
           {
            "marker": {
             "colorbar": {
              "outlinewidth": 0,
              "ticks": ""
             }
            },
            "type": "scattergeo"
           }
          ],
          "scattergl": [
           {
            "marker": {
             "colorbar": {
              "outlinewidth": 0,
              "ticks": ""
             }
            },
            "type": "scattergl"
           }
          ],
          "scattermapbox": [
           {
            "marker": {
             "colorbar": {
              "outlinewidth": 0,
              "ticks": ""
             }
            },
            "type": "scattermapbox"
           }
          ],
          "scatterpolar": [
           {
            "marker": {
             "colorbar": {
              "outlinewidth": 0,
              "ticks": ""
             }
            },
            "type": "scatterpolar"
           }
          ],
          "scatterpolargl": [
           {
            "marker": {
             "colorbar": {
              "outlinewidth": 0,
              "ticks": ""
             }
            },
            "type": "scatterpolargl"
           }
          ],
          "scatterternary": [
           {
            "marker": {
             "colorbar": {
              "outlinewidth": 0,
              "ticks": ""
             }
            },
            "type": "scatterternary"
           }
          ],
          "surface": [
           {
            "colorbar": {
             "outlinewidth": 0,
             "ticks": ""
            },
            "colorscale": [
             [
              0,
              "#0d0887"
             ],
             [
              0.1111111111111111,
              "#46039f"
             ],
             [
              0.2222222222222222,
              "#7201a8"
             ],
             [
              0.3333333333333333,
              "#9c179e"
             ],
             [
              0.4444444444444444,
              "#bd3786"
             ],
             [
              0.5555555555555556,
              "#d8576b"
             ],
             [
              0.6666666666666666,
              "#ed7953"
             ],
             [
              0.7777777777777778,
              "#fb9f3a"
             ],
             [
              0.8888888888888888,
              "#fdca26"
             ],
             [
              1,
              "#f0f921"
             ]
            ],
            "type": "surface"
           }
          ],
          "table": [
           {
            "cells": {
             "fill": {
              "color": "#EBF0F8"
             },
             "line": {
              "color": "white"
             }
            },
            "header": {
             "fill": {
              "color": "#C8D4E3"
             },
             "line": {
              "color": "white"
             }
            },
            "type": "table"
           }
          ]
         },
         "layout": {
          "annotationdefaults": {
           "arrowcolor": "#2a3f5f",
           "arrowhead": 0,
           "arrowwidth": 1
          },
          "autotypenumbers": "strict",
          "coloraxis": {
           "colorbar": {
            "outlinewidth": 0,
            "ticks": ""
           }
          },
          "colorscale": {
           "diverging": [
            [
             0,
             "#8e0152"
            ],
            [
             0.1,
             "#c51b7d"
            ],
            [
             0.2,
             "#de77ae"
            ],
            [
             0.3,
             "#f1b6da"
            ],
            [
             0.4,
             "#fde0ef"
            ],
            [
             0.5,
             "#f7f7f7"
            ],
            [
             0.6,
             "#e6f5d0"
            ],
            [
             0.7,
             "#b8e186"
            ],
            [
             0.8,
             "#7fbc41"
            ],
            [
             0.9,
             "#4d9221"
            ],
            [
             1,
             "#276419"
            ]
           ],
           "sequential": [
            [
             0,
             "#0d0887"
            ],
            [
             0.1111111111111111,
             "#46039f"
            ],
            [
             0.2222222222222222,
             "#7201a8"
            ],
            [
             0.3333333333333333,
             "#9c179e"
            ],
            [
             0.4444444444444444,
             "#bd3786"
            ],
            [
             0.5555555555555556,
             "#d8576b"
            ],
            [
             0.6666666666666666,
             "#ed7953"
            ],
            [
             0.7777777777777778,
             "#fb9f3a"
            ],
            [
             0.8888888888888888,
             "#fdca26"
            ],
            [
             1,
             "#f0f921"
            ]
           ],
           "sequentialminus": [
            [
             0,
             "#0d0887"
            ],
            [
             0.1111111111111111,
             "#46039f"
            ],
            [
             0.2222222222222222,
             "#7201a8"
            ],
            [
             0.3333333333333333,
             "#9c179e"
            ],
            [
             0.4444444444444444,
             "#bd3786"
            ],
            [
             0.5555555555555556,
             "#d8576b"
            ],
            [
             0.6666666666666666,
             "#ed7953"
            ],
            [
             0.7777777777777778,
             "#fb9f3a"
            ],
            [
             0.8888888888888888,
             "#fdca26"
            ],
            [
             1,
             "#f0f921"
            ]
           ]
          },
          "colorway": [
           "#636efa",
           "#EF553B",
           "#00cc96",
           "#ab63fa",
           "#FFA15A",
           "#19d3f3",
           "#FF6692",
           "#B6E880",
           "#FF97FF",
           "#FECB52"
          ],
          "font": {
           "color": "#2a3f5f"
          },
          "geo": {
           "bgcolor": "white",
           "lakecolor": "white",
           "landcolor": "#E5ECF6",
           "showlakes": true,
           "showland": true,
           "subunitcolor": "white"
          },
          "hoverlabel": {
           "align": "left"
          },
          "hovermode": "closest",
          "mapbox": {
           "style": "light"
          },
          "paper_bgcolor": "white",
          "plot_bgcolor": "#E5ECF6",
          "polar": {
           "angularaxis": {
            "gridcolor": "white",
            "linecolor": "white",
            "ticks": ""
           },
           "bgcolor": "#E5ECF6",
           "radialaxis": {
            "gridcolor": "white",
            "linecolor": "white",
            "ticks": ""
           }
          },
          "scene": {
           "xaxis": {
            "backgroundcolor": "#E5ECF6",
            "gridcolor": "white",
            "gridwidth": 2,
            "linecolor": "white",
            "showbackground": true,
            "ticks": "",
            "zerolinecolor": "white"
           },
           "yaxis": {
            "backgroundcolor": "#E5ECF6",
            "gridcolor": "white",
            "gridwidth": 2,
            "linecolor": "white",
            "showbackground": true,
            "ticks": "",
            "zerolinecolor": "white"
           },
           "zaxis": {
            "backgroundcolor": "#E5ECF6",
            "gridcolor": "white",
            "gridwidth": 2,
            "linecolor": "white",
            "showbackground": true,
            "ticks": "",
            "zerolinecolor": "white"
           }
          },
          "shapedefaults": {
           "line": {
            "color": "#2a3f5f"
           }
          },
          "ternary": {
           "aaxis": {
            "gridcolor": "white",
            "linecolor": "white",
            "ticks": ""
           },
           "baxis": {
            "gridcolor": "white",
            "linecolor": "white",
            "ticks": ""
           },
           "bgcolor": "#E5ECF6",
           "caxis": {
            "gridcolor": "white",
            "linecolor": "white",
            "ticks": ""
           }
          },
          "title": {
           "x": 0.05
          },
          "xaxis": {
           "automargin": true,
           "gridcolor": "white",
           "linecolor": "white",
           "ticks": "",
           "title": {
            "standoff": 15
           },
           "zerolinecolor": "white",
           "zerolinewidth": 2
          },
          "yaxis": {
           "automargin": true,
           "gridcolor": "white",
           "linecolor": "white",
           "ticks": "",
           "title": {
            "standoff": 15
           },
           "zerolinecolor": "white",
           "zerolinewidth": 2
          }
         }
        },
        "title": {
         "text": "Meals by day"
        },
        "xaxis": {
         "anchor": "y",
         "autorange": true,
         "domain": [
          0,
          1
         ],
         "range": [
          -0.25197482929441695,
          4.251974829294417
         ],
         "title": {
          "text": "weekday"
         },
         "type": "category"
        },
        "yaxis": {
         "anchor": "x",
         "autorange": true,
         "domain": [
          0,
          1
         ],
         "range": [
          -0.19736842105263164,
          15.197368421052632
         ],
         "title": {
          "text": "number_meals"
         },
         "type": "linear"
        }
       }
      },
      "image/png": "[encoded data removed]",
      "text/html": [
       "<div>                            <div id=\"26342ef8-684f-4f51-98f6-28ef8f9917b6\" class=\"plotly-graph-div\" style=\"height:525px; width:100%;\"></div>            <script type=\"text/javascript\">                require([\"plotly\"], function(Plotly) {                    window.PLOTLYENV=window.PLOTLYENV || {};                                    if (document.getElementById(\"26342ef8-684f-4f51-98f6-28ef8f9917b6\")) {                    Plotly.newPlot(                        \"26342ef8-684f-4f51-98f6-28ef8f9917b6\",                        [{\"hovertemplate\":\"<b>%{hovertext}</b><br><br>Calc_Meal=Chicken<br>weekday=%{x}<br>number_meals=%{y}<extra></extra>\",\"hovertext\":[\"Soup\",\"butterfly chicken\",\"chicken fillet\",\"chicken soup\",\"roast chicken\",\"turkey fillet\",\"Soup\",\"chicken fillet\",\"chicken soup\",\"pasta soup\",\"roast chicken\",\"turkey fillet\",\"Soup\",\"butterfly chicken\",\"chicken and turnip greens\",\"chicken fillet\",\"chicken soup\",\"green beans with chicken\",\"roast chicken\",\"turkey fillet\",\"Soup\",\"chicken fillet\",\"chicken soup\",\"roast chicken\",\"turkey fillet\",\"Soup\",\"chicken fillet\",\"chicken soup\",\"pasta soup\",\"roast chicken\",\"turkey fillet\"],\"legendgroup\":\"Chicken\",\"marker\":{\"color\":\"#636efa\",\"symbol\":\"circle\",\"opacity\":0.6,\"size\":8},\"mode\":\"markers\",\"name\":\"Chicken\",\"orientation\":\"v\",\"showlegend\":true,\"x\":[\"friday\",\"friday\",\"friday\",\"friday\",\"friday\",\"friday\",\"monday\",\"monday\",\"monday\",\"monday\",\"monday\",\"monday\",\"thursday\",\"thursday\",\"thursday\",\"thursday\",\"thursday\",\"thursday\",\"thursday\",\"thursday\",\"tuesday\",\"tuesday\",\"tuesday\",\"tuesday\",\"tuesday\",\"wednesday\",\"wednesday\",\"wednesday\",\"wednesday\",\"wednesday\",\"wednesday\"],\"xaxis\":\"x\",\"y\":[5,1,1,2,2,1,4,4,1,1,1,2,4,1,1,2,3,1,1,1,5,2,2,1,1,2,3,3,2,5,2],\"yaxis\":\"y\",\"type\":\"scatter\"},{\"hovertemplate\":\"<b>%{hovertext}</b><br><br>Calc_Meal=beef<br>weekday=%{x}<br>number_meals=%{y}<extra></extra>\",\"hovertext\":[\"beef fillet\",\"broccoli with meat\",\"eggplant bolognese\",\"ground/minced meat\",\"steak\",\"breaded fillet\",\"meat\",\"spaghetti bolognese\",\"steak\",\"beef fillet\",\"breaded fillet\",\"broccoli with meat\",\"eggplant bolognese\",\"spaghetti bolognese\",\"steak\",\"breaded fillet\",\"roast beef\",\"spaghetti bolognese\",\"steak\",\"breaded fillet\",\"spaghetti bolognese\",\"steak\"],\"legendgroup\":\"beef\",\"marker\":{\"color\":\"#EF553B\",\"symbol\":\"circle\",\"opacity\":0.6,\"size\":8},\"mode\":\"markers\",\"name\":\"beef\",\"orientation\":\"v\",\"showlegend\":true,\"x\":[\"friday\",\"friday\",\"friday\",\"friday\",\"friday\",\"monday\",\"monday\",\"monday\",\"monday\",\"thursday\",\"thursday\",\"thursday\",\"thursday\",\"thursday\",\"thursday\",\"tuesday\",\"tuesday\",\"tuesday\",\"tuesday\",\"wednesday\",\"wednesday\",\"wednesday\"],\"xaxis\":\"x\",\"y\":[1,1,3,1,2,3,1,1,5,1,1,1,1,3,3,3,1,5,3,1,4,1],\"yaxis\":\"y\",\"type\":\"scatter\"},{\"hovertemplate\":\"<b>%{hovertext}</b><br><br>Calc_Meal=Egg<br>weekday=%{x}<br>number_meals=%{y}<extra></extra>\",\"hovertext\":[\"broccoli with fried egg\",\"egg\",\"green beans with fried egg\",\"peas with fried egg\",\"potato omelette\",\"boiled egg\",\"boiled eggs\",\"fried egg\",\"green beans with fried egg\",\"potato omelette\",\"boiled eggs\",\"egg\",\"fried egg\",\"potato omelette\",\"boiled egg\",\"fried egg\",\"potato omelette\"],\"legendgroup\":\"Egg\",\"marker\":{\"color\":\"#00cc96\",\"symbol\":\"circle\",\"opacity\":0.6,\"size\":8},\"mode\":\"markers\",\"name\":\"Egg\",\"orientation\":\"v\",\"showlegend\":true,\"x\":[\"friday\",\"friday\",\"friday\",\"friday\",\"friday\",\"monday\",\"monday\",\"monday\",\"thursday\",\"thursday\",\"tuesday\",\"tuesday\",\"tuesday\",\"tuesday\",\"wednesday\",\"wednesday\",\"wednesday\"],\"xaxis\":\"x\",\"y\":[1,1,1,1,9,1,1,4,1,2,1,1,3,6,1,3,3],\"yaxis\":\"y\",\"type\":\"scatter\"},{\"hovertemplate\":\"<b>%{hovertext}</b><br><br>Calc_Meal=Non-meat/wDairy<br>weekday=%{x}<br>number_meals=%{y}<extra></extra>\",\"hovertext\":[\"carrot cream\",\"cream\",\"leek cream\",\"pumpkin cream\",\"zucchini cream\",\"carrot cream\",\"cream\",\"leek cream\",\"pasta salad\",\"pumpkin cream\",\"quesadillas\",\"zucchini cream\",\"carrot cream\",\"cream\",\"fava bean cream\",\"leek cream\",\"pumpkin cream\",\"zucchini cream\",\"carrot cream\",\"cream\",\"leek cream\",\"quesadillas\",\"zucchini cream\",\"carrot cream\",\"cream\",\"leek cream\",\"pumpkin cream\",\"quesadillas\",\"zucchini cream\"],\"legendgroup\":\"Non-meat/wDairy\",\"marker\":{\"color\":\"#ab63fa\",\"symbol\":\"circle\",\"opacity\":0.6,\"size\":8},\"mode\":\"markers\",\"name\":\"Non-meat/wDairy\",\"orientation\":\"v\",\"showlegend\":true,\"x\":[\"friday\",\"friday\",\"friday\",\"friday\",\"friday\",\"monday\",\"monday\",\"monday\",\"monday\",\"monday\",\"monday\",\"monday\",\"thursday\",\"thursday\",\"thursday\",\"thursday\",\"thursday\",\"thursday\",\"tuesday\",\"tuesday\",\"tuesday\",\"tuesday\",\"tuesday\",\"wednesday\",\"wednesday\",\"wednesday\",\"wednesday\",\"wednesday\",\"wednesday\"],\"xaxis\":\"x\",\"y\":[7,7,3,1,1,6,4,3,1,1,1,8,6,5,1,5,2,3,2,5,2,2,5,4,4,5,2,1,4],\"yaxis\":\"y\",\"type\":\"scatter\"},{\"hovertemplate\":\"<b>%{hovertext}</b><br><br>Calc_Meal=Vegetable<br>weekday=%{x}<br>number_meals=%{y}<extra></extra>\",\"hovertext\":[\"chickpea salad\",\"french fries\",\"garlic mushrooms\",\"gazpacho\",\"kale with fried potatoes\",\"lentils\",\"refried beans\",\"rice\",\"salad\",\"sauteed spinach\",\"spinach mashed potatoes\",\"stewed vegetables\",\"tomato sauce\",\"boiled potato\",\"broccoli with garlic sauce\",\"broccoli with potato\",\"chard with potatoes\",\"french fries\",\"fried potato\",\"garlic mushrooms\",\"gazpacho\",\"green beans with potato\",\"kale with fried potatoes\",\"lentils\",\"peas with onion\",\"refried beans\",\"rice\",\"salad\",\"sauteed vegetables\",\"spinach mashed potatoes\",\"stewed vegetables\",\"stir-fried green beans\",\"tomato sauce\",\"turnip greens with potato\",\"baked eggplant and zucchini\",\"boiled potato\",\"broccoli with potato\",\"chickpea salad\",\"french fries\",\"garlic mushrooms\",\"green beans with potato\",\"large beans\",\"leftover mushrooms\",\"lentils\",\"refried beans\",\"rice\",\"salad\",\"sauteed spinach\",\"sauteed vegetables\",\"spaghetti with garlic mushrooms\",\"spinach mashed potatoes\",\"spinach stew\",\"stewed vegetables\",\"tomato sauce\",\"boiled potato\",\"broccoli with potato\",\"chickpea stew\",\"chickpeas\",\"chickpeas with spinach\",\"french fries\",\"garlic mushrooms\",\"green beans with garlic sauce\",\"grilled asparagus\",\"grilled zucchini\",\"large beans\",\"lentils\",\"pea puree\",\"peas with potato\",\"refried beans\",\"rice\",\"rice with tomato\",\"salad\",\"sauteed cauliflower\",\"sauteed spinach\",\"spinach mashed potatoes\",\"stewed vegetables\",\"stir-fried green beans\",\"boiled potato\",\"broccoli with garlic sauce\",\"broccoli with potato\",\"french fries\",\"garlic mushrooms\",\"green beans\",\"green beans with potato\",\"grilled asparagus\",\"grilled zucchini\",\"lentils\",\"peas with onion\",\"peas with potato\",\"rice\",\"salad\",\"sauteed spinach\",\"sauteed vegetables\",\"spaghetti with garlic mushrooms\",\"spinach mashed potatoes\",\"stewed vegetables\",\"tomato\",\"tomato sauce\"],\"legendgroup\":\"Vegetable\",\"marker\":{\"color\":\"#FFA15A\",\"symbol\":\"circle\",\"opacity\":0.6,\"size\":8},\"mode\":\"markers\",\"name\":\"Vegetable\",\"orientation\":\"v\",\"showlegend\":true,\"x\":[\"friday\",\"friday\",\"friday\",\"friday\",\"friday\",\"friday\",\"friday\",\"friday\",\"friday\",\"friday\",\"friday\",\"friday\",\"friday\",\"monday\",\"monday\",\"monday\",\"monday\",\"monday\",\"monday\",\"monday\",\"monday\",\"monday\",\"monday\",\"monday\",\"monday\",\"monday\",\"monday\",\"monday\",\"monday\",\"monday\",\"monday\",\"monday\",\"monday\",\"monday\",\"thursday\",\"thursday\",\"thursday\",\"thursday\",\"thursday\",\"thursday\",\"thursday\",\"thursday\",\"thursday\",\"thursday\",\"thursday\",\"thursday\",\"thursday\",\"thursday\",\"thursday\",\"thursday\",\"thursday\",\"thursday\",\"thursday\",\"thursday\",\"tuesday\",\"tuesday\",\"tuesday\",\"tuesday\",\"tuesday\",\"tuesday\",\"tuesday\",\"tuesday\",\"tuesday\",\"tuesday\",\"tuesday\",\"tuesday\",\"tuesday\",\"tuesday\",\"tuesday\",\"tuesday\",\"tuesday\",\"tuesday\",\"tuesday\",\"tuesday\",\"tuesday\",\"tuesday\",\"tuesday\",\"wednesday\",\"wednesday\",\"wednesday\",\"wednesday\",\"wednesday\",\"wednesday\",\"wednesday\",\"wednesday\",\"wednesday\",\"wednesday\",\"wednesday\",\"wednesday\",\"wednesday\",\"wednesday\",\"wednesday\",\"wednesday\",\"wednesday\",\"wednesday\",\"wednesday\",\"wednesday\",\"wednesday\"],\"xaxis\":\"x\",\"y\":[1,1,2,1,1,1,3,6,11,1,1,1,1,2,1,3,2,2,1,1,1,2,1,4,1,3,4,10,1,6,7,1,1,1,1,1,3,1,5,1,2,1,1,4,1,3,13,4,1,1,2,1,1,1,3,2,1,1,1,6,1,1,1,1,1,1,1,1,2,5,2,11,1,4,4,3,1,4,2,1,4,1,1,3,1,1,3,1,1,6,14,2,1,1,4,3,1,2],\"yaxis\":\"y\",\"type\":\"scatter\"},{\"hovertemplate\":\"<b>%{hovertext}</b><br><br>Calc_Meal=Fish<br>weekday=%{x}<br>number_meals=%{y}<extra></extra>\",\"hovertext\":[\"fish stew\",\"hake\",\"mixed salad\",\"peas with fish\",\"sea bass\",\"tuna\",\"Russian salad\",\"baked hake\",\"baked salmon\",\"battered hake\",\"croquettes\",\"fish stew\",\"gilt-head bream\",\"hake\",\"hake with mashed potatoes\",\"mixed salad\",\"paella with squid\",\"sea bass\",\"tuna\",\"baked fish\",\"baked salmon\",\"battered hake\",\"croquettes\",\"fish stew\",\"grilled sea bass\",\"hake\",\"mixed salad\",\"peas with fish\",\"sea bass\",\"baked hake\",\"baked salmon\",\"battered hake\",\"croquettes\",\"fish stew\",\"gilt-head bream\",\"grilled sea bass\",\"hake\",\"mixed salad\",\"sea bass\",\"baked salmon\",\"battered hake\",\"croquettes\",\"fish stew\",\"fried rooster\",\"hake\",\"mixed salad\",\"peas with fish\",\"sea bass\",\"swordfish\"],\"legendgroup\":\"Fish\",\"marker\":{\"color\":\"#19d3f3\",\"symbol\":\"circle\",\"opacity\":0.6,\"size\":8},\"mode\":\"markers\",\"name\":\"Fish\",\"orientation\":\"v\",\"showlegend\":true,\"x\":[\"friday\",\"friday\",\"friday\",\"friday\",\"friday\",\"friday\",\"monday\",\"monday\",\"monday\",\"monday\",\"monday\",\"monday\",\"monday\",\"monday\",\"monday\",\"monday\",\"monday\",\"monday\",\"monday\",\"thursday\",\"thursday\",\"thursday\",\"thursday\",\"thursday\",\"thursday\",\"thursday\",\"thursday\",\"thursday\",\"thursday\",\"tuesday\",\"tuesday\",\"tuesday\",\"tuesday\",\"tuesday\",\"tuesday\",\"tuesday\",\"tuesday\",\"tuesday\",\"tuesday\",\"wednesday\",\"wednesday\",\"wednesday\",\"wednesday\",\"wednesday\",\"wednesday\",\"wednesday\",\"wednesday\",\"wednesday\",\"wednesday\"],\"xaxis\":\"x\",\"y\":[1,2,1,1,2,1,1,1,1,1,1,2,1,1,1,3,1,1,1,1,1,1,4,3,1,1,2,1,4,1,3,1,4,2,2,1,3,3,2,2,2,5,2,1,2,1,1,5,1],\"yaxis\":\"y\",\"type\":\"scatter\"},{\"hovertemplate\":\"<b>%{hovertext}</b><br><br>Calc_Meal=Pork<br>weekday=%{x}<br>number_meals=%{y}<extra></extra>\",\"hovertext\":[\"pizza\",\"Saxon loin\",\"broccoli with ham\",\"macaroni\",\"peas with ham\",\"pork tenderloin\",\"sausages\",\"Saxon loin\",\"carbonara pasta\",\"loin\",\"peas with ham\",\"pork fillet\",\"sausages\",\"spaghetti carbonara\",\"marinated pork loin\",\"peas with ham\",\"sausages\",\"stroganoff tenderloin\",\"carbonara macaroni\",\"loin fillet\",\"peas with ham\",\"pork tenderloin\",\"sausages\"],\"legendgroup\":\"Pork\",\"marker\":{\"color\":\"#FF6692\",\"symbol\":\"circle\",\"opacity\":0.6,\"size\":8},\"mode\":\"markers\",\"name\":\"Pork\",\"orientation\":\"v\",\"showlegend\":true,\"x\":[\"friday\",\"monday\",\"monday\",\"monday\",\"monday\",\"monday\",\"monday\",\"thursday\",\"thursday\",\"thursday\",\"thursday\",\"thursday\",\"thursday\",\"thursday\",\"tuesday\",\"tuesday\",\"tuesday\",\"tuesday\",\"wednesday\",\"wednesday\",\"wednesday\",\"wednesday\",\"wednesday\"],\"xaxis\":\"x\",\"y\":[1,1,1,1,2,2,3,1,1,1,2,1,2,2,1,5,2,1,1,1,3,2,5],\"yaxis\":\"y\",\"type\":\"scatter\"}],                        {\"template\":{\"data\":{\"histogram2dcontour\":[{\"type\":\"histogram2dcontour\",\"colorbar\":{\"outlinewidth\":0,\"ticks\":\"\"},\"colorscale\":[[0.0,\"#0d0887\"],[0.1111111111111111,\"#46039f\"],[0.2222222222222222,\"#7201a8\"],[0.3333333333333333,\"#9c179e\"],[0.4444444444444444,\"#bd3786\"],[0.5555555555555556,\"#d8576b\"],[0.6666666666666666,\"#ed7953\"],[0.7777777777777778,\"#fb9f3a\"],[0.8888888888888888,\"#fdca26\"],[1.0,\"#f0f921\"]]}],\"choropleth\":[{\"type\":\"choropleth\",\"colorbar\":{\"outlinewidth\":0,\"ticks\":\"\"}}],\"histogram2d\":[{\"type\":\"histogram2d\",\"colorbar\":{\"outlinewidth\":0,\"ticks\":\"\"},\"colorscale\":[[0.0,\"#0d0887\"],[0.1111111111111111,\"#46039f\"],[0.2222222222222222,\"#7201a8\"],[0.3333333333333333,\"#9c179e\"],[0.4444444444444444,\"#bd3786\"],[0.5555555555555556,\"#d8576b\"],[0.6666666666666666,\"#ed7953\"],[0.7777777777777778,\"#fb9f3a\"],[0.8888888888888888,\"#fdca26\"],[1.0,\"#f0f921\"]]}],\"heatmap\":[{\"type\":\"heatmap\",\"colorbar\":{\"outlinewidth\":0,\"ticks\":\"\"},\"colorscale\":[[0.0,\"#0d0887\"],[0.1111111111111111,\"#46039f\"],[0.2222222222222222,\"#7201a8\"],[0.3333333333333333,\"#9c179e\"],[0.4444444444444444,\"#bd3786\"],[0.5555555555555556,\"#d8576b\"],[0.6666666666666666,\"#ed7953\"],[0.7777777777777778,\"#fb9f3a\"],[0.8888888888888888,\"#fdca26\"],[1.0,\"#f0f921\"]]}],\"heatmapgl\":[{\"type\":\"heatmapgl\",\"colorbar\":{\"outlinewidth\":0,\"ticks\":\"\"},\"colorscale\":[[0.0,\"#0d0887\"],[0.1111111111111111,\"#46039f\"],[0.2222222222222222,\"#7201a8\"],[0.3333333333333333,\"#9c179e\"],[0.4444444444444444,\"#bd3786\"],[0.5555555555555556,\"#d8576b\"],[0.6666666666666666,\"#ed7953\"],[0.7777777777777778,\"#fb9f3a\"],[0.8888888888888888,\"#fdca26\"],[1.0,\"#f0f921\"]]}],\"contourcarpet\":[{\"type\":\"contourcarpet\",\"colorbar\":{\"outlinewidth\":0,\"ticks\":\"\"}}],\"contour\":[{\"type\":\"contour\",\"colorbar\":{\"outlinewidth\":0,\"ticks\":\"\"},\"colorscale\":[[0.0,\"#0d0887\"],[0.1111111111111111,\"#46039f\"],[0.2222222222222222,\"#7201a8\"],[0.3333333333333333,\"#9c179e\"],[0.4444444444444444,\"#bd3786\"],[0.5555555555555556,\"#d8576b\"],[0.6666666666666666,\"#ed7953\"],[0.7777777777777778,\"#fb9f3a\"],[0.8888888888888888,\"#fdca26\"],[1.0,\"#f0f921\"]]}],\"surface\":[{\"type\":\"surface\",\"colorbar\":{\"outlinewidth\":0,\"ticks\":\"\"},\"colorscale\":[[0.0,\"#0d0887\"],[0.1111111111111111,\"#46039f\"],[0.2222222222222222,\"#7201a8\"],[0.3333333333333333,\"#9c179e\"],[0.4444444444444444,\"#bd3786\"],[0.5555555555555556,\"#d8576b\"],[0.6666666666666666,\"#ed7953\"],[0.7777777777777778,\"#fb9f3a\"],[0.8888888888888888,\"#fdca26\"],[1.0,\"#f0f921\"]]}],\"mesh3d\":[{\"type\":\"mesh3d\",\"colorbar\":{\"outlinewidth\":0,\"ticks\":\"\"}}],\"scatter\":[{\"fillpattern\":{\"fillmode\":\"overlay\",\"size\":10,\"solidity\":0.2},\"type\":\"scatter\"}],\"parcoords\":[{\"type\":\"parcoords\",\"line\":{\"colorbar\":{\"outlinewidth\":0,\"ticks\":\"\"}}}],\"scatterpolargl\":[{\"type\":\"scatterpolargl\",\"marker\":{\"colorbar\":{\"outlinewidth\":0,\"ticks\":\"\"}}}],\"bar\":[{\"error_x\":{\"color\":\"#2a3f5f\"},\"error_y\":{\"color\":\"#2a3f5f\"},\"marker\":{\"line\":{\"color\":\"#E5ECF6\",\"width\":0.5},\"pattern\":{\"fillmode\":\"overlay\",\"size\":10,\"solidity\":0.2}},\"type\":\"bar\"}],\"scattergeo\":[{\"type\":\"scattergeo\",\"marker\":{\"colorbar\":{\"outlinewidth\":0,\"ticks\":\"\"}}}],\"scatterpolar\":[{\"type\":\"scatterpolar\",\"marker\":{\"colorbar\":{\"outlinewidth\":0,\"ticks\":\"\"}}}],\"histogram\":[{\"marker\":{\"pattern\":{\"fillmode\":\"overlay\",\"size\":10,\"solidity\":0.2}},\"type\":\"histogram\"}],\"scattergl\":[{\"type\":\"scattergl\",\"marker\":{\"colorbar\":{\"outlinewidth\":0,\"ticks\":\"\"}}}],\"scatter3d\":[{\"type\":\"scatter3d\",\"line\":{\"colorbar\":{\"outlinewidth\":0,\"ticks\":\"\"}},\"marker\":{\"colorbar\":{\"outlinewidth\":0,\"ticks\":\"\"}}}],\"scattermapbox\":[{\"type\":\"scattermapbox\",\"marker\":{\"colorbar\":{\"outlinewidth\":0,\"ticks\":\"\"}}}],\"scatterternary\":[{\"type\":\"scatterternary\",\"marker\":{\"colorbar\":{\"outlinewidth\":0,\"ticks\":\"\"}}}],\"scattercarpet\":[{\"type\":\"scattercarpet\",\"marker\":{\"colorbar\":{\"outlinewidth\":0,\"ticks\":\"\"}}}],\"carpet\":[{\"aaxis\":{\"endlinecolor\":\"#2a3f5f\",\"gridcolor\":\"white\",\"linecolor\":\"white\",\"minorgridcolor\":\"white\",\"startlinecolor\":\"#2a3f5f\"},\"baxis\":{\"endlinecolor\":\"#2a3f5f\",\"gridcolor\":\"white\",\"linecolor\":\"white\",\"minorgridcolor\":\"white\",\"startlinecolor\":\"#2a3f5f\"},\"type\":\"carpet\"}],\"table\":[{\"cells\":{\"fill\":{\"color\":\"#EBF0F8\"},\"line\":{\"color\":\"white\"}},\"header\":{\"fill\":{\"color\":\"#C8D4E3\"},\"line\":{\"color\":\"white\"}},\"type\":\"table\"}],\"barpolar\":[{\"marker\":{\"line\":{\"color\":\"#E5ECF6\",\"width\":0.5},\"pattern\":{\"fillmode\":\"overlay\",\"size\":10,\"solidity\":0.2}},\"type\":\"barpolar\"}],\"pie\":[{\"automargin\":true,\"type\":\"pie\"}]},\"layout\":{\"autotypenumbers\":\"strict\",\"colorway\":[\"#636efa\",\"#EF553B\",\"#00cc96\",\"#ab63fa\",\"#FFA15A\",\"#19d3f3\",\"#FF6692\",\"#B6E880\",\"#FF97FF\",\"#FECB52\"],\"font\":{\"color\":\"#2a3f5f\"},\"hovermode\":\"closest\",\"hoverlabel\":{\"align\":\"left\"},\"paper_bgcolor\":\"white\",\"plot_bgcolor\":\"#E5ECF6\",\"polar\":{\"bgcolor\":\"#E5ECF6\",\"angularaxis\":{\"gridcolor\":\"white\",\"linecolor\":\"white\",\"ticks\":\"\"},\"radialaxis\":{\"gridcolor\":\"white\",\"linecolor\":\"white\",\"ticks\":\"\"}},\"ternary\":{\"bgcolor\":\"#E5ECF6\",\"aaxis\":{\"gridcolor\":\"white\",\"linecolor\":\"white\",\"ticks\":\"\"},\"baxis\":{\"gridcolor\":\"white\",\"linecolor\":\"white\",\"ticks\":\"\"},\"caxis\":{\"gridcolor\":\"white\",\"linecolor\":\"white\",\"ticks\":\"\"}},\"coloraxis\":{\"colorbar\":{\"outlinewidth\":0,\"ticks\":\"\"}},\"colorscale\":{\"sequential\":[[0.0,\"#0d0887\"],[0.1111111111111111,\"#46039f\"],[0.2222222222222222,\"#7201a8\"],[0.3333333333333333,\"#9c179e\"],[0.4444444444444444,\"#bd3786\"],[0.5555555555555556,\"#d8576b\"],[0.6666666666666666,\"#ed7953\"],[0.7777777777777778,\"#fb9f3a\"],[0.8888888888888888,\"#fdca26\"],[1.0,\"#f0f921\"]],\"sequentialminus\":[[0.0,\"#0d0887\"],[0.1111111111111111,\"#46039f\"],[0.2222222222222222,\"#7201a8\"],[0.3333333333333333,\"#9c179e\"],[0.4444444444444444,\"#bd3786\"],[0.5555555555555556,\"#d8576b\"],[0.6666666666666666,\"#ed7953\"],[0.7777777777777778,\"#fb9f3a\"],[0.8888888888888888,\"#fdca26\"],[1.0,\"#f0f921\"]],\"diverging\":[[0,\"#8e0152\"],[0.1,\"#c51b7d\"],[0.2,\"#de77ae\"],[0.3,\"#f1b6da\"],[0.4,\"#fde0ef\"],[0.5,\"#f7f7f7\"],[0.6,\"#e6f5d0\"],[0.7,\"#b8e186\"],[0.8,\"#7fbc41\"],[0.9,\"#4d9221\"],[1,\"#276419\"]]},\"xaxis\":{\"gridcolor\":\"white\",\"linecolor\":\"white\",\"ticks\":\"\",\"title\":{\"standoff\":15},\"zerolinecolor\":\"white\",\"automargin\":true,\"zerolinewidth\":2},\"yaxis\":{\"gridcolor\":\"white\",\"linecolor\":\"white\",\"ticks\":\"\",\"title\":{\"standoff\":15},\"zerolinecolor\":\"white\",\"automargin\":true,\"zerolinewidth\":2},\"scene\":{\"xaxis\":{\"backgroundcolor\":\"#E5ECF6\",\"gridcolor\":\"white\",\"linecolor\":\"white\",\"showbackground\":true,\"ticks\":\"\",\"zerolinecolor\":\"white\",\"gridwidth\":2},\"yaxis\":{\"backgroundcolor\":\"#E5ECF6\",\"gridcolor\":\"white\",\"linecolor\":\"white\",\"showbackground\":true,\"ticks\":\"\",\"zerolinecolor\":\"white\",\"gridwidth\":2},\"zaxis\":{\"backgroundcolor\":\"#E5ECF6\",\"gridcolor\":\"white\",\"linecolor\":\"white\",\"showbackground\":true,\"ticks\":\"\",\"zerolinecolor\":\"white\",\"gridwidth\":2}},\"shapedefaults\":{\"line\":{\"color\":\"#2a3f5f\"}},\"annotationdefaults\":{\"arrowcolor\":\"#2a3f5f\",\"arrowhead\":0,\"arrowwidth\":1},\"geo\":{\"bgcolor\":\"white\",\"landcolor\":\"#E5ECF6\",\"subunitcolor\":\"white\",\"showland\":true,\"showlakes\":true,\"lakecolor\":\"white\"},\"title\":{\"x\":0.05},\"mapbox\":{\"style\":\"light\"}}},\"xaxis\":{\"anchor\":\"y\",\"domain\":[0.0,1.0],\"title\":{\"text\":\"weekday\"}},\"yaxis\":{\"anchor\":\"x\",\"domain\":[0.0,1.0],\"title\":{\"text\":\"number_meals\"}},\"legend\":{\"title\":{\"text\":\"Calc_Meal\"},\"tracegroupgap\":0},\"title\":{\"text\":\"Meals by day\"}},                        {\"responsive\": true}                    ).then(function(){\n",
       "                            \n",
       "var gd = document.getElementById('26342ef8-684f-4f51-98f6-28ef8f9917b6');\n",
       "var x = new MutationObserver(function (mutations, observer) {{\n",
       "        var display = window.getComputedStyle(gd).display;\n",
       "        if (!display || display === 'none') {{\n",
       "            console.log([gd, 'removed!']);\n",
       "            Plotly.purge(gd);\n",
       "            observer.disconnect();\n",
       "        }}\n",
       "}});\n",
       "\n",
       "// Listen for the removal of the full notebook cells\n",
       "var notebookContainer = gd.closest('#notebook-container');\n",
       "if (notebookContainer) {{\n",
       "    x.observe(notebookContainer, {childList: true});\n",
       "}}\n",
       "\n",
       "// Listen for the clearing of the current output cell\n",
       "var outputEl = gd.closest('.output');\n",
       "if (outputEl) {{\n",
       "    x.observe(outputEl, {childList: true});\n",
       "}}\n",
       "\n",
       "                        })                };                });            </script>        </div>"
      ]
     },
     "metadata": {},
     "output_type": "display_data"
    }
   ],
   "source": [
    "# Define the SQL query\n",
    "query = '''\n",
    "SELECT weekday, meal, count(weekday) as number_meals, Calc_meal\n",
    "FROM df\n",
    "GROUP BY weekday, meal, Calc_meal\n",
    "'''\n",
    "\n",
    "# Execute the query\n",
    "result_df = psql.sqldf(query, locals())\n",
    "\n",
    "# Interactive plot with Plotly\n",
    "fig = px.scatter(result_df, x='weekday', y='number_meals', color='Calc_Meal', hover_name='meal',\n",
    "                 title='Meals by day')\n",
    "fig.update_traces(marker=dict(size=8, opacity=0.6))\n",
    "fig.show()"
   ]
  },
  {
   "cell_type": "code",
   "execution_count": 112,
   "id": "95983b41-2f1b-4047-8a39-4cd2a2322353",
   "metadata": {},
   "outputs": [
    {
     "data": {
      "text/html": [
       "<div>\n",
       "<style scoped>\n",
       "    .dataframe tbody tr th:only-of-type {\n",
       "        vertical-align: middle;\n",
       "    }\n",
       "\n",
       "    .dataframe tbody tr th {\n",
       "        vertical-align: top;\n",
       "    }\n",
       "\n",
       "    .dataframe thead th {\n",
       "        text-align: right;\n",
       "    }\n",
       "</style>\n",
       "<table border=\"1\" class=\"dataframe\">\n",
       "  <thead>\n",
       "    <tr style=\"text-align: right;\">\n",
       "      <th></th>\n",
       "      <th>weekday</th>\n",
       "      <th>Calc_Meal</th>\n",
       "      <th>number_meals</th>\n",
       "    </tr>\n",
       "  </thead>\n",
       "  <tbody>\n",
       "    <tr>\n",
       "      <th>0</th>\n",
       "      <td>friday</td>\n",
       "      <td>Chicken</td>\n",
       "      <td>5</td>\n",
       "    </tr>\n",
       "    <tr>\n",
       "      <th>1</th>\n",
       "      <td>friday</td>\n",
       "      <td>Egg</td>\n",
       "      <td>13</td>\n",
       "    </tr>\n",
       "    <tr>\n",
       "      <th>2</th>\n",
       "      <td>friday</td>\n",
       "      <td>Fish</td>\n",
       "      <td>8</td>\n",
       "    </tr>\n",
       "    <tr>\n",
       "      <th>3</th>\n",
       "      <td>friday</td>\n",
       "      <td>Pork</td>\n",
       "      <td>1</td>\n",
       "    </tr>\n",
       "    <tr>\n",
       "      <th>4</th>\n",
       "      <td>friday</td>\n",
       "      <td>Vegetable</td>\n",
       "      <td>18</td>\n",
       "    </tr>\n",
       "  </tbody>\n",
       "</table>\n",
       "</div>"
      ],
      "text/plain": [
       "  weekday  Calc_Meal  number_meals\n",
       "0  friday    Chicken             5\n",
       "1  friday        Egg            13\n",
       "2  friday       Fish             8\n",
       "3  friday       Pork             1\n",
       "4  friday  Vegetable            18"
      ]
     },
     "execution_count": 112,
     "metadata": {},
     "output_type": "execute_result"
    }
   ],
   "source": [
    "# Define the SQL query\n",
    "query = '''\n",
    "SELECT weekday, calc_meal, count(weekday) as number_meals\n",
    "FROM df\n",
    "WHERE weekday != \"none\" AND category = \"principal\"\n",
    "GROUP BY weekday, calc_meal\n",
    "'''\n",
    "\n",
    "# Execute the query\n",
    "result_df2 = psql.sqldf(query, locals())\n",
    "\n",
    "# Display the results\n",
    "result_df2.head()"
   ]
  },
  {
   "cell_type": "code",
   "execution_count": 7,
   "id": "8336c9fd-a29a-458f-a057-e03835e8e350",
   "metadata": {},
   "outputs": [
    {
     "data": {
      "image/png": "[encoded data removed]",
      "text/plain": [
       "<Figure size 1000x600 with 1 Axes>"
      ]
     },
     "metadata": {},
     "output_type": "display_data"
    }
   ],
   "source": [
    "# Assuming df is your existing DataFrame\n",
    "# Define the order of the days\n",
    "day_order = ['monday', 'tuesday', 'wednesday', 'thursday', 'friday', 'saturday', 'sunday']\n",
    "\n",
    "# Convert the 'weekday' column to a categorical type with the specified order\n",
    "result_df2['weekday'] = pd.Categorical(result_df2['weekday'], categories=day_order, ordered=True)\n",
    "\n",
    "\n",
    "# Create the dot plot\n",
    "plt.figure(figsize=(10, 6))\n",
    "sns.scatterplot(data=result_df2, x='weekday', y='number_meals', hue =\"Calc_Meal\", palette='deep', s=100)\n",
    "\n",
    "# Add titles and labels\n",
    "plt.title('Dot Plot2')\n",
    "plt.xlabel('X Axis')\n",
    "plt.ylabel('Y Axis')\n",
    "\n",
    "# Show the plot\n",
    "plt.show()"
   ]
  },
  {
   "cell_type": "code",
   "execution_count": 110,
   "id": "7cada851-6ed0-4e80-8b99-8233e8105bff",
   "metadata": {
    "scrolled": true
   },
   "outputs": [
    {
     "data": {
      "text/html": [
       "<div>\n",
       "<style scoped>\n",
       "    .dataframe tbody tr th:only-of-type {\n",
       "        vertical-align: middle;\n",
       "    }\n",
       "\n",
       "    .dataframe tbody tr th {\n",
       "        vertical-align: top;\n",
       "    }\n",
       "\n",
       "    .dataframe thead th {\n",
       "        text-align: right;\n",
       "    }\n",
       "</style>\n",
       "<table border=\"1\" class=\"dataframe\">\n",
       "  <thead>\n",
       "    <tr style=\"text-align: right;\">\n",
       "      <th></th>\n",
       "      <th>quarter</th>\n",
       "      <th>Calc_Meal</th>\n",
       "      <th>number_meals</th>\n",
       "    </tr>\n",
       "  </thead>\n",
       "  <tbody>\n",
       "    <tr>\n",
       "      <th>0</th>\n",
       "      <td>2023-03-31</td>\n",
       "      <td>Chicken</td>\n",
       "      <td>5</td>\n",
       "    </tr>\n",
       "    <tr>\n",
       "      <th>1</th>\n",
       "      <td>2023-03-31</td>\n",
       "      <td>Egg</td>\n",
       "      <td>7</td>\n",
       "    </tr>\n",
       "    <tr>\n",
       "      <th>2</th>\n",
       "      <td>2023-03-31</td>\n",
       "      <td>Fish</td>\n",
       "      <td>12</td>\n",
       "    </tr>\n",
       "    <tr>\n",
       "      <th>3</th>\n",
       "      <td>2023-03-31</td>\n",
       "      <td>Non-meat/wDairy</td>\n",
       "      <td>2</td>\n",
       "    </tr>\n",
       "    <tr>\n",
       "      <th>4</th>\n",
       "      <td>2023-03-31</td>\n",
       "      <td>Pork</td>\n",
       "      <td>7</td>\n",
       "    </tr>\n",
       "  </tbody>\n",
       "</table>\n",
       "</div>"
      ],
      "text/plain": [
       "      quarter        Calc_Meal  number_meals\n",
       "0  2023-03-31          Chicken             5\n",
       "1  2023-03-31              Egg             7\n",
       "2  2023-03-31             Fish            12\n",
       "3  2023-03-31  Non-meat/wDairy             2\n",
       "4  2023-03-31             Pork             7"
      ]
     },
     "execution_count": 110,
     "metadata": {},
     "output_type": "execute_result"
    }
   ],
   "source": [
    "df['quarter'] = df['date'].dt.to_period('Q')\n",
    "df['quarter'] = df['quarter'].dt.strftime('%Y-%m-%d')\n",
    "#df.head()\n",
    "\n",
    "# Define the SQL query\n",
    "query = '''\n",
    "SELECT quarter, calc_meal, count(weekday) as number_meals\n",
    "FROM df\n",
    "WHERE weekday != \"none\" AND category = \"principal\"\n",
    "GROUP BY quarter, calc_meal\n",
    "'''\n",
    "\n",
    "# Execute the query\n",
    "result_df3 = psql.sqldf(query, locals())\n",
    "\n",
    "# Display the results\n",
    "result_df3.head()"
   ]
  },
  {
   "cell_type": "code",
   "execution_count": 9,
   "id": "730d61db-2288-4e24-9d6c-488fbc9bc6f6",
   "metadata": {},
   "outputs": [
    {
     "data": {
      "image/png": "[encoded data removed]",
      "text/plain": [
       "<Figure size 1000x600 with 1 Axes>"
      ]
     },
     "metadata": {},
     "output_type": "display_data"
    }
   ],
   "source": [
    "# Assuming df is your existing DataFrame\n",
    "# Define the order of the days\n",
    "#day_order = ['monday', 'tuesday', 'wednesday', 'thursday', 'friday', 'saturday', 'sunday']\n",
    "\n",
    "# Convert the 'weekday' column to a categorical type with the specified order\n",
    "result_df3['quarter'] = pd.Categorical(result_df3['quarter'])\n",
    "\n",
    "\n",
    "# Create the dot plot\n",
    "plt.figure(figsize=(10, 6))\n",
    "sns.scatterplot(data=result_df3, x='quarter', y='number_meals', hue =\"Calc_Meal\", palette='deep', s=100)\n",
    "\n",
    "# Add titles and labels\n",
    "plt.title('Dot Plot2')\n",
    "plt.xlabel('X Axis')\n",
    "plt.ylabel('Y Axis')\n",
    "\n",
    "# Show the plot\n",
    "plt.show()"
   ]
  },
  {
   "cell_type": "code",
   "execution_count": 10,
   "id": "0e0a58d6-98c6-4732-a33a-6b36b46098dd",
   "metadata": {},
   "outputs": [
    {
     "data": {
      "text/html": [
       "<div>\n",
       "<style scoped>\n",
       "    .dataframe tbody tr th:only-of-type {\n",
       "        vertical-align: middle;\n",
       "    }\n",
       "\n",
       "    .dataframe tbody tr th {\n",
       "        vertical-align: top;\n",
       "    }\n",
       "\n",
       "    .dataframe thead th {\n",
       "        text-align: right;\n",
       "    }\n",
       "</style>\n",
       "<table border=\"1\" class=\"dataframe\">\n",
       "  <thead>\n",
       "    <tr style=\"text-align: right;\">\n",
       "      <th></th>\n",
       "      <th>meal</th>\n",
       "      <th>Calc_Meal</th>\n",
       "      <th>AVG(`carbon point`)</th>\n",
       "      <th>AVG (time)</th>\n",
       "      <th>COUNT (meal)</th>\n",
       "    </tr>\n",
       "  </thead>\n",
       "  <tbody>\n",
       "    <tr>\n",
       "      <th>0</th>\n",
       "      <td>Russian salad</td>\n",
       "      <td>Fish</td>\n",
       "      <td>8.0</td>\n",
       "      <td>35.0</td>\n",
       "      <td>1</td>\n",
       "    </tr>\n",
       "    <tr>\n",
       "      <th>1</th>\n",
       "      <td>Saxon loin</td>\n",
       "      <td>Pork</td>\n",
       "      <td>13.0</td>\n",
       "      <td>15.0</td>\n",
       "      <td>2</td>\n",
       "    </tr>\n",
       "    <tr>\n",
       "      <th>2</th>\n",
       "      <td>Soup</td>\n",
       "      <td>Chicken</td>\n",
       "      <td>5.0</td>\n",
       "      <td>25.0</td>\n",
       "      <td>20</td>\n",
       "    </tr>\n",
       "    <tr>\n",
       "      <th>3</th>\n",
       "      <td>baked eggplant and zucchini</td>\n",
       "      <td>Vegetable</td>\n",
       "      <td>1.0</td>\n",
       "      <td>45.0</td>\n",
       "      <td>1</td>\n",
       "    </tr>\n",
       "    <tr>\n",
       "      <th>4</th>\n",
       "      <td>baked fish</td>\n",
       "      <td>Fish</td>\n",
       "      <td>8.0</td>\n",
       "      <td>30.0</td>\n",
       "      <td>1</td>\n",
       "    </tr>\n",
       "    <tr>\n",
       "      <th>...</th>\n",
       "      <td>...</td>\n",
       "      <td>...</td>\n",
       "      <td>...</td>\n",
       "      <td>...</td>\n",
       "      <td>...</td>\n",
       "    </tr>\n",
       "    <tr>\n",
       "      <th>103</th>\n",
       "      <td>tomato sauce</td>\n",
       "      <td>Vegetable</td>\n",
       "      <td>1.0</td>\n",
       "      <td>15.0</td>\n",
       "      <td>5</td>\n",
       "    </tr>\n",
       "    <tr>\n",
       "      <th>104</th>\n",
       "      <td>tuna</td>\n",
       "      <td>Fish</td>\n",
       "      <td>8.0</td>\n",
       "      <td>20.0</td>\n",
       "      <td>2</td>\n",
       "    </tr>\n",
       "    <tr>\n",
       "      <th>105</th>\n",
       "      <td>turkey fillet</td>\n",
       "      <td>Chicken</td>\n",
       "      <td>5.0</td>\n",
       "      <td>15.0</td>\n",
       "      <td>7</td>\n",
       "    </tr>\n",
       "    <tr>\n",
       "      <th>106</th>\n",
       "      <td>turnip greens with potato</td>\n",
       "      <td>Vegetable</td>\n",
       "      <td>1.0</td>\n",
       "      <td>30.0</td>\n",
       "      <td>1</td>\n",
       "    </tr>\n",
       "    <tr>\n",
       "      <th>107</th>\n",
       "      <td>zucchini cream</td>\n",
       "      <td>Non-meat/wDairy</td>\n",
       "      <td>2.0</td>\n",
       "      <td>20.0</td>\n",
       "      <td>21</td>\n",
       "    </tr>\n",
       "  </tbody>\n",
       "</table>\n",
       "<p>108 rows × 5 columns</p>\n",
       "</div>"
      ],
      "text/plain": [
       "                            meal        Calc_Meal  AVG(`carbon point`)  \\\n",
       "0                  Russian salad             Fish                  8.0   \n",
       "1                     Saxon loin             Pork                 13.0   \n",
       "2                           Soup          Chicken                  5.0   \n",
       "3    baked eggplant and zucchini        Vegetable                  1.0   \n",
       "4                     baked fish             Fish                  8.0   \n",
       "..                           ...              ...                  ...   \n",
       "103                 tomato sauce        Vegetable                  1.0   \n",
       "104                         tuna             Fish                  8.0   \n",
       "105                turkey fillet          Chicken                  5.0   \n",
       "106    turnip greens with potato        Vegetable                  1.0   \n",
       "107               zucchini cream  Non-meat/wDairy                  2.0   \n",
       "\n",
       "     AVG (time)  COUNT (meal)  \n",
       "0          35.0             1  \n",
       "1          15.0             2  \n",
       "2          25.0            20  \n",
       "3          45.0             1  \n",
       "4          30.0             1  \n",
       "..          ...           ...  \n",
       "103        15.0             5  \n",
       "104        20.0             2  \n",
       "105        15.0             7  \n",
       "106        30.0             1  \n",
       "107        20.0            21  \n",
       "\n",
       "[108 rows x 5 columns]"
      ]
     },
     "execution_count": 10,
     "metadata": {},
     "output_type": "execute_result"
    }
   ],
   "source": [
    "# Convert the 'weekday' column to a categorical type with the specified order\n",
    "result_df3['quarter'] = pd.Categorical(result_df3['quarter'])\n",
    "\n",
    "# Define the SQL query\n",
    "query = '''\n",
    "SELECT meal,calc_meal ,AVG(`carbon point`), AVG (time), COUNT (meal)\n",
    "FROM df\n",
    "GROUP BY meal, calc_meal\n",
    "'''\n",
    "\n",
    "# Execute the query\n",
    "result_df4 = psql.sqldf(query, locals())\n",
    "\n",
    "# Display the results\n",
    "result_df4"
   ]
  },
  {
   "cell_type": "code",
   "execution_count": 108,
   "id": "ce8d08bb-2070-40e1-bebc-ee5a58dd2fe2",
   "metadata": {},
   "outputs": [
    {
     "data": {
      "application/vnd.plotly.v1+json": {
       "config": {
        "plotlyServerURL": "https://plot.ly"
       },
       "data": [
        {
         "hovertemplate": "<b>%{hovertext}</b><br><br>Calc_Meal=Fish<br>AVG(`carbon point`)=%{x}<br>AVG (time)=%{y}<extra></extra>",
         "hovertext": [
          "Russian salad",
          "baked fish",
          "baked hake",
          "baked salmon",
          "battered hake",
          "croquettes",
          "fish stew",
          "fried rooster",
          "gilt-head bream",
          "grilled sea bass",
          "hake",
          "hake with mashed potatoes",
          "mixed salad",
          "paella with squid",
          "peas with fish",
          "sea bass",
          "swordfish",
          "tuna"
         ],
         "legendgroup": "Fish",
         "marker": {
          "color": "#636efa",
          "opacity": 0.6,
          "size": 8,
          "symbol": "circle"
         },
         "mode": "markers",
         "name": "Fish",
         "orientation": "v",
         "showlegend": true,
         "type": "scatter",
         "x": [
          8,
          8,
          8,
          8,
          8,
          8,
          8,
          8,
          8,
          8,
          8,
          8,
          21,
          34,
          8,
          8,
          8,
          8
         ],
         "xaxis": "x",
         "y": [
          35,
          30,
          30,
          30,
          20,
          45,
          45,
          15,
          15,
          25,
          30,
          30,
          15,
          25,
          30,
          30,
          15,
          20
         ],
         "yaxis": "y"
        },
        {
         "hovertemplate": "<b>%{hovertext}</b><br><br>Calc_Meal=Pork<br>AVG(`carbon point`)=%{x}<br>AVG (time)=%{y}<extra></extra>",
         "hovertext": [
          "Saxon loin",
          "broccoli with ham",
          "carbonara macaroni",
          "carbonara pasta",
          "loin",
          "loin fillet",
          "macaroni",
          "marinated pork loin",
          "peas with ham",
          "pizza",
          "pork fillet",
          "pork tenderloin",
          "sausages",
          "spaghetti carbonara",
          "stroganoff tenderloin"
         ],
         "legendgroup": "Pork",
         "marker": {
          "color": "#EF553B",
          "opacity": 0.6,
          "size": 8,
          "symbol": "circle"
         },
         "mode": "markers",
         "name": "Pork",
         "orientation": "v",
         "showlegend": true,
         "type": "scatter",
         "x": [
          13,
          13,
          13,
          13,
          13,
          89,
          13,
          13,
          13,
          21,
          13,
          13,
          13,
          13,
          13
         ],
         "xaxis": "x",
         "y": [
          15,
          15,
          30,
          20,
          15,
          15,
          25,
          15,
          15,
          30,
          15,
          15,
          15,
          30,
          30
         ],
         "yaxis": "y"
        },
        {
         "hovertemplate": "<b>%{hovertext}</b><br><br>Calc_Meal=Chicken<br>AVG(`carbon point`)=%{x}<br>AVG (time)=%{y}<extra></extra>",
         "hovertext": [
          "Soup",
          "butterfly chicken",
          "chicken and turnip greens",
          "chicken fillet",
          "chicken soup",
          "green beans with chicken",
          "pasta soup",
          "roast chicken",
          "turkey fillet"
         ],
         "legendgroup": "Chicken",
         "marker": {
          "color": "#00cc96",
          "opacity": 0.6,
          "size": 8,
          "symbol": "circle"
         },
         "mode": "markers",
         "name": "Chicken",
         "orientation": "v",
         "showlegend": true,
         "type": "scatter",
         "x": [
          5,
          5,
          5,
          5,
          5,
          5,
          5,
          5,
          5
         ],
         "xaxis": "x",
         "y": [
          25,
          30,
          30,
          15,
          25,
          20,
          25,
          45,
          15
         ],
         "yaxis": "y"
        },
        {
         "hovertemplate": "<b>%{hovertext}</b><br><br>Calc_Meal=Vegetable<br>AVG(`carbon point`)=%{x}<br>AVG (time)=%{y}<extra></extra>",
         "hovertext": [
          "baked eggplant and zucchini",
          "boiled potato",
          "broccoli with garlic sauce",
          "broccoli with potato",
          "chard with potatoes",
          "chickpea salad",
          "chickpea stew",
          "chickpeas",
          "chickpeas with spinach",
          "french fries",
          "fried potato",
          "garlic mushrooms",
          "gazpacho",
          "green beans",
          "green beans with garlic sauce",
          "green beans with potato",
          "grilled asparagus",
          "grilled zucchini",
          "kale with fried potatoes",
          "large beans",
          "leftover mushrooms",
          "lentils",
          "pea puree",
          "peas with onion",
          "peas with potato",
          "refried beans",
          "rice",
          "rice with tomato",
          "salad",
          "sauteed cauliflower",
          "sauteed spinach",
          "sauteed vegetables",
          "spaghetti with garlic mushrooms",
          "spinach mashed potatoes",
          "spinach stew",
          "stewed vegetables",
          "stir-fried green beans",
          "tomato",
          "tomato sauce",
          "turnip greens with potato"
         ],
         "legendgroup": "Vegetable",
         "marker": {
          "color": "#ab63fa",
          "opacity": 0.6,
          "size": 8,
          "symbol": "circle"
         },
         "mode": "markers",
         "name": "Vegetable",
         "orientation": "v",
         "showlegend": true,
         "type": "scatter",
         "x": [
          1,
          1,
          1,
          1,
          1,
          1,
          1,
          1,
          1,
          1,
          1,
          1,
          1,
          1,
          1,
          1,
          1,
          1,
          1,
          1,
          1,
          1,
          1,
          1,
          1,
          1,
          1,
          1,
          1,
          1,
          1,
          1,
          1,
          1,
          1,
          1,
          1,
          1,
          1,
          1
         ],
         "xaxis": "x",
         "y": [
          45,
          20.5,
          25,
          35,
          30,
          25,
          30,
          30,
          30,
          25,
          25,
          20,
          15,
          20,
          20,
          30,
          15,
          15,
          25,
          20,
          15,
          45,
          20,
          15,
          30,
          38.333333333333336,
          15,
          25,
          15,
          15,
          15,
          15,
          20,
          20,
          35,
          15,
          20,
          10,
          15,
          30
         ],
         "yaxis": "y"
        },
        {
         "hovertemplate": "<b>%{hovertext}</b><br><br>Calc_Meal=beef<br>AVG(`carbon point`)=%{x}<br>AVG (time)=%{y}<extra></extra>",
         "hovertext": [
          "beef fillet",
          "breaded fillet",
          "broccoli with meat",
          "eggplant bolognese",
          "ground/minced meat",
          "meat",
          "roast beef",
          "spaghetti bolognese",
          "steak"
         ],
         "legendgroup": "beef",
         "marker": {
          "color": "#FFA15A",
          "opacity": 0.6,
          "size": 8,
          "symbol": "circle"
         },
         "mode": "markers",
         "name": "beef",
         "orientation": "v",
         "showlegend": true,
         "type": "scatter",
         "x": [
          89,
          89,
          89,
          89,
          89,
          89,
          89,
          89,
          89
         ],
         "xaxis": "x",
         "y": [
          20,
          19.375,
          30,
          45,
          20,
          15,
          45,
          45,
          20
         ],
         "yaxis": "y"
        },
        {
         "hovertemplate": "<b>%{hovertext}</b><br><br>Calc_Meal=Egg<br>AVG(`carbon point`)=%{x}<br>AVG (time)=%{y}<extra></extra>",
         "hovertext": [
          "boiled egg",
          "boiled eggs",
          "broccoli with fried egg",
          "egg",
          "fried egg",
          "green beans with fried egg",
          "peas with fried egg",
          "potato omelette"
         ],
         "legendgroup": "Egg",
         "marker": {
          "color": "#19d3f3",
          "opacity": 0.6,
          "size": 8,
          "symbol": "circle"
         },
         "mode": "markers",
         "name": "Egg",
         "orientation": "v",
         "showlegend": true,
         "type": "scatter",
         "x": [
          3,
          3,
          1,
          3,
          3,
          3,
          3,
          3
         ],
         "xaxis": "x",
         "y": [
          15,
          20,
          15,
          15,
          10,
          20,
          15,
          30
         ],
         "yaxis": "y"
        },
        {
         "hovertemplate": "<b>%{hovertext}</b><br><br>Calc_Meal=Non-meat/wDairy<br>AVG(`carbon point`)=%{x}<br>AVG (time)=%{y}<extra></extra>",
         "hovertext": [
          "carrot cream",
          "cream",
          "fava bean cream",
          "leek cream",
          "pasta salad",
          "pumpkin cream",
          "quesadillas",
          "zucchini cream"
         ],
         "legendgroup": "Non-meat/wDairy",
         "marker": {
          "color": "#FF6692",
          "opacity": 0.6,
          "size": 8,
          "symbol": "circle"
         },
         "mode": "markers",
         "name": "Non-meat/wDairy",
         "orientation": "v",
         "showlegend": true,
         "type": "scatter",
         "x": [
          2,
          2,
          2,
          2,
          21,
          2,
          21,
          2
         ],
         "xaxis": "x",
         "y": [
          20,
          20,
          20,
          20,
          15,
          20,
          10,
          20
         ],
         "yaxis": "y"
        }
       ],
       "layout": {
        "autosize": true,
        "legend": {
         "title": {
          "text": "Calc_Meal"
         },
         "tracegroupgap": 0
        },
        "template": {
         "data": {
          "bar": [
           {
            "error_x": {
             "color": "#2a3f5f"
            },
            "error_y": {
             "color": "#2a3f5f"
            },
            "marker": {
             "line": {
              "color": "#E5ECF6",
              "width": 0.5
             },
             "pattern": {
              "fillmode": "overlay",
              "size": 10,
              "solidity": 0.2
             }
            },
            "type": "bar"
           }
          ],
          "barpolar": [
           {
            "marker": {
             "line": {
              "color": "#E5ECF6",
              "width": 0.5
             },
             "pattern": {
              "fillmode": "overlay",
              "size": 10,
              "solidity": 0.2
             }
            },
            "type": "barpolar"
           }
          ],
          "carpet": [
           {
            "aaxis": {
             "endlinecolor": "#2a3f5f",
             "gridcolor": "white",
             "linecolor": "white",
             "minorgridcolor": "white",
             "startlinecolor": "#2a3f5f"
            },
            "baxis": {
             "endlinecolor": "#2a3f5f",
             "gridcolor": "white",
             "linecolor": "white",
             "minorgridcolor": "white",
             "startlinecolor": "#2a3f5f"
            },
            "type": "carpet"
           }
          ],
          "choropleth": [
           {
            "colorbar": {
             "outlinewidth": 0,
             "ticks": ""
            },
            "type": "choropleth"
           }
          ],
          "contour": [
           {
            "colorbar": {
             "outlinewidth": 0,
             "ticks": ""
            },
            "colorscale": [
             [
              0,
              "#0d0887"
             ],
             [
              0.1111111111111111,
              "#46039f"
             ],
             [
              0.2222222222222222,
              "#7201a8"
             ],
             [
              0.3333333333333333,
              "#9c179e"
             ],
             [
              0.4444444444444444,
              "#bd3786"
             ],
             [
              0.5555555555555556,
              "#d8576b"
             ],
             [
              0.6666666666666666,
              "#ed7953"
             ],
             [
              0.7777777777777778,
              "#fb9f3a"
             ],
             [
              0.8888888888888888,
              "#fdca26"
             ],
             [
              1,
              "#f0f921"
             ]
            ],
            "type": "contour"
           }
          ],
          "contourcarpet": [
           {
            "colorbar": {
             "outlinewidth": 0,
             "ticks": ""
            },
            "type": "contourcarpet"
           }
          ],
          "heatmap": [
           {
            "colorbar": {
             "outlinewidth": 0,
             "ticks": ""
            },
            "colorscale": [
             [
              0,
              "#0d0887"
             ],
             [
              0.1111111111111111,
              "#46039f"
             ],
             [
              0.2222222222222222,
              "#7201a8"
             ],
             [
              0.3333333333333333,
              "#9c179e"
             ],
             [
              0.4444444444444444,
              "#bd3786"
             ],
             [
              0.5555555555555556,
              "#d8576b"
             ],
             [
              0.6666666666666666,
              "#ed7953"
             ],
             [
              0.7777777777777778,
              "#fb9f3a"
             ],
             [
              0.8888888888888888,
              "#fdca26"
             ],
             [
              1,
              "#f0f921"
             ]
            ],
            "type": "heatmap"
           }
          ],
          "heatmapgl": [
           {
            "colorbar": {
             "outlinewidth": 0,
             "ticks": ""
            },
            "colorscale": [
             [
              0,
              "#0d0887"
             ],
             [
              0.1111111111111111,
              "#46039f"
             ],
             [
              0.2222222222222222,
              "#7201a8"
             ],
             [
              0.3333333333333333,
              "#9c179e"
             ],
             [
              0.4444444444444444,
              "#bd3786"
             ],
             [
              0.5555555555555556,
              "#d8576b"
             ],
             [
              0.6666666666666666,
              "#ed7953"
             ],
             [
              0.7777777777777778,
              "#fb9f3a"
             ],
             [
              0.8888888888888888,
              "#fdca26"
             ],
             [
              1,
              "#f0f921"
             ]
            ],
            "type": "heatmapgl"
           }
          ],
          "histogram": [
           {
            "marker": {
             "pattern": {
              "fillmode": "overlay",
              "size": 10,
              "solidity": 0.2
             }
            },
            "type": "histogram"
           }
          ],
          "histogram2d": [
           {
            "colorbar": {
             "outlinewidth": 0,
             "ticks": ""
            },
            "colorscale": [
             [
              0,
              "#0d0887"
             ],
             [
              0.1111111111111111,
              "#46039f"
             ],
             [
              0.2222222222222222,
              "#7201a8"
             ],
             [
              0.3333333333333333,
              "#9c179e"
             ],
             [
              0.4444444444444444,
              "#bd3786"
             ],
             [
              0.5555555555555556,
              "#d8576b"
             ],
             [
              0.6666666666666666,
              "#ed7953"
             ],
             [
              0.7777777777777778,
              "#fb9f3a"
             ],
             [
              0.8888888888888888,
              "#fdca26"
             ],
             [
              1,
              "#f0f921"
             ]
            ],
            "type": "histogram2d"
           }
          ],
          "histogram2dcontour": [
           {
            "colorbar": {
             "outlinewidth": 0,
             "ticks": ""
            },
            "colorscale": [
             [
              0,
              "#0d0887"
             ],
             [
              0.1111111111111111,
              "#46039f"
             ],
             [
              0.2222222222222222,
              "#7201a8"
             ],
             [
              0.3333333333333333,
              "#9c179e"
             ],
             [
              0.4444444444444444,
              "#bd3786"
             ],
             [
              0.5555555555555556,
              "#d8576b"
             ],
             [
              0.6666666666666666,
              "#ed7953"
             ],
             [
              0.7777777777777778,
              "#fb9f3a"
             ],
             [
              0.8888888888888888,
              "#fdca26"
             ],
             [
              1,
              "#f0f921"
             ]
            ],
            "type": "histogram2dcontour"
           }
          ],
          "mesh3d": [
           {
            "colorbar": {
             "outlinewidth": 0,
             "ticks": ""
            },
            "type": "mesh3d"
           }
          ],
          "parcoords": [
           {
            "line": {
             "colorbar": {
              "outlinewidth": 0,
              "ticks": ""
             }
            },
            "type": "parcoords"
           }
          ],
          "pie": [
           {
            "automargin": true,
            "type": "pie"
           }
          ],
          "scatter": [
           {
            "fillpattern": {
             "fillmode": "overlay",
             "size": 10,
             "solidity": 0.2
            },
            "type": "scatter"
           }
          ],
          "scatter3d": [
           {
            "line": {
             "colorbar": {
              "outlinewidth": 0,
              "ticks": ""
             }
            },
            "marker": {
             "colorbar": {
              "outlinewidth": 0,
              "ticks": ""
             }
            },
            "type": "scatter3d"
           }
          ],
          "scattercarpet": [
           {
            "marker": {
             "colorbar": {
              "outlinewidth": 0,
              "ticks": ""
             }
            },
            "type": "scattercarpet"
           }
          ],
          "scattergeo": [
           {
            "marker": {
             "colorbar": {
              "outlinewidth": 0,
              "ticks": ""
             }
            },
            "type": "scattergeo"
           }
          ],
          "scattergl": [
           {
            "marker": {
             "colorbar": {
              "outlinewidth": 0,
              "ticks": ""
             }
            },
            "type": "scattergl"
           }
          ],
          "scattermapbox": [
           {
            "marker": {
             "colorbar": {
              "outlinewidth": 0,
              "ticks": ""
             }
            },
            "type": "scattermapbox"
           }
          ],
          "scatterpolar": [
           {
            "marker": {
             "colorbar": {
              "outlinewidth": 0,
              "ticks": ""
             }
            },
            "type": "scatterpolar"
           }
          ],
          "scatterpolargl": [
           {
            "marker": {
             "colorbar": {
              "outlinewidth": 0,
              "ticks": ""
             }
            },
            "type": "scatterpolargl"
           }
          ],
          "scatterternary": [
           {
            "marker": {
             "colorbar": {
              "outlinewidth": 0,
              "ticks": ""
             }
            },
            "type": "scatterternary"
           }
          ],
          "surface": [
           {
            "colorbar": {
             "outlinewidth": 0,
             "ticks": ""
            },
            "colorscale": [
             [
              0,
              "#0d0887"
             ],
             [
              0.1111111111111111,
              "#46039f"
             ],
             [
              0.2222222222222222,
              "#7201a8"
             ],
             [
              0.3333333333333333,
              "#9c179e"
             ],
             [
              0.4444444444444444,
              "#bd3786"
             ],
             [
              0.5555555555555556,
              "#d8576b"
             ],
             [
              0.6666666666666666,
              "#ed7953"
             ],
             [
              0.7777777777777778,
              "#fb9f3a"
             ],
             [
              0.8888888888888888,
              "#fdca26"
             ],
             [
              1,
              "#f0f921"
             ]
            ],
            "type": "surface"
           }
          ],
          "table": [
           {
            "cells": {
             "fill": {
              "color": "#EBF0F8"
             },
             "line": {
              "color": "white"
             }
            },
            "header": {
             "fill": {
              "color": "#C8D4E3"
             },
             "line": {
              "color": "white"
             }
            },
            "type": "table"
           }
          ]
         },
         "layout": {
          "annotationdefaults": {
           "arrowcolor": "#2a3f5f",
           "arrowhead": 0,
           "arrowwidth": 1
          },
          "autotypenumbers": "strict",
          "coloraxis": {
           "colorbar": {
            "outlinewidth": 0,
            "ticks": ""
           }
          },
          "colorscale": {
           "diverging": [
            [
             0,
             "#8e0152"
            ],
            [
             0.1,
             "#c51b7d"
            ],
            [
             0.2,
             "#de77ae"
            ],
            [
             0.3,
             "#f1b6da"
            ],
            [
             0.4,
             "#fde0ef"
            ],
            [
             0.5,
             "#f7f7f7"
            ],
            [
             0.6,
             "#e6f5d0"
            ],
            [
             0.7,
             "#b8e186"
            ],
            [
             0.8,
             "#7fbc41"
            ],
            [
             0.9,
             "#4d9221"
            ],
            [
             1,
             "#276419"
            ]
           ],
           "sequential": [
            [
             0,
             "#0d0887"
            ],
            [
             0.1111111111111111,
             "#46039f"
            ],
            [
             0.2222222222222222,
             "#7201a8"
            ],
            [
             0.3333333333333333,
             "#9c179e"
            ],
            [
             0.4444444444444444,
             "#bd3786"
            ],
            [
             0.5555555555555556,
             "#d8576b"
            ],
            [
             0.6666666666666666,
             "#ed7953"
            ],
            [
             0.7777777777777778,
             "#fb9f3a"
            ],
            [
             0.8888888888888888,
             "#fdca26"
            ],
            [
             1,
             "#f0f921"
            ]
           ],
           "sequentialminus": [
            [
             0,
             "#0d0887"
            ],
            [
             0.1111111111111111,
             "#46039f"
            ],
            [
             0.2222222222222222,
             "#7201a8"
            ],
            [
             0.3333333333333333,
             "#9c179e"
            ],
            [
             0.4444444444444444,
             "#bd3786"
            ],
            [
             0.5555555555555556,
             "#d8576b"
            ],
            [
             0.6666666666666666,
             "#ed7953"
            ],
            [
             0.7777777777777778,
             "#fb9f3a"
            ],
            [
             0.8888888888888888,
             "#fdca26"
            ],
            [
             1,
             "#f0f921"
            ]
           ]
          },
          "colorway": [
           "#636efa",
           "#EF553B",
           "#00cc96",
           "#ab63fa",
           "#FFA15A",
           "#19d3f3",
           "#FF6692",
           "#B6E880",
           "#FF97FF",
           "#FECB52"
          ],
          "font": {
           "color": "#2a3f5f"
          },
          "geo": {
           "bgcolor": "white",
           "lakecolor": "white",
           "landcolor": "#E5ECF6",
           "showlakes": true,
           "showland": true,
           "subunitcolor": "white"
          },
          "hoverlabel": {
           "align": "left"
          },
          "hovermode": "closest",
          "mapbox": {
           "style": "light"
          },
          "paper_bgcolor": "white",
          "plot_bgcolor": "#E5ECF6",
          "polar": {
           "angularaxis": {
            "gridcolor": "white",
            "linecolor": "white",
            "ticks": ""
           },
           "bgcolor": "#E5ECF6",
           "radialaxis": {
            "gridcolor": "white",
            "linecolor": "white",
            "ticks": ""
           }
          },
          "scene": {
           "xaxis": {
            "backgroundcolor": "#E5ECF6",
            "gridcolor": "white",
            "gridwidth": 2,
            "linecolor": "white",
            "showbackground": true,
            "ticks": "",
            "zerolinecolor": "white"
           },
           "yaxis": {
            "backgroundcolor": "#E5ECF6",
            "gridcolor": "white",
            "gridwidth": 2,
            "linecolor": "white",
            "showbackground": true,
            "ticks": "",
            "zerolinecolor": "white"
           },
           "zaxis": {
            "backgroundcolor": "#E5ECF6",
            "gridcolor": "white",
            "gridwidth": 2,
            "linecolor": "white",
            "showbackground": true,
            "ticks": "",
            "zerolinecolor": "white"
           }
          },
          "shapedefaults": {
           "line": {
            "color": "#2a3f5f"
           }
          },
          "ternary": {
           "aaxis": {
            "gridcolor": "white",
            "linecolor": "white",
            "ticks": ""
           },
           "baxis": {
            "gridcolor": "white",
            "linecolor": "white",
            "ticks": ""
           },
           "bgcolor": "#E5ECF6",
           "caxis": {
            "gridcolor": "white",
            "linecolor": "white",
            "ticks": ""
           }
          },
          "title": {
           "x": 0.05
          },
          "xaxis": {
           "automargin": true,
           "gridcolor": "white",
           "linecolor": "white",
           "ticks": "",
           "title": {
            "standoff": 15
           },
           "zerolinecolor": "white",
           "zerolinewidth": 2
          },
          "yaxis": {
           "automargin": true,
           "gridcolor": "white",
           "linecolor": "white",
           "ticks": "",
           "title": {
            "standoff": 15
           },
           "zerolinecolor": "white",
           "zerolinewidth": 2
          }
         }
        },
        "title": {
         "text": "Meals"
        },
        "xaxis": {
         "anchor": "y",
         "autorange": true,
         "domain": [
          0,
          1
         ],
         "range": [
          -4.543446244477172,
          94.54344624447717
         ],
         "title": {
          "text": "AVG(`carbon point`)"
         },
         "type": "linear"
        },
        "yaxis": {
         "anchor": "x",
         "autorange": true,
         "domain": [
          0,
          1
         ],
         "range": [
          6.776315789473684,
          48.223684210526315
         ],
         "title": {
          "text": "AVG (time)"
         },
         "type": "linear"
        }
       }
      },
      "image/png": "[encoded data removed]",
      "text/html": [
       "<div>                            <div id=\"892ba436-4b17-4d60-9399-47cba1018b1d\" class=\"plotly-graph-div\" style=\"height:525px; width:100%;\"></div>            <script type=\"text/javascript\">                require([\"plotly\"], function(Plotly) {                    window.PLOTLYENV=window.PLOTLYENV || {};                                    if (document.getElementById(\"892ba436-4b17-4d60-9399-47cba1018b1d\")) {                    Plotly.newPlot(                        \"892ba436-4b17-4d60-9399-47cba1018b1d\",                        [{\"hovertemplate\":\"<b>%{hovertext}</b><br><br>Calc_Meal=Fish<br>AVG(`carbon point`)=%{x}<br>AVG (time)=%{y}<extra></extra>\",\"hovertext\":[\"Russian salad\",\"baked fish\",\"baked hake\",\"baked salmon\",\"battered hake\",\"croquettes\",\"fish stew\",\"fried rooster\",\"gilt-head bream\",\"grilled sea bass\",\"hake\",\"hake with mashed potatoes\",\"mixed salad\",\"paella with squid\",\"peas with fish\",\"sea bass\",\"swordfish\",\"tuna\"],\"legendgroup\":\"Fish\",\"marker\":{\"color\":\"#636efa\",\"symbol\":\"circle\",\"opacity\":0.6,\"size\":8},\"mode\":\"markers\",\"name\":\"Fish\",\"orientation\":\"v\",\"showlegend\":true,\"x\":[8.0,8.0,8.0,8.0,8.0,8.0,8.0,8.0,8.0,8.0,8.0,8.0,21.0,34.0,8.0,8.0,8.0,8.0],\"xaxis\":\"x\",\"y\":[35.0,30.0,30.0,30.0,20.0,45.0,45.0,15.0,15.0,25.0,30.0,30.0,15.0,25.0,30.0,30.0,15.0,20.0],\"yaxis\":\"y\",\"type\":\"scatter\"},{\"hovertemplate\":\"<b>%{hovertext}</b><br><br>Calc_Meal=Pork<br>AVG(`carbon point`)=%{x}<br>AVG (time)=%{y}<extra></extra>\",\"hovertext\":[\"Saxon loin\",\"broccoli with ham\",\"carbonara macaroni\",\"carbonara pasta\",\"loin\",\"loin fillet\",\"macaroni\",\"marinated pork loin\",\"peas with ham\",\"pizza\",\"pork fillet\",\"pork tenderloin\",\"sausages\",\"spaghetti carbonara\",\"stroganoff tenderloin\"],\"legendgroup\":\"Pork\",\"marker\":{\"color\":\"#EF553B\",\"symbol\":\"circle\",\"opacity\":0.6,\"size\":8},\"mode\":\"markers\",\"name\":\"Pork\",\"orientation\":\"v\",\"showlegend\":true,\"x\":[13.0,13.0,13.0,13.0,13.0,89.0,13.0,13.0,13.0,21.0,13.0,13.0,13.0,13.0,13.0],\"xaxis\":\"x\",\"y\":[15.0,15.0,30.0,20.0,15.0,15.0,25.0,15.0,15.0,30.0,15.0,15.0,15.0,30.0,30.0],\"yaxis\":\"y\",\"type\":\"scatter\"},{\"hovertemplate\":\"<b>%{hovertext}</b><br><br>Calc_Meal=Chicken<br>AVG(`carbon point`)=%{x}<br>AVG (time)=%{y}<extra></extra>\",\"hovertext\":[\"Soup\",\"butterfly chicken\",\"chicken and turnip greens\",\"chicken fillet\",\"chicken soup\",\"green beans with chicken\",\"pasta soup\",\"roast chicken\",\"turkey fillet\"],\"legendgroup\":\"Chicken\",\"marker\":{\"color\":\"#00cc96\",\"symbol\":\"circle\",\"opacity\":0.6,\"size\":8},\"mode\":\"markers\",\"name\":\"Chicken\",\"orientation\":\"v\",\"showlegend\":true,\"x\":[5.0,5.0,5.0,5.0,5.0,5.0,5.0,5.0,5.0],\"xaxis\":\"x\",\"y\":[25.0,30.0,30.0,15.0,25.0,20.0,25.0,45.0,15.0],\"yaxis\":\"y\",\"type\":\"scatter\"},{\"hovertemplate\":\"<b>%{hovertext}</b><br><br>Calc_Meal=Vegetable<br>AVG(`carbon point`)=%{x}<br>AVG (time)=%{y}<extra></extra>\",\"hovertext\":[\"baked eggplant and zucchini\",\"boiled potato\",\"broccoli with garlic sauce\",\"broccoli with potato\",\"chard with potatoes\",\"chickpea salad\",\"chickpea stew\",\"chickpeas\",\"chickpeas with spinach\",\"french fries\",\"fried potato\",\"garlic mushrooms\",\"gazpacho\",\"green beans\",\"green beans with garlic sauce\",\"green beans with potato\",\"grilled asparagus\",\"grilled zucchini\",\"kale with fried potatoes\",\"large beans\",\"leftover mushrooms\",\"lentils\",\"pea puree\",\"peas with onion\",\"peas with potato\",\"refried beans\",\"rice\",\"rice with tomato\",\"salad\",\"sauteed cauliflower\",\"sauteed spinach\",\"sauteed vegetables\",\"spaghetti with garlic mushrooms\",\"spinach mashed potatoes\",\"spinach stew\",\"stewed vegetables\",\"stir-fried green beans\",\"tomato\",\"tomato sauce\",\"turnip greens with potato\"],\"legendgroup\":\"Vegetable\",\"marker\":{\"color\":\"#ab63fa\",\"symbol\":\"circle\",\"opacity\":0.6,\"size\":8},\"mode\":\"markers\",\"name\":\"Vegetable\",\"orientation\":\"v\",\"showlegend\":true,\"x\":[1.0,1.0,1.0,1.0,1.0,1.0,1.0,1.0,1.0,1.0,1.0,1.0,1.0,1.0,1.0,1.0,1.0,1.0,1.0,1.0,1.0,1.0,1.0,1.0,1.0,1.0,1.0,1.0,1.0,1.0,1.0,1.0,1.0,1.0,1.0,1.0,1.0,1.0,1.0,1.0],\"xaxis\":\"x\",\"y\":[45.0,20.5,25.0,35.0,30.0,25.0,30.0,30.0,30.0,25.0,25.0,20.0,15.0,20.0,20.0,30.0,15.0,15.0,25.0,20.0,15.0,45.0,20.0,15.0,30.0,38.333333333333336,15.0,25.0,15.0,15.0,15.0,15.0,20.0,20.0,35.0,15.0,20.0,10.0,15.0,30.0],\"yaxis\":\"y\",\"type\":\"scatter\"},{\"hovertemplate\":\"<b>%{hovertext}</b><br><br>Calc_Meal=beef<br>AVG(`carbon point`)=%{x}<br>AVG (time)=%{y}<extra></extra>\",\"hovertext\":[\"beef fillet\",\"breaded fillet\",\"broccoli with meat\",\"eggplant bolognese\",\"ground/minced meat\",\"meat\",\"roast beef\",\"spaghetti bolognese\",\"steak\"],\"legendgroup\":\"beef\",\"marker\":{\"color\":\"#FFA15A\",\"symbol\":\"circle\",\"opacity\":0.6,\"size\":8},\"mode\":\"markers\",\"name\":\"beef\",\"orientation\":\"v\",\"showlegend\":true,\"x\":[89.0,89.0,89.0,89.0,89.0,89.0,89.0,89.0,89.0],\"xaxis\":\"x\",\"y\":[20.0,19.375,30.0,45.0,20.0,15.0,45.0,45.0,20.0],\"yaxis\":\"y\",\"type\":\"scatter\"},{\"hovertemplate\":\"<b>%{hovertext}</b><br><br>Calc_Meal=Egg<br>AVG(`carbon point`)=%{x}<br>AVG (time)=%{y}<extra></extra>\",\"hovertext\":[\"boiled egg\",\"boiled eggs\",\"broccoli with fried egg\",\"egg\",\"fried egg\",\"green beans with fried egg\",\"peas with fried egg\",\"potato omelette\"],\"legendgroup\":\"Egg\",\"marker\":{\"color\":\"#19d3f3\",\"symbol\":\"circle\",\"opacity\":0.6,\"size\":8},\"mode\":\"markers\",\"name\":\"Egg\",\"orientation\":\"v\",\"showlegend\":true,\"x\":[3.0,3.0,1.0,3.0,3.0,3.0,3.0,3.0],\"xaxis\":\"x\",\"y\":[15.0,20.0,15.0,15.0,10.0,20.0,15.0,30.0],\"yaxis\":\"y\",\"type\":\"scatter\"},{\"hovertemplate\":\"<b>%{hovertext}</b><br><br>Calc_Meal=Non-meat/wDairy<br>AVG(`carbon point`)=%{x}<br>AVG (time)=%{y}<extra></extra>\",\"hovertext\":[\"carrot cream\",\"cream\",\"fava bean cream\",\"leek cream\",\"pasta salad\",\"pumpkin cream\",\"quesadillas\",\"zucchini cream\"],\"legendgroup\":\"Non-meat/wDairy\",\"marker\":{\"color\":\"#FF6692\",\"symbol\":\"circle\",\"opacity\":0.6,\"size\":8},\"mode\":\"markers\",\"name\":\"Non-meat/wDairy\",\"orientation\":\"v\",\"showlegend\":true,\"x\":[2.0,2.0,2.0,2.0,21.0,2.0,21.0,2.0],\"xaxis\":\"x\",\"y\":[20.0,20.0,20.0,20.0,15.0,20.0,10.0,20.0],\"yaxis\":\"y\",\"type\":\"scatter\"}],                        {\"template\":{\"data\":{\"histogram2dcontour\":[{\"type\":\"histogram2dcontour\",\"colorbar\":{\"outlinewidth\":0,\"ticks\":\"\"},\"colorscale\":[[0.0,\"#0d0887\"],[0.1111111111111111,\"#46039f\"],[0.2222222222222222,\"#7201a8\"],[0.3333333333333333,\"#9c179e\"],[0.4444444444444444,\"#bd3786\"],[0.5555555555555556,\"#d8576b\"],[0.6666666666666666,\"#ed7953\"],[0.7777777777777778,\"#fb9f3a\"],[0.8888888888888888,\"#fdca26\"],[1.0,\"#f0f921\"]]}],\"choropleth\":[{\"type\":\"choropleth\",\"colorbar\":{\"outlinewidth\":0,\"ticks\":\"\"}}],\"histogram2d\":[{\"type\":\"histogram2d\",\"colorbar\":{\"outlinewidth\":0,\"ticks\":\"\"},\"colorscale\":[[0.0,\"#0d0887\"],[0.1111111111111111,\"#46039f\"],[0.2222222222222222,\"#7201a8\"],[0.3333333333333333,\"#9c179e\"],[0.4444444444444444,\"#bd3786\"],[0.5555555555555556,\"#d8576b\"],[0.6666666666666666,\"#ed7953\"],[0.7777777777777778,\"#fb9f3a\"],[0.8888888888888888,\"#fdca26\"],[1.0,\"#f0f921\"]]}],\"heatmap\":[{\"type\":\"heatmap\",\"colorbar\":{\"outlinewidth\":0,\"ticks\":\"\"},\"colorscale\":[[0.0,\"#0d0887\"],[0.1111111111111111,\"#46039f\"],[0.2222222222222222,\"#7201a8\"],[0.3333333333333333,\"#9c179e\"],[0.4444444444444444,\"#bd3786\"],[0.5555555555555556,\"#d8576b\"],[0.6666666666666666,\"#ed7953\"],[0.7777777777777778,\"#fb9f3a\"],[0.8888888888888888,\"#fdca26\"],[1.0,\"#f0f921\"]]}],\"heatmapgl\":[{\"type\":\"heatmapgl\",\"colorbar\":{\"outlinewidth\":0,\"ticks\":\"\"},\"colorscale\":[[0.0,\"#0d0887\"],[0.1111111111111111,\"#46039f\"],[0.2222222222222222,\"#7201a8\"],[0.3333333333333333,\"#9c179e\"],[0.4444444444444444,\"#bd3786\"],[0.5555555555555556,\"#d8576b\"],[0.6666666666666666,\"#ed7953\"],[0.7777777777777778,\"#fb9f3a\"],[0.8888888888888888,\"#fdca26\"],[1.0,\"#f0f921\"]]}],\"contourcarpet\":[{\"type\":\"contourcarpet\",\"colorbar\":{\"outlinewidth\":0,\"ticks\":\"\"}}],\"contour\":[{\"type\":\"contour\",\"colorbar\":{\"outlinewidth\":0,\"ticks\":\"\"},\"colorscale\":[[0.0,\"#0d0887\"],[0.1111111111111111,\"#46039f\"],[0.2222222222222222,\"#7201a8\"],[0.3333333333333333,\"#9c179e\"],[0.4444444444444444,\"#bd3786\"],[0.5555555555555556,\"#d8576b\"],[0.6666666666666666,\"#ed7953\"],[0.7777777777777778,\"#fb9f3a\"],[0.8888888888888888,\"#fdca26\"],[1.0,\"#f0f921\"]]}],\"surface\":[{\"type\":\"surface\",\"colorbar\":{\"outlinewidth\":0,\"ticks\":\"\"},\"colorscale\":[[0.0,\"#0d0887\"],[0.1111111111111111,\"#46039f\"],[0.2222222222222222,\"#7201a8\"],[0.3333333333333333,\"#9c179e\"],[0.4444444444444444,\"#bd3786\"],[0.5555555555555556,\"#d8576b\"],[0.6666666666666666,\"#ed7953\"],[0.7777777777777778,\"#fb9f3a\"],[0.8888888888888888,\"#fdca26\"],[1.0,\"#f0f921\"]]}],\"mesh3d\":[{\"type\":\"mesh3d\",\"colorbar\":{\"outlinewidth\":0,\"ticks\":\"\"}}],\"scatter\":[{\"fillpattern\":{\"fillmode\":\"overlay\",\"size\":10,\"solidity\":0.2},\"type\":\"scatter\"}],\"parcoords\":[{\"type\":\"parcoords\",\"line\":{\"colorbar\":{\"outlinewidth\":0,\"ticks\":\"\"}}}],\"scatterpolargl\":[{\"type\":\"scatterpolargl\",\"marker\":{\"colorbar\":{\"outlinewidth\":0,\"ticks\":\"\"}}}],\"bar\":[{\"error_x\":{\"color\":\"#2a3f5f\"},\"error_y\":{\"color\":\"#2a3f5f\"},\"marker\":{\"line\":{\"color\":\"#E5ECF6\",\"width\":0.5},\"pattern\":{\"fillmode\":\"overlay\",\"size\":10,\"solidity\":0.2}},\"type\":\"bar\"}],\"scattergeo\":[{\"type\":\"scattergeo\",\"marker\":{\"colorbar\":{\"outlinewidth\":0,\"ticks\":\"\"}}}],\"scatterpolar\":[{\"type\":\"scatterpolar\",\"marker\":{\"colorbar\":{\"outlinewidth\":0,\"ticks\":\"\"}}}],\"histogram\":[{\"marker\":{\"pattern\":{\"fillmode\":\"overlay\",\"size\":10,\"solidity\":0.2}},\"type\":\"histogram\"}],\"scattergl\":[{\"type\":\"scattergl\",\"marker\":{\"colorbar\":{\"outlinewidth\":0,\"ticks\":\"\"}}}],\"scatter3d\":[{\"type\":\"scatter3d\",\"line\":{\"colorbar\":{\"outlinewidth\":0,\"ticks\":\"\"}},\"marker\":{\"colorbar\":{\"outlinewidth\":0,\"ticks\":\"\"}}}],\"scattermapbox\":[{\"type\":\"scattermapbox\",\"marker\":{\"colorbar\":{\"outlinewidth\":0,\"ticks\":\"\"}}}],\"scatterternary\":[{\"type\":\"scatterternary\",\"marker\":{\"colorbar\":{\"outlinewidth\":0,\"ticks\":\"\"}}}],\"scattercarpet\":[{\"type\":\"scattercarpet\",\"marker\":{\"colorbar\":{\"outlinewidth\":0,\"ticks\":\"\"}}}],\"carpet\":[{\"aaxis\":{\"endlinecolor\":\"#2a3f5f\",\"gridcolor\":\"white\",\"linecolor\":\"white\",\"minorgridcolor\":\"white\",\"startlinecolor\":\"#2a3f5f\"},\"baxis\":{\"endlinecolor\":\"#2a3f5f\",\"gridcolor\":\"white\",\"linecolor\":\"white\",\"minorgridcolor\":\"white\",\"startlinecolor\":\"#2a3f5f\"},\"type\":\"carpet\"}],\"table\":[{\"cells\":{\"fill\":{\"color\":\"#EBF0F8\"},\"line\":{\"color\":\"white\"}},\"header\":{\"fill\":{\"color\":\"#C8D4E3\"},\"line\":{\"color\":\"white\"}},\"type\":\"table\"}],\"barpolar\":[{\"marker\":{\"line\":{\"color\":\"#E5ECF6\",\"width\":0.5},\"pattern\":{\"fillmode\":\"overlay\",\"size\":10,\"solidity\":0.2}},\"type\":\"barpolar\"}],\"pie\":[{\"automargin\":true,\"type\":\"pie\"}]},\"layout\":{\"autotypenumbers\":\"strict\",\"colorway\":[\"#636efa\",\"#EF553B\",\"#00cc96\",\"#ab63fa\",\"#FFA15A\",\"#19d3f3\",\"#FF6692\",\"#B6E880\",\"#FF97FF\",\"#FECB52\"],\"font\":{\"color\":\"#2a3f5f\"},\"hovermode\":\"closest\",\"hoverlabel\":{\"align\":\"left\"},\"paper_bgcolor\":\"white\",\"plot_bgcolor\":\"#E5ECF6\",\"polar\":{\"bgcolor\":\"#E5ECF6\",\"angularaxis\":{\"gridcolor\":\"white\",\"linecolor\":\"white\",\"ticks\":\"\"},\"radialaxis\":{\"gridcolor\":\"white\",\"linecolor\":\"white\",\"ticks\":\"\"}},\"ternary\":{\"bgcolor\":\"#E5ECF6\",\"aaxis\":{\"gridcolor\":\"white\",\"linecolor\":\"white\",\"ticks\":\"\"},\"baxis\":{\"gridcolor\":\"white\",\"linecolor\":\"white\",\"ticks\":\"\"},\"caxis\":{\"gridcolor\":\"white\",\"linecolor\":\"white\",\"ticks\":\"\"}},\"coloraxis\":{\"colorbar\":{\"outlinewidth\":0,\"ticks\":\"\"}},\"colorscale\":{\"sequential\":[[0.0,\"#0d0887\"],[0.1111111111111111,\"#46039f\"],[0.2222222222222222,\"#7201a8\"],[0.3333333333333333,\"#9c179e\"],[0.4444444444444444,\"#bd3786\"],[0.5555555555555556,\"#d8576b\"],[0.6666666666666666,\"#ed7953\"],[0.7777777777777778,\"#fb9f3a\"],[0.8888888888888888,\"#fdca26\"],[1.0,\"#f0f921\"]],\"sequentialminus\":[[0.0,\"#0d0887\"],[0.1111111111111111,\"#46039f\"],[0.2222222222222222,\"#7201a8\"],[0.3333333333333333,\"#9c179e\"],[0.4444444444444444,\"#bd3786\"],[0.5555555555555556,\"#d8576b\"],[0.6666666666666666,\"#ed7953\"],[0.7777777777777778,\"#fb9f3a\"],[0.8888888888888888,\"#fdca26\"],[1.0,\"#f0f921\"]],\"diverging\":[[0,\"#8e0152\"],[0.1,\"#c51b7d\"],[0.2,\"#de77ae\"],[0.3,\"#f1b6da\"],[0.4,\"#fde0ef\"],[0.5,\"#f7f7f7\"],[0.6,\"#e6f5d0\"],[0.7,\"#b8e186\"],[0.8,\"#7fbc41\"],[0.9,\"#4d9221\"],[1,\"#276419\"]]},\"xaxis\":{\"gridcolor\":\"white\",\"linecolor\":\"white\",\"ticks\":\"\",\"title\":{\"standoff\":15},\"zerolinecolor\":\"white\",\"automargin\":true,\"zerolinewidth\":2},\"yaxis\":{\"gridcolor\":\"white\",\"linecolor\":\"white\",\"ticks\":\"\",\"title\":{\"standoff\":15},\"zerolinecolor\":\"white\",\"automargin\":true,\"zerolinewidth\":2},\"scene\":{\"xaxis\":{\"backgroundcolor\":\"#E5ECF6\",\"gridcolor\":\"white\",\"linecolor\":\"white\",\"showbackground\":true,\"ticks\":\"\",\"zerolinecolor\":\"white\",\"gridwidth\":2},\"yaxis\":{\"backgroundcolor\":\"#E5ECF6\",\"gridcolor\":\"white\",\"linecolor\":\"white\",\"showbackground\":true,\"ticks\":\"\",\"zerolinecolor\":\"white\",\"gridwidth\":2},\"zaxis\":{\"backgroundcolor\":\"#E5ECF6\",\"gridcolor\":\"white\",\"linecolor\":\"white\",\"showbackground\":true,\"ticks\":\"\",\"zerolinecolor\":\"white\",\"gridwidth\":2}},\"shapedefaults\":{\"line\":{\"color\":\"#2a3f5f\"}},\"annotationdefaults\":{\"arrowcolor\":\"#2a3f5f\",\"arrowhead\":0,\"arrowwidth\":1},\"geo\":{\"bgcolor\":\"white\",\"landcolor\":\"#E5ECF6\",\"subunitcolor\":\"white\",\"showland\":true,\"showlakes\":true,\"lakecolor\":\"white\"},\"title\":{\"x\":0.05},\"mapbox\":{\"style\":\"light\"}}},\"xaxis\":{\"anchor\":\"y\",\"domain\":[0.0,1.0],\"title\":{\"text\":\"AVG(`carbon point`)\"}},\"yaxis\":{\"anchor\":\"x\",\"domain\":[0.0,1.0],\"title\":{\"text\":\"AVG (time)\"}},\"legend\":{\"title\":{\"text\":\"Calc_Meal\"},\"tracegroupgap\":0},\"title\":{\"text\":\"Meals\"}},                        {\"responsive\": true}                    ).then(function(){\n",
       "                            \n",
       "var gd = document.getElementById('892ba436-4b17-4d60-9399-47cba1018b1d');\n",
       "var x = new MutationObserver(function (mutations, observer) {{\n",
       "        var display = window.getComputedStyle(gd).display;\n",
       "        if (!display || display === 'none') {{\n",
       "            console.log([gd, 'removed!']);\n",
       "            Plotly.purge(gd);\n",
       "            observer.disconnect();\n",
       "        }}\n",
       "}});\n",
       "\n",
       "// Listen for the removal of the full notebook cells\n",
       "var notebookContainer = gd.closest('#notebook-container');\n",
       "if (notebookContainer) {{\n",
       "    x.observe(notebookContainer, {childList: true});\n",
       "}}\n",
       "\n",
       "// Listen for the clearing of the current output cell\n",
       "var outputEl = gd.closest('.output');\n",
       "if (outputEl) {{\n",
       "    x.observe(outputEl, {childList: true});\n",
       "}}\n",
       "\n",
       "                        })                };                });            </script>        </div>"
      ]
     },
     "metadata": {},
     "output_type": "display_data"
    }
   ],
   "source": [
    "import plotly.express as px\n",
    "\n",
    "# Interactive plot with Plotly\n",
    "fig = px.scatter(result_df4, x='AVG(`carbon point`)', y='AVG (time)', color='Calc_Meal', hover_name='meal',\n",
    "                 title='Meals')\n",
    "fig.update_traces(marker=dict(size=8, opacity=0.6))\n",
    "fig.show()"
   ]
  },
  {
   "cell_type": "code",
   "execution_count": 12,
   "id": "aae4f92a-6e52-4759-b213-1f8a678cde20",
   "metadata": {},
   "outputs": [
    {
     "data": {
      "text/html": [
       "<div>\n",
       "<style scoped>\n",
       "    .dataframe tbody tr th:only-of-type {\n",
       "        vertical-align: middle;\n",
       "    }\n",
       "\n",
       "    .dataframe tbody tr th {\n",
       "        vertical-align: top;\n",
       "    }\n",
       "\n",
       "    .dataframe thead th {\n",
       "        text-align: right;\n",
       "    }\n",
       "</style>\n",
       "<table border=\"1\" class=\"dataframe\">\n",
       "  <thead>\n",
       "    <tr style=\"text-align: right;\">\n",
       "      <th></th>\n",
       "      <th>Calc_Meal</th>\n",
       "      <th>AVG(`carbon point`)</th>\n",
       "      <th>AVG (time)</th>\n",
       "      <th>COUNT (meal)</th>\n",
       "    </tr>\n",
       "  </thead>\n",
       "  <tbody>\n",
       "    <tr>\n",
       "      <th>0</th>\n",
       "      <td>None</td>\n",
       "      <td>0.000000</td>\n",
       "      <td>0.000000</td>\n",
       "      <td>7</td>\n",
       "    </tr>\n",
       "    <tr>\n",
       "      <th>1</th>\n",
       "      <td>Chicken</td>\n",
       "      <td>5.000000</td>\n",
       "      <td>25.298507</td>\n",
       "      <td>67</td>\n",
       "    </tr>\n",
       "    <tr>\n",
       "      <th>2</th>\n",
       "      <td>Egg</td>\n",
       "      <td>2.950000</td>\n",
       "      <td>21.750000</td>\n",
       "      <td>40</td>\n",
       "    </tr>\n",
       "    <tr>\n",
       "      <th>3</th>\n",
       "      <td>Fish</td>\n",
       "      <td>9.793103</td>\n",
       "      <td>30.632184</td>\n",
       "      <td>87</td>\n",
       "    </tr>\n",
       "    <tr>\n",
       "      <th>4</th>\n",
       "      <td>Non-meat/wDairy</td>\n",
       "      <td>2.940594</td>\n",
       "      <td>19.554455</td>\n",
       "      <td>101</td>\n",
       "    </tr>\n",
       "    <tr>\n",
       "      <th>5</th>\n",
       "      <td>Pork</td>\n",
       "      <td>15.000000</td>\n",
       "      <td>17.142857</td>\n",
       "      <td>42</td>\n",
       "    </tr>\n",
       "    <tr>\n",
       "      <th>6</th>\n",
       "      <td>Vegetable</td>\n",
       "      <td>1.000000</td>\n",
       "      <td>21.280488</td>\n",
       "      <td>246</td>\n",
       "    </tr>\n",
       "    <tr>\n",
       "      <th>7</th>\n",
       "      <td>beef</td>\n",
       "      <td>89.000000</td>\n",
       "      <td>30.000000</td>\n",
       "      <td>46</td>\n",
       "    </tr>\n",
       "  </tbody>\n",
       "</table>\n",
       "</div>"
      ],
      "text/plain": [
       "         Calc_Meal  AVG(`carbon point`)  AVG (time)  COUNT (meal)\n",
       "0             None             0.000000    0.000000             7\n",
       "1          Chicken             5.000000   25.298507            67\n",
       "2              Egg             2.950000   21.750000            40\n",
       "3             Fish             9.793103   30.632184            87\n",
       "4  Non-meat/wDairy             2.940594   19.554455           101\n",
       "5             Pork            15.000000   17.142857            42\n",
       "6        Vegetable             1.000000   21.280488           246\n",
       "7             beef            89.000000   30.000000            46"
      ]
     },
     "execution_count": 12,
     "metadata": {},
     "output_type": "execute_result"
    }
   ],
   "source": [
    "# Convert the 'weekday' column to a categorical type with the specified order\n",
    "result_df3['quarter'] = pd.Categorical(result_df3['quarter'])\n",
    "\n",
    "# Define the SQL query\n",
    "query = '''\n",
    "SELECT calc_meal ,AVG(`carbon point`), AVG (time), COUNT (meal)\n",
    "FROM df\n",
    "GROUP BY calc_meal\n",
    "'''\n",
    "\n",
    "# Execute the query\n",
    "result_df5 = psql.sqldf(query, locals())\n",
    "\n",
    "# Display the results\n",
    "result_df5"
   ]
  },
  {
   "cell_type": "code",
   "execution_count": 13,
   "id": "1c632e6c-070e-45aa-b768-4838e70aa431",
   "metadata": {},
   "outputs": [
    {
     "data": {
      "image/png": "[encoded data removed]",
      "text/plain": [
       "<Figure size 1000x600 with 1 Axes>"
      ]
     },
     "metadata": {},
     "output_type": "display_data"
    }
   ],
   "source": [
    "# Create the scatter plot\n",
    "plt.figure(figsize=(10, 6))\n",
    "scatter = sns.scatterplot(data=result_df5, x='AVG(`carbon point`)', y='AVG (time)', size='COUNT (meal)', hue='Calc_Meal', palette='deep', sizes=(100, 500))\n",
    "\n",
    "# Add titles and labels\n",
    "plt.title('Scatter Plot')\n",
    "plt.xlabel('X Axis')\n",
    "plt.ylabel('Y Axis')\n",
    "\n",
    "# Show the plot\n",
    "plt.show()"
   ]
  },
  {
   "cell_type": "code",
   "execution_count": 100,
   "id": "aef65931-f0bc-4928-b05f-5ff950e20f0f",
   "metadata": {},
   "outputs": [
    {
     "data": {
      "text/html": [
       "<div>\n",
       "<style scoped>\n",
       "    .dataframe tbody tr th:only-of-type {\n",
       "        vertical-align: middle;\n",
       "    }\n",
       "\n",
       "    .dataframe tbody tr th {\n",
       "        vertical-align: top;\n",
       "    }\n",
       "\n",
       "    .dataframe thead th {\n",
       "        text-align: right;\n",
       "    }\n",
       "</style>\n",
       "<table border=\"1\" class=\"dataframe\">\n",
       "  <thead>\n",
       "    <tr style=\"text-align: right;\">\n",
       "      <th></th>\n",
       "      <th>quarter</th>\n",
       "      <th>week</th>\n",
       "      <th>num_calories</th>\n",
       "      <th>avg_calories_per_quarter</th>\n",
       "    </tr>\n",
       "  </thead>\n",
       "  <tbody>\n",
       "    <tr>\n",
       "      <th>0</th>\n",
       "      <td>2023-03-31</td>\n",
       "      <td>3</td>\n",
       "      <td>465.0</td>\n",
       "      <td>500.555556</td>\n",
       "    </tr>\n",
       "    <tr>\n",
       "      <th>1</th>\n",
       "      <td>2023-03-31</td>\n",
       "      <td>4</td>\n",
       "      <td>500.0</td>\n",
       "      <td>500.555556</td>\n",
       "    </tr>\n",
       "    <tr>\n",
       "      <th>2</th>\n",
       "      <td>2023-03-31</td>\n",
       "      <td>5</td>\n",
       "      <td>405.0</td>\n",
       "      <td>500.555556</td>\n",
       "    </tr>\n",
       "    <tr>\n",
       "      <th>3</th>\n",
       "      <td>2023-03-31</td>\n",
       "      <td>6</td>\n",
       "      <td>635.0</td>\n",
       "      <td>500.555556</td>\n",
       "    </tr>\n",
       "    <tr>\n",
       "      <th>4</th>\n",
       "      <td>2023-03-31</td>\n",
       "      <td>7</td>\n",
       "      <td>415.0</td>\n",
       "      <td>500.555556</td>\n",
       "    </tr>\n",
       "  </tbody>\n",
       "</table>\n",
       "</div>"
      ],
      "text/plain": [
       "      quarter  week  num_calories  avg_calories_per_quarter\n",
       "0  2023-03-31     3         465.0                500.555556\n",
       "1  2023-03-31     4         500.0                500.555556\n",
       "2  2023-03-31     5         405.0                500.555556\n",
       "3  2023-03-31     6         635.0                500.555556\n",
       "4  2023-03-31     7         415.0                500.555556"
      ]
     },
     "execution_count": 100,
     "metadata": {},
     "output_type": "execute_result"
    }
   ],
   "source": [
    "df['week'] = df['date'].dt.isocalendar().week\n",
    "\n",
    "# Convert the 'weekday' column to a categorical type with the specified order\n",
    "result_df3['quarter'] = pd.Categorical(result_df3['quarter'])\n",
    "\n",
    "# Define the SQL query\n",
    "query = '''\n",
    "WITH weekly_calories AS (\n",
    "    SELECT\n",
    "        week,\n",
    "         SUM(`num calories`)/5 AS num_calories,\n",
    "        quarter\n",
    "    FROM df\n",
    "    GROUP BY week, quarter\n",
    "),\n",
    "quarterly_avg AS (\n",
    "    SELECT\n",
    "        quarter,\n",
    "        AVG(num_calories) AS avg_calories_per_quarter\n",
    "    FROM weekly_calories\n",
    "    GROUP BY quarter\n",
    ")\n",
    "SELECT\n",
    "q.quarter,\n",
    "    w.week,\n",
    "    w.num_calories,\n",
    "    q.avg_calories_per_quarter\n",
    "FROM weekly_calories w\n",
    "JOIN quarterly_avg q ON w.quarter = q.quarter;\n",
    "\n",
    "\n",
    "'''\n",
    "\n",
    "# Execute the query\n",
    "result_df6 = psql.sqldf(query, locals())\n",
    "\n",
    "# Display the results\n",
    "result_df6.head()"
   ]
  },
  {
   "cell_type": "code",
   "execution_count": 98,
   "id": "bf122c5d-46d8-42f2-bdfa-8fa9576cd3f5",
   "metadata": {},
   "outputs": [
    {
     "data": {
      "image/png": "[encoded data removed]",
      "text/plain": [
       "<Figure size 640x480 with 2 Axes>"
      ]
     },
     "metadata": {},
     "output_type": "display_data"
    }
   ],
   "source": [
    "# Create a figure and a set of subplots\n",
    "fig, ax1 = plt.subplots()\n",
    "\n",
    "# Map quarters to specific colors\n",
    "quarter_colors = {\n",
    "    '2023-03-31': 'tab:blue',\n",
    "    '2023-06-30': 'tab:orange',\n",
    "    '2023-09-30': 'tab:green',\n",
    "    '2023-12-31': 'tab:red'\n",
    "}\n",
    "colors = result_df6['quarter'].map(quarter_colors)\n",
    "\n",
    "# Plot the first y-axis (price) with dots\n",
    "ax1.set_xlabel('Week')\n",
    "ax1.set_ylabel('Calories per week', color='tab:blue')\n",
    "ax1.scatter(result_df6['week'], result_df6['num_calories'], color=colors, label='Price')\n",
    "ax1.tick_params(axis='y', labelcolor='tab:blue')\n",
    "\n",
    "# Create a second y-axis sharing the same x-axis\n",
    "ax2 = ax1.twinx()\n",
    "ax2.set_ylabel('Avg calories per quarter', color='tab:red')\n",
    "ax2.scatter(result_df6['week'], result_df6['avg_calories_per_quarter'], color=\"grey\", label='Weight')\n",
    "ax2.tick_params(axis='y', labelcolor='tab:red')\n",
    "\n",
    "# Set the same min and max for both y-axes\n",
    "min_y = min(result_df6['num_calories'].min(), result_df6['avg_calories_per_quarter'].min())\n",
    "max_y = max(result_df6['num_calories'].max(), result_df6['avg_calories_per_quarter'].max())\n",
    "ax1.set_ylim(min_y, max_y)\n",
    "ax2.set_ylim(min_y, max_y)\n",
    "\n",
    "# Add a legend to show the quarter colors\n",
    "handles = [plt.Line2D([0], [0], marker='o', color='w', markerfacecolor=col, markersize=10, label=quarter) \n",
    "           for quarter, col in quarter_colors.items()]\n",
    "ax1.legend(handles=handles, title='Quarter')\n",
    "\n",
    "# Add title and show plot\n",
    "plt.title('Price and Weight Over Time with Quarter-based Colors')\n",
    "fig.tight_layout()\n",
    "plt.show()"
   ]
  },
  {
   "cell_type": "code",
   "execution_count": 116,
   "id": "be0f2edb-fa9f-4552-b915-4a8ac87c471a",
   "metadata": {},
   "outputs": [
    {
     "data": {
      "application/vnd.plotly.v1+json": {
       "config": {
        "plotlyServerURL": "https://plot.ly"
       },
       "data": [
        {
         "hovertemplate": "<b>%{hovertext}</b><br><br>meal=Soup<br>weekday=%{x}<br>number_meals=%{y}<extra></extra>",
         "hovertext": [
          "Soup",
          "Soup",
          "Soup",
          "Soup",
          "Soup"
         ],
         "legendgroup": "Soup",
         "marker": {
          "color": "#636efa",
          "opacity": 0.6,
          "size": 8,
          "symbol": "circle"
         },
         "mode": "markers",
         "name": "Soup",
         "orientation": "v",
         "showlegend": true,
         "type": "scatter",
         "x": [
          "friday",
          "monday",
          "thursday",
          "tuesday",
          "wednesday"
         ],
         "xaxis": "x",
         "y": [
          5,
          4,
          4,
          5,
          2
         ],
         "yaxis": "y"
        },
        {
         "hovertemplate": "<b>%{hovertext}</b><br><br>meal=beef fillet<br>weekday=%{x}<br>number_meals=%{y}<extra></extra>",
         "hovertext": [
          "beef fillet",
          "beef fillet"
         ],
         "legendgroup": "beef fillet",
         "marker": {
          "color": "#EF553B",
          "opacity": 0.6,
          "size": 8,
          "symbol": "circle"
         },
         "mode": "markers",
         "name": "beef fillet",
         "orientation": "v",
         "showlegend": true,
         "type": "scatter",
         "x": [
          "friday",
          "thursday"
         ],
         "xaxis": "x",
         "y": [
          1,
          1
         ],
         "yaxis": "y"
        },
        {
         "hovertemplate": "<b>%{hovertext}</b><br><br>meal=broccoli with fried egg<br>weekday=%{x}<br>number_meals=%{y}<extra></extra>",
         "hovertext": [
          "broccoli with fried egg"
         ],
         "legendgroup": "broccoli with fried egg",
         "marker": {
          "color": "#00cc96",
          "opacity": 0.6,
          "size": 8,
          "symbol": "circle"
         },
         "mode": "markers",
         "name": "broccoli with fried egg",
         "orientation": "v",
         "showlegend": true,
         "type": "scatter",
         "x": [
          "friday"
         ],
         "xaxis": "x",
         "y": [
          1
         ],
         "yaxis": "y"
        },
        {
         "hovertemplate": "<b>%{hovertext}</b><br><br>meal=broccoli with meat<br>weekday=%{x}<br>number_meals=%{y}<extra></extra>",
         "hovertext": [
          "broccoli with meat",
          "broccoli with meat"
         ],
         "legendgroup": "broccoli with meat",
         "marker": {
          "color": "#ab63fa",
          "opacity": 0.6,
          "size": 8,
          "symbol": "circle"
         },
         "mode": "markers",
         "name": "broccoli with meat",
         "orientation": "v",
         "showlegend": true,
         "type": "scatter",
         "x": [
          "friday",
          "thursday"
         ],
         "xaxis": "x",
         "y": [
          1,
          1
         ],
         "yaxis": "y"
        },
        {
         "hovertemplate": "<b>%{hovertext}</b><br><br>meal=butterfly chicken<br>weekday=%{x}<br>number_meals=%{y}<extra></extra>",
         "hovertext": [
          "butterfly chicken",
          "butterfly chicken"
         ],
         "legendgroup": "butterfly chicken",
         "marker": {
          "color": "#FFA15A",
          "opacity": 0.6,
          "size": 8,
          "symbol": "circle"
         },
         "mode": "markers",
         "name": "butterfly chicken",
         "orientation": "v",
         "showlegend": true,
         "type": "scatter",
         "x": [
          "friday",
          "thursday"
         ],
         "xaxis": "x",
         "y": [
          1,
          1
         ],
         "yaxis": "y"
        },
        {
         "hovertemplate": "<b>%{hovertext}</b><br><br>meal=carrot cream<br>weekday=%{x}<br>number_meals=%{y}<extra></extra>",
         "hovertext": [
          "carrot cream",
          "carrot cream",
          "carrot cream",
          "carrot cream",
          "carrot cream"
         ],
         "legendgroup": "carrot cream",
         "marker": {
          "color": "#19d3f3",
          "opacity": 0.6,
          "size": 8,
          "symbol": "circle"
         },
         "mode": "markers",
         "name": "carrot cream",
         "orientation": "v",
         "showlegend": true,
         "type": "scatter",
         "x": [
          "friday",
          "monday",
          "thursday",
          "tuesday",
          "wednesday"
         ],
         "xaxis": "x",
         "y": [
          7,
          6,
          6,
          2,
          4
         ],
         "yaxis": "y"
        },
        {
         "hovertemplate": "<b>%{hovertext}</b><br><br>meal=chicken fillet<br>weekday=%{x}<br>number_meals=%{y}<extra></extra>",
         "hovertext": [
          "chicken fillet",
          "chicken fillet",
          "chicken fillet",
          "chicken fillet",
          "chicken fillet"
         ],
         "legendgroup": "chicken fillet",
         "marker": {
          "color": "#FF6692",
          "opacity": 0.6,
          "size": 8,
          "symbol": "circle"
         },
         "mode": "markers",
         "name": "chicken fillet",
         "orientation": "v",
         "showlegend": true,
         "type": "scatter",
         "x": [
          "friday",
          "monday",
          "thursday",
          "tuesday",
          "wednesday"
         ],
         "xaxis": "x",
         "y": [
          1,
          4,
          2,
          2,
          3
         ],
         "yaxis": "y"
        },
        {
         "hovertemplate": "<b>%{hovertext}</b><br><br>meal=chicken soup<br>weekday=%{x}<br>number_meals=%{y}<extra></extra>",
         "hovertext": [
          "chicken soup",
          "chicken soup",
          "chicken soup",
          "chicken soup",
          "chicken soup"
         ],
         "legendgroup": "chicken soup",
         "marker": {
          "color": "#B6E880",
          "opacity": 0.6,
          "size": 8,
          "symbol": "circle"
         },
         "mode": "markers",
         "name": "chicken soup",
         "orientation": "v",
         "showlegend": true,
         "type": "scatter",
         "x": [
          "friday",
          "monday",
          "thursday",
          "tuesday",
          "wednesday"
         ],
         "xaxis": "x",
         "y": [
          2,
          1,
          3,
          2,
          3
         ],
         "yaxis": "y"
        },
        {
         "hovertemplate": "<b>%{hovertext}</b><br><br>meal=chickpea salad<br>weekday=%{x}<br>number_meals=%{y}<extra></extra>",
         "hovertext": [
          "chickpea salad",
          "chickpea salad"
         ],
         "legendgroup": "chickpea salad",
         "marker": {
          "color": "#FF97FF",
          "opacity": 0.6,
          "size": 8,
          "symbol": "circle"
         },
         "mode": "markers",
         "name": "chickpea salad",
         "orientation": "v",
         "showlegend": true,
         "type": "scatter",
         "x": [
          "friday",
          "thursday"
         ],
         "xaxis": "x",
         "y": [
          1,
          1
         ],
         "yaxis": "y"
        },
        {
         "hovertemplate": "<b>%{hovertext}</b><br><br>meal=cream<br>weekday=%{x}<br>number_meals=%{y}<extra></extra>",
         "hovertext": [
          "cream",
          "cream",
          "cream",
          "cream",
          "cream"
         ],
         "legendgroup": "cream",
         "marker": {
          "color": "#FECB52",
          "opacity": 0.6,
          "size": 8,
          "symbol": "circle"
         },
         "mode": "markers",
         "name": "cream",
         "orientation": "v",
         "showlegend": true,
         "type": "scatter",
         "x": [
          "friday",
          "monday",
          "thursday",
          "tuesday",
          "wednesday"
         ],
         "xaxis": "x",
         "y": [
          7,
          4,
          5,
          5,
          4
         ],
         "yaxis": "y"
        },
        {
         "hovertemplate": "<b>%{hovertext}</b><br><br>meal=egg<br>weekday=%{x}<br>number_meals=%{y}<extra></extra>",
         "hovertext": [
          "egg",
          "egg"
         ],
         "legendgroup": "egg",
         "marker": {
          "color": "#636efa",
          "opacity": 0.6,
          "size": 8,
          "symbol": "circle"
         },
         "mode": "markers",
         "name": "egg",
         "orientation": "v",
         "showlegend": true,
         "type": "scatter",
         "x": [
          "friday",
          "tuesday"
         ],
         "xaxis": "x",
         "y": [
          1,
          1
         ],
         "yaxis": "y"
        },
        {
         "hovertemplate": "<b>%{hovertext}</b><br><br>meal=eggplant bolognese<br>weekday=%{x}<br>number_meals=%{y}<extra></extra>",
         "hovertext": [
          "eggplant bolognese",
          "eggplant bolognese"
         ],
         "legendgroup": "eggplant bolognese",
         "marker": {
          "color": "#EF553B",
          "opacity": 0.6,
          "size": 8,
          "symbol": "circle"
         },
         "mode": "markers",
         "name": "eggplant bolognese",
         "orientation": "v",
         "showlegend": true,
         "type": "scatter",
         "x": [
          "friday",
          "thursday"
         ],
         "xaxis": "x",
         "y": [
          3,
          1
         ],
         "yaxis": "y"
        },
        {
         "hovertemplate": "<b>%{hovertext}</b><br><br>meal=fish stew<br>weekday=%{x}<br>number_meals=%{y}<extra></extra>",
         "hovertext": [
          "fish stew",
          "fish stew",
          "fish stew",
          "fish stew",
          "fish stew"
         ],
         "legendgroup": "fish stew",
         "marker": {
          "color": "#00cc96",
          "opacity": 0.6,
          "size": 8,
          "symbol": "circle"
         },
         "mode": "markers",
         "name": "fish stew",
         "orientation": "v",
         "showlegend": true,
         "type": "scatter",
         "x": [
          "friday",
          "monday",
          "thursday",
          "tuesday",
          "wednesday"
         ],
         "xaxis": "x",
         "y": [
          1,
          2,
          3,
          2,
          2
         ],
         "yaxis": "y"
        },
        {
         "hovertemplate": "<b>%{hovertext}</b><br><br>meal=french fries<br>weekday=%{x}<br>number_meals=%{y}<extra></extra>",
         "hovertext": [
          "french fries",
          "french fries",
          "french fries",
          "french fries",
          "french fries"
         ],
         "legendgroup": "french fries",
         "marker": {
          "color": "#ab63fa",
          "opacity": 0.6,
          "size": 8,
          "symbol": "circle"
         },
         "mode": "markers",
         "name": "french fries",
         "orientation": "v",
         "showlegend": true,
         "type": "scatter",
         "x": [
          "friday",
          "monday",
          "thursday",
          "tuesday",
          "wednesday"
         ],
         "xaxis": "x",
         "y": [
          1,
          2,
          5,
          6,
          4
         ],
         "yaxis": "y"
        },
        {
         "hovertemplate": "<b>%{hovertext}</b><br><br>meal=garlic mushrooms<br>weekday=%{x}<br>number_meals=%{y}<extra></extra>",
         "hovertext": [
          "garlic mushrooms",
          "garlic mushrooms",
          "garlic mushrooms",
          "garlic mushrooms",
          "garlic mushrooms"
         ],
         "legendgroup": "garlic mushrooms",
         "marker": {
          "color": "#FFA15A",
          "opacity": 0.6,
          "size": 8,
          "symbol": "circle"
         },
         "mode": "markers",
         "name": "garlic mushrooms",
         "orientation": "v",
         "showlegend": true,
         "type": "scatter",
         "x": [
          "friday",
          "monday",
          "thursday",
          "tuesday",
          "wednesday"
         ],
         "xaxis": "x",
         "y": [
          2,
          1,
          1,
          1,
          1
         ],
         "yaxis": "y"
        },
        {
         "hovertemplate": "<b>%{hovertext}</b><br><br>meal=gazpacho<br>weekday=%{x}<br>number_meals=%{y}<extra></extra>",
         "hovertext": [
          "gazpacho",
          "gazpacho"
         ],
         "legendgroup": "gazpacho",
         "marker": {
          "color": "#19d3f3",
          "opacity": 0.6,
          "size": 8,
          "symbol": "circle"
         },
         "mode": "markers",
         "name": "gazpacho",
         "orientation": "v",
         "showlegend": true,
         "type": "scatter",
         "x": [
          "friday",
          "monday"
         ],
         "xaxis": "x",
         "y": [
          1,
          1
         ],
         "yaxis": "y"
        },
        {
         "hovertemplate": "<b>%{hovertext}</b><br><br>meal=green beans with fried egg<br>weekday=%{x}<br>number_meals=%{y}<extra></extra>",
         "hovertext": [
          "green beans with fried egg",
          "green beans with fried egg"
         ],
         "legendgroup": "green beans with fried egg",
         "marker": {
          "color": "#FF6692",
          "opacity": 0.6,
          "size": 8,
          "symbol": "circle"
         },
         "mode": "markers",
         "name": "green beans with fried egg",
         "orientation": "v",
         "showlegend": true,
         "type": "scatter",
         "x": [
          "friday",
          "thursday"
         ],
         "xaxis": "x",
         "y": [
          1,
          1
         ],
         "yaxis": "y"
        },
        {
         "hovertemplate": "<b>%{hovertext}</b><br><br>meal=ground/minced meat<br>weekday=%{x}<br>number_meals=%{y}<extra></extra>",
         "hovertext": [
          "ground/minced meat"
         ],
         "legendgroup": "ground/minced meat",
         "marker": {
          "color": "#B6E880",
          "opacity": 0.6,
          "size": 8,
          "symbol": "circle"
         },
         "mode": "markers",
         "name": "ground/minced meat",
         "orientation": "v",
         "showlegend": true,
         "type": "scatter",
         "x": [
          "friday"
         ],
         "xaxis": "x",
         "y": [
          1
         ],
         "yaxis": "y"
        },
        {
         "hovertemplate": "<b>%{hovertext}</b><br><br>meal=hake<br>weekday=%{x}<br>number_meals=%{y}<extra></extra>",
         "hovertext": [
          "hake",
          "hake",
          "hake",
          "hake",
          "hake"
         ],
         "legendgroup": "hake",
         "marker": {
          "color": "#FF97FF",
          "opacity": 0.6,
          "size": 8,
          "symbol": "circle"
         },
         "mode": "markers",
         "name": "hake",
         "orientation": "v",
         "showlegend": true,
         "type": "scatter",
         "x": [
          "friday",
          "monday",
          "thursday",
          "tuesday",
          "wednesday"
         ],
         "xaxis": "x",
         "y": [
          2,
          1,
          1,
          3,
          2
         ],
         "yaxis": "y"
        },
        {
         "hovertemplate": "<b>%{hovertext}</b><br><br>meal=kale with fried potatoes<br>weekday=%{x}<br>number_meals=%{y}<extra></extra>",
         "hovertext": [
          "kale with fried potatoes",
          "kale with fried potatoes"
         ],
         "legendgroup": "kale with fried potatoes",
         "marker": {
          "color": "#FECB52",
          "opacity": 0.6,
          "size": 8,
          "symbol": "circle"
         },
         "mode": "markers",
         "name": "kale with fried potatoes",
         "orientation": "v",
         "showlegend": true,
         "type": "scatter",
         "x": [
          "friday",
          "monday"
         ],
         "xaxis": "x",
         "y": [
          1,
          1
         ],
         "yaxis": "y"
        },
        {
         "hovertemplate": "<b>%{hovertext}</b><br><br>meal=leek cream<br>weekday=%{x}<br>number_meals=%{y}<extra></extra>",
         "hovertext": [
          "leek cream",
          "leek cream",
          "leek cream",
          "leek cream",
          "leek cream"
         ],
         "legendgroup": "leek cream",
         "marker": {
          "color": "#636efa",
          "opacity": 0.6,
          "size": 8,
          "symbol": "circle"
         },
         "mode": "markers",
         "name": "leek cream",
         "orientation": "v",
         "showlegend": true,
         "type": "scatter",
         "x": [
          "friday",
          "monday",
          "thursday",
          "tuesday",
          "wednesday"
         ],
         "xaxis": "x",
         "y": [
          3,
          3,
          5,
          2,
          5
         ],
         "yaxis": "y"
        },
        {
         "hovertemplate": "<b>%{hovertext}</b><br><br>meal=lentils<br>weekday=%{x}<br>number_meals=%{y}<extra></extra>",
         "hovertext": [
          "lentils",
          "lentils",
          "lentils",
          "lentils",
          "lentils"
         ],
         "legendgroup": "lentils",
         "marker": {
          "color": "#EF553B",
          "opacity": 0.6,
          "size": 8,
          "symbol": "circle"
         },
         "mode": "markers",
         "name": "lentils",
         "orientation": "v",
         "showlegend": true,
         "type": "scatter",
         "x": [
          "friday",
          "monday",
          "thursday",
          "tuesday",
          "wednesday"
         ],
         "xaxis": "x",
         "y": [
          1,
          4,
          4,
          1,
          3
         ],
         "yaxis": "y"
        },
        {
         "hovertemplate": "<b>%{hovertext}</b><br><br>meal=mixed salad<br>weekday=%{x}<br>number_meals=%{y}<extra></extra>",
         "hovertext": [
          "mixed salad",
          "mixed salad",
          "mixed salad",
          "mixed salad",
          "mixed salad"
         ],
         "legendgroup": "mixed salad",
         "marker": {
          "color": "#00cc96",
          "opacity": 0.6,
          "size": 8,
          "symbol": "circle"
         },
         "mode": "markers",
         "name": "mixed salad",
         "orientation": "v",
         "showlegend": true,
         "type": "scatter",
         "x": [
          "friday",
          "monday",
          "thursday",
          "tuesday",
          "wednesday"
         ],
         "xaxis": "x",
         "y": [
          1,
          3,
          2,
          3,
          1
         ],
         "yaxis": "y"
        },
        {
         "hovertemplate": "<b>%{hovertext}</b><br><br>meal=peas with fish<br>weekday=%{x}<br>number_meals=%{y}<extra></extra>",
         "hovertext": [
          "peas with fish",
          "peas with fish",
          "peas with fish"
         ],
         "legendgroup": "peas with fish",
         "marker": {
          "color": "#ab63fa",
          "opacity": 0.6,
          "size": 8,
          "symbol": "circle"
         },
         "mode": "markers",
         "name": "peas with fish",
         "orientation": "v",
         "showlegend": true,
         "type": "scatter",
         "x": [
          "friday",
          "thursday",
          "wednesday"
         ],
         "xaxis": "x",
         "y": [
          1,
          1,
          1
         ],
         "yaxis": "y"
        },
        {
         "hovertemplate": "<b>%{hovertext}</b><br><br>meal=peas with fried egg<br>weekday=%{x}<br>number_meals=%{y}<extra></extra>",
         "hovertext": [
          "peas with fried egg"
         ],
         "legendgroup": "peas with fried egg",
         "marker": {
          "color": "#FFA15A",
          "opacity": 0.6,
          "size": 8,
          "symbol": "circle"
         },
         "mode": "markers",
         "name": "peas with fried egg",
         "orientation": "v",
         "showlegend": true,
         "type": "scatter",
         "x": [
          "friday"
         ],
         "xaxis": "x",
         "y": [
          1
         ],
         "yaxis": "y"
        },
        {
         "hovertemplate": "<b>%{hovertext}</b><br><br>meal=pizza<br>weekday=%{x}<br>number_meals=%{y}<extra></extra>",
         "hovertext": [
          "pizza"
         ],
         "legendgroup": "pizza",
         "marker": {
          "color": "#19d3f3",
          "opacity": 0.6,
          "size": 8,
          "symbol": "circle"
         },
         "mode": "markers",
         "name": "pizza",
         "orientation": "v",
         "showlegend": true,
         "type": "scatter",
         "x": [
          "friday"
         ],
         "xaxis": "x",
         "y": [
          1
         ],
         "yaxis": "y"
        },
        {
         "hovertemplate": "<b>%{hovertext}</b><br><br>meal=potato omelette<br>weekday=%{x}<br>number_meals=%{y}<extra></extra>",
         "hovertext": [
          "potato omelette",
          "potato omelette",
          "potato omelette",
          "potato omelette"
         ],
         "legendgroup": "potato omelette",
         "marker": {
          "color": "#FF6692",
          "opacity": 0.6,
          "size": 8,
          "symbol": "circle"
         },
         "mode": "markers",
         "name": "potato omelette",
         "orientation": "v",
         "showlegend": true,
         "type": "scatter",
         "x": [
          "friday",
          "thursday",
          "tuesday",
          "wednesday"
         ],
         "xaxis": "x",
         "y": [
          9,
          2,
          6,
          3
         ],
         "yaxis": "y"
        },
        {
         "hovertemplate": "<b>%{hovertext}</b><br><br>meal=pumpkin cream<br>weekday=%{x}<br>number_meals=%{y}<extra></extra>",
         "hovertext": [
          "pumpkin cream",
          "pumpkin cream",
          "pumpkin cream",
          "pumpkin cream"
         ],
         "legendgroup": "pumpkin cream",
         "marker": {
          "color": "#B6E880",
          "opacity": 0.6,
          "size": 8,
          "symbol": "circle"
         },
         "mode": "markers",
         "name": "pumpkin cream",
         "orientation": "v",
         "showlegend": true,
         "type": "scatter",
         "x": [
          "friday",
          "monday",
          "thursday",
          "wednesday"
         ],
         "xaxis": "x",
         "y": [
          1,
          1,
          2,
          2
         ],
         "yaxis": "y"
        },
        {
         "hovertemplate": "<b>%{hovertext}</b><br><br>meal=refried beans<br>weekday=%{x}<br>number_meals=%{y}<extra></extra>",
         "hovertext": [
          "refried beans",
          "refried beans",
          "refried beans",
          "refried beans"
         ],
         "legendgroup": "refried beans",
         "marker": {
          "color": "#FF97FF",
          "opacity": 0.6,
          "size": 8,
          "symbol": "circle"
         },
         "mode": "markers",
         "name": "refried beans",
         "orientation": "v",
         "showlegend": true,
         "type": "scatter",
         "x": [
          "friday",
          "monday",
          "thursday",
          "tuesday"
         ],
         "xaxis": "x",
         "y": [
          3,
          3,
          1,
          2
         ],
         "yaxis": "y"
        },
        {
         "hovertemplate": "<b>%{hovertext}</b><br><br>meal=rice<br>weekday=%{x}<br>number_meals=%{y}<extra></extra>",
         "hovertext": [
          "rice",
          "rice",
          "rice",
          "rice",
          "rice"
         ],
         "legendgroup": "rice",
         "marker": {
          "color": "#FECB52",
          "opacity": 0.6,
          "size": 8,
          "symbol": "circle"
         },
         "mode": "markers",
         "name": "rice",
         "orientation": "v",
         "showlegend": true,
         "type": "scatter",
         "x": [
          "friday",
          "monday",
          "thursday",
          "tuesday",
          "wednesday"
         ],
         "xaxis": "x",
         "y": [
          6,
          4,
          3,
          5,
          6
         ],
         "yaxis": "y"
        },
        {
         "hovertemplate": "<b>%{hovertext}</b><br><br>meal=roast chicken<br>weekday=%{x}<br>number_meals=%{y}<extra></extra>",
         "hovertext": [
          "roast chicken",
          "roast chicken",
          "roast chicken",
          "roast chicken",
          "roast chicken"
         ],
         "legendgroup": "roast chicken",
         "marker": {
          "color": "#636efa",
          "opacity": 0.6,
          "size": 8,
          "symbol": "circle"
         },
         "mode": "markers",
         "name": "roast chicken",
         "orientation": "v",
         "showlegend": true,
         "type": "scatter",
         "x": [
          "friday",
          "monday",
          "thursday",
          "tuesday",
          "wednesday"
         ],
         "xaxis": "x",
         "y": [
          2,
          1,
          1,
          1,
          5
         ],
         "yaxis": "y"
        },
        {
         "hovertemplate": "<b>%{hovertext}</b><br><br>meal=salad<br>weekday=%{x}<br>number_meals=%{y}<extra></extra>",
         "hovertext": [
          "salad",
          "salad",
          "salad",
          "salad",
          "salad"
         ],
         "legendgroup": "salad",
         "marker": {
          "color": "#EF553B",
          "opacity": 0.6,
          "size": 8,
          "symbol": "circle"
         },
         "mode": "markers",
         "name": "salad",
         "orientation": "v",
         "showlegend": true,
         "type": "scatter",
         "x": [
          "friday",
          "monday",
          "thursday",
          "tuesday",
          "wednesday"
         ],
         "xaxis": "x",
         "y": [
          11,
          10,
          13,
          11,
          14
         ],
         "yaxis": "y"
        },
        {
         "hovertemplate": "<b>%{hovertext}</b><br><br>meal=sauteed spinach<br>weekday=%{x}<br>number_meals=%{y}<extra></extra>",
         "hovertext": [
          "sauteed spinach",
          "sauteed spinach",
          "sauteed spinach",
          "sauteed spinach"
         ],
         "legendgroup": "sauteed spinach",
         "marker": {
          "color": "#00cc96",
          "opacity": 0.6,
          "size": 8,
          "symbol": "circle"
         },
         "mode": "markers",
         "name": "sauteed spinach",
         "orientation": "v",
         "showlegend": true,
         "type": "scatter",
         "x": [
          "friday",
          "thursday",
          "tuesday",
          "wednesday"
         ],
         "xaxis": "x",
         "y": [
          1,
          4,
          4,
          2
         ],
         "yaxis": "y"
        },
        {
         "hovertemplate": "<b>%{hovertext}</b><br><br>meal=sea bass<br>weekday=%{x}<br>number_meals=%{y}<extra></extra>",
         "hovertext": [
          "sea bass",
          "sea bass",
          "sea bass",
          "sea bass",
          "sea bass"
         ],
         "legendgroup": "sea bass",
         "marker": {
          "color": "#ab63fa",
          "opacity": 0.6,
          "size": 8,
          "symbol": "circle"
         },
         "mode": "markers",
         "name": "sea bass",
         "orientation": "v",
         "showlegend": true,
         "type": "scatter",
         "x": [
          "friday",
          "monday",
          "thursday",
          "tuesday",
          "wednesday"
         ],
         "xaxis": "x",
         "y": [
          2,
          1,
          4,
          2,
          5
         ],
         "yaxis": "y"
        },
        {
         "hovertemplate": "<b>%{hovertext}</b><br><br>meal=spinach mashed potatoes<br>weekday=%{x}<br>number_meals=%{y}<extra></extra>",
         "hovertext": [
          "spinach mashed potatoes",
          "spinach mashed potatoes",
          "spinach mashed potatoes",
          "spinach mashed potatoes",
          "spinach mashed potatoes"
         ],
         "legendgroup": "spinach mashed potatoes",
         "marker": {
          "color": "#FFA15A",
          "opacity": 0.6,
          "size": 8,
          "symbol": "circle"
         },
         "mode": "markers",
         "name": "spinach mashed potatoes",
         "orientation": "v",
         "showlegend": true,
         "type": "scatter",
         "x": [
          "friday",
          "monday",
          "thursday",
          "tuesday",
          "wednesday"
         ],
         "xaxis": "x",
         "y": [
          1,
          6,
          2,
          4,
          4
         ],
         "yaxis": "y"
        },
        {
         "hovertemplate": "<b>%{hovertext}</b><br><br>meal=steak<br>weekday=%{x}<br>number_meals=%{y}<extra></extra>",
         "hovertext": [
          "steak",
          "steak",
          "steak",
          "steak",
          "steak"
         ],
         "legendgroup": "steak",
         "marker": {
          "color": "#19d3f3",
          "opacity": 0.6,
          "size": 8,
          "symbol": "circle"
         },
         "mode": "markers",
         "name": "steak",
         "orientation": "v",
         "showlegend": true,
         "type": "scatter",
         "x": [
          "friday",
          "monday",
          "thursday",
          "tuesday",
          "wednesday"
         ],
         "xaxis": "x",
         "y": [
          2,
          5,
          3,
          3,
          1
         ],
         "yaxis": "y"
        },
        {
         "hovertemplate": "<b>%{hovertext}</b><br><br>meal=stewed vegetables<br>weekday=%{x}<br>number_meals=%{y}<extra></extra>",
         "hovertext": [
          "stewed vegetables",
          "stewed vegetables",
          "stewed vegetables",
          "stewed vegetables",
          "stewed vegetables"
         ],
         "legendgroup": "stewed vegetables",
         "marker": {
          "color": "#FF6692",
          "opacity": 0.6,
          "size": 8,
          "symbol": "circle"
         },
         "mode": "markers",
         "name": "stewed vegetables",
         "orientation": "v",
         "showlegend": true,
         "type": "scatter",
         "x": [
          "friday",
          "monday",
          "thursday",
          "tuesday",
          "wednesday"
         ],
         "xaxis": "x",
         "y": [
          1,
          7,
          1,
          3,
          3
         ],
         "yaxis": "y"
        },
        {
         "hovertemplate": "<b>%{hovertext}</b><br><br>meal=tomato sauce<br>weekday=%{x}<br>number_meals=%{y}<extra></extra>",
         "hovertext": [
          "tomato sauce",
          "tomato sauce",
          "tomato sauce",
          "tomato sauce"
         ],
         "legendgroup": "tomato sauce",
         "marker": {
          "color": "#B6E880",
          "opacity": 0.6,
          "size": 8,
          "symbol": "circle"
         },
         "mode": "markers",
         "name": "tomato sauce",
         "orientation": "v",
         "showlegend": true,
         "type": "scatter",
         "x": [
          "friday",
          "monday",
          "thursday",
          "wednesday"
         ],
         "xaxis": "x",
         "y": [
          1,
          1,
          1,
          2
         ],
         "yaxis": "y"
        },
        {
         "hovertemplate": "<b>%{hovertext}</b><br><br>meal=tuna<br>weekday=%{x}<br>number_meals=%{y}<extra></extra>",
         "hovertext": [
          "tuna",
          "tuna"
         ],
         "legendgroup": "tuna",
         "marker": {
          "color": "#FF97FF",
          "opacity": 0.6,
          "size": 8,
          "symbol": "circle"
         },
         "mode": "markers",
         "name": "tuna",
         "orientation": "v",
         "showlegend": true,
         "type": "scatter",
         "x": [
          "friday",
          "monday"
         ],
         "xaxis": "x",
         "y": [
          1,
          1
         ],
         "yaxis": "y"
        },
        {
         "hovertemplate": "<b>%{hovertext}</b><br><br>meal=turkey fillet<br>weekday=%{x}<br>number_meals=%{y}<extra></extra>",
         "hovertext": [
          "turkey fillet",
          "turkey fillet",
          "turkey fillet",
          "turkey fillet",
          "turkey fillet"
         ],
         "legendgroup": "turkey fillet",
         "marker": {
          "color": "#FECB52",
          "opacity": 0.6,
          "size": 8,
          "symbol": "circle"
         },
         "mode": "markers",
         "name": "turkey fillet",
         "orientation": "v",
         "showlegend": true,
         "type": "scatter",
         "x": [
          "friday",
          "monday",
          "thursday",
          "tuesday",
          "wednesday"
         ],
         "xaxis": "x",
         "y": [
          1,
          2,
          1,
          1,
          2
         ],
         "yaxis": "y"
        },
        {
         "hovertemplate": "<b>%{hovertext}</b><br><br>meal=zucchini cream<br>weekday=%{x}<br>number_meals=%{y}<extra></extra>",
         "hovertext": [
          "zucchini cream",
          "zucchini cream",
          "zucchini cream",
          "zucchini cream",
          "zucchini cream"
         ],
         "legendgroup": "zucchini cream",
         "marker": {
          "color": "#636efa",
          "opacity": 0.6,
          "size": 8,
          "symbol": "circle"
         },
         "mode": "markers",
         "name": "zucchini cream",
         "orientation": "v",
         "showlegend": true,
         "type": "scatter",
         "x": [
          "friday",
          "monday",
          "thursday",
          "tuesday",
          "wednesday"
         ],
         "xaxis": "x",
         "y": [
          1,
          8,
          3,
          5,
          4
         ],
         "yaxis": "y"
        },
        {
         "hovertemplate": "<b>%{hovertext}</b><br><br>meal=Russian salad<br>weekday=%{x}<br>number_meals=%{y}<extra></extra>",
         "hovertext": [
          "Russian salad"
         ],
         "legendgroup": "Russian salad",
         "marker": {
          "color": "#EF553B",
          "opacity": 0.6,
          "size": 8,
          "symbol": "circle"
         },
         "mode": "markers",
         "name": "Russian salad",
         "orientation": "v",
         "showlegend": true,
         "type": "scatter",
         "x": [
          "monday"
         ],
         "xaxis": "x",
         "y": [
          1
         ],
         "yaxis": "y"
        },
        {
         "hovertemplate": "<b>%{hovertext}</b><br><br>meal=Saxon loin<br>weekday=%{x}<br>number_meals=%{y}<extra></extra>",
         "hovertext": [
          "Saxon loin",
          "Saxon loin"
         ],
         "legendgroup": "Saxon loin",
         "marker": {
          "color": "#00cc96",
          "opacity": 0.6,
          "size": 8,
          "symbol": "circle"
         },
         "mode": "markers",
         "name": "Saxon loin",
         "orientation": "v",
         "showlegend": true,
         "type": "scatter",
         "x": [
          "monday",
          "thursday"
         ],
         "xaxis": "x",
         "y": [
          1,
          1
         ],
         "yaxis": "y"
        },
        {
         "hovertemplate": "<b>%{hovertext}</b><br><br>meal=baked hake<br>weekday=%{x}<br>number_meals=%{y}<extra></extra>",
         "hovertext": [
          "baked hake",
          "baked hake"
         ],
         "legendgroup": "baked hake",
         "marker": {
          "color": "#ab63fa",
          "opacity": 0.6,
          "size": 8,
          "symbol": "circle"
         },
         "mode": "markers",
         "name": "baked hake",
         "orientation": "v",
         "showlegend": true,
         "type": "scatter",
         "x": [
          "monday",
          "tuesday"
         ],
         "xaxis": "x",
         "y": [
          1,
          1
         ],
         "yaxis": "y"
        },
        {
         "hovertemplate": "<b>%{hovertext}</b><br><br>meal=baked salmon<br>weekday=%{x}<br>number_meals=%{y}<extra></extra>",
         "hovertext": [
          "baked salmon",
          "baked salmon",
          "baked salmon",
          "baked salmon"
         ],
         "legendgroup": "baked salmon",
         "marker": {
          "color": "#FFA15A",
          "opacity": 0.6,
          "size": 8,
          "symbol": "circle"
         },
         "mode": "markers",
         "name": "baked salmon",
         "orientation": "v",
         "showlegend": true,
         "type": "scatter",
         "x": [
          "monday",
          "thursday",
          "tuesday",
          "wednesday"
         ],
         "xaxis": "x",
         "y": [
          1,
          1,
          3,
          2
         ],
         "yaxis": "y"
        },
        {
         "hovertemplate": "<b>%{hovertext}</b><br><br>meal=battered hake<br>weekday=%{x}<br>number_meals=%{y}<extra></extra>",
         "hovertext": [
          "battered hake",
          "battered hake",
          "battered hake",
          "battered hake"
         ],
         "legendgroup": "battered hake",
         "marker": {
          "color": "#19d3f3",
          "opacity": 0.6,
          "size": 8,
          "symbol": "circle"
         },
         "mode": "markers",
         "name": "battered hake",
         "orientation": "v",
         "showlegend": true,
         "type": "scatter",
         "x": [
          "monday",
          "thursday",
          "tuesday",
          "wednesday"
         ],
         "xaxis": "x",
         "y": [
          1,
          1,
          1,
          2
         ],
         "yaxis": "y"
        },
        {
         "hovertemplate": "<b>%{hovertext}</b><br><br>meal=boiled egg<br>weekday=%{x}<br>number_meals=%{y}<extra></extra>",
         "hovertext": [
          "boiled egg",
          "boiled egg"
         ],
         "legendgroup": "boiled egg",
         "marker": {
          "color": "#FF6692",
          "opacity": 0.6,
          "size": 8,
          "symbol": "circle"
         },
         "mode": "markers",
         "name": "boiled egg",
         "orientation": "v",
         "showlegend": true,
         "type": "scatter",
         "x": [
          "monday",
          "wednesday"
         ],
         "xaxis": "x",
         "y": [
          1,
          1
         ],
         "yaxis": "y"
        },
        {
         "hovertemplate": "<b>%{hovertext}</b><br><br>meal=boiled eggs<br>weekday=%{x}<br>number_meals=%{y}<extra></extra>",
         "hovertext": [
          "boiled eggs",
          "boiled eggs"
         ],
         "legendgroup": "boiled eggs",
         "marker": {
          "color": "#B6E880",
          "opacity": 0.6,
          "size": 8,
          "symbol": "circle"
         },
         "mode": "markers",
         "name": "boiled eggs",
         "orientation": "v",
         "showlegend": true,
         "type": "scatter",
         "x": [
          "monday",
          "tuesday"
         ],
         "xaxis": "x",
         "y": [
          1,
          1
         ],
         "yaxis": "y"
        },
        {
         "hovertemplate": "<b>%{hovertext}</b><br><br>meal=boiled potato<br>weekday=%{x}<br>number_meals=%{y}<extra></extra>",
         "hovertext": [
          "boiled potato",
          "boiled potato",
          "boiled potato",
          "boiled potato"
         ],
         "legendgroup": "boiled potato",
         "marker": {
          "color": "#FF97FF",
          "opacity": 0.6,
          "size": 8,
          "symbol": "circle"
         },
         "mode": "markers",
         "name": "boiled potato",
         "orientation": "v",
         "showlegend": true,
         "type": "scatter",
         "x": [
          "monday",
          "thursday",
          "tuesday",
          "wednesday"
         ],
         "xaxis": "x",
         "y": [
          2,
          1,
          3,
          4
         ],
         "yaxis": "y"
        },
        {
         "hovertemplate": "<b>%{hovertext}</b><br><br>meal=breaded fillet<br>weekday=%{x}<br>number_meals=%{y}<extra></extra>",
         "hovertext": [
          "breaded fillet",
          "breaded fillet",
          "breaded fillet",
          "breaded fillet"
         ],
         "legendgroup": "breaded fillet",
         "marker": {
          "color": "#FECB52",
          "opacity": 0.6,
          "size": 8,
          "symbol": "circle"
         },
         "mode": "markers",
         "name": "breaded fillet",
         "orientation": "v",
         "showlegend": true,
         "type": "scatter",
         "x": [
          "monday",
          "thursday",
          "tuesday",
          "wednesday"
         ],
         "xaxis": "x",
         "y": [
          3,
          1,
          3,
          1
         ],
         "yaxis": "y"
        },
        {
         "hovertemplate": "<b>%{hovertext}</b><br><br>meal=broccoli with garlic sauce<br>weekday=%{x}<br>number_meals=%{y}<extra></extra>",
         "hovertext": [
          "broccoli with garlic sauce",
          "broccoli with garlic sauce"
         ],
         "legendgroup": "broccoli with garlic sauce",
         "marker": {
          "color": "#636efa",
          "opacity": 0.6,
          "size": 8,
          "symbol": "circle"
         },
         "mode": "markers",
         "name": "broccoli with garlic sauce",
         "orientation": "v",
         "showlegend": true,
         "type": "scatter",
         "x": [
          "monday",
          "wednesday"
         ],
         "xaxis": "x",
         "y": [
          1,
          2
         ],
         "yaxis": "y"
        },
        {
         "hovertemplate": "<b>%{hovertext}</b><br><br>meal=broccoli with ham<br>weekday=%{x}<br>number_meals=%{y}<extra></extra>",
         "hovertext": [
          "broccoli with ham"
         ],
         "legendgroup": "broccoli with ham",
         "marker": {
          "color": "#EF553B",
          "opacity": 0.6,
          "size": 8,
          "symbol": "circle"
         },
         "mode": "markers",
         "name": "broccoli with ham",
         "orientation": "v",
         "showlegend": true,
         "type": "scatter",
         "x": [
          "monday"
         ],
         "xaxis": "x",
         "y": [
          1
         ],
         "yaxis": "y"
        },
        {
         "hovertemplate": "<b>%{hovertext}</b><br><br>meal=broccoli with potato<br>weekday=%{x}<br>number_meals=%{y}<extra></extra>",
         "hovertext": [
          "broccoli with potato",
          "broccoli with potato",
          "broccoli with potato",
          "broccoli with potato"
         ],
         "legendgroup": "broccoli with potato",
         "marker": {
          "color": "#00cc96",
          "opacity": 0.6,
          "size": 8,
          "symbol": "circle"
         },
         "mode": "markers",
         "name": "broccoli with potato",
         "orientation": "v",
         "showlegend": true,
         "type": "scatter",
         "x": [
          "monday",
          "thursday",
          "tuesday",
          "wednesday"
         ],
         "xaxis": "x",
         "y": [
          3,
          3,
          2,
          1
         ],
         "yaxis": "y"
        },
        {
         "hovertemplate": "<b>%{hovertext}</b><br><br>meal=chard with potatoes<br>weekday=%{x}<br>number_meals=%{y}<extra></extra>",
         "hovertext": [
          "chard with potatoes"
         ],
         "legendgroup": "chard with potatoes",
         "marker": {
          "color": "#ab63fa",
          "opacity": 0.6,
          "size": 8,
          "symbol": "circle"
         },
         "mode": "markers",
         "name": "chard with potatoes",
         "orientation": "v",
         "showlegend": true,
         "type": "scatter",
         "x": [
          "monday"
         ],
         "xaxis": "x",
         "y": [
          2
         ],
         "yaxis": "y"
        },
        {
         "hovertemplate": "<b>%{hovertext}</b><br><br>meal=croquettes<br>weekday=%{x}<br>number_meals=%{y}<extra></extra>",
         "hovertext": [
          "croquettes",
          "croquettes",
          "croquettes",
          "croquettes"
         ],
         "legendgroup": "croquettes",
         "marker": {
          "color": "#FFA15A",
          "opacity": 0.6,
          "size": 8,
          "symbol": "circle"
         },
         "mode": "markers",
         "name": "croquettes",
         "orientation": "v",
         "showlegend": true,
         "type": "scatter",
         "x": [
          "monday",
          "thursday",
          "tuesday",
          "wednesday"
         ],
         "xaxis": "x",
         "y": [
          1,
          4,
          4,
          5
         ],
         "yaxis": "y"
        },
        {
         "hovertemplate": "<b>%{hovertext}</b><br><br>meal=fried egg<br>weekday=%{x}<br>number_meals=%{y}<extra></extra>",
         "hovertext": [
          "fried egg",
          "fried egg",
          "fried egg"
         ],
         "legendgroup": "fried egg",
         "marker": {
          "color": "#19d3f3",
          "opacity": 0.6,
          "size": 8,
          "symbol": "circle"
         },
         "mode": "markers",
         "name": "fried egg",
         "orientation": "v",
         "showlegend": true,
         "type": "scatter",
         "x": [
          "monday",
          "tuesday",
          "wednesday"
         ],
         "xaxis": "x",
         "y": [
          4,
          3,
          3
         ],
         "yaxis": "y"
        },
        {
         "hovertemplate": "<b>%{hovertext}</b><br><br>meal=fried potato<br>weekday=%{x}<br>number_meals=%{y}<extra></extra>",
         "hovertext": [
          "fried potato"
         ],
         "legendgroup": "fried potato",
         "marker": {
          "color": "#FF6692",
          "opacity": 0.6,
          "size": 8,
          "symbol": "circle"
         },
         "mode": "markers",
         "name": "fried potato",
         "orientation": "v",
         "showlegend": true,
         "type": "scatter",
         "x": [
          "monday"
         ],
         "xaxis": "x",
         "y": [
          1
         ],
         "yaxis": "y"
        },
        {
         "hovertemplate": "<b>%{hovertext}</b><br><br>meal=gilt-head bream<br>weekday=%{x}<br>number_meals=%{y}<extra></extra>",
         "hovertext": [
          "gilt-head bream",
          "gilt-head bream"
         ],
         "legendgroup": "gilt-head bream",
         "marker": {
          "color": "#B6E880",
          "opacity": 0.6,
          "size": 8,
          "symbol": "circle"
         },
         "mode": "markers",
         "name": "gilt-head bream",
         "orientation": "v",
         "showlegend": true,
         "type": "scatter",
         "x": [
          "monday",
          "tuesday"
         ],
         "xaxis": "x",
         "y": [
          1,
          2
         ],
         "yaxis": "y"
        },
        {
         "hovertemplate": "<b>%{hovertext}</b><br><br>meal=green beans with potato<br>weekday=%{x}<br>number_meals=%{y}<extra></extra>",
         "hovertext": [
          "green beans with potato",
          "green beans with potato",
          "green beans with potato"
         ],
         "legendgroup": "green beans with potato",
         "marker": {
          "color": "#FF97FF",
          "opacity": 0.6,
          "size": 8,
          "symbol": "circle"
         },
         "mode": "markers",
         "name": "green beans with potato",
         "orientation": "v",
         "showlegend": true,
         "type": "scatter",
         "x": [
          "monday",
          "thursday",
          "wednesday"
         ],
         "xaxis": "x",
         "y": [
          2,
          2,
          3
         ],
         "yaxis": "y"
        },
        {
         "hovertemplate": "<b>%{hovertext}</b><br><br>meal=hake with mashed potatoes<br>weekday=%{x}<br>number_meals=%{y}<extra></extra>",
         "hovertext": [
          "hake with mashed potatoes"
         ],
         "legendgroup": "hake with mashed potatoes",
         "marker": {
          "color": "#FECB52",
          "opacity": 0.6,
          "size": 8,
          "symbol": "circle"
         },
         "mode": "markers",
         "name": "hake with mashed potatoes",
         "orientation": "v",
         "showlegend": true,
         "type": "scatter",
         "x": [
          "monday"
         ],
         "xaxis": "x",
         "y": [
          1
         ],
         "yaxis": "y"
        },
        {
         "hovertemplate": "<b>%{hovertext}</b><br><br>meal=macaroni<br>weekday=%{x}<br>number_meals=%{y}<extra></extra>",
         "hovertext": [
          "macaroni"
         ],
         "legendgroup": "macaroni",
         "marker": {
          "color": "#636efa",
          "opacity": 0.6,
          "size": 8,
          "symbol": "circle"
         },
         "mode": "markers",
         "name": "macaroni",
         "orientation": "v",
         "showlegend": true,
         "type": "scatter",
         "x": [
          "monday"
         ],
         "xaxis": "x",
         "y": [
          1
         ],
         "yaxis": "y"
        },
        {
         "hovertemplate": "<b>%{hovertext}</b><br><br>meal=meat<br>weekday=%{x}<br>number_meals=%{y}<extra></extra>",
         "hovertext": [
          "meat"
         ],
         "legendgroup": "meat",
         "marker": {
          "color": "#EF553B",
          "opacity": 0.6,
          "size": 8,
          "symbol": "circle"
         },
         "mode": "markers",
         "name": "meat",
         "orientation": "v",
         "showlegend": true,
         "type": "scatter",
         "x": [
          "monday"
         ],
         "xaxis": "x",
         "y": [
          1
         ],
         "yaxis": "y"
        },
        {
         "hovertemplate": "<b>%{hovertext}</b><br><br>meal=paella with squid<br>weekday=%{x}<br>number_meals=%{y}<extra></extra>",
         "hovertext": [
          "paella with squid"
         ],
         "legendgroup": "paella with squid",
         "marker": {
          "color": "#00cc96",
          "opacity": 0.6,
          "size": 8,
          "symbol": "circle"
         },
         "mode": "markers",
         "name": "paella with squid",
         "orientation": "v",
         "showlegend": true,
         "type": "scatter",
         "x": [
          "monday"
         ],
         "xaxis": "x",
         "y": [
          1
         ],
         "yaxis": "y"
        },
        {
         "hovertemplate": "<b>%{hovertext}</b><br><br>meal=pasta salad<br>weekday=%{x}<br>number_meals=%{y}<extra></extra>",
         "hovertext": [
          "pasta salad"
         ],
         "legendgroup": "pasta salad",
         "marker": {
          "color": "#ab63fa",
          "opacity": 0.6,
          "size": 8,
          "symbol": "circle"
         },
         "mode": "markers",
         "name": "pasta salad",
         "orientation": "v",
         "showlegend": true,
         "type": "scatter",
         "x": [
          "monday"
         ],
         "xaxis": "x",
         "y": [
          1
         ],
         "yaxis": "y"
        },
        {
         "hovertemplate": "<b>%{hovertext}</b><br><br>meal=pasta soup<br>weekday=%{x}<br>number_meals=%{y}<extra></extra>",
         "hovertext": [
          "pasta soup",
          "pasta soup"
         ],
         "legendgroup": "pasta soup",
         "marker": {
          "color": "#FFA15A",
          "opacity": 0.6,
          "size": 8,
          "symbol": "circle"
         },
         "mode": "markers",
         "name": "pasta soup",
         "orientation": "v",
         "showlegend": true,
         "type": "scatter",
         "x": [
          "monday",
          "wednesday"
         ],
         "xaxis": "x",
         "y": [
          1,
          2
         ],
         "yaxis": "y"
        },
        {
         "hovertemplate": "<b>%{hovertext}</b><br><br>meal=peas with ham<br>weekday=%{x}<br>number_meals=%{y}<extra></extra>",
         "hovertext": [
          "peas with ham",
          "peas with ham",
          "peas with ham",
          "peas with ham"
         ],
         "legendgroup": "peas with ham",
         "marker": {
          "color": "#19d3f3",
          "opacity": 0.6,
          "size": 8,
          "symbol": "circle"
         },
         "mode": "markers",
         "name": "peas with ham",
         "orientation": "v",
         "showlegend": true,
         "type": "scatter",
         "x": [
          "monday",
          "thursday",
          "tuesday",
          "wednesday"
         ],
         "xaxis": "x",
         "y": [
          2,
          2,
          5,
          3
         ],
         "yaxis": "y"
        },
        {
         "hovertemplate": "<b>%{hovertext}</b><br><br>meal=peas with onion<br>weekday=%{x}<br>number_meals=%{y}<extra></extra>",
         "hovertext": [
          "peas with onion",
          "peas with onion"
         ],
         "legendgroup": "peas with onion",
         "marker": {
          "color": "#FF6692",
          "opacity": 0.6,
          "size": 8,
          "symbol": "circle"
         },
         "mode": "markers",
         "name": "peas with onion",
         "orientation": "v",
         "showlegend": true,
         "type": "scatter",
         "x": [
          "monday",
          "wednesday"
         ],
         "xaxis": "x",
         "y": [
          1,
          1
         ],
         "yaxis": "y"
        },
        {
         "hovertemplate": "<b>%{hovertext}</b><br><br>meal=pork tenderloin<br>weekday=%{x}<br>number_meals=%{y}<extra></extra>",
         "hovertext": [
          "pork tenderloin",
          "pork tenderloin"
         ],
         "legendgroup": "pork tenderloin",
         "marker": {
          "color": "#B6E880",
          "opacity": 0.6,
          "size": 8,
          "symbol": "circle"
         },
         "mode": "markers",
         "name": "pork tenderloin",
         "orientation": "v",
         "showlegend": true,
         "type": "scatter",
         "x": [
          "monday",
          "wednesday"
         ],
         "xaxis": "x",
         "y": [
          2,
          2
         ],
         "yaxis": "y"
        },
        {
         "hovertemplate": "<b>%{hovertext}</b><br><br>meal=quesadillas<br>weekday=%{x}<br>number_meals=%{y}<extra></extra>",
         "hovertext": [
          "quesadillas",
          "quesadillas",
          "quesadillas"
         ],
         "legendgroup": "quesadillas",
         "marker": {
          "color": "#FF97FF",
          "opacity": 0.6,
          "size": 8,
          "symbol": "circle"
         },
         "mode": "markers",
         "name": "quesadillas",
         "orientation": "v",
         "showlegend": true,
         "type": "scatter",
         "x": [
          "monday",
          "tuesday",
          "wednesday"
         ],
         "xaxis": "x",
         "y": [
          1,
          2,
          1
         ],
         "yaxis": "y"
        },
        {
         "hovertemplate": "<b>%{hovertext}</b><br><br>meal=sausages<br>weekday=%{x}<br>number_meals=%{y}<extra></extra>",
         "hovertext": [
          "sausages",
          "sausages",
          "sausages",
          "sausages"
         ],
         "legendgroup": "sausages",
         "marker": {
          "color": "#FECB52",
          "opacity": 0.6,
          "size": 8,
          "symbol": "circle"
         },
         "mode": "markers",
         "name": "sausages",
         "orientation": "v",
         "showlegend": true,
         "type": "scatter",
         "x": [
          "monday",
          "thursday",
          "tuesday",
          "wednesday"
         ],
         "xaxis": "x",
         "y": [
          3,
          2,
          2,
          5
         ],
         "yaxis": "y"
        },
        {
         "hovertemplate": "<b>%{hovertext}</b><br><br>meal=sauteed vegetables<br>weekday=%{x}<br>number_meals=%{y}<extra></extra>",
         "hovertext": [
          "sauteed vegetables",
          "sauteed vegetables",
          "sauteed vegetables"
         ],
         "legendgroup": "sauteed vegetables",
         "marker": {
          "color": "#636efa",
          "opacity": 0.6,
          "size": 8,
          "symbol": "circle"
         },
         "mode": "markers",
         "name": "sauteed vegetables",
         "orientation": "v",
         "showlegend": true,
         "type": "scatter",
         "x": [
          "monday",
          "thursday",
          "wednesday"
         ],
         "xaxis": "x",
         "y": [
          1,
          1,
          1
         ],
         "yaxis": "y"
        },
        {
         "hovertemplate": "<b>%{hovertext}</b><br><br>meal=spaghetti bolognese<br>weekday=%{x}<br>number_meals=%{y}<extra></extra>",
         "hovertext": [
          "spaghetti bolognese",
          "spaghetti bolognese",
          "spaghetti bolognese",
          "spaghetti bolognese"
         ],
         "legendgroup": "spaghetti bolognese",
         "marker": {
          "color": "#EF553B",
          "opacity": 0.6,
          "size": 8,
          "symbol": "circle"
         },
         "mode": "markers",
         "name": "spaghetti bolognese",
         "orientation": "v",
         "showlegend": true,
         "type": "scatter",
         "x": [
          "monday",
          "thursday",
          "tuesday",
          "wednesday"
         ],
         "xaxis": "x",
         "y": [
          1,
          3,
          5,
          4
         ],
         "yaxis": "y"
        },
        {
         "hovertemplate": "<b>%{hovertext}</b><br><br>meal=stir-fried green beans<br>weekday=%{x}<br>number_meals=%{y}<extra></extra>",
         "hovertext": [
          "stir-fried green beans",
          "stir-fried green beans"
         ],
         "legendgroup": "stir-fried green beans",
         "marker": {
          "color": "#00cc96",
          "opacity": 0.6,
          "size": 8,
          "symbol": "circle"
         },
         "mode": "markers",
         "name": "stir-fried green beans",
         "orientation": "v",
         "showlegend": true,
         "type": "scatter",
         "x": [
          "monday",
          "tuesday"
         ],
         "xaxis": "x",
         "y": [
          1,
          1
         ],
         "yaxis": "y"
        },
        {
         "hovertemplate": "<b>%{hovertext}</b><br><br>meal=turnip greens with potato<br>weekday=%{x}<br>number_meals=%{y}<extra></extra>",
         "hovertext": [
          "turnip greens with potato"
         ],
         "legendgroup": "turnip greens with potato",
         "marker": {
          "color": "#ab63fa",
          "opacity": 0.6,
          "size": 8,
          "symbol": "circle"
         },
         "mode": "markers",
         "name": "turnip greens with potato",
         "orientation": "v",
         "showlegend": true,
         "type": "scatter",
         "x": [
          "monday"
         ],
         "xaxis": "x",
         "y": [
          1
         ],
         "yaxis": "y"
        },
        {
         "hovertemplate": "<b>%{hovertext}</b><br><br>meal=no data<br>weekday=%{x}<br>number_meals=%{y}<extra></extra>",
         "hovertext": [
          "no data"
         ],
         "legendgroup": "no data",
         "marker": {
          "color": "#FFA15A",
          "opacity": 0.6,
          "size": 8,
          "symbol": "circle"
         },
         "mode": "markers",
         "name": "no data",
         "orientation": "v",
         "showlegend": true,
         "type": "scatter",
         "x": [
          "none"
         ],
         "xaxis": "x",
         "y": [
          7
         ],
         "yaxis": "y"
        },
        {
         "hovertemplate": "<b>%{hovertext}</b><br><br>meal=baked eggplant and zucchini<br>weekday=%{x}<br>number_meals=%{y}<extra></extra>",
         "hovertext": [
          "baked eggplant and zucchini"
         ],
         "legendgroup": "baked eggplant and zucchini",
         "marker": {
          "color": "#19d3f3",
          "opacity": 0.6,
          "size": 8,
          "symbol": "circle"
         },
         "mode": "markers",
         "name": "baked eggplant and zucchini",
         "orientation": "v",
         "showlegend": true,
         "type": "scatter",
         "x": [
          "thursday"
         ],
         "xaxis": "x",
         "y": [
          1
         ],
         "yaxis": "y"
        },
        {
         "hovertemplate": "<b>%{hovertext}</b><br><br>meal=baked fish<br>weekday=%{x}<br>number_meals=%{y}<extra></extra>",
         "hovertext": [
          "baked fish"
         ],
         "legendgroup": "baked fish",
         "marker": {
          "color": "#FF6692",
          "opacity": 0.6,
          "size": 8,
          "symbol": "circle"
         },
         "mode": "markers",
         "name": "baked fish",
         "orientation": "v",
         "showlegend": true,
         "type": "scatter",
         "x": [
          "thursday"
         ],
         "xaxis": "x",
         "y": [
          1
         ],
         "yaxis": "y"
        },
        {
         "hovertemplate": "<b>%{hovertext}</b><br><br>meal=carbonara pasta<br>weekday=%{x}<br>number_meals=%{y}<extra></extra>",
         "hovertext": [
          "carbonara pasta"
         ],
         "legendgroup": "carbonara pasta",
         "marker": {
          "color": "#B6E880",
          "opacity": 0.6,
          "size": 8,
          "symbol": "circle"
         },
         "mode": "markers",
         "name": "carbonara pasta",
         "orientation": "v",
         "showlegend": true,
         "type": "scatter",
         "x": [
          "thursday"
         ],
         "xaxis": "x",
         "y": [
          1
         ],
         "yaxis": "y"
        },
        {
         "hovertemplate": "<b>%{hovertext}</b><br><br>meal=chicken and turnip greens<br>weekday=%{x}<br>number_meals=%{y}<extra></extra>",
         "hovertext": [
          "chicken and turnip greens"
         ],
         "legendgroup": "chicken and turnip greens",
         "marker": {
          "color": "#FF97FF",
          "opacity": 0.6,
          "size": 8,
          "symbol": "circle"
         },
         "mode": "markers",
         "name": "chicken and turnip greens",
         "orientation": "v",
         "showlegend": true,
         "type": "scatter",
         "x": [
          "thursday"
         ],
         "xaxis": "x",
         "y": [
          1
         ],
         "yaxis": "y"
        },
        {
         "hovertemplate": "<b>%{hovertext}</b><br><br>meal=fava bean cream<br>weekday=%{x}<br>number_meals=%{y}<extra></extra>",
         "hovertext": [
          "fava bean cream"
         ],
         "legendgroup": "fava bean cream",
         "marker": {
          "color": "#FECB52",
          "opacity": 0.6,
          "size": 8,
          "symbol": "circle"
         },
         "mode": "markers",
         "name": "fava bean cream",
         "orientation": "v",
         "showlegend": true,
         "type": "scatter",
         "x": [
          "thursday"
         ],
         "xaxis": "x",
         "y": [
          1
         ],
         "yaxis": "y"
        },
        {
         "hovertemplate": "<b>%{hovertext}</b><br><br>meal=green beans with chicken<br>weekday=%{x}<br>number_meals=%{y}<extra></extra>",
         "hovertext": [
          "green beans with chicken"
         ],
         "legendgroup": "green beans with chicken",
         "marker": {
          "color": "#636efa",
          "opacity": 0.6,
          "size": 8,
          "symbol": "circle"
         },
         "mode": "markers",
         "name": "green beans with chicken",
         "orientation": "v",
         "showlegend": true,
         "type": "scatter",
         "x": [
          "thursday"
         ],
         "xaxis": "x",
         "y": [
          1
         ],
         "yaxis": "y"
        },
        {
         "hovertemplate": "<b>%{hovertext}</b><br><br>meal=grilled sea bass<br>weekday=%{x}<br>number_meals=%{y}<extra></extra>",
         "hovertext": [
          "grilled sea bass",
          "grilled sea bass"
         ],
         "legendgroup": "grilled sea bass",
         "marker": {
          "color": "#EF553B",
          "opacity": 0.6,
          "size": 8,
          "symbol": "circle"
         },
         "mode": "markers",
         "name": "grilled sea bass",
         "orientation": "v",
         "showlegend": true,
         "type": "scatter",
         "x": [
          "thursday",
          "tuesday"
         ],
         "xaxis": "x",
         "y": [
          1,
          1
         ],
         "yaxis": "y"
        },
        {
         "hovertemplate": "<b>%{hovertext}</b><br><br>meal=large beans<br>weekday=%{x}<br>number_meals=%{y}<extra></extra>",
         "hovertext": [
          "large beans",
          "large beans"
         ],
         "legendgroup": "large beans",
         "marker": {
          "color": "#00cc96",
          "opacity": 0.6,
          "size": 8,
          "symbol": "circle"
         },
         "mode": "markers",
         "name": "large beans",
         "orientation": "v",
         "showlegend": true,
         "type": "scatter",
         "x": [
          "thursday",
          "tuesday"
         ],
         "xaxis": "x",
         "y": [
          1,
          1
         ],
         "yaxis": "y"
        },
        {
         "hovertemplate": "<b>%{hovertext}</b><br><br>meal=leftover mushrooms<br>weekday=%{x}<br>number_meals=%{y}<extra></extra>",
         "hovertext": [
          "leftover mushrooms"
         ],
         "legendgroup": "leftover mushrooms",
         "marker": {
          "color": "#ab63fa",
          "opacity": 0.6,
          "size": 8,
          "symbol": "circle"
         },
         "mode": "markers",
         "name": "leftover mushrooms",
         "orientation": "v",
         "showlegend": true,
         "type": "scatter",
         "x": [
          "thursday"
         ],
         "xaxis": "x",
         "y": [
          1
         ],
         "yaxis": "y"
        },
        {
         "hovertemplate": "<b>%{hovertext}</b><br><br>meal=loin<br>weekday=%{x}<br>number_meals=%{y}<extra></extra>",
         "hovertext": [
          "loin"
         ],
         "legendgroup": "loin",
         "marker": {
          "color": "#FFA15A",
          "opacity": 0.6,
          "size": 8,
          "symbol": "circle"
         },
         "mode": "markers",
         "name": "loin",
         "orientation": "v",
         "showlegend": true,
         "type": "scatter",
         "x": [
          "thursday"
         ],
         "xaxis": "x",
         "y": [
          1
         ],
         "yaxis": "y"
        },
        {
         "hovertemplate": "<b>%{hovertext}</b><br><br>meal=pork fillet<br>weekday=%{x}<br>number_meals=%{y}<extra></extra>",
         "hovertext": [
          "pork fillet"
         ],
         "legendgroup": "pork fillet",
         "marker": {
          "color": "#19d3f3",
          "opacity": 0.6,
          "size": 8,
          "symbol": "circle"
         },
         "mode": "markers",
         "name": "pork fillet",
         "orientation": "v",
         "showlegend": true,
         "type": "scatter",
         "x": [
          "thursday"
         ],
         "xaxis": "x",
         "y": [
          1
         ],
         "yaxis": "y"
        },
        {
         "hovertemplate": "<b>%{hovertext}</b><br><br>meal=spaghetti carbonara<br>weekday=%{x}<br>number_meals=%{y}<extra></extra>",
         "hovertext": [
          "spaghetti carbonara"
         ],
         "legendgroup": "spaghetti carbonara",
         "marker": {
          "color": "#FF6692",
          "opacity": 0.6,
          "size": 8,
          "symbol": "circle"
         },
         "mode": "markers",
         "name": "spaghetti carbonara",
         "orientation": "v",
         "showlegend": true,
         "type": "scatter",
         "x": [
          "thursday"
         ],
         "xaxis": "x",
         "y": [
          2
         ],
         "yaxis": "y"
        },
        {
         "hovertemplate": "<b>%{hovertext}</b><br><br>meal=spaghetti with garlic mushrooms<br>weekday=%{x}<br>number_meals=%{y}<extra></extra>",
         "hovertext": [
          "spaghetti with garlic mushrooms",
          "spaghetti with garlic mushrooms"
         ],
         "legendgroup": "spaghetti with garlic mushrooms",
         "marker": {
          "color": "#B6E880",
          "opacity": 0.6,
          "size": 8,
          "symbol": "circle"
         },
         "mode": "markers",
         "name": "spaghetti with garlic mushrooms",
         "orientation": "v",
         "showlegend": true,
         "type": "scatter",
         "x": [
          "thursday",
          "wednesday"
         ],
         "xaxis": "x",
         "y": [
          1,
          1
         ],
         "yaxis": "y"
        },
        {
         "hovertemplate": "<b>%{hovertext}</b><br><br>meal=spinach stew<br>weekday=%{x}<br>number_meals=%{y}<extra></extra>",
         "hovertext": [
          "spinach stew"
         ],
         "legendgroup": "spinach stew",
         "marker": {
          "color": "#FF97FF",
          "opacity": 0.6,
          "size": 8,
          "symbol": "circle"
         },
         "mode": "markers",
         "name": "spinach stew",
         "orientation": "v",
         "showlegend": true,
         "type": "scatter",
         "x": [
          "thursday"
         ],
         "xaxis": "x",
         "y": [
          1
         ],
         "yaxis": "y"
        },
        {
         "hovertemplate": "<b>%{hovertext}</b><br><br>meal=chickpea stew<br>weekday=%{x}<br>number_meals=%{y}<extra></extra>",
         "hovertext": [
          "chickpea stew"
         ],
         "legendgroup": "chickpea stew",
         "marker": {
          "color": "#FECB52",
          "opacity": 0.6,
          "size": 8,
          "symbol": "circle"
         },
         "mode": "markers",
         "name": "chickpea stew",
         "orientation": "v",
         "showlegend": true,
         "type": "scatter",
         "x": [
          "tuesday"
         ],
         "xaxis": "x",
         "y": [
          1
         ],
         "yaxis": "y"
        },
        {
         "hovertemplate": "<b>%{hovertext}</b><br><br>meal=chickpeas<br>weekday=%{x}<br>number_meals=%{y}<extra></extra>",
         "hovertext": [
          "chickpeas"
         ],
         "legendgroup": "chickpeas",
         "marker": {
          "color": "#636efa",
          "opacity": 0.6,
          "size": 8,
          "symbol": "circle"
         },
         "mode": "markers",
         "name": "chickpeas",
         "orientation": "v",
         "showlegend": true,
         "type": "scatter",
         "x": [
          "tuesday"
         ],
         "xaxis": "x",
         "y": [
          1
         ],
         "yaxis": "y"
        },
        {
         "hovertemplate": "<b>%{hovertext}</b><br><br>meal=chickpeas with spinach<br>weekday=%{x}<br>number_meals=%{y}<extra></extra>",
         "hovertext": [
          "chickpeas with spinach"
         ],
         "legendgroup": "chickpeas with spinach",
         "marker": {
          "color": "#EF553B",
          "opacity": 0.6,
          "size": 8,
          "symbol": "circle"
         },
         "mode": "markers",
         "name": "chickpeas with spinach",
         "orientation": "v",
         "showlegend": true,
         "type": "scatter",
         "x": [
          "tuesday"
         ],
         "xaxis": "x",
         "y": [
          1
         ],
         "yaxis": "y"
        },
        {
         "hovertemplate": "<b>%{hovertext}</b><br><br>meal=green beans with garlic sauce<br>weekday=%{x}<br>number_meals=%{y}<extra></extra>",
         "hovertext": [
          "green beans with garlic sauce"
         ],
         "legendgroup": "green beans with garlic sauce",
         "marker": {
          "color": "#00cc96",
          "opacity": 0.6,
          "size": 8,
          "symbol": "circle"
         },
         "mode": "markers",
         "name": "green beans with garlic sauce",
         "orientation": "v",
         "showlegend": true,
         "type": "scatter",
         "x": [
          "tuesday"
         ],
         "xaxis": "x",
         "y": [
          1
         ],
         "yaxis": "y"
        },
        {
         "hovertemplate": "<b>%{hovertext}</b><br><br>meal=grilled asparagus<br>weekday=%{x}<br>number_meals=%{y}<extra></extra>",
         "hovertext": [
          "grilled asparagus",
          "grilled asparagus"
         ],
         "legendgroup": "grilled asparagus",
         "marker": {
          "color": "#ab63fa",
          "opacity": 0.6,
          "size": 8,
          "symbol": "circle"
         },
         "mode": "markers",
         "name": "grilled asparagus",
         "orientation": "v",
         "showlegend": true,
         "type": "scatter",
         "x": [
          "tuesday",
          "wednesday"
         ],
         "xaxis": "x",
         "y": [
          1,
          1
         ],
         "yaxis": "y"
        },
        {
         "hovertemplate": "<b>%{hovertext}</b><br><br>meal=grilled zucchini<br>weekday=%{x}<br>number_meals=%{y}<extra></extra>",
         "hovertext": [
          "grilled zucchini",
          "grilled zucchini"
         ],
         "legendgroup": "grilled zucchini",
         "marker": {
          "color": "#FFA15A",
          "opacity": 0.6,
          "size": 8,
          "symbol": "circle"
         },
         "mode": "markers",
         "name": "grilled zucchini",
         "orientation": "v",
         "showlegend": true,
         "type": "scatter",
         "x": [
          "tuesday",
          "wednesday"
         ],
         "xaxis": "x",
         "y": [
          1,
          1
         ],
         "yaxis": "y"
        },
        {
         "hovertemplate": "<b>%{hovertext}</b><br><br>meal=marinated pork loin<br>weekday=%{x}<br>number_meals=%{y}<extra></extra>",
         "hovertext": [
          "marinated pork loin"
         ],
         "legendgroup": "marinated pork loin",
         "marker": {
          "color": "#19d3f3",
          "opacity": 0.6,
          "size": 8,
          "symbol": "circle"
         },
         "mode": "markers",
         "name": "marinated pork loin",
         "orientation": "v",
         "showlegend": true,
         "type": "scatter",
         "x": [
          "tuesday"
         ],
         "xaxis": "x",
         "y": [
          1
         ],
         "yaxis": "y"
        },
        {
         "hovertemplate": "<b>%{hovertext}</b><br><br>meal=pea puree<br>weekday=%{x}<br>number_meals=%{y}<extra></extra>",
         "hovertext": [
          "pea puree"
         ],
         "legendgroup": "pea puree",
         "marker": {
          "color": "#FF6692",
          "opacity": 0.6,
          "size": 8,
          "symbol": "circle"
         },
         "mode": "markers",
         "name": "pea puree",
         "orientation": "v",
         "showlegend": true,
         "type": "scatter",
         "x": [
          "tuesday"
         ],
         "xaxis": "x",
         "y": [
          1
         ],
         "yaxis": "y"
        },
        {
         "hovertemplate": "<b>%{hovertext}</b><br><br>meal=peas with potato<br>weekday=%{x}<br>number_meals=%{y}<extra></extra>",
         "hovertext": [
          "peas with potato",
          "peas with potato"
         ],
         "legendgroup": "peas with potato",
         "marker": {
          "color": "#B6E880",
          "opacity": 0.6,
          "size": 8,
          "symbol": "circle"
         },
         "mode": "markers",
         "name": "peas with potato",
         "orientation": "v",
         "showlegend": true,
         "type": "scatter",
         "x": [
          "tuesday",
          "wednesday"
         ],
         "xaxis": "x",
         "y": [
          1,
          1
         ],
         "yaxis": "y"
        },
        {
         "hovertemplate": "<b>%{hovertext}</b><br><br>meal=rice with tomato<br>weekday=%{x}<br>number_meals=%{y}<extra></extra>",
         "hovertext": [
          "rice with tomato"
         ],
         "legendgroup": "rice with tomato",
         "marker": {
          "color": "#FF97FF",
          "opacity": 0.6,
          "size": 8,
          "symbol": "circle"
         },
         "mode": "markers",
         "name": "rice with tomato",
         "orientation": "v",
         "showlegend": true,
         "type": "scatter",
         "x": [
          "tuesday"
         ],
         "xaxis": "x",
         "y": [
          2
         ],
         "yaxis": "y"
        },
        {
         "hovertemplate": "<b>%{hovertext}</b><br><br>meal=roast beef<br>weekday=%{x}<br>number_meals=%{y}<extra></extra>",
         "hovertext": [
          "roast beef"
         ],
         "legendgroup": "roast beef",
         "marker": {
          "color": "#FECB52",
          "opacity": 0.6,
          "size": 8,
          "symbol": "circle"
         },
         "mode": "markers",
         "name": "roast beef",
         "orientation": "v",
         "showlegend": true,
         "type": "scatter",
         "x": [
          "tuesday"
         ],
         "xaxis": "x",
         "y": [
          1
         ],
         "yaxis": "y"
        },
        {
         "hovertemplate": "<b>%{hovertext}</b><br><br>meal=sauteed cauliflower<br>weekday=%{x}<br>number_meals=%{y}<extra></extra>",
         "hovertext": [
          "sauteed cauliflower"
         ],
         "legendgroup": "sauteed cauliflower",
         "marker": {
          "color": "#636efa",
          "opacity": 0.6,
          "size": 8,
          "symbol": "circle"
         },
         "mode": "markers",
         "name": "sauteed cauliflower",
         "orientation": "v",
         "showlegend": true,
         "type": "scatter",
         "x": [
          "tuesday"
         ],
         "xaxis": "x",
         "y": [
          1
         ],
         "yaxis": "y"
        },
        {
         "hovertemplate": "<b>%{hovertext}</b><br><br>meal=stroganoff tenderloin<br>weekday=%{x}<br>number_meals=%{y}<extra></extra>",
         "hovertext": [
          "stroganoff tenderloin"
         ],
         "legendgroup": "stroganoff tenderloin",
         "marker": {
          "color": "#EF553B",
          "opacity": 0.6,
          "size": 8,
          "symbol": "circle"
         },
         "mode": "markers",
         "name": "stroganoff tenderloin",
         "orientation": "v",
         "showlegend": true,
         "type": "scatter",
         "x": [
          "tuesday"
         ],
         "xaxis": "x",
         "y": [
          1
         ],
         "yaxis": "y"
        },
        {
         "hovertemplate": "<b>%{hovertext}</b><br><br>meal=carbonara macaroni<br>weekday=%{x}<br>number_meals=%{y}<extra></extra>",
         "hovertext": [
          "carbonara macaroni"
         ],
         "legendgroup": "carbonara macaroni",
         "marker": {
          "color": "#00cc96",
          "opacity": 0.6,
          "size": 8,
          "symbol": "circle"
         },
         "mode": "markers",
         "name": "carbonara macaroni",
         "orientation": "v",
         "showlegend": true,
         "type": "scatter",
         "x": [
          "wednesday"
         ],
         "xaxis": "x",
         "y": [
          1
         ],
         "yaxis": "y"
        },
        {
         "hovertemplate": "<b>%{hovertext}</b><br><br>meal=fried rooster<br>weekday=%{x}<br>number_meals=%{y}<extra></extra>",
         "hovertext": [
          "fried rooster"
         ],
         "legendgroup": "fried rooster",
         "marker": {
          "color": "#ab63fa",
          "opacity": 0.6,
          "size": 8,
          "symbol": "circle"
         },
         "mode": "markers",
         "name": "fried rooster",
         "orientation": "v",
         "showlegend": true,
         "type": "scatter",
         "x": [
          "wednesday"
         ],
         "xaxis": "x",
         "y": [
          1
         ],
         "yaxis": "y"
        },
        {
         "hovertemplate": "<b>%{hovertext}</b><br><br>meal=green beans<br>weekday=%{x}<br>number_meals=%{y}<extra></extra>",
         "hovertext": [
          "green beans"
         ],
         "legendgroup": "green beans",
         "marker": {
          "color": "#FFA15A",
          "opacity": 0.6,
          "size": 8,
          "symbol": "circle"
         },
         "mode": "markers",
         "name": "green beans",
         "orientation": "v",
         "showlegend": true,
         "type": "scatter",
         "x": [
          "wednesday"
         ],
         "xaxis": "x",
         "y": [
          1
         ],
         "yaxis": "y"
        },
        {
         "hovertemplate": "<b>%{hovertext}</b><br><br>meal=loin fillet<br>weekday=%{x}<br>number_meals=%{y}<extra></extra>",
         "hovertext": [
          "loin fillet"
         ],
         "legendgroup": "loin fillet",
         "marker": {
          "color": "#19d3f3",
          "opacity": 0.6,
          "size": 8,
          "symbol": "circle"
         },
         "mode": "markers",
         "name": "loin fillet",
         "orientation": "v",
         "showlegend": true,
         "type": "scatter",
         "x": [
          "wednesday"
         ],
         "xaxis": "x",
         "y": [
          1
         ],
         "yaxis": "y"
        },
        {
         "hovertemplate": "<b>%{hovertext}</b><br><br>meal=swordfish<br>weekday=%{x}<br>number_meals=%{y}<extra></extra>",
         "hovertext": [
          "swordfish"
         ],
         "legendgroup": "swordfish",
         "marker": {
          "color": "#FF6692",
          "opacity": 0.6,
          "size": 8,
          "symbol": "circle"
         },
         "mode": "markers",
         "name": "swordfish",
         "orientation": "v",
         "showlegend": true,
         "type": "scatter",
         "x": [
          "wednesday"
         ],
         "xaxis": "x",
         "y": [
          1
         ],
         "yaxis": "y"
        },
        {
         "hovertemplate": "<b>%{hovertext}</b><br><br>meal=tomato<br>weekday=%{x}<br>number_meals=%{y}<extra></extra>",
         "hovertext": [
          "tomato"
         ],
         "legendgroup": "tomato",
         "marker": {
          "color": "#B6E880",
          "opacity": 0.6,
          "size": 8,
          "symbol": "circle"
         },
         "mode": "markers",
         "name": "tomato",
         "orientation": "v",
         "showlegend": true,
         "type": "scatter",
         "x": [
          "wednesday"
         ],
         "xaxis": "x",
         "y": [
          1
         ],
         "yaxis": "y"
        }
       ],
       "layout": {
        "autosize": true,
        "legend": {
         "title": {
          "text": "meal"
         },
         "tracegroupgap": 0
        },
        "template": {
         "data": {
          "bar": [
           {
            "error_x": {
             "color": "#2a3f5f"
            },
            "error_y": {
             "color": "#2a3f5f"
            },
            "marker": {
             "line": {
              "color": "#E5ECF6",
              "width": 0.5
             },
             "pattern": {
              "fillmode": "overlay",
              "size": 10,
              "solidity": 0.2
             }
            },
            "type": "bar"
           }
          ],
          "barpolar": [
           {
            "marker": {
             "line": {
              "color": "#E5ECF6",
              "width": 0.5
             },
             "pattern": {
              "fillmode": "overlay",
              "size": 10,
              "solidity": 0.2
             }
            },
            "type": "barpolar"
           }
          ],
          "carpet": [
           {
            "aaxis": {
             "endlinecolor": "#2a3f5f",
             "gridcolor": "white",
             "linecolor": "white",
             "minorgridcolor": "white",
             "startlinecolor": "#2a3f5f"
            },
            "baxis": {
             "endlinecolor": "#2a3f5f",
             "gridcolor": "white",
             "linecolor": "white",
             "minorgridcolor": "white",
             "startlinecolor": "#2a3f5f"
            },
            "type": "carpet"
           }
          ],
          "choropleth": [
           {
            "colorbar": {
             "outlinewidth": 0,
             "ticks": ""
            },
            "type": "choropleth"
           }
          ],
          "contour": [
           {
            "colorbar": {
             "outlinewidth": 0,
             "ticks": ""
            },
            "colorscale": [
             [
              0,
              "#0d0887"
             ],
             [
              0.1111111111111111,
              "#46039f"
             ],
             [
              0.2222222222222222,
              "#7201a8"
             ],
             [
              0.3333333333333333,
              "#9c179e"
             ],
             [
              0.4444444444444444,
              "#bd3786"
             ],
             [
              0.5555555555555556,
              "#d8576b"
             ],
             [
              0.6666666666666666,
              "#ed7953"
             ],
             [
              0.7777777777777778,
              "#fb9f3a"
             ],
             [
              0.8888888888888888,
              "#fdca26"
             ],
             [
              1,
              "#f0f921"
             ]
            ],
            "type": "contour"
           }
          ],
          "contourcarpet": [
           {
            "colorbar": {
             "outlinewidth": 0,
             "ticks": ""
            },
            "type": "contourcarpet"
           }
          ],
          "heatmap": [
           {
            "colorbar": {
             "outlinewidth": 0,
             "ticks": ""
            },
            "colorscale": [
             [
              0,
              "#0d0887"
             ],
             [
              0.1111111111111111,
              "#46039f"
             ],
             [
              0.2222222222222222,
              "#7201a8"
             ],
             [
              0.3333333333333333,
              "#9c179e"
             ],
             [
              0.4444444444444444,
              "#bd3786"
             ],
             [
              0.5555555555555556,
              "#d8576b"
             ],
             [
              0.6666666666666666,
              "#ed7953"
             ],
             [
              0.7777777777777778,
              "#fb9f3a"
             ],
             [
              0.8888888888888888,
              "#fdca26"
             ],
             [
              1,
              "#f0f921"
             ]
            ],
            "type": "heatmap"
           }
          ],
          "heatmapgl": [
           {
            "colorbar": {
             "outlinewidth": 0,
             "ticks": ""
            },
            "colorscale": [
             [
              0,
              "#0d0887"
             ],
             [
              0.1111111111111111,
              "#46039f"
             ],
             [
              0.2222222222222222,
              "#7201a8"
             ],
             [
              0.3333333333333333,
              "#9c179e"
             ],
             [
              0.4444444444444444,
              "#bd3786"
             ],
             [
              0.5555555555555556,
              "#d8576b"
             ],
             [
              0.6666666666666666,
              "#ed7953"
             ],
             [
              0.7777777777777778,
              "#fb9f3a"
             ],
             [
              0.8888888888888888,
              "#fdca26"
             ],
             [
              1,
              "#f0f921"
             ]
            ],
            "type": "heatmapgl"
           }
          ],
          "histogram": [
           {
            "marker": {
             "pattern": {
              "fillmode": "overlay",
              "size": 10,
              "solidity": 0.2
             }
            },
            "type": "histogram"
           }
          ],
          "histogram2d": [
           {
            "colorbar": {
             "outlinewidth": 0,
             "ticks": ""
            },
            "colorscale": [
             [
              0,
              "#0d0887"
             ],
             [
              0.1111111111111111,
              "#46039f"
             ],
             [
              0.2222222222222222,
              "#7201a8"
             ],
             [
              0.3333333333333333,
              "#9c179e"
             ],
             [
              0.4444444444444444,
              "#bd3786"
             ],
             [
              0.5555555555555556,
              "#d8576b"
             ],
             [
              0.6666666666666666,
              "#ed7953"
             ],
             [
              0.7777777777777778,
              "#fb9f3a"
             ],
             [
              0.8888888888888888,
              "#fdca26"
             ],
             [
              1,
              "#f0f921"
             ]
            ],
            "type": "histogram2d"
           }
          ],
          "histogram2dcontour": [
           {
            "colorbar": {
             "outlinewidth": 0,
             "ticks": ""
            },
            "colorscale": [
             [
              0,
              "#0d0887"
             ],
             [
              0.1111111111111111,
              "#46039f"
             ],
             [
              0.2222222222222222,
              "#7201a8"
             ],
             [
              0.3333333333333333,
              "#9c179e"
             ],
             [
              0.4444444444444444,
              "#bd3786"
             ],
             [
              0.5555555555555556,
              "#d8576b"
             ],
             [
              0.6666666666666666,
              "#ed7953"
             ],
             [
              0.7777777777777778,
              "#fb9f3a"
             ],
             [
              0.8888888888888888,
              "#fdca26"
             ],
             [
              1,
              "#f0f921"
             ]
            ],
            "type": "histogram2dcontour"
           }
          ],
          "mesh3d": [
           {
            "colorbar": {
             "outlinewidth": 0,
             "ticks": ""
            },
            "type": "mesh3d"
           }
          ],
          "parcoords": [
           {
            "line": {
             "colorbar": {
              "outlinewidth": 0,
              "ticks": ""
             }
            },
            "type": "parcoords"
           }
          ],
          "pie": [
           {
            "automargin": true,
            "type": "pie"
           }
          ],
          "scatter": [
           {
            "fillpattern": {
             "fillmode": "overlay",
             "size": 10,
             "solidity": 0.2
            },
            "type": "scatter"
           }
          ],
          "scatter3d": [
           {
            "line": {
             "colorbar": {
              "outlinewidth": 0,
              "ticks": ""
             }
            },
            "marker": {
             "colorbar": {
              "outlinewidth": 0,
              "ticks": ""
             }
            },
            "type": "scatter3d"
           }
          ],
          "scattercarpet": [
           {
            "marker": {
             "colorbar": {
              "outlinewidth": 0,
              "ticks": ""
             }
            },
            "type": "scattercarpet"
           }
          ],
          "scattergeo": [
           {
            "marker": {
             "colorbar": {
              "outlinewidth": 0,
              "ticks": ""
             }
            },
            "type": "scattergeo"
           }
          ],
          "scattergl": [
           {
            "marker": {
             "colorbar": {
              "outlinewidth": 0,
              "ticks": ""
             }
            },
            "type": "scattergl"
           }
          ],
          "scattermapbox": [
           {
            "marker": {
             "colorbar": {
              "outlinewidth": 0,
              "ticks": ""
             }
            },
            "type": "scattermapbox"
           }
          ],
          "scatterpolar": [
           {
            "marker": {
             "colorbar": {
              "outlinewidth": 0,
              "ticks": ""
             }
            },
            "type": "scatterpolar"
           }
          ],
          "scatterpolargl": [
           {
            "marker": {
             "colorbar": {
              "outlinewidth": 0,
              "ticks": ""
             }
            },
            "type": "scatterpolargl"
           }
          ],
          "scatterternary": [
           {
            "marker": {
             "colorbar": {
              "outlinewidth": 0,
              "ticks": ""
             }
            },
            "type": "scatterternary"
           }
          ],
          "surface": [
           {
            "colorbar": {
             "outlinewidth": 0,
             "ticks": ""
            },
            "colorscale": [
             [
              0,
              "#0d0887"
             ],
             [
              0.1111111111111111,
              "#46039f"
             ],
             [
              0.2222222222222222,
              "#7201a8"
             ],
             [
              0.3333333333333333,
              "#9c179e"
             ],
             [
              0.4444444444444444,
              "#bd3786"
             ],
             [
              0.5555555555555556,
              "#d8576b"
             ],
             [
              0.6666666666666666,
              "#ed7953"
             ],
             [
              0.7777777777777778,
              "#fb9f3a"
             ],
             [
              0.8888888888888888,
              "#fdca26"
             ],
             [
              1,
              "#f0f921"
             ]
            ],
            "type": "surface"
           }
          ],
          "table": [
           {
            "cells": {
             "fill": {
              "color": "#EBF0F8"
             },
             "line": {
              "color": "white"
             }
            },
            "header": {
             "fill": {
              "color": "#C8D4E3"
             },
             "line": {
              "color": "white"
             }
            },
            "type": "table"
           }
          ]
         },
         "layout": {
          "annotationdefaults": {
           "arrowcolor": "#2a3f5f",
           "arrowhead": 0,
           "arrowwidth": 1
          },
          "autotypenumbers": "strict",
          "coloraxis": {
           "colorbar": {
            "outlinewidth": 0,
            "ticks": ""
           }
          },
          "colorscale": {
           "diverging": [
            [
             0,
             "#8e0152"
            ],
            [
             0.1,
             "#c51b7d"
            ],
            [
             0.2,
             "#de77ae"
            ],
            [
             0.3,
             "#f1b6da"
            ],
            [
             0.4,
             "#fde0ef"
            ],
            [
             0.5,
             "#f7f7f7"
            ],
            [
             0.6,
             "#e6f5d0"
            ],
            [
             0.7,
             "#b8e186"
            ],
            [
             0.8,
             "#7fbc41"
            ],
            [
             0.9,
             "#4d9221"
            ],
            [
             1,
             "#276419"
            ]
           ],
           "sequential": [
            [
             0,
             "#0d0887"
            ],
            [
             0.1111111111111111,
             "#46039f"
            ],
            [
             0.2222222222222222,
             "#7201a8"
            ],
            [
             0.3333333333333333,
             "#9c179e"
            ],
            [
             0.4444444444444444,
             "#bd3786"
            ],
            [
             0.5555555555555556,
             "#d8576b"
            ],
            [
             0.6666666666666666,
             "#ed7953"
            ],
            [
             0.7777777777777778,
             "#fb9f3a"
            ],
            [
             0.8888888888888888,
             "#fdca26"
            ],
            [
             1,
             "#f0f921"
            ]
           ],
           "sequentialminus": [
            [
             0,
             "#0d0887"
            ],
            [
             0.1111111111111111,
             "#46039f"
            ],
            [
             0.2222222222222222,
             "#7201a8"
            ],
            [
             0.3333333333333333,
             "#9c179e"
            ],
            [
             0.4444444444444444,
             "#bd3786"
            ],
            [
             0.5555555555555556,
             "#d8576b"
            ],
            [
             0.6666666666666666,
             "#ed7953"
            ],
            [
             0.7777777777777778,
             "#fb9f3a"
            ],
            [
             0.8888888888888888,
             "#fdca26"
            ],
            [
             1,
             "#f0f921"
            ]
           ]
          },
          "colorway": [
           "#636efa",
           "#EF553B",
           "#00cc96",
           "#ab63fa",
           "#FFA15A",
           "#19d3f3",
           "#FF6692",
           "#B6E880",
           "#FF97FF",
           "#FECB52"
          ],
          "font": {
           "color": "#2a3f5f"
          },
          "geo": {
           "bgcolor": "white",
           "lakecolor": "white",
           "landcolor": "#E5ECF6",
           "showlakes": true,
           "showland": true,
           "subunitcolor": "white"
          },
          "hoverlabel": {
           "align": "left"
          },
          "hovermode": "closest",
          "mapbox": {
           "style": "light"
          },
          "paper_bgcolor": "white",
          "plot_bgcolor": "#E5ECF6",
          "polar": {
           "angularaxis": {
            "gridcolor": "white",
            "linecolor": "white",
            "ticks": ""
           },
           "bgcolor": "#E5ECF6",
           "radialaxis": {
            "gridcolor": "white",
            "linecolor": "white",
            "ticks": ""
           }
          },
          "scene": {
           "xaxis": {
            "backgroundcolor": "#E5ECF6",
            "gridcolor": "white",
            "gridwidth": 2,
            "linecolor": "white",
            "showbackground": true,
            "ticks": "",
            "zerolinecolor": "white"
           },
           "yaxis": {
            "backgroundcolor": "#E5ECF6",
            "gridcolor": "white",
            "gridwidth": 2,
            "linecolor": "white",
            "showbackground": true,
            "ticks": "",
            "zerolinecolor": "white"
           },
           "zaxis": {
            "backgroundcolor": "#E5ECF6",
            "gridcolor": "white",
            "gridwidth": 2,
            "linecolor": "white",
            "showbackground": true,
            "ticks": "",
            "zerolinecolor": "white"
           }
          },
          "shapedefaults": {
           "line": {
            "color": "#2a3f5f"
           }
          },
          "ternary": {
           "aaxis": {
            "gridcolor": "white",
            "linecolor": "white",
            "ticks": ""
           },
           "baxis": {
            "gridcolor": "white",
            "linecolor": "white",
            "ticks": ""
           },
           "bgcolor": "#E5ECF6",
           "caxis": {
            "gridcolor": "white",
            "linecolor": "white",
            "ticks": ""
           }
          },
          "title": {
           "x": 0.05
          },
          "xaxis": {
           "automargin": true,
           "gridcolor": "white",
           "linecolor": "white",
           "ticks": "",
           "title": {
            "standoff": 15
           },
           "zerolinecolor": "white",
           "zerolinewidth": 2
          },
          "yaxis": {
           "automargin": true,
           "gridcolor": "white",
           "linecolor": "white",
           "ticks": "",
           "title": {
            "standoff": 15
           },
           "zerolinecolor": "white",
           "zerolinewidth": 2
          }
         }
        },
        "title": {
         "text": "Mealsby day"
        },
        "xaxis": {
         "anchor": "y",
         "autorange": true,
         "domain": [
          0,
          1
         ],
         "range": [
          -0.3193799610603564,
          5.319379961060356
         ],
         "title": {
          "text": "weekday"
         },
         "type": "category"
        },
        "yaxis": {
         "anchor": "x",
         "autorange": true,
         "domain": [
          0,
          1
         ],
         "range": [
          -0.19736842105263164,
          15.197368421052632
         ],
         "title": {
          "text": "number_meals"
         },
         "type": "linear"
        }
       }
      },
      "image/png": "[encoded data removed]",
      "text/html": [
       "<div>                            <div id=\"b0e7ea72-3bcc-4c5c-aad7-acb4827da74e\" class=\"plotly-graph-div\" style=\"height:525px; width:100%;\"></div>            <script type=\"text/javascript\">                require([\"plotly\"], function(Plotly) {                    window.PLOTLYENV=window.PLOTLYENV || {};                                    if (document.getElementById(\"b0e7ea72-3bcc-4c5c-aad7-acb4827da74e\")) {                    Plotly.newPlot(                        \"b0e7ea72-3bcc-4c5c-aad7-acb4827da74e\",                        [{\"hovertemplate\":\"<b>%{hovertext}</b><br><br>meal=Soup<br>weekday=%{x}<br>number_meals=%{y}<extra></extra>\",\"hovertext\":[\"Soup\",\"Soup\",\"Soup\",\"Soup\",\"Soup\"],\"legendgroup\":\"Soup\",\"marker\":{\"color\":\"#636efa\",\"symbol\":\"circle\",\"opacity\":0.6,\"size\":8},\"mode\":\"markers\",\"name\":\"Soup\",\"orientation\":\"v\",\"showlegend\":true,\"x\":[\"friday\",\"monday\",\"thursday\",\"tuesday\",\"wednesday\"],\"xaxis\":\"x\",\"y\":[5,4,4,5,2],\"yaxis\":\"y\",\"type\":\"scatter\"},{\"hovertemplate\":\"<b>%{hovertext}</b><br><br>meal=beef fillet<br>weekday=%{x}<br>number_meals=%{y}<extra></extra>\",\"hovertext\":[\"beef fillet\",\"beef fillet\"],\"legendgroup\":\"beef fillet\",\"marker\":{\"color\":\"#EF553B\",\"symbol\":\"circle\",\"opacity\":0.6,\"size\":8},\"mode\":\"markers\",\"name\":\"beef fillet\",\"orientation\":\"v\",\"showlegend\":true,\"x\":[\"friday\",\"thursday\"],\"xaxis\":\"x\",\"y\":[1,1],\"yaxis\":\"y\",\"type\":\"scatter\"},{\"hovertemplate\":\"<b>%{hovertext}</b><br><br>meal=broccoli with fried egg<br>weekday=%{x}<br>number_meals=%{y}<extra></extra>\",\"hovertext\":[\"broccoli with fried egg\"],\"legendgroup\":\"broccoli with fried egg\",\"marker\":{\"color\":\"#00cc96\",\"symbol\":\"circle\",\"opacity\":0.6,\"size\":8},\"mode\":\"markers\",\"name\":\"broccoli with fried egg\",\"orientation\":\"v\",\"showlegend\":true,\"x\":[\"friday\"],\"xaxis\":\"x\",\"y\":[1],\"yaxis\":\"y\",\"type\":\"scatter\"},{\"hovertemplate\":\"<b>%{hovertext}</b><br><br>meal=broccoli with meat<br>weekday=%{x}<br>number_meals=%{y}<extra></extra>\",\"hovertext\":[\"broccoli with meat\",\"broccoli with meat\"],\"legendgroup\":\"broccoli with meat\",\"marker\":{\"color\":\"#ab63fa\",\"symbol\":\"circle\",\"opacity\":0.6,\"size\":8},\"mode\":\"markers\",\"name\":\"broccoli with meat\",\"orientation\":\"v\",\"showlegend\":true,\"x\":[\"friday\",\"thursday\"],\"xaxis\":\"x\",\"y\":[1,1],\"yaxis\":\"y\",\"type\":\"scatter\"},{\"hovertemplate\":\"<b>%{hovertext}</b><br><br>meal=butterfly chicken<br>weekday=%{x}<br>number_meals=%{y}<extra></extra>\",\"hovertext\":[\"butterfly chicken\",\"butterfly chicken\"],\"legendgroup\":\"butterfly chicken\",\"marker\":{\"color\":\"#FFA15A\",\"symbol\":\"circle\",\"opacity\":0.6,\"size\":8},\"mode\":\"markers\",\"name\":\"butterfly chicken\",\"orientation\":\"v\",\"showlegend\":true,\"x\":[\"friday\",\"thursday\"],\"xaxis\":\"x\",\"y\":[1,1],\"yaxis\":\"y\",\"type\":\"scatter\"},{\"hovertemplate\":\"<b>%{hovertext}</b><br><br>meal=carrot cream<br>weekday=%{x}<br>number_meals=%{y}<extra></extra>\",\"hovertext\":[\"carrot cream\",\"carrot cream\",\"carrot cream\",\"carrot cream\",\"carrot cream\"],\"legendgroup\":\"carrot cream\",\"marker\":{\"color\":\"#19d3f3\",\"symbol\":\"circle\",\"opacity\":0.6,\"size\":8},\"mode\":\"markers\",\"name\":\"carrot cream\",\"orientation\":\"v\",\"showlegend\":true,\"x\":[\"friday\",\"monday\",\"thursday\",\"tuesday\",\"wednesday\"],\"xaxis\":\"x\",\"y\":[7,6,6,2,4],\"yaxis\":\"y\",\"type\":\"scatter\"},{\"hovertemplate\":\"<b>%{hovertext}</b><br><br>meal=chicken fillet<br>weekday=%{x}<br>number_meals=%{y}<extra></extra>\",\"hovertext\":[\"chicken fillet\",\"chicken fillet\",\"chicken fillet\",\"chicken fillet\",\"chicken fillet\"],\"legendgroup\":\"chicken fillet\",\"marker\":{\"color\":\"#FF6692\",\"symbol\":\"circle\",\"opacity\":0.6,\"size\":8},\"mode\":\"markers\",\"name\":\"chicken fillet\",\"orientation\":\"v\",\"showlegend\":true,\"x\":[\"friday\",\"monday\",\"thursday\",\"tuesday\",\"wednesday\"],\"xaxis\":\"x\",\"y\":[1,4,2,2,3],\"yaxis\":\"y\",\"type\":\"scatter\"},{\"hovertemplate\":\"<b>%{hovertext}</b><br><br>meal=chicken soup<br>weekday=%{x}<br>number_meals=%{y}<extra></extra>\",\"hovertext\":[\"chicken soup\",\"chicken soup\",\"chicken soup\",\"chicken soup\",\"chicken soup\"],\"legendgroup\":\"chicken soup\",\"marker\":{\"color\":\"#B6E880\",\"symbol\":\"circle\",\"opacity\":0.6,\"size\":8},\"mode\":\"markers\",\"name\":\"chicken soup\",\"orientation\":\"v\",\"showlegend\":true,\"x\":[\"friday\",\"monday\",\"thursday\",\"tuesday\",\"wednesday\"],\"xaxis\":\"x\",\"y\":[2,1,3,2,3],\"yaxis\":\"y\",\"type\":\"scatter\"},{\"hovertemplate\":\"<b>%{hovertext}</b><br><br>meal=chickpea salad<br>weekday=%{x}<br>number_meals=%{y}<extra></extra>\",\"hovertext\":[\"chickpea salad\",\"chickpea salad\"],\"legendgroup\":\"chickpea salad\",\"marker\":{\"color\":\"#FF97FF\",\"symbol\":\"circle\",\"opacity\":0.6,\"size\":8},\"mode\":\"markers\",\"name\":\"chickpea salad\",\"orientation\":\"v\",\"showlegend\":true,\"x\":[\"friday\",\"thursday\"],\"xaxis\":\"x\",\"y\":[1,1],\"yaxis\":\"y\",\"type\":\"scatter\"},{\"hovertemplate\":\"<b>%{hovertext}</b><br><br>meal=cream<br>weekday=%{x}<br>number_meals=%{y}<extra></extra>\",\"hovertext\":[\"cream\",\"cream\",\"cream\",\"cream\",\"cream\"],\"legendgroup\":\"cream\",\"marker\":{\"color\":\"#FECB52\",\"symbol\":\"circle\",\"opacity\":0.6,\"size\":8},\"mode\":\"markers\",\"name\":\"cream\",\"orientation\":\"v\",\"showlegend\":true,\"x\":[\"friday\",\"monday\",\"thursday\",\"tuesday\",\"wednesday\"],\"xaxis\":\"x\",\"y\":[7,4,5,5,4],\"yaxis\":\"y\",\"type\":\"scatter\"},{\"hovertemplate\":\"<b>%{hovertext}</b><br><br>meal=egg<br>weekday=%{x}<br>number_meals=%{y}<extra></extra>\",\"hovertext\":[\"egg\",\"egg\"],\"legendgroup\":\"egg\",\"marker\":{\"color\":\"#636efa\",\"symbol\":\"circle\",\"opacity\":0.6,\"size\":8},\"mode\":\"markers\",\"name\":\"egg\",\"orientation\":\"v\",\"showlegend\":true,\"x\":[\"friday\",\"tuesday\"],\"xaxis\":\"x\",\"y\":[1,1],\"yaxis\":\"y\",\"type\":\"scatter\"},{\"hovertemplate\":\"<b>%{hovertext}</b><br><br>meal=eggplant bolognese<br>weekday=%{x}<br>number_meals=%{y}<extra></extra>\",\"hovertext\":[\"eggplant bolognese\",\"eggplant bolognese\"],\"legendgroup\":\"eggplant bolognese\",\"marker\":{\"color\":\"#EF553B\",\"symbol\":\"circle\",\"opacity\":0.6,\"size\":8},\"mode\":\"markers\",\"name\":\"eggplant bolognese\",\"orientation\":\"v\",\"showlegend\":true,\"x\":[\"friday\",\"thursday\"],\"xaxis\":\"x\",\"y\":[3,1],\"yaxis\":\"y\",\"type\":\"scatter\"},{\"hovertemplate\":\"<b>%{hovertext}</b><br><br>meal=fish stew<br>weekday=%{x}<br>number_meals=%{y}<extra></extra>\",\"hovertext\":[\"fish stew\",\"fish stew\",\"fish stew\",\"fish stew\",\"fish stew\"],\"legendgroup\":\"fish stew\",\"marker\":{\"color\":\"#00cc96\",\"symbol\":\"circle\",\"opacity\":0.6,\"size\":8},\"mode\":\"markers\",\"name\":\"fish stew\",\"orientation\":\"v\",\"showlegend\":true,\"x\":[\"friday\",\"monday\",\"thursday\",\"tuesday\",\"wednesday\"],\"xaxis\":\"x\",\"y\":[1,2,3,2,2],\"yaxis\":\"y\",\"type\":\"scatter\"},{\"hovertemplate\":\"<b>%{hovertext}</b><br><br>meal=french fries<br>weekday=%{x}<br>number_meals=%{y}<extra></extra>\",\"hovertext\":[\"french fries\",\"french fries\",\"french fries\",\"french fries\",\"french fries\"],\"legendgroup\":\"french fries\",\"marker\":{\"color\":\"#ab63fa\",\"symbol\":\"circle\",\"opacity\":0.6,\"size\":8},\"mode\":\"markers\",\"name\":\"french fries\",\"orientation\":\"v\",\"showlegend\":true,\"x\":[\"friday\",\"monday\",\"thursday\",\"tuesday\",\"wednesday\"],\"xaxis\":\"x\",\"y\":[1,2,5,6,4],\"yaxis\":\"y\",\"type\":\"scatter\"},{\"hovertemplate\":\"<b>%{hovertext}</b><br><br>meal=garlic mushrooms<br>weekday=%{x}<br>number_meals=%{y}<extra></extra>\",\"hovertext\":[\"garlic mushrooms\",\"garlic mushrooms\",\"garlic mushrooms\",\"garlic mushrooms\",\"garlic mushrooms\"],\"legendgroup\":\"garlic mushrooms\",\"marker\":{\"color\":\"#FFA15A\",\"symbol\":\"circle\",\"opacity\":0.6,\"size\":8},\"mode\":\"markers\",\"name\":\"garlic mushrooms\",\"orientation\":\"v\",\"showlegend\":true,\"x\":[\"friday\",\"monday\",\"thursday\",\"tuesday\",\"wednesday\"],\"xaxis\":\"x\",\"y\":[2,1,1,1,1],\"yaxis\":\"y\",\"type\":\"scatter\"},{\"hovertemplate\":\"<b>%{hovertext}</b><br><br>meal=gazpacho<br>weekday=%{x}<br>number_meals=%{y}<extra></extra>\",\"hovertext\":[\"gazpacho\",\"gazpacho\"],\"legendgroup\":\"gazpacho\",\"marker\":{\"color\":\"#19d3f3\",\"symbol\":\"circle\",\"opacity\":0.6,\"size\":8},\"mode\":\"markers\",\"name\":\"gazpacho\",\"orientation\":\"v\",\"showlegend\":true,\"x\":[\"friday\",\"monday\"],\"xaxis\":\"x\",\"y\":[1,1],\"yaxis\":\"y\",\"type\":\"scatter\"},{\"hovertemplate\":\"<b>%{hovertext}</b><br><br>meal=green beans with fried egg<br>weekday=%{x}<br>number_meals=%{y}<extra></extra>\",\"hovertext\":[\"green beans with fried egg\",\"green beans with fried egg\"],\"legendgroup\":\"green beans with fried egg\",\"marker\":{\"color\":\"#FF6692\",\"symbol\":\"circle\",\"opacity\":0.6,\"size\":8},\"mode\":\"markers\",\"name\":\"green beans with fried egg\",\"orientation\":\"v\",\"showlegend\":true,\"x\":[\"friday\",\"thursday\"],\"xaxis\":\"x\",\"y\":[1,1],\"yaxis\":\"y\",\"type\":\"scatter\"},{\"hovertemplate\":\"<b>%{hovertext}</b><br><br>meal=ground/minced meat<br>weekday=%{x}<br>number_meals=%{y}<extra></extra>\",\"hovertext\":[\"ground/minced meat\"],\"legendgroup\":\"ground/minced meat\",\"marker\":{\"color\":\"#B6E880\",\"symbol\":\"circle\",\"opacity\":0.6,\"size\":8},\"mode\":\"markers\",\"name\":\"ground/minced meat\",\"orientation\":\"v\",\"showlegend\":true,\"x\":[\"friday\"],\"xaxis\":\"x\",\"y\":[1],\"yaxis\":\"y\",\"type\":\"scatter\"},{\"hovertemplate\":\"<b>%{hovertext}</b><br><br>meal=hake<br>weekday=%{x}<br>number_meals=%{y}<extra></extra>\",\"hovertext\":[\"hake\",\"hake\",\"hake\",\"hake\",\"hake\"],\"legendgroup\":\"hake\",\"marker\":{\"color\":\"#FF97FF\",\"symbol\":\"circle\",\"opacity\":0.6,\"size\":8},\"mode\":\"markers\",\"name\":\"hake\",\"orientation\":\"v\",\"showlegend\":true,\"x\":[\"friday\",\"monday\",\"thursday\",\"tuesday\",\"wednesday\"],\"xaxis\":\"x\",\"y\":[2,1,1,3,2],\"yaxis\":\"y\",\"type\":\"scatter\"},{\"hovertemplate\":\"<b>%{hovertext}</b><br><br>meal=kale with fried potatoes<br>weekday=%{x}<br>number_meals=%{y}<extra></extra>\",\"hovertext\":[\"kale with fried potatoes\",\"kale with fried potatoes\"],\"legendgroup\":\"kale with fried potatoes\",\"marker\":{\"color\":\"#FECB52\",\"symbol\":\"circle\",\"opacity\":0.6,\"size\":8},\"mode\":\"markers\",\"name\":\"kale with fried potatoes\",\"orientation\":\"v\",\"showlegend\":true,\"x\":[\"friday\",\"monday\"],\"xaxis\":\"x\",\"y\":[1,1],\"yaxis\":\"y\",\"type\":\"scatter\"},{\"hovertemplate\":\"<b>%{hovertext}</b><br><br>meal=leek cream<br>weekday=%{x}<br>number_meals=%{y}<extra></extra>\",\"hovertext\":[\"leek cream\",\"leek cream\",\"leek cream\",\"leek cream\",\"leek cream\"],\"legendgroup\":\"leek cream\",\"marker\":{\"color\":\"#636efa\",\"symbol\":\"circle\",\"opacity\":0.6,\"size\":8},\"mode\":\"markers\",\"name\":\"leek cream\",\"orientation\":\"v\",\"showlegend\":true,\"x\":[\"friday\",\"monday\",\"thursday\",\"tuesday\",\"wednesday\"],\"xaxis\":\"x\",\"y\":[3,3,5,2,5],\"yaxis\":\"y\",\"type\":\"scatter\"},{\"hovertemplate\":\"<b>%{hovertext}</b><br><br>meal=lentils<br>weekday=%{x}<br>number_meals=%{y}<extra></extra>\",\"hovertext\":[\"lentils\",\"lentils\",\"lentils\",\"lentils\",\"lentils\"],\"legendgroup\":\"lentils\",\"marker\":{\"color\":\"#EF553B\",\"symbol\":\"circle\",\"opacity\":0.6,\"size\":8},\"mode\":\"markers\",\"name\":\"lentils\",\"orientation\":\"v\",\"showlegend\":true,\"x\":[\"friday\",\"monday\",\"thursday\",\"tuesday\",\"wednesday\"],\"xaxis\":\"x\",\"y\":[1,4,4,1,3],\"yaxis\":\"y\",\"type\":\"scatter\"},{\"hovertemplate\":\"<b>%{hovertext}</b><br><br>meal=mixed salad<br>weekday=%{x}<br>number_meals=%{y}<extra></extra>\",\"hovertext\":[\"mixed salad\",\"mixed salad\",\"mixed salad\",\"mixed salad\",\"mixed salad\"],\"legendgroup\":\"mixed salad\",\"marker\":{\"color\":\"#00cc96\",\"symbol\":\"circle\",\"opacity\":0.6,\"size\":8},\"mode\":\"markers\",\"name\":\"mixed salad\",\"orientation\":\"v\",\"showlegend\":true,\"x\":[\"friday\",\"monday\",\"thursday\",\"tuesday\",\"wednesday\"],\"xaxis\":\"x\",\"y\":[1,3,2,3,1],\"yaxis\":\"y\",\"type\":\"scatter\"},{\"hovertemplate\":\"<b>%{hovertext}</b><br><br>meal=peas with fish<br>weekday=%{x}<br>number_meals=%{y}<extra></extra>\",\"hovertext\":[\"peas with fish\",\"peas with fish\",\"peas with fish\"],\"legendgroup\":\"peas with fish\",\"marker\":{\"color\":\"#ab63fa\",\"symbol\":\"circle\",\"opacity\":0.6,\"size\":8},\"mode\":\"markers\",\"name\":\"peas with fish\",\"orientation\":\"v\",\"showlegend\":true,\"x\":[\"friday\",\"thursday\",\"wednesday\"],\"xaxis\":\"x\",\"y\":[1,1,1],\"yaxis\":\"y\",\"type\":\"scatter\"},{\"hovertemplate\":\"<b>%{hovertext}</b><br><br>meal=peas with fried egg<br>weekday=%{x}<br>number_meals=%{y}<extra></extra>\",\"hovertext\":[\"peas with fried egg\"],\"legendgroup\":\"peas with fried egg\",\"marker\":{\"color\":\"#FFA15A\",\"symbol\":\"circle\",\"opacity\":0.6,\"size\":8},\"mode\":\"markers\",\"name\":\"peas with fried egg\",\"orientation\":\"v\",\"showlegend\":true,\"x\":[\"friday\"],\"xaxis\":\"x\",\"y\":[1],\"yaxis\":\"y\",\"type\":\"scatter\"},{\"hovertemplate\":\"<b>%{hovertext}</b><br><br>meal=pizza<br>weekday=%{x}<br>number_meals=%{y}<extra></extra>\",\"hovertext\":[\"pizza\"],\"legendgroup\":\"pizza\",\"marker\":{\"color\":\"#19d3f3\",\"symbol\":\"circle\",\"opacity\":0.6,\"size\":8},\"mode\":\"markers\",\"name\":\"pizza\",\"orientation\":\"v\",\"showlegend\":true,\"x\":[\"friday\"],\"xaxis\":\"x\",\"y\":[1],\"yaxis\":\"y\",\"type\":\"scatter\"},{\"hovertemplate\":\"<b>%{hovertext}</b><br><br>meal=potato omelette<br>weekday=%{x}<br>number_meals=%{y}<extra></extra>\",\"hovertext\":[\"potato omelette\",\"potato omelette\",\"potato omelette\",\"potato omelette\"],\"legendgroup\":\"potato omelette\",\"marker\":{\"color\":\"#FF6692\",\"symbol\":\"circle\",\"opacity\":0.6,\"size\":8},\"mode\":\"markers\",\"name\":\"potato omelette\",\"orientation\":\"v\",\"showlegend\":true,\"x\":[\"friday\",\"thursday\",\"tuesday\",\"wednesday\"],\"xaxis\":\"x\",\"y\":[9,2,6,3],\"yaxis\":\"y\",\"type\":\"scatter\"},{\"hovertemplate\":\"<b>%{hovertext}</b><br><br>meal=pumpkin cream<br>weekday=%{x}<br>number_meals=%{y}<extra></extra>\",\"hovertext\":[\"pumpkin cream\",\"pumpkin cream\",\"pumpkin cream\",\"pumpkin cream\"],\"legendgroup\":\"pumpkin cream\",\"marker\":{\"color\":\"#B6E880\",\"symbol\":\"circle\",\"opacity\":0.6,\"size\":8},\"mode\":\"markers\",\"name\":\"pumpkin cream\",\"orientation\":\"v\",\"showlegend\":true,\"x\":[\"friday\",\"monday\",\"thursday\",\"wednesday\"],\"xaxis\":\"x\",\"y\":[1,1,2,2],\"yaxis\":\"y\",\"type\":\"scatter\"},{\"hovertemplate\":\"<b>%{hovertext}</b><br><br>meal=refried beans<br>weekday=%{x}<br>number_meals=%{y}<extra></extra>\",\"hovertext\":[\"refried beans\",\"refried beans\",\"refried beans\",\"refried beans\"],\"legendgroup\":\"refried beans\",\"marker\":{\"color\":\"#FF97FF\",\"symbol\":\"circle\",\"opacity\":0.6,\"size\":8},\"mode\":\"markers\",\"name\":\"refried beans\",\"orientation\":\"v\",\"showlegend\":true,\"x\":[\"friday\",\"monday\",\"thursday\",\"tuesday\"],\"xaxis\":\"x\",\"y\":[3,3,1,2],\"yaxis\":\"y\",\"type\":\"scatter\"},{\"hovertemplate\":\"<b>%{hovertext}</b><br><br>meal=rice<br>weekday=%{x}<br>number_meals=%{y}<extra></extra>\",\"hovertext\":[\"rice\",\"rice\",\"rice\",\"rice\",\"rice\"],\"legendgroup\":\"rice\",\"marker\":{\"color\":\"#FECB52\",\"symbol\":\"circle\",\"opacity\":0.6,\"size\":8},\"mode\":\"markers\",\"name\":\"rice\",\"orientation\":\"v\",\"showlegend\":true,\"x\":[\"friday\",\"monday\",\"thursday\",\"tuesday\",\"wednesday\"],\"xaxis\":\"x\",\"y\":[6,4,3,5,6],\"yaxis\":\"y\",\"type\":\"scatter\"},{\"hovertemplate\":\"<b>%{hovertext}</b><br><br>meal=roast chicken<br>weekday=%{x}<br>number_meals=%{y}<extra></extra>\",\"hovertext\":[\"roast chicken\",\"roast chicken\",\"roast chicken\",\"roast chicken\",\"roast chicken\"],\"legendgroup\":\"roast chicken\",\"marker\":{\"color\":\"#636efa\",\"symbol\":\"circle\",\"opacity\":0.6,\"size\":8},\"mode\":\"markers\",\"name\":\"roast chicken\",\"orientation\":\"v\",\"showlegend\":true,\"x\":[\"friday\",\"monday\",\"thursday\",\"tuesday\",\"wednesday\"],\"xaxis\":\"x\",\"y\":[2,1,1,1,5],\"yaxis\":\"y\",\"type\":\"scatter\"},{\"hovertemplate\":\"<b>%{hovertext}</b><br><br>meal=salad<br>weekday=%{x}<br>number_meals=%{y}<extra></extra>\",\"hovertext\":[\"salad\",\"salad\",\"salad\",\"salad\",\"salad\"],\"legendgroup\":\"salad\",\"marker\":{\"color\":\"#EF553B\",\"symbol\":\"circle\",\"opacity\":0.6,\"size\":8},\"mode\":\"markers\",\"name\":\"salad\",\"orientation\":\"v\",\"showlegend\":true,\"x\":[\"friday\",\"monday\",\"thursday\",\"tuesday\",\"wednesday\"],\"xaxis\":\"x\",\"y\":[11,10,13,11,14],\"yaxis\":\"y\",\"type\":\"scatter\"},{\"hovertemplate\":\"<b>%{hovertext}</b><br><br>meal=sauteed spinach<br>weekday=%{x}<br>number_meals=%{y}<extra></extra>\",\"hovertext\":[\"sauteed spinach\",\"sauteed spinach\",\"sauteed spinach\",\"sauteed spinach\"],\"legendgroup\":\"sauteed spinach\",\"marker\":{\"color\":\"#00cc96\",\"symbol\":\"circle\",\"opacity\":0.6,\"size\":8},\"mode\":\"markers\",\"name\":\"sauteed spinach\",\"orientation\":\"v\",\"showlegend\":true,\"x\":[\"friday\",\"thursday\",\"tuesday\",\"wednesday\"],\"xaxis\":\"x\",\"y\":[1,4,4,2],\"yaxis\":\"y\",\"type\":\"scatter\"},{\"hovertemplate\":\"<b>%{hovertext}</b><br><br>meal=sea bass<br>weekday=%{x}<br>number_meals=%{y}<extra></extra>\",\"hovertext\":[\"sea bass\",\"sea bass\",\"sea bass\",\"sea bass\",\"sea bass\"],\"legendgroup\":\"sea bass\",\"marker\":{\"color\":\"#ab63fa\",\"symbol\":\"circle\",\"opacity\":0.6,\"size\":8},\"mode\":\"markers\",\"name\":\"sea bass\",\"orientation\":\"v\",\"showlegend\":true,\"x\":[\"friday\",\"monday\",\"thursday\",\"tuesday\",\"wednesday\"],\"xaxis\":\"x\",\"y\":[2,1,4,2,5],\"yaxis\":\"y\",\"type\":\"scatter\"},{\"hovertemplate\":\"<b>%{hovertext}</b><br><br>meal=spinach mashed potatoes<br>weekday=%{x}<br>number_meals=%{y}<extra></extra>\",\"hovertext\":[\"spinach mashed potatoes\",\"spinach mashed potatoes\",\"spinach mashed potatoes\",\"spinach mashed potatoes\",\"spinach mashed potatoes\"],\"legendgroup\":\"spinach mashed potatoes\",\"marker\":{\"color\":\"#FFA15A\",\"symbol\":\"circle\",\"opacity\":0.6,\"size\":8},\"mode\":\"markers\",\"name\":\"spinach mashed potatoes\",\"orientation\":\"v\",\"showlegend\":true,\"x\":[\"friday\",\"monday\",\"thursday\",\"tuesday\",\"wednesday\"],\"xaxis\":\"x\",\"y\":[1,6,2,4,4],\"yaxis\":\"y\",\"type\":\"scatter\"},{\"hovertemplate\":\"<b>%{hovertext}</b><br><br>meal=steak<br>weekday=%{x}<br>number_meals=%{y}<extra></extra>\",\"hovertext\":[\"steak\",\"steak\",\"steak\",\"steak\",\"steak\"],\"legendgroup\":\"steak\",\"marker\":{\"color\":\"#19d3f3\",\"symbol\":\"circle\",\"opacity\":0.6,\"size\":8},\"mode\":\"markers\",\"name\":\"steak\",\"orientation\":\"v\",\"showlegend\":true,\"x\":[\"friday\",\"monday\",\"thursday\",\"tuesday\",\"wednesday\"],\"xaxis\":\"x\",\"y\":[2,5,3,3,1],\"yaxis\":\"y\",\"type\":\"scatter\"},{\"hovertemplate\":\"<b>%{hovertext}</b><br><br>meal=stewed vegetables<br>weekday=%{x}<br>number_meals=%{y}<extra></extra>\",\"hovertext\":[\"stewed vegetables\",\"stewed vegetables\",\"stewed vegetables\",\"stewed vegetables\",\"stewed vegetables\"],\"legendgroup\":\"stewed vegetables\",\"marker\":{\"color\":\"#FF6692\",\"symbol\":\"circle\",\"opacity\":0.6,\"size\":8},\"mode\":\"markers\",\"name\":\"stewed vegetables\",\"orientation\":\"v\",\"showlegend\":true,\"x\":[\"friday\",\"monday\",\"thursday\",\"tuesday\",\"wednesday\"],\"xaxis\":\"x\",\"y\":[1,7,1,3,3],\"yaxis\":\"y\",\"type\":\"scatter\"},{\"hovertemplate\":\"<b>%{hovertext}</b><br><br>meal=tomato sauce<br>weekday=%{x}<br>number_meals=%{y}<extra></extra>\",\"hovertext\":[\"tomato sauce\",\"tomato sauce\",\"tomato sauce\",\"tomato sauce\"],\"legendgroup\":\"tomato sauce\",\"marker\":{\"color\":\"#B6E880\",\"symbol\":\"circle\",\"opacity\":0.6,\"size\":8},\"mode\":\"markers\",\"name\":\"tomato sauce\",\"orientation\":\"v\",\"showlegend\":true,\"x\":[\"friday\",\"monday\",\"thursday\",\"wednesday\"],\"xaxis\":\"x\",\"y\":[1,1,1,2],\"yaxis\":\"y\",\"type\":\"scatter\"},{\"hovertemplate\":\"<b>%{hovertext}</b><br><br>meal=tuna<br>weekday=%{x}<br>number_meals=%{y}<extra></extra>\",\"hovertext\":[\"tuna\",\"tuna\"],\"legendgroup\":\"tuna\",\"marker\":{\"color\":\"#FF97FF\",\"symbol\":\"circle\",\"opacity\":0.6,\"size\":8},\"mode\":\"markers\",\"name\":\"tuna\",\"orientation\":\"v\",\"showlegend\":true,\"x\":[\"friday\",\"monday\"],\"xaxis\":\"x\",\"y\":[1,1],\"yaxis\":\"y\",\"type\":\"scatter\"},{\"hovertemplate\":\"<b>%{hovertext}</b><br><br>meal=turkey fillet<br>weekday=%{x}<br>number_meals=%{y}<extra></extra>\",\"hovertext\":[\"turkey fillet\",\"turkey fillet\",\"turkey fillet\",\"turkey fillet\",\"turkey fillet\"],\"legendgroup\":\"turkey fillet\",\"marker\":{\"color\":\"#FECB52\",\"symbol\":\"circle\",\"opacity\":0.6,\"size\":8},\"mode\":\"markers\",\"name\":\"turkey fillet\",\"orientation\":\"v\",\"showlegend\":true,\"x\":[\"friday\",\"monday\",\"thursday\",\"tuesday\",\"wednesday\"],\"xaxis\":\"x\",\"y\":[1,2,1,1,2],\"yaxis\":\"y\",\"type\":\"scatter\"},{\"hovertemplate\":\"<b>%{hovertext}</b><br><br>meal=zucchini cream<br>weekday=%{x}<br>number_meals=%{y}<extra></extra>\",\"hovertext\":[\"zucchini cream\",\"zucchini cream\",\"zucchini cream\",\"zucchini cream\",\"zucchini cream\"],\"legendgroup\":\"zucchini cream\",\"marker\":{\"color\":\"#636efa\",\"symbol\":\"circle\",\"opacity\":0.6,\"size\":8},\"mode\":\"markers\",\"name\":\"zucchini cream\",\"orientation\":\"v\",\"showlegend\":true,\"x\":[\"friday\",\"monday\",\"thursday\",\"tuesday\",\"wednesday\"],\"xaxis\":\"x\",\"y\":[1,8,3,5,4],\"yaxis\":\"y\",\"type\":\"scatter\"},{\"hovertemplate\":\"<b>%{hovertext}</b><br><br>meal=Russian salad<br>weekday=%{x}<br>number_meals=%{y}<extra></extra>\",\"hovertext\":[\"Russian salad\"],\"legendgroup\":\"Russian salad\",\"marker\":{\"color\":\"#EF553B\",\"symbol\":\"circle\",\"opacity\":0.6,\"size\":8},\"mode\":\"markers\",\"name\":\"Russian salad\",\"orientation\":\"v\",\"showlegend\":true,\"x\":[\"monday\"],\"xaxis\":\"x\",\"y\":[1],\"yaxis\":\"y\",\"type\":\"scatter\"},{\"hovertemplate\":\"<b>%{hovertext}</b><br><br>meal=Saxon loin<br>weekday=%{x}<br>number_meals=%{y}<extra></extra>\",\"hovertext\":[\"Saxon loin\",\"Saxon loin\"],\"legendgroup\":\"Saxon loin\",\"marker\":{\"color\":\"#00cc96\",\"symbol\":\"circle\",\"opacity\":0.6,\"size\":8},\"mode\":\"markers\",\"name\":\"Saxon loin\",\"orientation\":\"v\",\"showlegend\":true,\"x\":[\"monday\",\"thursday\"],\"xaxis\":\"x\",\"y\":[1,1],\"yaxis\":\"y\",\"type\":\"scatter\"},{\"hovertemplate\":\"<b>%{hovertext}</b><br><br>meal=baked hake<br>weekday=%{x}<br>number_meals=%{y}<extra></extra>\",\"hovertext\":[\"baked hake\",\"baked hake\"],\"legendgroup\":\"baked hake\",\"marker\":{\"color\":\"#ab63fa\",\"symbol\":\"circle\",\"opacity\":0.6,\"size\":8},\"mode\":\"markers\",\"name\":\"baked hake\",\"orientation\":\"v\",\"showlegend\":true,\"x\":[\"monday\",\"tuesday\"],\"xaxis\":\"x\",\"y\":[1,1],\"yaxis\":\"y\",\"type\":\"scatter\"},{\"hovertemplate\":\"<b>%{hovertext}</b><br><br>meal=baked salmon<br>weekday=%{x}<br>number_meals=%{y}<extra></extra>\",\"hovertext\":[\"baked salmon\",\"baked salmon\",\"baked salmon\",\"baked salmon\"],\"legendgroup\":\"baked salmon\",\"marker\":{\"color\":\"#FFA15A\",\"symbol\":\"circle\",\"opacity\":0.6,\"size\":8},\"mode\":\"markers\",\"name\":\"baked salmon\",\"orientation\":\"v\",\"showlegend\":true,\"x\":[\"monday\",\"thursday\",\"tuesday\",\"wednesday\"],\"xaxis\":\"x\",\"y\":[1,1,3,2],\"yaxis\":\"y\",\"type\":\"scatter\"},{\"hovertemplate\":\"<b>%{hovertext}</b><br><br>meal=battered hake<br>weekday=%{x}<br>number_meals=%{y}<extra></extra>\",\"hovertext\":[\"battered hake\",\"battered hake\",\"battered hake\",\"battered hake\"],\"legendgroup\":\"battered hake\",\"marker\":{\"color\":\"#19d3f3\",\"symbol\":\"circle\",\"opacity\":0.6,\"size\":8},\"mode\":\"markers\",\"name\":\"battered hake\",\"orientation\":\"v\",\"showlegend\":true,\"x\":[\"monday\",\"thursday\",\"tuesday\",\"wednesday\"],\"xaxis\":\"x\",\"y\":[1,1,1,2],\"yaxis\":\"y\",\"type\":\"scatter\"},{\"hovertemplate\":\"<b>%{hovertext}</b><br><br>meal=boiled egg<br>weekday=%{x}<br>number_meals=%{y}<extra></extra>\",\"hovertext\":[\"boiled egg\",\"boiled egg\"],\"legendgroup\":\"boiled egg\",\"marker\":{\"color\":\"#FF6692\",\"symbol\":\"circle\",\"opacity\":0.6,\"size\":8},\"mode\":\"markers\",\"name\":\"boiled egg\",\"orientation\":\"v\",\"showlegend\":true,\"x\":[\"monday\",\"wednesday\"],\"xaxis\":\"x\",\"y\":[1,1],\"yaxis\":\"y\",\"type\":\"scatter\"},{\"hovertemplate\":\"<b>%{hovertext}</b><br><br>meal=boiled eggs<br>weekday=%{x}<br>number_meals=%{y}<extra></extra>\",\"hovertext\":[\"boiled eggs\",\"boiled eggs\"],\"legendgroup\":\"boiled eggs\",\"marker\":{\"color\":\"#B6E880\",\"symbol\":\"circle\",\"opacity\":0.6,\"size\":8},\"mode\":\"markers\",\"name\":\"boiled eggs\",\"orientation\":\"v\",\"showlegend\":true,\"x\":[\"monday\",\"tuesday\"],\"xaxis\":\"x\",\"y\":[1,1],\"yaxis\":\"y\",\"type\":\"scatter\"},{\"hovertemplate\":\"<b>%{hovertext}</b><br><br>meal=boiled potato<br>weekday=%{x}<br>number_meals=%{y}<extra></extra>\",\"hovertext\":[\"boiled potato\",\"boiled potato\",\"boiled potato\",\"boiled potato\"],\"legendgroup\":\"boiled potato\",\"marker\":{\"color\":\"#FF97FF\",\"symbol\":\"circle\",\"opacity\":0.6,\"size\":8},\"mode\":\"markers\",\"name\":\"boiled potato\",\"orientation\":\"v\",\"showlegend\":true,\"x\":[\"monday\",\"thursday\",\"tuesday\",\"wednesday\"],\"xaxis\":\"x\",\"y\":[2,1,3,4],\"yaxis\":\"y\",\"type\":\"scatter\"},{\"hovertemplate\":\"<b>%{hovertext}</b><br><br>meal=breaded fillet<br>weekday=%{x}<br>number_meals=%{y}<extra></extra>\",\"hovertext\":[\"breaded fillet\",\"breaded fillet\",\"breaded fillet\",\"breaded fillet\"],\"legendgroup\":\"breaded fillet\",\"marker\":{\"color\":\"#FECB52\",\"symbol\":\"circle\",\"opacity\":0.6,\"size\":8},\"mode\":\"markers\",\"name\":\"breaded fillet\",\"orientation\":\"v\",\"showlegend\":true,\"x\":[\"monday\",\"thursday\",\"tuesday\",\"wednesday\"],\"xaxis\":\"x\",\"y\":[3,1,3,1],\"yaxis\":\"y\",\"type\":\"scatter\"},{\"hovertemplate\":\"<b>%{hovertext}</b><br><br>meal=broccoli with garlic sauce<br>weekday=%{x}<br>number_meals=%{y}<extra></extra>\",\"hovertext\":[\"broccoli with garlic sauce\",\"broccoli with garlic sauce\"],\"legendgroup\":\"broccoli with garlic sauce\",\"marker\":{\"color\":\"#636efa\",\"symbol\":\"circle\",\"opacity\":0.6,\"size\":8},\"mode\":\"markers\",\"name\":\"broccoli with garlic sauce\",\"orientation\":\"v\",\"showlegend\":true,\"x\":[\"monday\",\"wednesday\"],\"xaxis\":\"x\",\"y\":[1,2],\"yaxis\":\"y\",\"type\":\"scatter\"},{\"hovertemplate\":\"<b>%{hovertext}</b><br><br>meal=broccoli with ham<br>weekday=%{x}<br>number_meals=%{y}<extra></extra>\",\"hovertext\":[\"broccoli with ham\"],\"legendgroup\":\"broccoli with ham\",\"marker\":{\"color\":\"#EF553B\",\"symbol\":\"circle\",\"opacity\":0.6,\"size\":8},\"mode\":\"markers\",\"name\":\"broccoli with ham\",\"orientation\":\"v\",\"showlegend\":true,\"x\":[\"monday\"],\"xaxis\":\"x\",\"y\":[1],\"yaxis\":\"y\",\"type\":\"scatter\"},{\"hovertemplate\":\"<b>%{hovertext}</b><br><br>meal=broccoli with potato<br>weekday=%{x}<br>number_meals=%{y}<extra></extra>\",\"hovertext\":[\"broccoli with potato\",\"broccoli with potato\",\"broccoli with potato\",\"broccoli with potato\"],\"legendgroup\":\"broccoli with potato\",\"marker\":{\"color\":\"#00cc96\",\"symbol\":\"circle\",\"opacity\":0.6,\"size\":8},\"mode\":\"markers\",\"name\":\"broccoli with potato\",\"orientation\":\"v\",\"showlegend\":true,\"x\":[\"monday\",\"thursday\",\"tuesday\",\"wednesday\"],\"xaxis\":\"x\",\"y\":[3,3,2,1],\"yaxis\":\"y\",\"type\":\"scatter\"},{\"hovertemplate\":\"<b>%{hovertext}</b><br><br>meal=chard with potatoes<br>weekday=%{x}<br>number_meals=%{y}<extra></extra>\",\"hovertext\":[\"chard with potatoes\"],\"legendgroup\":\"chard with potatoes\",\"marker\":{\"color\":\"#ab63fa\",\"symbol\":\"circle\",\"opacity\":0.6,\"size\":8},\"mode\":\"markers\",\"name\":\"chard with potatoes\",\"orientation\":\"v\",\"showlegend\":true,\"x\":[\"monday\"],\"xaxis\":\"x\",\"y\":[2],\"yaxis\":\"y\",\"type\":\"scatter\"},{\"hovertemplate\":\"<b>%{hovertext}</b><br><br>meal=croquettes<br>weekday=%{x}<br>number_meals=%{y}<extra></extra>\",\"hovertext\":[\"croquettes\",\"croquettes\",\"croquettes\",\"croquettes\"],\"legendgroup\":\"croquettes\",\"marker\":{\"color\":\"#FFA15A\",\"symbol\":\"circle\",\"opacity\":0.6,\"size\":8},\"mode\":\"markers\",\"name\":\"croquettes\",\"orientation\":\"v\",\"showlegend\":true,\"x\":[\"monday\",\"thursday\",\"tuesday\",\"wednesday\"],\"xaxis\":\"x\",\"y\":[1,4,4,5],\"yaxis\":\"y\",\"type\":\"scatter\"},{\"hovertemplate\":\"<b>%{hovertext}</b><br><br>meal=fried egg<br>weekday=%{x}<br>number_meals=%{y}<extra></extra>\",\"hovertext\":[\"fried egg\",\"fried egg\",\"fried egg\"],\"legendgroup\":\"fried egg\",\"marker\":{\"color\":\"#19d3f3\",\"symbol\":\"circle\",\"opacity\":0.6,\"size\":8},\"mode\":\"markers\",\"name\":\"fried egg\",\"orientation\":\"v\",\"showlegend\":true,\"x\":[\"monday\",\"tuesday\",\"wednesday\"],\"xaxis\":\"x\",\"y\":[4,3,3],\"yaxis\":\"y\",\"type\":\"scatter\"},{\"hovertemplate\":\"<b>%{hovertext}</b><br><br>meal=fried potato<br>weekday=%{x}<br>number_meals=%{y}<extra></extra>\",\"hovertext\":[\"fried potato\"],\"legendgroup\":\"fried potato\",\"marker\":{\"color\":\"#FF6692\",\"symbol\":\"circle\",\"opacity\":0.6,\"size\":8},\"mode\":\"markers\",\"name\":\"fried potato\",\"orientation\":\"v\",\"showlegend\":true,\"x\":[\"monday\"],\"xaxis\":\"x\",\"y\":[1],\"yaxis\":\"y\",\"type\":\"scatter\"},{\"hovertemplate\":\"<b>%{hovertext}</b><br><br>meal=gilt-head bream<br>weekday=%{x}<br>number_meals=%{y}<extra></extra>\",\"hovertext\":[\"gilt-head bream\",\"gilt-head bream\"],\"legendgroup\":\"gilt-head bream\",\"marker\":{\"color\":\"#B6E880\",\"symbol\":\"circle\",\"opacity\":0.6,\"size\":8},\"mode\":\"markers\",\"name\":\"gilt-head bream\",\"orientation\":\"v\",\"showlegend\":true,\"x\":[\"monday\",\"tuesday\"],\"xaxis\":\"x\",\"y\":[1,2],\"yaxis\":\"y\",\"type\":\"scatter\"},{\"hovertemplate\":\"<b>%{hovertext}</b><br><br>meal=green beans with potato<br>weekday=%{x}<br>number_meals=%{y}<extra></extra>\",\"hovertext\":[\"green beans with potato\",\"green beans with potato\",\"green beans with potato\"],\"legendgroup\":\"green beans with potato\",\"marker\":{\"color\":\"#FF97FF\",\"symbol\":\"circle\",\"opacity\":0.6,\"size\":8},\"mode\":\"markers\",\"name\":\"green beans with potato\",\"orientation\":\"v\",\"showlegend\":true,\"x\":[\"monday\",\"thursday\",\"wednesday\"],\"xaxis\":\"x\",\"y\":[2,2,3],\"yaxis\":\"y\",\"type\":\"scatter\"},{\"hovertemplate\":\"<b>%{hovertext}</b><br><br>meal=hake with mashed potatoes<br>weekday=%{x}<br>number_meals=%{y}<extra></extra>\",\"hovertext\":[\"hake with mashed potatoes\"],\"legendgroup\":\"hake with mashed potatoes\",\"marker\":{\"color\":\"#FECB52\",\"symbol\":\"circle\",\"opacity\":0.6,\"size\":8},\"mode\":\"markers\",\"name\":\"hake with mashed potatoes\",\"orientation\":\"v\",\"showlegend\":true,\"x\":[\"monday\"],\"xaxis\":\"x\",\"y\":[1],\"yaxis\":\"y\",\"type\":\"scatter\"},{\"hovertemplate\":\"<b>%{hovertext}</b><br><br>meal=macaroni<br>weekday=%{x}<br>number_meals=%{y}<extra></extra>\",\"hovertext\":[\"macaroni\"],\"legendgroup\":\"macaroni\",\"marker\":{\"color\":\"#636efa\",\"symbol\":\"circle\",\"opacity\":0.6,\"size\":8},\"mode\":\"markers\",\"name\":\"macaroni\",\"orientation\":\"v\",\"showlegend\":true,\"x\":[\"monday\"],\"xaxis\":\"x\",\"y\":[1],\"yaxis\":\"y\",\"type\":\"scatter\"},{\"hovertemplate\":\"<b>%{hovertext}</b><br><br>meal=meat<br>weekday=%{x}<br>number_meals=%{y}<extra></extra>\",\"hovertext\":[\"meat\"],\"legendgroup\":\"meat\",\"marker\":{\"color\":\"#EF553B\",\"symbol\":\"circle\",\"opacity\":0.6,\"size\":8},\"mode\":\"markers\",\"name\":\"meat\",\"orientation\":\"v\",\"showlegend\":true,\"x\":[\"monday\"],\"xaxis\":\"x\",\"y\":[1],\"yaxis\":\"y\",\"type\":\"scatter\"},{\"hovertemplate\":\"<b>%{hovertext}</b><br><br>meal=paella with squid<br>weekday=%{x}<br>number_meals=%{y}<extra></extra>\",\"hovertext\":[\"paella with squid\"],\"legendgroup\":\"paella with squid\",\"marker\":{\"color\":\"#00cc96\",\"symbol\":\"circle\",\"opacity\":0.6,\"size\":8},\"mode\":\"markers\",\"name\":\"paella with squid\",\"orientation\":\"v\",\"showlegend\":true,\"x\":[\"monday\"],\"xaxis\":\"x\",\"y\":[1],\"yaxis\":\"y\",\"type\":\"scatter\"},{\"hovertemplate\":\"<b>%{hovertext}</b><br><br>meal=pasta salad<br>weekday=%{x}<br>number_meals=%{y}<extra></extra>\",\"hovertext\":[\"pasta salad\"],\"legendgroup\":\"pasta salad\",\"marker\":{\"color\":\"#ab63fa\",\"symbol\":\"circle\",\"opacity\":0.6,\"size\":8},\"mode\":\"markers\",\"name\":\"pasta salad\",\"orientation\":\"v\",\"showlegend\":true,\"x\":[\"monday\"],\"xaxis\":\"x\",\"y\":[1],\"yaxis\":\"y\",\"type\":\"scatter\"},{\"hovertemplate\":\"<b>%{hovertext}</b><br><br>meal=pasta soup<br>weekday=%{x}<br>number_meals=%{y}<extra></extra>\",\"hovertext\":[\"pasta soup\",\"pasta soup\"],\"legendgroup\":\"pasta soup\",\"marker\":{\"color\":\"#FFA15A\",\"symbol\":\"circle\",\"opacity\":0.6,\"size\":8},\"mode\":\"markers\",\"name\":\"pasta soup\",\"orientation\":\"v\",\"showlegend\":true,\"x\":[\"monday\",\"wednesday\"],\"xaxis\":\"x\",\"y\":[1,2],\"yaxis\":\"y\",\"type\":\"scatter\"},{\"hovertemplate\":\"<b>%{hovertext}</b><br><br>meal=peas with ham<br>weekday=%{x}<br>number_meals=%{y}<extra></extra>\",\"hovertext\":[\"peas with ham\",\"peas with ham\",\"peas with ham\",\"peas with ham\"],\"legendgroup\":\"peas with ham\",\"marker\":{\"color\":\"#19d3f3\",\"symbol\":\"circle\",\"opacity\":0.6,\"size\":8},\"mode\":\"markers\",\"name\":\"peas with ham\",\"orientation\":\"v\",\"showlegend\":true,\"x\":[\"monday\",\"thursday\",\"tuesday\",\"wednesday\"],\"xaxis\":\"x\",\"y\":[2,2,5,3],\"yaxis\":\"y\",\"type\":\"scatter\"},{\"hovertemplate\":\"<b>%{hovertext}</b><br><br>meal=peas with onion<br>weekday=%{x}<br>number_meals=%{y}<extra></extra>\",\"hovertext\":[\"peas with onion\",\"peas with onion\"],\"legendgroup\":\"peas with onion\",\"marker\":{\"color\":\"#FF6692\",\"symbol\":\"circle\",\"opacity\":0.6,\"size\":8},\"mode\":\"markers\",\"name\":\"peas with onion\",\"orientation\":\"v\",\"showlegend\":true,\"x\":[\"monday\",\"wednesday\"],\"xaxis\":\"x\",\"y\":[1,1],\"yaxis\":\"y\",\"type\":\"scatter\"},{\"hovertemplate\":\"<b>%{hovertext}</b><br><br>meal=pork tenderloin<br>weekday=%{x}<br>number_meals=%{y}<extra></extra>\",\"hovertext\":[\"pork tenderloin\",\"pork tenderloin\"],\"legendgroup\":\"pork tenderloin\",\"marker\":{\"color\":\"#B6E880\",\"symbol\":\"circle\",\"opacity\":0.6,\"size\":8},\"mode\":\"markers\",\"name\":\"pork tenderloin\",\"orientation\":\"v\",\"showlegend\":true,\"x\":[\"monday\",\"wednesday\"],\"xaxis\":\"x\",\"y\":[2,2],\"yaxis\":\"y\",\"type\":\"scatter\"},{\"hovertemplate\":\"<b>%{hovertext}</b><br><br>meal=quesadillas<br>weekday=%{x}<br>number_meals=%{y}<extra></extra>\",\"hovertext\":[\"quesadillas\",\"quesadillas\",\"quesadillas\"],\"legendgroup\":\"quesadillas\",\"marker\":{\"color\":\"#FF97FF\",\"symbol\":\"circle\",\"opacity\":0.6,\"size\":8},\"mode\":\"markers\",\"name\":\"quesadillas\",\"orientation\":\"v\",\"showlegend\":true,\"x\":[\"monday\",\"tuesday\",\"wednesday\"],\"xaxis\":\"x\",\"y\":[1,2,1],\"yaxis\":\"y\",\"type\":\"scatter\"},{\"hovertemplate\":\"<b>%{hovertext}</b><br><br>meal=sausages<br>weekday=%{x}<br>number_meals=%{y}<extra></extra>\",\"hovertext\":[\"sausages\",\"sausages\",\"sausages\",\"sausages\"],\"legendgroup\":\"sausages\",\"marker\":{\"color\":\"#FECB52\",\"symbol\":\"circle\",\"opacity\":0.6,\"size\":8},\"mode\":\"markers\",\"name\":\"sausages\",\"orientation\":\"v\",\"showlegend\":true,\"x\":[\"monday\",\"thursday\",\"tuesday\",\"wednesday\"],\"xaxis\":\"x\",\"y\":[3,2,2,5],\"yaxis\":\"y\",\"type\":\"scatter\"},{\"hovertemplate\":\"<b>%{hovertext}</b><br><br>meal=sauteed vegetables<br>weekday=%{x}<br>number_meals=%{y}<extra></extra>\",\"hovertext\":[\"sauteed vegetables\",\"sauteed vegetables\",\"sauteed vegetables\"],\"legendgroup\":\"sauteed vegetables\",\"marker\":{\"color\":\"#636efa\",\"symbol\":\"circle\",\"opacity\":0.6,\"size\":8},\"mode\":\"markers\",\"name\":\"sauteed vegetables\",\"orientation\":\"v\",\"showlegend\":true,\"x\":[\"monday\",\"thursday\",\"wednesday\"],\"xaxis\":\"x\",\"y\":[1,1,1],\"yaxis\":\"y\",\"type\":\"scatter\"},{\"hovertemplate\":\"<b>%{hovertext}</b><br><br>meal=spaghetti bolognese<br>weekday=%{x}<br>number_meals=%{y}<extra></extra>\",\"hovertext\":[\"spaghetti bolognese\",\"spaghetti bolognese\",\"spaghetti bolognese\",\"spaghetti bolognese\"],\"legendgroup\":\"spaghetti bolognese\",\"marker\":{\"color\":\"#EF553B\",\"symbol\":\"circle\",\"opacity\":0.6,\"size\":8},\"mode\":\"markers\",\"name\":\"spaghetti bolognese\",\"orientation\":\"v\",\"showlegend\":true,\"x\":[\"monday\",\"thursday\",\"tuesday\",\"wednesday\"],\"xaxis\":\"x\",\"y\":[1,3,5,4],\"yaxis\":\"y\",\"type\":\"scatter\"},{\"hovertemplate\":\"<b>%{hovertext}</b><br><br>meal=stir-fried green beans<br>weekday=%{x}<br>number_meals=%{y}<extra></extra>\",\"hovertext\":[\"stir-fried green beans\",\"stir-fried green beans\"],\"legendgroup\":\"stir-fried green beans\",\"marker\":{\"color\":\"#00cc96\",\"symbol\":\"circle\",\"opacity\":0.6,\"size\":8},\"mode\":\"markers\",\"name\":\"stir-fried green beans\",\"orientation\":\"v\",\"showlegend\":true,\"x\":[\"monday\",\"tuesday\"],\"xaxis\":\"x\",\"y\":[1,1],\"yaxis\":\"y\",\"type\":\"scatter\"},{\"hovertemplate\":\"<b>%{hovertext}</b><br><br>meal=turnip greens with potato<br>weekday=%{x}<br>number_meals=%{y}<extra></extra>\",\"hovertext\":[\"turnip greens with potato\"],\"legendgroup\":\"turnip greens with potato\",\"marker\":{\"color\":\"#ab63fa\",\"symbol\":\"circle\",\"opacity\":0.6,\"size\":8},\"mode\":\"markers\",\"name\":\"turnip greens with potato\",\"orientation\":\"v\",\"showlegend\":true,\"x\":[\"monday\"],\"xaxis\":\"x\",\"y\":[1],\"yaxis\":\"y\",\"type\":\"scatter\"},{\"hovertemplate\":\"<b>%{hovertext}</b><br><br>meal=no data<br>weekday=%{x}<br>number_meals=%{y}<extra></extra>\",\"hovertext\":[\"no data\"],\"legendgroup\":\"no data\",\"marker\":{\"color\":\"#FFA15A\",\"symbol\":\"circle\",\"opacity\":0.6,\"size\":8},\"mode\":\"markers\",\"name\":\"no data\",\"orientation\":\"v\",\"showlegend\":true,\"x\":[\"none\"],\"xaxis\":\"x\",\"y\":[7],\"yaxis\":\"y\",\"type\":\"scatter\"},{\"hovertemplate\":\"<b>%{hovertext}</b><br><br>meal=baked eggplant and zucchini<br>weekday=%{x}<br>number_meals=%{y}<extra></extra>\",\"hovertext\":[\"baked eggplant and zucchini\"],\"legendgroup\":\"baked eggplant and zucchini\",\"marker\":{\"color\":\"#19d3f3\",\"symbol\":\"circle\",\"opacity\":0.6,\"size\":8},\"mode\":\"markers\",\"name\":\"baked eggplant and zucchini\",\"orientation\":\"v\",\"showlegend\":true,\"x\":[\"thursday\"],\"xaxis\":\"x\",\"y\":[1],\"yaxis\":\"y\",\"type\":\"scatter\"},{\"hovertemplate\":\"<b>%{hovertext}</b><br><br>meal=baked fish<br>weekday=%{x}<br>number_meals=%{y}<extra></extra>\",\"hovertext\":[\"baked fish\"],\"legendgroup\":\"baked fish\",\"marker\":{\"color\":\"#FF6692\",\"symbol\":\"circle\",\"opacity\":0.6,\"size\":8},\"mode\":\"markers\",\"name\":\"baked fish\",\"orientation\":\"v\",\"showlegend\":true,\"x\":[\"thursday\"],\"xaxis\":\"x\",\"y\":[1],\"yaxis\":\"y\",\"type\":\"scatter\"},{\"hovertemplate\":\"<b>%{hovertext}</b><br><br>meal=carbonara pasta<br>weekday=%{x}<br>number_meals=%{y}<extra></extra>\",\"hovertext\":[\"carbonara pasta\"],\"legendgroup\":\"carbonara pasta\",\"marker\":{\"color\":\"#B6E880\",\"symbol\":\"circle\",\"opacity\":0.6,\"size\":8},\"mode\":\"markers\",\"name\":\"carbonara pasta\",\"orientation\":\"v\",\"showlegend\":true,\"x\":[\"thursday\"],\"xaxis\":\"x\",\"y\":[1],\"yaxis\":\"y\",\"type\":\"scatter\"},{\"hovertemplate\":\"<b>%{hovertext}</b><br><br>meal=chicken and turnip greens<br>weekday=%{x}<br>number_meals=%{y}<extra></extra>\",\"hovertext\":[\"chicken and turnip greens\"],\"legendgroup\":\"chicken and turnip greens\",\"marker\":{\"color\":\"#FF97FF\",\"symbol\":\"circle\",\"opacity\":0.6,\"size\":8},\"mode\":\"markers\",\"name\":\"chicken and turnip greens\",\"orientation\":\"v\",\"showlegend\":true,\"x\":[\"thursday\"],\"xaxis\":\"x\",\"y\":[1],\"yaxis\":\"y\",\"type\":\"scatter\"},{\"hovertemplate\":\"<b>%{hovertext}</b><br><br>meal=fava bean cream<br>weekday=%{x}<br>number_meals=%{y}<extra></extra>\",\"hovertext\":[\"fava bean cream\"],\"legendgroup\":\"fava bean cream\",\"marker\":{\"color\":\"#FECB52\",\"symbol\":\"circle\",\"opacity\":0.6,\"size\":8},\"mode\":\"markers\",\"name\":\"fava bean cream\",\"orientation\":\"v\",\"showlegend\":true,\"x\":[\"thursday\"],\"xaxis\":\"x\",\"y\":[1],\"yaxis\":\"y\",\"type\":\"scatter\"},{\"hovertemplate\":\"<b>%{hovertext}</b><br><br>meal=green beans with chicken<br>weekday=%{x}<br>number_meals=%{y}<extra></extra>\",\"hovertext\":[\"green beans with chicken\"],\"legendgroup\":\"green beans with chicken\",\"marker\":{\"color\":\"#636efa\",\"symbol\":\"circle\",\"opacity\":0.6,\"size\":8},\"mode\":\"markers\",\"name\":\"green beans with chicken\",\"orientation\":\"v\",\"showlegend\":true,\"x\":[\"thursday\"],\"xaxis\":\"x\",\"y\":[1],\"yaxis\":\"y\",\"type\":\"scatter\"},{\"hovertemplate\":\"<b>%{hovertext}</b><br><br>meal=grilled sea bass<br>weekday=%{x}<br>number_meals=%{y}<extra></extra>\",\"hovertext\":[\"grilled sea bass\",\"grilled sea bass\"],\"legendgroup\":\"grilled sea bass\",\"marker\":{\"color\":\"#EF553B\",\"symbol\":\"circle\",\"opacity\":0.6,\"size\":8},\"mode\":\"markers\",\"name\":\"grilled sea bass\",\"orientation\":\"v\",\"showlegend\":true,\"x\":[\"thursday\",\"tuesday\"],\"xaxis\":\"x\",\"y\":[1,1],\"yaxis\":\"y\",\"type\":\"scatter\"},{\"hovertemplate\":\"<b>%{hovertext}</b><br><br>meal=large beans<br>weekday=%{x}<br>number_meals=%{y}<extra></extra>\",\"hovertext\":[\"large beans\",\"large beans\"],\"legendgroup\":\"large beans\",\"marker\":{\"color\":\"#00cc96\",\"symbol\":\"circle\",\"opacity\":0.6,\"size\":8},\"mode\":\"markers\",\"name\":\"large beans\",\"orientation\":\"v\",\"showlegend\":true,\"x\":[\"thursday\",\"tuesday\"],\"xaxis\":\"x\",\"y\":[1,1],\"yaxis\":\"y\",\"type\":\"scatter\"},{\"hovertemplate\":\"<b>%{hovertext}</b><br><br>meal=leftover mushrooms<br>weekday=%{x}<br>number_meals=%{y}<extra></extra>\",\"hovertext\":[\"leftover mushrooms\"],\"legendgroup\":\"leftover mushrooms\",\"marker\":{\"color\":\"#ab63fa\",\"symbol\":\"circle\",\"opacity\":0.6,\"size\":8},\"mode\":\"markers\",\"name\":\"leftover mushrooms\",\"orientation\":\"v\",\"showlegend\":true,\"x\":[\"thursday\"],\"xaxis\":\"x\",\"y\":[1],\"yaxis\":\"y\",\"type\":\"scatter\"},{\"hovertemplate\":\"<b>%{hovertext}</b><br><br>meal=loin<br>weekday=%{x}<br>number_meals=%{y}<extra></extra>\",\"hovertext\":[\"loin\"],\"legendgroup\":\"loin\",\"marker\":{\"color\":\"#FFA15A\",\"symbol\":\"circle\",\"opacity\":0.6,\"size\":8},\"mode\":\"markers\",\"name\":\"loin\",\"orientation\":\"v\",\"showlegend\":true,\"x\":[\"thursday\"],\"xaxis\":\"x\",\"y\":[1],\"yaxis\":\"y\",\"type\":\"scatter\"},{\"hovertemplate\":\"<b>%{hovertext}</b><br><br>meal=pork fillet<br>weekday=%{x}<br>number_meals=%{y}<extra></extra>\",\"hovertext\":[\"pork fillet\"],\"legendgroup\":\"pork fillet\",\"marker\":{\"color\":\"#19d3f3\",\"symbol\":\"circle\",\"opacity\":0.6,\"size\":8},\"mode\":\"markers\",\"name\":\"pork fillet\",\"orientation\":\"v\",\"showlegend\":true,\"x\":[\"thursday\"],\"xaxis\":\"x\",\"y\":[1],\"yaxis\":\"y\",\"type\":\"scatter\"},{\"hovertemplate\":\"<b>%{hovertext}</b><br><br>meal=spaghetti carbonara<br>weekday=%{x}<br>number_meals=%{y}<extra></extra>\",\"hovertext\":[\"spaghetti carbonara\"],\"legendgroup\":\"spaghetti carbonara\",\"marker\":{\"color\":\"#FF6692\",\"symbol\":\"circle\",\"opacity\":0.6,\"size\":8},\"mode\":\"markers\",\"name\":\"spaghetti carbonara\",\"orientation\":\"v\",\"showlegend\":true,\"x\":[\"thursday\"],\"xaxis\":\"x\",\"y\":[2],\"yaxis\":\"y\",\"type\":\"scatter\"},{\"hovertemplate\":\"<b>%{hovertext}</b><br><br>meal=spaghetti with garlic mushrooms<br>weekday=%{x}<br>number_meals=%{y}<extra></extra>\",\"hovertext\":[\"spaghetti with garlic mushrooms\",\"spaghetti with garlic mushrooms\"],\"legendgroup\":\"spaghetti with garlic mushrooms\",\"marker\":{\"color\":\"#B6E880\",\"symbol\":\"circle\",\"opacity\":0.6,\"size\":8},\"mode\":\"markers\",\"name\":\"spaghetti with garlic mushrooms\",\"orientation\":\"v\",\"showlegend\":true,\"x\":[\"thursday\",\"wednesday\"],\"xaxis\":\"x\",\"y\":[1,1],\"yaxis\":\"y\",\"type\":\"scatter\"},{\"hovertemplate\":\"<b>%{hovertext}</b><br><br>meal=spinach stew<br>weekday=%{x}<br>number_meals=%{y}<extra></extra>\",\"hovertext\":[\"spinach stew\"],\"legendgroup\":\"spinach stew\",\"marker\":{\"color\":\"#FF97FF\",\"symbol\":\"circle\",\"opacity\":0.6,\"size\":8},\"mode\":\"markers\",\"name\":\"spinach stew\",\"orientation\":\"v\",\"showlegend\":true,\"x\":[\"thursday\"],\"xaxis\":\"x\",\"y\":[1],\"yaxis\":\"y\",\"type\":\"scatter\"},{\"hovertemplate\":\"<b>%{hovertext}</b><br><br>meal=chickpea stew<br>weekday=%{x}<br>number_meals=%{y}<extra></extra>\",\"hovertext\":[\"chickpea stew\"],\"legendgroup\":\"chickpea stew\",\"marker\":{\"color\":\"#FECB52\",\"symbol\":\"circle\",\"opacity\":0.6,\"size\":8},\"mode\":\"markers\",\"name\":\"chickpea stew\",\"orientation\":\"v\",\"showlegend\":true,\"x\":[\"tuesday\"],\"xaxis\":\"x\",\"y\":[1],\"yaxis\":\"y\",\"type\":\"scatter\"},{\"hovertemplate\":\"<b>%{hovertext}</b><br><br>meal=chickpeas<br>weekday=%{x}<br>number_meals=%{y}<extra></extra>\",\"hovertext\":[\"chickpeas\"],\"legendgroup\":\"chickpeas\",\"marker\":{\"color\":\"#636efa\",\"symbol\":\"circle\",\"opacity\":0.6,\"size\":8},\"mode\":\"markers\",\"name\":\"chickpeas\",\"orientation\":\"v\",\"showlegend\":true,\"x\":[\"tuesday\"],\"xaxis\":\"x\",\"y\":[1],\"yaxis\":\"y\",\"type\":\"scatter\"},{\"hovertemplate\":\"<b>%{hovertext}</b><br><br>meal=chickpeas with spinach<br>weekday=%{x}<br>number_meals=%{y}<extra></extra>\",\"hovertext\":[\"chickpeas with spinach\"],\"legendgroup\":\"chickpeas with spinach\",\"marker\":{\"color\":\"#EF553B\",\"symbol\":\"circle\",\"opacity\":0.6,\"size\":8},\"mode\":\"markers\",\"name\":\"chickpeas with spinach\",\"orientation\":\"v\",\"showlegend\":true,\"x\":[\"tuesday\"],\"xaxis\":\"x\",\"y\":[1],\"yaxis\":\"y\",\"type\":\"scatter\"},{\"hovertemplate\":\"<b>%{hovertext}</b><br><br>meal=green beans with garlic sauce<br>weekday=%{x}<br>number_meals=%{y}<extra></extra>\",\"hovertext\":[\"green beans with garlic sauce\"],\"legendgroup\":\"green beans with garlic sauce\",\"marker\":{\"color\":\"#00cc96\",\"symbol\":\"circle\",\"opacity\":0.6,\"size\":8},\"mode\":\"markers\",\"name\":\"green beans with garlic sauce\",\"orientation\":\"v\",\"showlegend\":true,\"x\":[\"tuesday\"],\"xaxis\":\"x\",\"y\":[1],\"yaxis\":\"y\",\"type\":\"scatter\"},{\"hovertemplate\":\"<b>%{hovertext}</b><br><br>meal=grilled asparagus<br>weekday=%{x}<br>number_meals=%{y}<extra></extra>\",\"hovertext\":[\"grilled asparagus\",\"grilled asparagus\"],\"legendgroup\":\"grilled asparagus\",\"marker\":{\"color\":\"#ab63fa\",\"symbol\":\"circle\",\"opacity\":0.6,\"size\":8},\"mode\":\"markers\",\"name\":\"grilled asparagus\",\"orientation\":\"v\",\"showlegend\":true,\"x\":[\"tuesday\",\"wednesday\"],\"xaxis\":\"x\",\"y\":[1,1],\"yaxis\":\"y\",\"type\":\"scatter\"},{\"hovertemplate\":\"<b>%{hovertext}</b><br><br>meal=grilled zucchini<br>weekday=%{x}<br>number_meals=%{y}<extra></extra>\",\"hovertext\":[\"grilled zucchini\",\"grilled zucchini\"],\"legendgroup\":\"grilled zucchini\",\"marker\":{\"color\":\"#FFA15A\",\"symbol\":\"circle\",\"opacity\":0.6,\"size\":8},\"mode\":\"markers\",\"name\":\"grilled zucchini\",\"orientation\":\"v\",\"showlegend\":true,\"x\":[\"tuesday\",\"wednesday\"],\"xaxis\":\"x\",\"y\":[1,1],\"yaxis\":\"y\",\"type\":\"scatter\"},{\"hovertemplate\":\"<b>%{hovertext}</b><br><br>meal=marinated pork loin<br>weekday=%{x}<br>number_meals=%{y}<extra></extra>\",\"hovertext\":[\"marinated pork loin\"],\"legendgroup\":\"marinated pork loin\",\"marker\":{\"color\":\"#19d3f3\",\"symbol\":\"circle\",\"opacity\":0.6,\"size\":8},\"mode\":\"markers\",\"name\":\"marinated pork loin\",\"orientation\":\"v\",\"showlegend\":true,\"x\":[\"tuesday\"],\"xaxis\":\"x\",\"y\":[1],\"yaxis\":\"y\",\"type\":\"scatter\"},{\"hovertemplate\":\"<b>%{hovertext}</b><br><br>meal=pea puree<br>weekday=%{x}<br>number_meals=%{y}<extra></extra>\",\"hovertext\":[\"pea puree\"],\"legendgroup\":\"pea puree\",\"marker\":{\"color\":\"#FF6692\",\"symbol\":\"circle\",\"opacity\":0.6,\"size\":8},\"mode\":\"markers\",\"name\":\"pea puree\",\"orientation\":\"v\",\"showlegend\":true,\"x\":[\"tuesday\"],\"xaxis\":\"x\",\"y\":[1],\"yaxis\":\"y\",\"type\":\"scatter\"},{\"hovertemplate\":\"<b>%{hovertext}</b><br><br>meal=peas with potato<br>weekday=%{x}<br>number_meals=%{y}<extra></extra>\",\"hovertext\":[\"peas with potato\",\"peas with potato\"],\"legendgroup\":\"peas with potato\",\"marker\":{\"color\":\"#B6E880\",\"symbol\":\"circle\",\"opacity\":0.6,\"size\":8},\"mode\":\"markers\",\"name\":\"peas with potato\",\"orientation\":\"v\",\"showlegend\":true,\"x\":[\"tuesday\",\"wednesday\"],\"xaxis\":\"x\",\"y\":[1,1],\"yaxis\":\"y\",\"type\":\"scatter\"},{\"hovertemplate\":\"<b>%{hovertext}</b><br><br>meal=rice with tomato<br>weekday=%{x}<br>number_meals=%{y}<extra></extra>\",\"hovertext\":[\"rice with tomato\"],\"legendgroup\":\"rice with tomato\",\"marker\":{\"color\":\"#FF97FF\",\"symbol\":\"circle\",\"opacity\":0.6,\"size\":8},\"mode\":\"markers\",\"name\":\"rice with tomato\",\"orientation\":\"v\",\"showlegend\":true,\"x\":[\"tuesday\"],\"xaxis\":\"x\",\"y\":[2],\"yaxis\":\"y\",\"type\":\"scatter\"},{\"hovertemplate\":\"<b>%{hovertext}</b><br><br>meal=roast beef<br>weekday=%{x}<br>number_meals=%{y}<extra></extra>\",\"hovertext\":[\"roast beef\"],\"legendgroup\":\"roast beef\",\"marker\":{\"color\":\"#FECB52\",\"symbol\":\"circle\",\"opacity\":0.6,\"size\":8},\"mode\":\"markers\",\"name\":\"roast beef\",\"orientation\":\"v\",\"showlegend\":true,\"x\":[\"tuesday\"],\"xaxis\":\"x\",\"y\":[1],\"yaxis\":\"y\",\"type\":\"scatter\"},{\"hovertemplate\":\"<b>%{hovertext}</b><br><br>meal=sauteed cauliflower<br>weekday=%{x}<br>number_meals=%{y}<extra></extra>\",\"hovertext\":[\"sauteed cauliflower\"],\"legendgroup\":\"sauteed cauliflower\",\"marker\":{\"color\":\"#636efa\",\"symbol\":\"circle\",\"opacity\":0.6,\"size\":8},\"mode\":\"markers\",\"name\":\"sauteed cauliflower\",\"orientation\":\"v\",\"showlegend\":true,\"x\":[\"tuesday\"],\"xaxis\":\"x\",\"y\":[1],\"yaxis\":\"y\",\"type\":\"scatter\"},{\"hovertemplate\":\"<b>%{hovertext}</b><br><br>meal=stroganoff tenderloin<br>weekday=%{x}<br>number_meals=%{y}<extra></extra>\",\"hovertext\":[\"stroganoff tenderloin\"],\"legendgroup\":\"stroganoff tenderloin\",\"marker\":{\"color\":\"#EF553B\",\"symbol\":\"circle\",\"opacity\":0.6,\"size\":8},\"mode\":\"markers\",\"name\":\"stroganoff tenderloin\",\"orientation\":\"v\",\"showlegend\":true,\"x\":[\"tuesday\"],\"xaxis\":\"x\",\"y\":[1],\"yaxis\":\"y\",\"type\":\"scatter\"},{\"hovertemplate\":\"<b>%{hovertext}</b><br><br>meal=carbonara macaroni<br>weekday=%{x}<br>number_meals=%{y}<extra></extra>\",\"hovertext\":[\"carbonara macaroni\"],\"legendgroup\":\"carbonara macaroni\",\"marker\":{\"color\":\"#00cc96\",\"symbol\":\"circle\",\"opacity\":0.6,\"size\":8},\"mode\":\"markers\",\"name\":\"carbonara macaroni\",\"orientation\":\"v\",\"showlegend\":true,\"x\":[\"wednesday\"],\"xaxis\":\"x\",\"y\":[1],\"yaxis\":\"y\",\"type\":\"scatter\"},{\"hovertemplate\":\"<b>%{hovertext}</b><br><br>meal=fried rooster<br>weekday=%{x}<br>number_meals=%{y}<extra></extra>\",\"hovertext\":[\"fried rooster\"],\"legendgroup\":\"fried rooster\",\"marker\":{\"color\":\"#ab63fa\",\"symbol\":\"circle\",\"opacity\":0.6,\"size\":8},\"mode\":\"markers\",\"name\":\"fried rooster\",\"orientation\":\"v\",\"showlegend\":true,\"x\":[\"wednesday\"],\"xaxis\":\"x\",\"y\":[1],\"yaxis\":\"y\",\"type\":\"scatter\"},{\"hovertemplate\":\"<b>%{hovertext}</b><br><br>meal=green beans<br>weekday=%{x}<br>number_meals=%{y}<extra></extra>\",\"hovertext\":[\"green beans\"],\"legendgroup\":\"green beans\",\"marker\":{\"color\":\"#FFA15A\",\"symbol\":\"circle\",\"opacity\":0.6,\"size\":8},\"mode\":\"markers\",\"name\":\"green beans\",\"orientation\":\"v\",\"showlegend\":true,\"x\":[\"wednesday\"],\"xaxis\":\"x\",\"y\":[1],\"yaxis\":\"y\",\"type\":\"scatter\"},{\"hovertemplate\":\"<b>%{hovertext}</b><br><br>meal=loin fillet<br>weekday=%{x}<br>number_meals=%{y}<extra></extra>\",\"hovertext\":[\"loin fillet\"],\"legendgroup\":\"loin fillet\",\"marker\":{\"color\":\"#19d3f3\",\"symbol\":\"circle\",\"opacity\":0.6,\"size\":8},\"mode\":\"markers\",\"name\":\"loin fillet\",\"orientation\":\"v\",\"showlegend\":true,\"x\":[\"wednesday\"],\"xaxis\":\"x\",\"y\":[1],\"yaxis\":\"y\",\"type\":\"scatter\"},{\"hovertemplate\":\"<b>%{hovertext}</b><br><br>meal=swordfish<br>weekday=%{x}<br>number_meals=%{y}<extra></extra>\",\"hovertext\":[\"swordfish\"],\"legendgroup\":\"swordfish\",\"marker\":{\"color\":\"#FF6692\",\"symbol\":\"circle\",\"opacity\":0.6,\"size\":8},\"mode\":\"markers\",\"name\":\"swordfish\",\"orientation\":\"v\",\"showlegend\":true,\"x\":[\"wednesday\"],\"xaxis\":\"x\",\"y\":[1],\"yaxis\":\"y\",\"type\":\"scatter\"},{\"hovertemplate\":\"<b>%{hovertext}</b><br><br>meal=tomato<br>weekday=%{x}<br>number_meals=%{y}<extra></extra>\",\"hovertext\":[\"tomato\"],\"legendgroup\":\"tomato\",\"marker\":{\"color\":\"#B6E880\",\"symbol\":\"circle\",\"opacity\":0.6,\"size\":8},\"mode\":\"markers\",\"name\":\"tomato\",\"orientation\":\"v\",\"showlegend\":true,\"x\":[\"wednesday\"],\"xaxis\":\"x\",\"y\":[1],\"yaxis\":\"y\",\"type\":\"scatter\"}],                        {\"template\":{\"data\":{\"histogram2dcontour\":[{\"type\":\"histogram2dcontour\",\"colorbar\":{\"outlinewidth\":0,\"ticks\":\"\"},\"colorscale\":[[0.0,\"#0d0887\"],[0.1111111111111111,\"#46039f\"],[0.2222222222222222,\"#7201a8\"],[0.3333333333333333,\"#9c179e\"],[0.4444444444444444,\"#bd3786\"],[0.5555555555555556,\"#d8576b\"],[0.6666666666666666,\"#ed7953\"],[0.7777777777777778,\"#fb9f3a\"],[0.8888888888888888,\"#fdca26\"],[1.0,\"#f0f921\"]]}],\"choropleth\":[{\"type\":\"choropleth\",\"colorbar\":{\"outlinewidth\":0,\"ticks\":\"\"}}],\"histogram2d\":[{\"type\":\"histogram2d\",\"colorbar\":{\"outlinewidth\":0,\"ticks\":\"\"},\"colorscale\":[[0.0,\"#0d0887\"],[0.1111111111111111,\"#46039f\"],[0.2222222222222222,\"#7201a8\"],[0.3333333333333333,\"#9c179e\"],[0.4444444444444444,\"#bd3786\"],[0.5555555555555556,\"#d8576b\"],[0.6666666666666666,\"#ed7953\"],[0.7777777777777778,\"#fb9f3a\"],[0.8888888888888888,\"#fdca26\"],[1.0,\"#f0f921\"]]}],\"heatmap\":[{\"type\":\"heatmap\",\"colorbar\":{\"outlinewidth\":0,\"ticks\":\"\"},\"colorscale\":[[0.0,\"#0d0887\"],[0.1111111111111111,\"#46039f\"],[0.2222222222222222,\"#7201a8\"],[0.3333333333333333,\"#9c179e\"],[0.4444444444444444,\"#bd3786\"],[0.5555555555555556,\"#d8576b\"],[0.6666666666666666,\"#ed7953\"],[0.7777777777777778,\"#fb9f3a\"],[0.8888888888888888,\"#fdca26\"],[1.0,\"#f0f921\"]]}],\"heatmapgl\":[{\"type\":\"heatmapgl\",\"colorbar\":{\"outlinewidth\":0,\"ticks\":\"\"},\"colorscale\":[[0.0,\"#0d0887\"],[0.1111111111111111,\"#46039f\"],[0.2222222222222222,\"#7201a8\"],[0.3333333333333333,\"#9c179e\"],[0.4444444444444444,\"#bd3786\"],[0.5555555555555556,\"#d8576b\"],[0.6666666666666666,\"#ed7953\"],[0.7777777777777778,\"#fb9f3a\"],[0.8888888888888888,\"#fdca26\"],[1.0,\"#f0f921\"]]}],\"contourcarpet\":[{\"type\":\"contourcarpet\",\"colorbar\":{\"outlinewidth\":0,\"ticks\":\"\"}}],\"contour\":[{\"type\":\"contour\",\"colorbar\":{\"outlinewidth\":0,\"ticks\":\"\"},\"colorscale\":[[0.0,\"#0d0887\"],[0.1111111111111111,\"#46039f\"],[0.2222222222222222,\"#7201a8\"],[0.3333333333333333,\"#9c179e\"],[0.4444444444444444,\"#bd3786\"],[0.5555555555555556,\"#d8576b\"],[0.6666666666666666,\"#ed7953\"],[0.7777777777777778,\"#fb9f3a\"],[0.8888888888888888,\"#fdca26\"],[1.0,\"#f0f921\"]]}],\"surface\":[{\"type\":\"surface\",\"colorbar\":{\"outlinewidth\":0,\"ticks\":\"\"},\"colorscale\":[[0.0,\"#0d0887\"],[0.1111111111111111,\"#46039f\"],[0.2222222222222222,\"#7201a8\"],[0.3333333333333333,\"#9c179e\"],[0.4444444444444444,\"#bd3786\"],[0.5555555555555556,\"#d8576b\"],[0.6666666666666666,\"#ed7953\"],[0.7777777777777778,\"#fb9f3a\"],[0.8888888888888888,\"#fdca26\"],[1.0,\"#f0f921\"]]}],\"mesh3d\":[{\"type\":\"mesh3d\",\"colorbar\":{\"outlinewidth\":0,\"ticks\":\"\"}}],\"scatter\":[{\"fillpattern\":{\"fillmode\":\"overlay\",\"size\":10,\"solidity\":0.2},\"type\":\"scatter\"}],\"parcoords\":[{\"type\":\"parcoords\",\"line\":{\"colorbar\":{\"outlinewidth\":0,\"ticks\":\"\"}}}],\"scatterpolargl\":[{\"type\":\"scatterpolargl\",\"marker\":{\"colorbar\":{\"outlinewidth\":0,\"ticks\":\"\"}}}],\"bar\":[{\"error_x\":{\"color\":\"#2a3f5f\"},\"error_y\":{\"color\":\"#2a3f5f\"},\"marker\":{\"line\":{\"color\":\"#E5ECF6\",\"width\":0.5},\"pattern\":{\"fillmode\":\"overlay\",\"size\":10,\"solidity\":0.2}},\"type\":\"bar\"}],\"scattergeo\":[{\"type\":\"scattergeo\",\"marker\":{\"colorbar\":{\"outlinewidth\":0,\"ticks\":\"\"}}}],\"scatterpolar\":[{\"type\":\"scatterpolar\",\"marker\":{\"colorbar\":{\"outlinewidth\":0,\"ticks\":\"\"}}}],\"histogram\":[{\"marker\":{\"pattern\":{\"fillmode\":\"overlay\",\"size\":10,\"solidity\":0.2}},\"type\":\"histogram\"}],\"scattergl\":[{\"type\":\"scattergl\",\"marker\":{\"colorbar\":{\"outlinewidth\":0,\"ticks\":\"\"}}}],\"scatter3d\":[{\"type\":\"scatter3d\",\"line\":{\"colorbar\":{\"outlinewidth\":0,\"ticks\":\"\"}},\"marker\":{\"colorbar\":{\"outlinewidth\":0,\"ticks\":\"\"}}}],\"scattermapbox\":[{\"type\":\"scattermapbox\",\"marker\":{\"colorbar\":{\"outlinewidth\":0,\"ticks\":\"\"}}}],\"scatterternary\":[{\"type\":\"scatterternary\",\"marker\":{\"colorbar\":{\"outlinewidth\":0,\"ticks\":\"\"}}}],\"scattercarpet\":[{\"type\":\"scattercarpet\",\"marker\":{\"colorbar\":{\"outlinewidth\":0,\"ticks\":\"\"}}}],\"carpet\":[{\"aaxis\":{\"endlinecolor\":\"#2a3f5f\",\"gridcolor\":\"white\",\"linecolor\":\"white\",\"minorgridcolor\":\"white\",\"startlinecolor\":\"#2a3f5f\"},\"baxis\":{\"endlinecolor\":\"#2a3f5f\",\"gridcolor\":\"white\",\"linecolor\":\"white\",\"minorgridcolor\":\"white\",\"startlinecolor\":\"#2a3f5f\"},\"type\":\"carpet\"}],\"table\":[{\"cells\":{\"fill\":{\"color\":\"#EBF0F8\"},\"line\":{\"color\":\"white\"}},\"header\":{\"fill\":{\"color\":\"#C8D4E3\"},\"line\":{\"color\":\"white\"}},\"type\":\"table\"}],\"barpolar\":[{\"marker\":{\"line\":{\"color\":\"#E5ECF6\",\"width\":0.5},\"pattern\":{\"fillmode\":\"overlay\",\"size\":10,\"solidity\":0.2}},\"type\":\"barpolar\"}],\"pie\":[{\"automargin\":true,\"type\":\"pie\"}]},\"layout\":{\"autotypenumbers\":\"strict\",\"colorway\":[\"#636efa\",\"#EF553B\",\"#00cc96\",\"#ab63fa\",\"#FFA15A\",\"#19d3f3\",\"#FF6692\",\"#B6E880\",\"#FF97FF\",\"#FECB52\"],\"font\":{\"color\":\"#2a3f5f\"},\"hovermode\":\"closest\",\"hoverlabel\":{\"align\":\"left\"},\"paper_bgcolor\":\"white\",\"plot_bgcolor\":\"#E5ECF6\",\"polar\":{\"bgcolor\":\"#E5ECF6\",\"angularaxis\":{\"gridcolor\":\"white\",\"linecolor\":\"white\",\"ticks\":\"\"},\"radialaxis\":{\"gridcolor\":\"white\",\"linecolor\":\"white\",\"ticks\":\"\"}},\"ternary\":{\"bgcolor\":\"#E5ECF6\",\"aaxis\":{\"gridcolor\":\"white\",\"linecolor\":\"white\",\"ticks\":\"\"},\"baxis\":{\"gridcolor\":\"white\",\"linecolor\":\"white\",\"ticks\":\"\"},\"caxis\":{\"gridcolor\":\"white\",\"linecolor\":\"white\",\"ticks\":\"\"}},\"coloraxis\":{\"colorbar\":{\"outlinewidth\":0,\"ticks\":\"\"}},\"colorscale\":{\"sequential\":[[0.0,\"#0d0887\"],[0.1111111111111111,\"#46039f\"],[0.2222222222222222,\"#7201a8\"],[0.3333333333333333,\"#9c179e\"],[0.4444444444444444,\"#bd3786\"],[0.5555555555555556,\"#d8576b\"],[0.6666666666666666,\"#ed7953\"],[0.7777777777777778,\"#fb9f3a\"],[0.8888888888888888,\"#fdca26\"],[1.0,\"#f0f921\"]],\"sequentialminus\":[[0.0,\"#0d0887\"],[0.1111111111111111,\"#46039f\"],[0.2222222222222222,\"#7201a8\"],[0.3333333333333333,\"#9c179e\"],[0.4444444444444444,\"#bd3786\"],[0.5555555555555556,\"#d8576b\"],[0.6666666666666666,\"#ed7953\"],[0.7777777777777778,\"#fb9f3a\"],[0.8888888888888888,\"#fdca26\"],[1.0,\"#f0f921\"]],\"diverging\":[[0,\"#8e0152\"],[0.1,\"#c51b7d\"],[0.2,\"#de77ae\"],[0.3,\"#f1b6da\"],[0.4,\"#fde0ef\"],[0.5,\"#f7f7f7\"],[0.6,\"#e6f5d0\"],[0.7,\"#b8e186\"],[0.8,\"#7fbc41\"],[0.9,\"#4d9221\"],[1,\"#276419\"]]},\"xaxis\":{\"gridcolor\":\"white\",\"linecolor\":\"white\",\"ticks\":\"\",\"title\":{\"standoff\":15},\"zerolinecolor\":\"white\",\"automargin\":true,\"zerolinewidth\":2},\"yaxis\":{\"gridcolor\":\"white\",\"linecolor\":\"white\",\"ticks\":\"\",\"title\":{\"standoff\":15},\"zerolinecolor\":\"white\",\"automargin\":true,\"zerolinewidth\":2},\"scene\":{\"xaxis\":{\"backgroundcolor\":\"#E5ECF6\",\"gridcolor\":\"white\",\"linecolor\":\"white\",\"showbackground\":true,\"ticks\":\"\",\"zerolinecolor\":\"white\",\"gridwidth\":2},\"yaxis\":{\"backgroundcolor\":\"#E5ECF6\",\"gridcolor\":\"white\",\"linecolor\":\"white\",\"showbackground\":true,\"ticks\":\"\",\"zerolinecolor\":\"white\",\"gridwidth\":2},\"zaxis\":{\"backgroundcolor\":\"#E5ECF6\",\"gridcolor\":\"white\",\"linecolor\":\"white\",\"showbackground\":true,\"ticks\":\"\",\"zerolinecolor\":\"white\",\"gridwidth\":2}},\"shapedefaults\":{\"line\":{\"color\":\"#2a3f5f\"}},\"annotationdefaults\":{\"arrowcolor\":\"#2a3f5f\",\"arrowhead\":0,\"arrowwidth\":1},\"geo\":{\"bgcolor\":\"white\",\"landcolor\":\"#E5ECF6\",\"subunitcolor\":\"white\",\"showland\":true,\"showlakes\":true,\"lakecolor\":\"white\"},\"title\":{\"x\":0.05},\"mapbox\":{\"style\":\"light\"}}},\"xaxis\":{\"anchor\":\"y\",\"domain\":[0.0,1.0],\"title\":{\"text\":\"weekday\"}},\"yaxis\":{\"anchor\":\"x\",\"domain\":[0.0,1.0],\"title\":{\"text\":\"number_meals\"}},\"legend\":{\"title\":{\"text\":\"meal\"},\"tracegroupgap\":0},\"title\":{\"text\":\"Mealsby day\"}},                        {\"responsive\": true}                    ).then(function(){\n",
       "                            \n",
       "var gd = document.getElementById('b0e7ea72-3bcc-4c5c-aad7-acb4827da74e');\n",
       "var x = new MutationObserver(function (mutations, observer) {{\n",
       "        var display = window.getComputedStyle(gd).display;\n",
       "        if (!display || display === 'none') {{\n",
       "            console.log([gd, 'removed!']);\n",
       "            Plotly.purge(gd);\n",
       "            observer.disconnect();\n",
       "        }}\n",
       "}});\n",
       "\n",
       "// Listen for the removal of the full notebook cells\n",
       "var notebookContainer = gd.closest('#notebook-container');\n",
       "if (notebookContainer) {{\n",
       "    x.observe(notebookContainer, {childList: true});\n",
       "}}\n",
       "\n",
       "// Listen for the clearing of the current output cell\n",
       "var outputEl = gd.closest('.output');\n",
       "if (outputEl) {{\n",
       "    x.observe(outputEl, {childList: true});\n",
       "}}\n",
       "\n",
       "                        })                };                });            </script>        </div>"
      ]
     },
     "metadata": {},
     "output_type": "display_data"
    }
   ],
   "source": []
  },
  {
   "cell_type": "code",
   "execution_count": null,
   "id": "ad48459d-38fd-48c1-80e5-de2f24004b90",
   "metadata": {},
   "outputs": [],
   "source": []
  }
 ],
 "metadata": {
  "kernelspec": {
   "display_name": "Python 3 (ipykernel)",
   "language": "python",
   "name": "python3"
  },
  "language_info": {
   "codemirror_mode": {
    "name": "ipython",
    "version": 3
   },
   "file_extension": ".py",
   "mimetype": "text/x-python",
   "name": "python",
   "nbconvert_exporter": "python",
   "pygments_lexer": "ipython3",
   "version": "3.11.7"
  }
 },
 "nbformat": 4,
 "nbformat_minor": 5
}
