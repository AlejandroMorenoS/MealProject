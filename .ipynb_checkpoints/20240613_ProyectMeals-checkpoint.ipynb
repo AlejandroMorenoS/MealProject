{
 "cells": [
  {
   "cell_type": "markdown",
   "id": "ef7fbddf-5c32-40be-852a-91c7ebf9dda7",
   "metadata": {},
   "source": [
    "# Project Meals: Analyzing Our 2023 Dinners\n",
    "In 2023, my wife and I recorded most of our dinners in a notebook. Each Monday morning, we would plan our meals for the week, and the person who finished work first would prepare dinner for our family of four.\n",
    "\n",
    "This year, I decided to turn this record-keeping into a data analysis side project. Using my Python and SQL skills, I transferred our handwritten notes into a CSV file and analyzed the data with Pandas and SQL.\n",
    "\n",
    "First, I digitized the notebook entries into a CSV file containing two columns: meal and date. Realizing the potential for more detailed analysis, I expanded the dataset to include additional information such as:\n",
    "\n",
    "- Weekday (Monday, Tuesday, Wednesday, etc.)\n",
    "- Type of meal (vegan, veggie, pescatarian, chicken, egg, beef, or pork)\n",
    "- Course (supplement/\"primero\" or main/\"principal\")\n",
    "- Translation of Spanish meal names into English (we are both Spanish speakers)\n",
    "- Estimated calories per serving\n",
    "- Expected preparation time\n",
    "- Carbon footprint points, following a Fibonacci sequence (1, 2, 3, 5, 8, 13, 21), where meals involving beef had the highest points, followed by fish, egg, and vegetables <br>\n",
    "\n",
    "This project not only allowed me to apply and enhance my Python and SQL abilities but also provided valuable insights into our dietary patterns and their environmental impact.\n",
    "<br>\n",
    "Lets start by the basics, I loaded the csv data (which can be found on thisgitHub as well) into a dataframe to be analysed."
   ]
  },
  {
   "cell_type": "code",
   "execution_count": 17,
   "id": "b9a9bbb4-19a9-49b0-84a4-cb1d8d393cc2",
   "metadata": {},
   "outputs": [
    {
     "data": {
      "text/html": [
       "<div>\n",
       "<style scoped>\n",
       "    .dataframe tbody tr th:only-of-type {\n",
       "        vertical-align: middle;\n",
       "    }\n",
       "\n",
       "    .dataframe tbody tr th {\n",
       "        vertical-align: top;\n",
       "    }\n",
       "\n",
       "    .dataframe thead th {\n",
       "        text-align: right;\n",
       "    }\n",
       "</style>\n",
       "<table border=\"1\" class=\"dataframe\">\n",
       "  <thead>\n",
       "    <tr style=\"text-align: right;\">\n",
       "      <th></th>\n",
       "      <th>day</th>\n",
       "      <th>comida</th>\n",
       "      <th>week number</th>\n",
       "      <th>weekday</th>\n",
       "      <th>vegan</th>\n",
       "      <th>veggie</th>\n",
       "      <th>pescaterian</th>\n",
       "      <th>chicken</th>\n",
       "      <th>egg</th>\n",
       "      <th>beef</th>\n",
       "      <th>pork</th>\n",
       "      <th>carbon point</th>\n",
       "      <th>time</th>\n",
       "      <th>category</th>\n",
       "      <th>group</th>\n",
       "      <th>excercise points</th>\n",
       "      <th>meal</th>\n",
       "      <th>calories</th>\n",
       "      <th>num calories</th>\n",
       "    </tr>\n",
       "  </thead>\n",
       "  <tbody>\n",
       "    <tr>\n",
       "      <th>0</th>\n",
       "      <td>16/01/2023</td>\n",
       "      <td>crema zanahoria</td>\n",
       "      <td>3</td>\n",
       "      <td>monday</td>\n",
       "      <td>0</td>\n",
       "      <td>1</td>\n",
       "      <td>1</td>\n",
       "      <td>0</td>\n",
       "      <td>0</td>\n",
       "      <td>0</td>\n",
       "      <td>0</td>\n",
       "      <td>2</td>\n",
       "      <td>20</td>\n",
       "      <td>primero</td>\n",
       "      <td>vegetal</td>\n",
       "      <td>233.0</td>\n",
       "      <td>carrot cream</td>\n",
       "      <td>150-200 calories per serving</td>\n",
       "      <td>175</td>\n",
       "    </tr>\n",
       "    <tr>\n",
       "      <th>1</th>\n",
       "      <td>16/01/2023</td>\n",
       "      <td>merluza con pure</td>\n",
       "      <td>3</td>\n",
       "      <td>monday</td>\n",
       "      <td>0</td>\n",
       "      <td>0</td>\n",
       "      <td>1</td>\n",
       "      <td>0</td>\n",
       "      <td>0</td>\n",
       "      <td>0</td>\n",
       "      <td>0</td>\n",
       "      <td>8</td>\n",
       "      <td>30</td>\n",
       "      <td>principal</td>\n",
       "      <td>proteina animal</td>\n",
       "      <td>NaN</td>\n",
       "      <td>hake with mashed potatoes</td>\n",
       "      <td>300-350 calories per serving</td>\n",
       "      <td>325</td>\n",
       "    </tr>\n",
       "    <tr>\n",
       "      <th>2</th>\n",
       "      <td>17/01/2023</td>\n",
       "      <td>garbanzos</td>\n",
       "      <td>3</td>\n",
       "      <td>tuesday</td>\n",
       "      <td>1</td>\n",
       "      <td>1</td>\n",
       "      <td>1</td>\n",
       "      <td>0</td>\n",
       "      <td>0</td>\n",
       "      <td>0</td>\n",
       "      <td>0</td>\n",
       "      <td>1</td>\n",
       "      <td>30</td>\n",
       "      <td>principal</td>\n",
       "      <td>vegetal</td>\n",
       "      <td>NaN</td>\n",
       "      <td>chickpeas</td>\n",
       "      <td>150-200 calories per serving</td>\n",
       "      <td>175</td>\n",
       "    </tr>\n",
       "    <tr>\n",
       "      <th>3</th>\n",
       "      <td>18/01/2023</td>\n",
       "      <td>crema</td>\n",
       "      <td>3</td>\n",
       "      <td>wednesday</td>\n",
       "      <td>0</td>\n",
       "      <td>1</td>\n",
       "      <td>1</td>\n",
       "      <td>0</td>\n",
       "      <td>0</td>\n",
       "      <td>0</td>\n",
       "      <td>0</td>\n",
       "      <td>2</td>\n",
       "      <td>20</td>\n",
       "      <td>primero</td>\n",
       "      <td>vegetal</td>\n",
       "      <td>NaN</td>\n",
       "      <td>cream</td>\n",
       "      <td>150-200 calories per serving</td>\n",
       "      <td>175</td>\n",
       "    </tr>\n",
       "    <tr>\n",
       "      <th>4</th>\n",
       "      <td>18/01/2023</td>\n",
       "      <td>pollo horno</td>\n",
       "      <td>3</td>\n",
       "      <td>wednesday</td>\n",
       "      <td>0</td>\n",
       "      <td>0</td>\n",
       "      <td>0</td>\n",
       "      <td>1</td>\n",
       "      <td>0</td>\n",
       "      <td>0</td>\n",
       "      <td>0</td>\n",
       "      <td>5</td>\n",
       "      <td>45</td>\n",
       "      <td>principal</td>\n",
       "      <td>proteina animal</td>\n",
       "      <td>NaN</td>\n",
       "      <td>roast chicken</td>\n",
       "      <td>250-300 calories per serving</td>\n",
       "      <td>275</td>\n",
       "    </tr>\n",
       "  </tbody>\n",
       "</table>\n",
       "</div>"
      ],
      "text/plain": [
       "          day            comida  week number    weekday  vegan  veggie  \\\n",
       "0  16/01/2023   crema zanahoria            3     monday      0       1   \n",
       "1  16/01/2023  merluza con pure            3     monday      0       0   \n",
       "2  17/01/2023         garbanzos            3    tuesday      1       1   \n",
       "3  18/01/2023             crema            3  wednesday      0       1   \n",
       "4  18/01/2023       pollo horno            3  wednesday      0       0   \n",
       "\n",
       "   pescaterian  chicken  egg  beef  pork  carbon point  time   category  \\\n",
       "0            1        0    0     0     0             2    20    primero   \n",
       "1            1        0    0     0     0             8    30  principal   \n",
       "2            1        0    0     0     0             1    30  principal   \n",
       "3            1        0    0     0     0             2    20    primero   \n",
       "4            0        1    0     0     0             5    45  principal   \n",
       "\n",
       "             group  excercise points                       meal  \\\n",
       "0          vegetal             233.0               carrot cream   \n",
       "1  proteina animal               NaN  hake with mashed potatoes   \n",
       "2          vegetal               NaN                  chickpeas   \n",
       "3          vegetal               NaN                      cream   \n",
       "4  proteina animal               NaN              roast chicken   \n",
       "\n",
       "                        calories num calories  \n",
       "0   150-200 calories per serving          175  \n",
       "1   300-350 calories per serving          325  \n",
       "2   150-200 calories per serving          175  \n",
       "3   150-200 calories per serving          175  \n",
       "4   250-300 calories per serving          275  "
      ]
     },
     "execution_count": 17,
     "metadata": {},
     "output_type": "execute_result"
    }
   ],
   "source": [
    "import pandas as pd\n",
    "import pandasql as psql\n",
    "import csv\n",
    "import matplotlib.pyplot as plt\n",
    "import numpy as np\n",
    "import seaborn as sns\n",
    "df = pd.read_csv('ProyectMachineLearningMeals.csv')\n",
    "df.head()"
   ]
  },
  {
   "cell_type": "markdown",
   "id": "6de23817-2d4d-4774-8523-cbcfe12b4684",
   "metadata": {},
   "source": [
    "First thing I wanted to explore was the frequency of what meals we have by day. <br>\n",
    "This also helped me in understanding how to create a SQL query on a Jupyter notebook"
   ]
  },
  {
   "cell_type": "code",
   "execution_count": 19,
   "id": "46741dda-1148-4d43-a1e1-1ef3720b04ae",
   "metadata": {
    "scrolled": true
   },
   "outputs": [
    {
     "data": {
      "text/html": [
       "<div>\n",
       "<style scoped>\n",
       "    .dataframe tbody tr th:only-of-type {\n",
       "        vertical-align: middle;\n",
       "    }\n",
       "\n",
       "    .dataframe tbody tr th {\n",
       "        vertical-align: top;\n",
       "    }\n",
       "\n",
       "    .dataframe thead th {\n",
       "        text-align: right;\n",
       "    }\n",
       "</style>\n",
       "<table border=\"1\" class=\"dataframe\">\n",
       "  <thead>\n",
       "    <tr style=\"text-align: right;\">\n",
       "      <th></th>\n",
       "      <th>weekday</th>\n",
       "      <th>meal</th>\n",
       "      <th>number_meals</th>\n",
       "    </tr>\n",
       "  </thead>\n",
       "  <tbody>\n",
       "    <tr>\n",
       "      <th>0</th>\n",
       "      <td>wednesday</td>\n",
       "      <td>salad</td>\n",
       "      <td>14</td>\n",
       "    </tr>\n",
       "    <tr>\n",
       "      <th>1</th>\n",
       "      <td>thursday</td>\n",
       "      <td>salad</td>\n",
       "      <td>13</td>\n",
       "    </tr>\n",
       "    <tr>\n",
       "      <th>2</th>\n",
       "      <td>friday</td>\n",
       "      <td>salad</td>\n",
       "      <td>11</td>\n",
       "    </tr>\n",
       "    <tr>\n",
       "      <th>3</th>\n",
       "      <td>tuesday</td>\n",
       "      <td>salad</td>\n",
       "      <td>11</td>\n",
       "    </tr>\n",
       "    <tr>\n",
       "      <th>4</th>\n",
       "      <td>monday</td>\n",
       "      <td>salad</td>\n",
       "      <td>10</td>\n",
       "    </tr>\n",
       "  </tbody>\n",
       "</table>\n",
       "</div>"
      ],
      "text/plain": [
       "     weekday   meal  number_meals\n",
       "0  wednesday  salad            14\n",
       "1   thursday  salad            13\n",
       "2     friday  salad            11\n",
       "3    tuesday  salad            11\n",
       "4     monday  salad            10"
      ]
     },
     "execution_count": 19,
     "metadata": {},
     "output_type": "execute_result"
    }
   ],
   "source": [
    "# Define the SQL query, which is designed to group meals by Weekday\n",
    "query = '''\n",
    "SELECT weekday, meal, count(weekday) as number_meals\n",
    "FROM df\n",
    "GROUP BY weekday, meal\n",
    "ORDER BY count (weekday) DESC\n",
    "'''\n",
    "\n",
    "# Execute the query\n",
    "result_df = psql.sqldf(query, locals())\n",
    "\n",
    "# Display the results\n",
    "result_df.head()"
   ]
  },
  {
   "cell_type": "markdown",
   "id": "146658e2-d5cc-42e8-9374-1a9e92bc9699",
   "metadata": {},
   "source": [
    "I realised that the table was not recognising the column day as a date format, therefore I transformed it and placed it on a new column named as 'date'"
   ]
  },
  {
   "cell_type": "code",
   "execution_count": 21,
   "id": "ded31171-0276-48d0-98f8-8fd714fceaa7",
   "metadata": {},
   "outputs": [
    {
     "name": "stderr",
     "output_type": "stream",
     "text": [
      "C:\\Users\\User\\AppData\\Local\\Temp\\ipykernel_12256\\1304782396.py:2: UserWarning: Parsing dates in %d/%m/%Y format when dayfirst=False (the default) was specified. Pass `dayfirst=True` or specify a format to silence this warning.\n",
      "  df['date'] = pd.to_datetime(df['day'])\n"
     ]
    },
    {
     "data": {
      "text/html": [
       "<div>\n",
       "<style scoped>\n",
       "    .dataframe tbody tr th:only-of-type {\n",
       "        vertical-align: middle;\n",
       "    }\n",
       "\n",
       "    .dataframe tbody tr th {\n",
       "        vertical-align: top;\n",
       "    }\n",
       "\n",
       "    .dataframe thead th {\n",
       "        text-align: right;\n",
       "    }\n",
       "</style>\n",
       "<table border=\"1\" class=\"dataframe\">\n",
       "  <thead>\n",
       "    <tr style=\"text-align: right;\">\n",
       "      <th></th>\n",
       "      <th>day</th>\n",
       "      <th>comida</th>\n",
       "      <th>week number</th>\n",
       "      <th>weekday</th>\n",
       "      <th>vegan</th>\n",
       "      <th>veggie</th>\n",
       "      <th>pescaterian</th>\n",
       "      <th>chicken</th>\n",
       "      <th>egg</th>\n",
       "      <th>beef</th>\n",
       "      <th>pork</th>\n",
       "      <th>carbon point</th>\n",
       "      <th>time</th>\n",
       "      <th>category</th>\n",
       "      <th>group</th>\n",
       "      <th>excercise points</th>\n",
       "      <th>meal</th>\n",
       "      <th>calories</th>\n",
       "      <th>num calories</th>\n",
       "      <th>date</th>\n",
       "    </tr>\n",
       "  </thead>\n",
       "  <tbody>\n",
       "    <tr>\n",
       "      <th>0</th>\n",
       "      <td>16/01/2023</td>\n",
       "      <td>crema zanahoria</td>\n",
       "      <td>3</td>\n",
       "      <td>monday</td>\n",
       "      <td>0</td>\n",
       "      <td>1</td>\n",
       "      <td>1</td>\n",
       "      <td>0</td>\n",
       "      <td>0</td>\n",
       "      <td>0</td>\n",
       "      <td>0</td>\n",
       "      <td>2</td>\n",
       "      <td>20</td>\n",
       "      <td>primero</td>\n",
       "      <td>vegetal</td>\n",
       "      <td>233.0</td>\n",
       "      <td>carrot cream</td>\n",
       "      <td>150-200 calories per serving</td>\n",
       "      <td>175</td>\n",
       "      <td>2023-01-16</td>\n",
       "    </tr>\n",
       "    <tr>\n",
       "      <th>1</th>\n",
       "      <td>16/01/2023</td>\n",
       "      <td>merluza con pure</td>\n",
       "      <td>3</td>\n",
       "      <td>monday</td>\n",
       "      <td>0</td>\n",
       "      <td>0</td>\n",
       "      <td>1</td>\n",
       "      <td>0</td>\n",
       "      <td>0</td>\n",
       "      <td>0</td>\n",
       "      <td>0</td>\n",
       "      <td>8</td>\n",
       "      <td>30</td>\n",
       "      <td>principal</td>\n",
       "      <td>proteina animal</td>\n",
       "      <td>NaN</td>\n",
       "      <td>hake with mashed potatoes</td>\n",
       "      <td>300-350 calories per serving</td>\n",
       "      <td>325</td>\n",
       "      <td>2023-01-16</td>\n",
       "    </tr>\n",
       "    <tr>\n",
       "      <th>2</th>\n",
       "      <td>17/01/2023</td>\n",
       "      <td>garbanzos</td>\n",
       "      <td>3</td>\n",
       "      <td>tuesday</td>\n",
       "      <td>1</td>\n",
       "      <td>1</td>\n",
       "      <td>1</td>\n",
       "      <td>0</td>\n",
       "      <td>0</td>\n",
       "      <td>0</td>\n",
       "      <td>0</td>\n",
       "      <td>1</td>\n",
       "      <td>30</td>\n",
       "      <td>principal</td>\n",
       "      <td>vegetal</td>\n",
       "      <td>NaN</td>\n",
       "      <td>chickpeas</td>\n",
       "      <td>150-200 calories per serving</td>\n",
       "      <td>175</td>\n",
       "      <td>2023-01-17</td>\n",
       "    </tr>\n",
       "    <tr>\n",
       "      <th>3</th>\n",
       "      <td>18/01/2023</td>\n",
       "      <td>crema</td>\n",
       "      <td>3</td>\n",
       "      <td>wednesday</td>\n",
       "      <td>0</td>\n",
       "      <td>1</td>\n",
       "      <td>1</td>\n",
       "      <td>0</td>\n",
       "      <td>0</td>\n",
       "      <td>0</td>\n",
       "      <td>0</td>\n",
       "      <td>2</td>\n",
       "      <td>20</td>\n",
       "      <td>primero</td>\n",
       "      <td>vegetal</td>\n",
       "      <td>NaN</td>\n",
       "      <td>cream</td>\n",
       "      <td>150-200 calories per serving</td>\n",
       "      <td>175</td>\n",
       "      <td>2023-01-18</td>\n",
       "    </tr>\n",
       "    <tr>\n",
       "      <th>4</th>\n",
       "      <td>18/01/2023</td>\n",
       "      <td>pollo horno</td>\n",
       "      <td>3</td>\n",
       "      <td>wednesday</td>\n",
       "      <td>0</td>\n",
       "      <td>0</td>\n",
       "      <td>0</td>\n",
       "      <td>1</td>\n",
       "      <td>0</td>\n",
       "      <td>0</td>\n",
       "      <td>0</td>\n",
       "      <td>5</td>\n",
       "      <td>45</td>\n",
       "      <td>principal</td>\n",
       "      <td>proteina animal</td>\n",
       "      <td>NaN</td>\n",
       "      <td>roast chicken</td>\n",
       "      <td>250-300 calories per serving</td>\n",
       "      <td>275</td>\n",
       "      <td>2023-01-18</td>\n",
       "    </tr>\n",
       "  </tbody>\n",
       "</table>\n",
       "</div>"
      ],
      "text/plain": [
       "          day            comida  week number    weekday  vegan  veggie  \\\n",
       "0  16/01/2023   crema zanahoria            3     monday      0       1   \n",
       "1  16/01/2023  merluza con pure            3     monday      0       0   \n",
       "2  17/01/2023         garbanzos            3    tuesday      1       1   \n",
       "3  18/01/2023             crema            3  wednesday      0       1   \n",
       "4  18/01/2023       pollo horno            3  wednesday      0       0   \n",
       "\n",
       "   pescaterian  chicken  egg  beef  pork  carbon point  time   category  \\\n",
       "0            1        0    0     0     0             2    20    primero   \n",
       "1            1        0    0     0     0             8    30  principal   \n",
       "2            1        0    0     0     0             1    30  principal   \n",
       "3            1        0    0     0     0             2    20    primero   \n",
       "4            0        1    0     0     0             5    45  principal   \n",
       "\n",
       "             group  excercise points                       meal  \\\n",
       "0          vegetal             233.0               carrot cream   \n",
       "1  proteina animal               NaN  hake with mashed potatoes   \n",
       "2          vegetal               NaN                  chickpeas   \n",
       "3          vegetal               NaN                      cream   \n",
       "4  proteina animal               NaN              roast chicken   \n",
       "\n",
       "                        calories num calories       date  \n",
       "0   150-200 calories per serving          175 2023-01-16  \n",
       "1   300-350 calories per serving          325 2023-01-16  \n",
       "2   150-200 calories per serving          175 2023-01-17  \n",
       "3   150-200 calories per serving          175 2023-01-18  \n",
       "4   250-300 calories per serving          275 2023-01-18  "
      ]
     },
     "execution_count": 21,
     "metadata": {},
     "output_type": "execute_result"
    }
   ],
   "source": [
    "# Convert the 'date_string' column to datetime\n",
    "df['date'] = pd.to_datetime(df['day'])\n",
    "\n",
    "# Drop the original 'date_string' column if no longer needed\n",
    "#df.drop(columns=['date_string'], inplace=True)\n",
    "df.head()"
   ]
  },
  {
   "cell_type": "markdown",
   "id": "16f9808b-6f96-432d-8a83-c3148a254fdb",
   "metadata": {},
   "source": [
    "Using a nested IF statement in SQL, I leveraged the existing dummy variable information to populate the 'Calc_Meal' column with the following categories:\n",
    "- Beef\n",
    "- Chicken\n",
    "- Egg\n",
    "- Pork\n",
    "- Vegetable\n",
    "- Non-Meat with Dairy\n",
    "- Fish<br>\n",
    "\n",
    "This change made the data more accessible and easier to analyze, allowing for better insights into meal patterns and preferences."
   ]
  },
  {
   "cell_type": "code",
   "execution_count": 43,
   "id": "a5088a8a-1bc6-46bc-88d5-7ec2a74af98c",
   "metadata": {},
   "outputs": [
    {
     "data": {
      "text/html": [
       "<div>\n",
       "<style scoped>\n",
       "    .dataframe tbody tr th:only-of-type {\n",
       "        vertical-align: middle;\n",
       "    }\n",
       "\n",
       "    .dataframe tbody tr th {\n",
       "        vertical-align: top;\n",
       "    }\n",
       "\n",
       "    .dataframe thead th {\n",
       "        text-align: right;\n",
       "    }\n",
       "</style>\n",
       "<table border=\"1\" class=\"dataframe\">\n",
       "  <thead>\n",
       "    <tr style=\"text-align: right;\">\n",
       "      <th></th>\n",
       "      <th>day</th>\n",
       "      <th>comida</th>\n",
       "      <th>week number</th>\n",
       "      <th>weekday</th>\n",
       "      <th>vegan</th>\n",
       "      <th>veggie</th>\n",
       "      <th>pescaterian</th>\n",
       "      <th>chicken</th>\n",
       "      <th>egg</th>\n",
       "      <th>beef</th>\n",
       "      <th>...</th>\n",
       "      <th>carbon point</th>\n",
       "      <th>time</th>\n",
       "      <th>category</th>\n",
       "      <th>group</th>\n",
       "      <th>excercise points</th>\n",
       "      <th>meal</th>\n",
       "      <th>calories</th>\n",
       "      <th>num calories</th>\n",
       "      <th>date</th>\n",
       "      <th>Calc_Meal</th>\n",
       "    </tr>\n",
       "  </thead>\n",
       "  <tbody>\n",
       "    <tr>\n",
       "      <th>0</th>\n",
       "      <td>16/01/2023</td>\n",
       "      <td>crema zanahoria</td>\n",
       "      <td>3</td>\n",
       "      <td>monday</td>\n",
       "      <td>0</td>\n",
       "      <td>1</td>\n",
       "      <td>1</td>\n",
       "      <td>0</td>\n",
       "      <td>0</td>\n",
       "      <td>0</td>\n",
       "      <td>...</td>\n",
       "      <td>2</td>\n",
       "      <td>20</td>\n",
       "      <td>primero</td>\n",
       "      <td>vegetal</td>\n",
       "      <td>233.0</td>\n",
       "      <td>carrot cream</td>\n",
       "      <td>150-200 calories per serving</td>\n",
       "      <td>175</td>\n",
       "      <td>2023-01-16</td>\n",
       "      <td>Non-meat/wDairy</td>\n",
       "    </tr>\n",
       "    <tr>\n",
       "      <th>1</th>\n",
       "      <td>16/01/2023</td>\n",
       "      <td>merluza con pure</td>\n",
       "      <td>3</td>\n",
       "      <td>monday</td>\n",
       "      <td>0</td>\n",
       "      <td>0</td>\n",
       "      <td>1</td>\n",
       "      <td>0</td>\n",
       "      <td>0</td>\n",
       "      <td>0</td>\n",
       "      <td>...</td>\n",
       "      <td>8</td>\n",
       "      <td>30</td>\n",
       "      <td>principal</td>\n",
       "      <td>proteina animal</td>\n",
       "      <td>NaN</td>\n",
       "      <td>hake with mashed potatoes</td>\n",
       "      <td>300-350 calories per serving</td>\n",
       "      <td>325</td>\n",
       "      <td>2023-01-16</td>\n",
       "      <td>Fish</td>\n",
       "    </tr>\n",
       "    <tr>\n",
       "      <th>2</th>\n",
       "      <td>17/01/2023</td>\n",
       "      <td>garbanzos</td>\n",
       "      <td>3</td>\n",
       "      <td>tuesday</td>\n",
       "      <td>1</td>\n",
       "      <td>1</td>\n",
       "      <td>1</td>\n",
       "      <td>0</td>\n",
       "      <td>0</td>\n",
       "      <td>0</td>\n",
       "      <td>...</td>\n",
       "      <td>1</td>\n",
       "      <td>30</td>\n",
       "      <td>principal</td>\n",
       "      <td>vegetal</td>\n",
       "      <td>NaN</td>\n",
       "      <td>chickpeas</td>\n",
       "      <td>150-200 calories per serving</td>\n",
       "      <td>175</td>\n",
       "      <td>2023-01-17</td>\n",
       "      <td>Vegetable</td>\n",
       "    </tr>\n",
       "    <tr>\n",
       "      <th>3</th>\n",
       "      <td>18/01/2023</td>\n",
       "      <td>crema</td>\n",
       "      <td>3</td>\n",
       "      <td>wednesday</td>\n",
       "      <td>0</td>\n",
       "      <td>1</td>\n",
       "      <td>1</td>\n",
       "      <td>0</td>\n",
       "      <td>0</td>\n",
       "      <td>0</td>\n",
       "      <td>...</td>\n",
       "      <td>2</td>\n",
       "      <td>20</td>\n",
       "      <td>primero</td>\n",
       "      <td>vegetal</td>\n",
       "      <td>NaN</td>\n",
       "      <td>cream</td>\n",
       "      <td>150-200 calories per serving</td>\n",
       "      <td>175</td>\n",
       "      <td>2023-01-18</td>\n",
       "      <td>Non-meat/wDairy</td>\n",
       "    </tr>\n",
       "    <tr>\n",
       "      <th>4</th>\n",
       "      <td>18/01/2023</td>\n",
       "      <td>pollo horno</td>\n",
       "      <td>3</td>\n",
       "      <td>wednesday</td>\n",
       "      <td>0</td>\n",
       "      <td>0</td>\n",
       "      <td>0</td>\n",
       "      <td>1</td>\n",
       "      <td>0</td>\n",
       "      <td>0</td>\n",
       "      <td>...</td>\n",
       "      <td>5</td>\n",
       "      <td>45</td>\n",
       "      <td>principal</td>\n",
       "      <td>proteina animal</td>\n",
       "      <td>NaN</td>\n",
       "      <td>roast chicken</td>\n",
       "      <td>250-300 calories per serving</td>\n",
       "      <td>275</td>\n",
       "      <td>2023-01-18</td>\n",
       "      <td>Chicken</td>\n",
       "    </tr>\n",
       "  </tbody>\n",
       "</table>\n",
       "<p>5 rows × 21 columns</p>\n",
       "</div>"
      ],
      "text/plain": [
       "          day            comida  week number    weekday  vegan  veggie  \\\n",
       "0  16/01/2023   crema zanahoria            3     monday      0       1   \n",
       "1  16/01/2023  merluza con pure            3     monday      0       0   \n",
       "2  17/01/2023         garbanzos            3    tuesday      1       1   \n",
       "3  18/01/2023             crema            3  wednesday      0       1   \n",
       "4  18/01/2023       pollo horno            3  wednesday      0       0   \n",
       "\n",
       "   pescaterian  chicken  egg  beef  ...  carbon point  time   category  \\\n",
       "0            1        0    0     0  ...             2    20    primero   \n",
       "1            1        0    0     0  ...             8    30  principal   \n",
       "2            1        0    0     0  ...             1    30  principal   \n",
       "3            1        0    0     0  ...             2    20    primero   \n",
       "4            0        1    0     0  ...             5    45  principal   \n",
       "\n",
       "             group excercise points                       meal  \\\n",
       "0          vegetal            233.0               carrot cream   \n",
       "1  proteina animal              NaN  hake with mashed potatoes   \n",
       "2          vegetal              NaN                  chickpeas   \n",
       "3          vegetal              NaN                      cream   \n",
       "4  proteina animal              NaN              roast chicken   \n",
       "\n",
       "                        calories num calories       date        Calc_Meal  \n",
       "0   150-200 calories per serving          175 2023-01-16  Non-meat/wDairy  \n",
       "1   300-350 calories per serving          325 2023-01-16             Fish  \n",
       "2   150-200 calories per serving          175 2023-01-17        Vegetable  \n",
       "3   150-200 calories per serving          175 2023-01-18  Non-meat/wDairy  \n",
       "4   250-300 calories per serving          275 2023-01-18          Chicken  \n",
       "\n",
       "[5 rows x 21 columns]"
      ]
     },
     "execution_count": 43,
     "metadata": {},
     "output_type": "execute_result"
    }
   ],
   "source": [
    "# Define a function to apply the logic\n",
    "def calculate_meal(row):\n",
    "    if row['beef'] == 1:\n",
    "        return 'beef'\n",
    "    elif row['chicken'] == 1:\n",
    "        return 'Chicken'\n",
    "    elif row['egg'] == 1:\n",
    "        return 'Egg'\n",
    "    elif row['pork'] == 1:\n",
    "        return 'Pork'\n",
    "    elif row['vegan'] == 1:\n",
    "        return 'Vegetable'\n",
    "    elif row['veggie'] == 1:\n",
    "        return 'Non-meat/wDairy'\n",
    "    elif row['pescaterian'] == 1:\n",
    "        return 'Fish'\n",
    "    else:\n",
    "        return None  # You can adjust this to whatever makes sense for your data\n",
    "\n",
    "# Apply the function to each row in the DataFrame\n",
    "df['Calc_Meal'] = df.apply(calculate_meal, axis=1)\n",
    "\n",
    "# Display the DataFrame\n",
    "df.head()"
   ]
  },
  {
   "cell_type": "markdown",
   "id": "a7aff92f-927e-4a38-99b9-686de15b543f",
   "metadata": {},
   "source": [
    "First graph I wanted to check was our meals by weekday, just curious on what we were having more and in which days"
   ]
  },
  {
   "cell_type": "code",
   "execution_count": 51,
   "id": "ba2de0c0-0f4a-4cc8-b051-08589417e369",
   "metadata": {},
   "outputs": [
    {
     "data": {
      "application/vnd.plotly.v1+json": {
       "config": {
        "plotlyServerURL": "https://plot.ly"
       },
       "data": [
        {
         "hovertemplate": "<b>%{hovertext}</b><br><br>Calc_Meal=Chicken<br>weekday=%{x}<br>number_meals=%{y}<extra></extra>",
         "hovertext": [
          "Soup",
          "butterfly chicken",
          "chicken fillet",
          "chicken soup",
          "roast chicken",
          "turkey fillet",
          "Soup",
          "chicken fillet",
          "chicken soup",
          "pasta soup",
          "roast chicken",
          "turkey fillet",
          "Soup",
          "butterfly chicken",
          "chicken and turnip greens",
          "chicken fillet",
          "chicken soup",
          "green beans with chicken",
          "roast chicken",
          "turkey fillet",
          "Soup",
          "chicken fillet",
          "chicken soup",
          "roast chicken",
          "turkey fillet",
          "Soup",
          "chicken fillet",
          "chicken soup",
          "pasta soup",
          "roast chicken",
          "turkey fillet"
         ],
         "legendgroup": "Chicken",
         "marker": {
          "color": "#636efa",
          "opacity": 0.6,
          "size": 8,
          "symbol": "circle"
         },
         "mode": "markers",
         "name": "Chicken",
         "orientation": "v",
         "showlegend": true,
         "type": "scatter",
         "x": [
          "friday",
          "friday",
          "friday",
          "friday",
          "friday",
          "friday",
          "monday",
          "monday",
          "monday",
          "monday",
          "monday",
          "monday",
          "thursday",
          "thursday",
          "thursday",
          "thursday",
          "thursday",
          "thursday",
          "thursday",
          "thursday",
          "tuesday",
          "tuesday",
          "tuesday",
          "tuesday",
          "tuesday",
          "wednesday",
          "wednesday",
          "wednesday",
          "wednesday",
          "wednesday",
          "wednesday"
         ],
         "xaxis": "x",
         "y": [
          5,
          1,
          1,
          2,
          2,
          1,
          4,
          4,
          1,
          1,
          1,
          2,
          4,
          1,
          1,
          2,
          3,
          1,
          1,
          1,
          5,
          2,
          2,
          1,
          1,
          2,
          3,
          3,
          2,
          5,
          2
         ],
         "yaxis": "y"
        },
        {
         "hovertemplate": "<b>%{hovertext}</b><br><br>Calc_Meal=beef<br>weekday=%{x}<br>number_meals=%{y}<extra></extra>",
         "hovertext": [
          "beef fillet",
          "broccoli with meat",
          "eggplant bolognese",
          "ground/minced meat",
          "steak",
          "breaded fillet",
          "meat",
          "spaghetti bolognese",
          "steak",
          "beef fillet",
          "breaded fillet",
          "broccoli with meat",
          "eggplant bolognese",
          "spaghetti bolognese",
          "steak",
          "breaded fillet",
          "roast beef",
          "spaghetti bolognese",
          "steak",
          "breaded fillet",
          "spaghetti bolognese",
          "steak"
         ],
         "legendgroup": "beef",
         "marker": {
          "color": "#EF553B",
          "opacity": 0.6,
          "size": 8,
          "symbol": "circle"
         },
         "mode": "markers",
         "name": "beef",
         "orientation": "v",
         "showlegend": true,
         "type": "scatter",
         "x": [
          "friday",
          "friday",
          "friday",
          "friday",
          "friday",
          "monday",
          "monday",
          "monday",
          "monday",
          "thursday",
          "thursday",
          "thursday",
          "thursday",
          "thursday",
          "thursday",
          "tuesday",
          "tuesday",
          "tuesday",
          "tuesday",
          "wednesday",
          "wednesday",
          "wednesday"
         ],
         "xaxis": "x",
         "y": [
          1,
          1,
          3,
          1,
          2,
          3,
          1,
          1,
          5,
          1,
          1,
          1,
          1,
          3,
          3,
          3,
          1,
          5,
          3,
          1,
          4,
          1
         ],
         "yaxis": "y"
        },
        {
         "hovertemplate": "<b>%{hovertext}</b><br><br>Calc_Meal=Egg<br>weekday=%{x}<br>number_meals=%{y}<extra></extra>",
         "hovertext": [
          "broccoli with fried egg",
          "egg",
          "green beans with fried egg",
          "peas with fried egg",
          "potato omelette",
          "boiled egg",
          "boiled eggs",
          "fried egg",
          "green beans with fried egg",
          "potato omelette",
          "boiled eggs",
          "egg",
          "fried egg",
          "potato omelette",
          "boiled egg",
          "fried egg",
          "potato omelette"
         ],
         "legendgroup": "Egg",
         "marker": {
          "color": "#00cc96",
          "opacity": 0.6,
          "size": 8,
          "symbol": "circle"
         },
         "mode": "markers",
         "name": "Egg",
         "orientation": "v",
         "showlegend": true,
         "type": "scatter",
         "x": [
          "friday",
          "friday",
          "friday",
          "friday",
          "friday",
          "monday",
          "monday",
          "monday",
          "thursday",
          "thursday",
          "tuesday",
          "tuesday",
          "tuesday",
          "tuesday",
          "wednesday",
          "wednesday",
          "wednesday"
         ],
         "xaxis": "x",
         "y": [
          1,
          1,
          1,
          1,
          9,
          1,
          1,
          4,
          1,
          2,
          1,
          1,
          3,
          6,
          1,
          3,
          3
         ],
         "yaxis": "y"
        },
        {
         "hovertemplate": "<b>%{hovertext}</b><br><br>Calc_Meal=Non-meat/wDairy<br>weekday=%{x}<br>number_meals=%{y}<extra></extra>",
         "hovertext": [
          "carrot cream",
          "cream",
          "leek cream",
          "pumpkin cream",
          "zucchini cream",
          "carrot cream",
          "cream",
          "leek cream",
          "pasta salad",
          "pumpkin cream",
          "quesadillas",
          "zucchini cream",
          "carrot cream",
          "cream",
          "fava bean cream",
          "leek cream",
          "pumpkin cream",
          "zucchini cream",
          "carrot cream",
          "cream",
          "leek cream",
          "quesadillas",
          "zucchini cream",
          "carrot cream",
          "cream",
          "leek cream",
          "pumpkin cream",
          "quesadillas",
          "zucchini cream"
         ],
         "legendgroup": "Non-meat/wDairy",
         "marker": {
          "color": "#ab63fa",
          "opacity": 0.6,
          "size": 8,
          "symbol": "circle"
         },
         "mode": "markers",
         "name": "Non-meat/wDairy",
         "orientation": "v",
         "showlegend": true,
         "type": "scatter",
         "x": [
          "friday",
          "friday",
          "friday",
          "friday",
          "friday",
          "monday",
          "monday",
          "monday",
          "monday",
          "monday",
          "monday",
          "monday",
          "thursday",
          "thursday",
          "thursday",
          "thursday",
          "thursday",
          "thursday",
          "tuesday",
          "tuesday",
          "tuesday",
          "tuesday",
          "tuesday",
          "wednesday",
          "wednesday",
          "wednesday",
          "wednesday",
          "wednesday",
          "wednesday"
         ],
         "xaxis": "x",
         "y": [
          7,
          7,
          3,
          1,
          1,
          6,
          4,
          3,
          1,
          1,
          1,
          8,
          6,
          5,
          1,
          5,
          2,
          3,
          2,
          5,
          2,
          2,
          5,
          4,
          4,
          5,
          2,
          1,
          4
         ],
         "yaxis": "y"
        },
        {
         "hovertemplate": "<b>%{hovertext}</b><br><br>Calc_Meal=Vegetable<br>weekday=%{x}<br>number_meals=%{y}<extra></extra>",
         "hovertext": [
          "chickpea salad",
          "french fries",
          "garlic mushrooms",
          "gazpacho",
          "kale with fried potatoes",
          "lentils",
          "refried beans",
          "rice",
          "salad",
          "sauteed spinach",
          "spinach mashed potatoes",
          "stewed vegetables",
          "tomato sauce",
          "boiled potato",
          "broccoli with garlic sauce",
          "broccoli with potato",
          "chard with potatoes",
          "french fries",
          "fried potato",
          "garlic mushrooms",
          "gazpacho",
          "green beans with potato",
          "kale with fried potatoes",
          "lentils",
          "peas with onion",
          "refried beans",
          "rice",
          "salad",
          "sauteed vegetables",
          "spinach mashed potatoes",
          "stewed vegetables",
          "stir-fried green beans",
          "tomato sauce",
          "turnip greens with potato",
          "baked eggplant and zucchini",
          "boiled potato",
          "broccoli with potato",
          "chickpea salad",
          "french fries",
          "garlic mushrooms",
          "green beans with potato",
          "large beans",
          "leftover mushrooms",
          "lentils",
          "refried beans",
          "rice",
          "salad",
          "sauteed spinach",
          "sauteed vegetables",
          "spaghetti with garlic mushrooms",
          "spinach mashed potatoes",
          "spinach stew",
          "stewed vegetables",
          "tomato sauce",
          "boiled potato",
          "broccoli with potato",
          "chickpea stew",
          "chickpeas",
          "chickpeas with spinach",
          "french fries",
          "garlic mushrooms",
          "green beans with garlic sauce",
          "grilled asparagus",
          "grilled zucchini",
          "large beans",
          "lentils",
          "pea puree",
          "peas with potato",
          "refried beans",
          "rice",
          "rice with tomato",
          "salad",
          "sauteed cauliflower",
          "sauteed spinach",
          "spinach mashed potatoes",
          "stewed vegetables",
          "stir-fried green beans",
          "boiled potato",
          "broccoli with garlic sauce",
          "broccoli with potato",
          "french fries",
          "garlic mushrooms",
          "green beans",
          "green beans with potato",
          "grilled asparagus",
          "grilled zucchini",
          "lentils",
          "peas with onion",
          "peas with potato",
          "rice",
          "salad",
          "sauteed spinach",
          "sauteed vegetables",
          "spaghetti with garlic mushrooms",
          "spinach mashed potatoes",
          "stewed vegetables",
          "tomato",
          "tomato sauce"
         ],
         "legendgroup": "Vegetable",
         "marker": {
          "color": "#FFA15A",
          "opacity": 0.6,
          "size": 8,
          "symbol": "circle"
         },
         "mode": "markers",
         "name": "Vegetable",
         "orientation": "v",
         "showlegend": true,
         "type": "scatter",
         "x": [
          "friday",
          "friday",
          "friday",
          "friday",
          "friday",
          "friday",
          "friday",
          "friday",
          "friday",
          "friday",
          "friday",
          "friday",
          "friday",
          "monday",
          "monday",
          "monday",
          "monday",
          "monday",
          "monday",
          "monday",
          "monday",
          "monday",
          "monday",
          "monday",
          "monday",
          "monday",
          "monday",
          "monday",
          "monday",
          "monday",
          "monday",
          "monday",
          "monday",
          "monday",
          "thursday",
          "thursday",
          "thursday",
          "thursday",
          "thursday",
          "thursday",
          "thursday",
          "thursday",
          "thursday",
          "thursday",
          "thursday",
          "thursday",
          "thursday",
          "thursday",
          "thursday",
          "thursday",
          "thursday",
          "thursday",
          "thursday",
          "thursday",
          "tuesday",
          "tuesday",
          "tuesday",
          "tuesday",
          "tuesday",
          "tuesday",
          "tuesday",
          "tuesday",
          "tuesday",
          "tuesday",
          "tuesday",
          "tuesday",
          "tuesday",
          "tuesday",
          "tuesday",
          "tuesday",
          "tuesday",
          "tuesday",
          "tuesday",
          "tuesday",
          "tuesday",
          "tuesday",
          "tuesday",
          "wednesday",
          "wednesday",
          "wednesday",
          "wednesday",
          "wednesday",
          "wednesday",
          "wednesday",
          "wednesday",
          "wednesday",
          "wednesday",
          "wednesday",
          "wednesday",
          "wednesday",
          "wednesday",
          "wednesday",
          "wednesday",
          "wednesday",
          "wednesday",
          "wednesday",
          "wednesday",
          "wednesday"
         ],
         "xaxis": "x",
         "y": [
          1,
          1,
          2,
          1,
          1,
          1,
          3,
          6,
          11,
          1,
          1,
          1,
          1,
          2,
          1,
          3,
          2,
          2,
          1,
          1,
          1,
          2,
          1,
          4,
          1,
          3,
          4,
          10,
          1,
          6,
          7,
          1,
          1,
          1,
          1,
          1,
          3,
          1,
          5,
          1,
          2,
          1,
          1,
          4,
          1,
          3,
          13,
          4,
          1,
          1,
          2,
          1,
          1,
          1,
          3,
          2,
          1,
          1,
          1,
          6,
          1,
          1,
          1,
          1,
          1,
          1,
          1,
          1,
          2,
          5,
          2,
          11,
          1,
          4,
          4,
          3,
          1,
          4,
          2,
          1,
          4,
          1,
          1,
          3,
          1,
          1,
          3,
          1,
          1,
          6,
          14,
          2,
          1,
          1,
          4,
          3,
          1,
          2
         ],
         "yaxis": "y"
        },
        {
         "hovertemplate": "<b>%{hovertext}</b><br><br>Calc_Meal=Fish<br>weekday=%{x}<br>number_meals=%{y}<extra></extra>",
         "hovertext": [
          "fish stew",
          "hake",
          "mixed salad",
          "peas with fish",
          "sea bass",
          "tuna",
          "Russian salad",
          "baked hake",
          "baked salmon",
          "battered hake",
          "croquettes",
          "fish stew",
          "gilt-head bream",
          "hake",
          "hake with mashed potatoes",
          "mixed salad",
          "paella with squid",
          "sea bass",
          "tuna",
          "baked fish",
          "baked salmon",
          "battered hake",
          "croquettes",
          "fish stew",
          "grilled sea bass",
          "hake",
          "mixed salad",
          "peas with fish",
          "sea bass",
          "baked hake",
          "baked salmon",
          "battered hake",
          "croquettes",
          "fish stew",
          "gilt-head bream",
          "grilled sea bass",
          "hake",
          "mixed salad",
          "sea bass",
          "baked salmon",
          "battered hake",
          "croquettes",
          "fish stew",
          "fried rooster",
          "hake",
          "mixed salad",
          "peas with fish",
          "sea bass",
          "swordfish"
         ],
         "legendgroup": "Fish",
         "marker": {
          "color": "#19d3f3",
          "opacity": 0.6,
          "size": 8,
          "symbol": "circle"
         },
         "mode": "markers",
         "name": "Fish",
         "orientation": "v",
         "showlegend": true,
         "type": "scatter",
         "x": [
          "friday",
          "friday",
          "friday",
          "friday",
          "friday",
          "friday",
          "monday",
          "monday",
          "monday",
          "monday",
          "monday",
          "monday",
          "monday",
          "monday",
          "monday",
          "monday",
          "monday",
          "monday",
          "monday",
          "thursday",
          "thursday",
          "thursday",
          "thursday",
          "thursday",
          "thursday",
          "thursday",
          "thursday",
          "thursday",
          "thursday",
          "tuesday",
          "tuesday",
          "tuesday",
          "tuesday",
          "tuesday",
          "tuesday",
          "tuesday",
          "tuesday",
          "tuesday",
          "tuesday",
          "wednesday",
          "wednesday",
          "wednesday",
          "wednesday",
          "wednesday",
          "wednesday",
          "wednesday",
          "wednesday",
          "wednesday",
          "wednesday"
         ],
         "xaxis": "x",
         "y": [
          1,
          2,
          1,
          1,
          2,
          1,
          1,
          1,
          1,
          1,
          1,
          2,
          1,
          1,
          1,
          3,
          1,
          1,
          1,
          1,
          1,
          1,
          4,
          3,
          1,
          1,
          2,
          1,
          4,
          1,
          3,
          1,
          4,
          2,
          2,
          1,
          3,
          3,
          2,
          2,
          2,
          5,
          2,
          1,
          2,
          1,
          1,
          5,
          1
         ],
         "yaxis": "y"
        },
        {
         "hovertemplate": "<b>%{hovertext}</b><br><br>Calc_Meal=Pork<br>weekday=%{x}<br>number_meals=%{y}<extra></extra>",
         "hovertext": [
          "pizza",
          "Saxon loin",
          "broccoli with ham",
          "macaroni",
          "peas with ham",
          "pork tenderloin",
          "sausages",
          "Saxon loin",
          "carbonara pasta",
          "loin",
          "peas with ham",
          "pork fillet",
          "sausages",
          "spaghetti carbonara",
          "marinated pork loin",
          "peas with ham",
          "sausages",
          "stroganoff tenderloin",
          "carbonara macaroni",
          "loin fillet",
          "peas with ham",
          "pork tenderloin",
          "sausages"
         ],
         "legendgroup": "Pork",
         "marker": {
          "color": "#FF6692",
          "opacity": 0.6,
          "size": 8,
          "symbol": "circle"
         },
         "mode": "markers",
         "name": "Pork",
         "orientation": "v",
         "showlegend": true,
         "type": "scatter",
         "x": [
          "friday",
          "monday",
          "monday",
          "monday",
          "monday",
          "monday",
          "monday",
          "thursday",
          "thursday",
          "thursday",
          "thursday",
          "thursday",
          "thursday",
          "thursday",
          "tuesday",
          "tuesday",
          "tuesday",
          "tuesday",
          "wednesday",
          "wednesday",
          "wednesday",
          "wednesday",
          "wednesday"
         ],
         "xaxis": "x",
         "y": [
          1,
          1,
          1,
          1,
          2,
          2,
          3,
          1,
          1,
          1,
          2,
          1,
          2,
          2,
          1,
          5,
          2,
          1,
          1,
          1,
          3,
          2,
          5
         ],
         "yaxis": "y"
        }
       ],
       "layout": {
        "autosize": true,
        "legend": {
         "title": {
          "text": "Calc_Meal"
         },
         "tracegroupgap": 0
        },
        "template": {
         "data": {
          "bar": [
           {
            "error_x": {
             "color": "#2a3f5f"
            },
            "error_y": {
             "color": "#2a3f5f"
            },
            "marker": {
             "line": {
              "color": "#E5ECF6",
              "width": 0.5
             },
             "pattern": {
              "fillmode": "overlay",
              "size": 10,
              "solidity": 0.2
             }
            },
            "type": "bar"
           }
          ],
          "barpolar": [
           {
            "marker": {
             "line": {
              "color": "#E5ECF6",
              "width": 0.5
             },
             "pattern": {
              "fillmode": "overlay",
              "size": 10,
              "solidity": 0.2
             }
            },
            "type": "barpolar"
           }
          ],
          "carpet": [
           {
            "aaxis": {
             "endlinecolor": "#2a3f5f",
             "gridcolor": "white",
             "linecolor": "white",
             "minorgridcolor": "white",
             "startlinecolor": "#2a3f5f"
            },
            "baxis": {
             "endlinecolor": "#2a3f5f",
             "gridcolor": "white",
             "linecolor": "white",
             "minorgridcolor": "white",
             "startlinecolor": "#2a3f5f"
            },
            "type": "carpet"
           }
          ],
          "choropleth": [
           {
            "colorbar": {
             "outlinewidth": 0,
             "ticks": ""
            },
            "type": "choropleth"
           }
          ],
          "contour": [
           {
            "colorbar": {
             "outlinewidth": 0,
             "ticks": ""
            },
            "colorscale": [
             [
              0,
              "#0d0887"
             ],
             [
              0.1111111111111111,
              "#46039f"
             ],
             [
              0.2222222222222222,
              "#7201a8"
             ],
             [
              0.3333333333333333,
              "#9c179e"
             ],
             [
              0.4444444444444444,
              "#bd3786"
             ],
             [
              0.5555555555555556,
              "#d8576b"
             ],
             [
              0.6666666666666666,
              "#ed7953"
             ],
             [
              0.7777777777777778,
              "#fb9f3a"
             ],
             [
              0.8888888888888888,
              "#fdca26"
             ],
             [
              1,
              "#f0f921"
             ]
            ],
            "type": "contour"
           }
          ],
          "contourcarpet": [
           {
            "colorbar": {
             "outlinewidth": 0,
             "ticks": ""
            },
            "type": "contourcarpet"
           }
          ],
          "heatmap": [
           {
            "colorbar": {
             "outlinewidth": 0,
             "ticks": ""
            },
            "colorscale": [
             [
              0,
              "#0d0887"
             ],
             [
              0.1111111111111111,
              "#46039f"
             ],
             [
              0.2222222222222222,
              "#7201a8"
             ],
             [
              0.3333333333333333,
              "#9c179e"
             ],
             [
              0.4444444444444444,
              "#bd3786"
             ],
             [
              0.5555555555555556,
              "#d8576b"
             ],
             [
              0.6666666666666666,
              "#ed7953"
             ],
             [
              0.7777777777777778,
              "#fb9f3a"
             ],
             [
              0.8888888888888888,
              "#fdca26"
             ],
             [
              1,
              "#f0f921"
             ]
            ],
            "type": "heatmap"
           }
          ],
          "heatmapgl": [
           {
            "colorbar": {
             "outlinewidth": 0,
             "ticks": ""
            },
            "colorscale": [
             [
              0,
              "#0d0887"
             ],
             [
              0.1111111111111111,
              "#46039f"
             ],
             [
              0.2222222222222222,
              "#7201a8"
             ],
             [
              0.3333333333333333,
              "#9c179e"
             ],
             [
              0.4444444444444444,
              "#bd3786"
             ],
             [
              0.5555555555555556,
              "#d8576b"
             ],
             [
              0.6666666666666666,
              "#ed7953"
             ],
             [
              0.7777777777777778,
              "#fb9f3a"
             ],
             [
              0.8888888888888888,
              "#fdca26"
             ],
             [
              1,
              "#f0f921"
             ]
            ],
            "type": "heatmapgl"
           }
          ],
          "histogram": [
           {
            "marker": {
             "pattern": {
              "fillmode": "overlay",
              "size": 10,
              "solidity": 0.2
             }
            },
            "type": "histogram"
           }
          ],
          "histogram2d": [
           {
            "colorbar": {
             "outlinewidth": 0,
             "ticks": ""
            },
            "colorscale": [
             [
              0,
              "#0d0887"
             ],
             [
              0.1111111111111111,
              "#46039f"
             ],
             [
              0.2222222222222222,
              "#7201a8"
             ],
             [
              0.3333333333333333,
              "#9c179e"
             ],
             [
              0.4444444444444444,
              "#bd3786"
             ],
             [
              0.5555555555555556,
              "#d8576b"
             ],
             [
              0.6666666666666666,
              "#ed7953"
             ],
             [
              0.7777777777777778,
              "#fb9f3a"
             ],
             [
              0.8888888888888888,
              "#fdca26"
             ],
             [
              1,
              "#f0f921"
             ]
            ],
            "type": "histogram2d"
           }
          ],
          "histogram2dcontour": [
           {
            "colorbar": {
             "outlinewidth": 0,
             "ticks": ""
            },
            "colorscale": [
             [
              0,
              "#0d0887"
             ],
             [
              0.1111111111111111,
              "#46039f"
             ],
             [
              0.2222222222222222,
              "#7201a8"
             ],
             [
              0.3333333333333333,
              "#9c179e"
             ],
             [
              0.4444444444444444,
              "#bd3786"
             ],
             [
              0.5555555555555556,
              "#d8576b"
             ],
             [
              0.6666666666666666,
              "#ed7953"
             ],
             [
              0.7777777777777778,
              "#fb9f3a"
             ],
             [
              0.8888888888888888,
              "#fdca26"
             ],
             [
              1,
              "#f0f921"
             ]
            ],
            "type": "histogram2dcontour"
           }
          ],
          "mesh3d": [
           {
            "colorbar": {
             "outlinewidth": 0,
             "ticks": ""
            },
            "type": "mesh3d"
           }
          ],
          "parcoords": [
           {
            "line": {
             "colorbar": {
              "outlinewidth": 0,
              "ticks": ""
             }
            },
            "type": "parcoords"
           }
          ],
          "pie": [
           {
            "automargin": true,
            "type": "pie"
           }
          ],
          "scatter": [
           {
            "fillpattern": {
             "fillmode": "overlay",
             "size": 10,
             "solidity": 0.2
            },
            "type": "scatter"
           }
          ],
          "scatter3d": [
           {
            "line": {
             "colorbar": {
              "outlinewidth": 0,
              "ticks": ""
             }
            },
            "marker": {
             "colorbar": {
              "outlinewidth": 0,
              "ticks": ""
             }
            },
            "type": "scatter3d"
           }
          ],
          "scattercarpet": [
           {
            "marker": {
             "colorbar": {
              "outlinewidth": 0,
              "ticks": ""
             }
            },
            "type": "scattercarpet"
           }
          ],
          "scattergeo": [
           {
            "marker": {
             "colorbar": {
              "outlinewidth": 0,
              "ticks": ""
             }
            },
            "type": "scattergeo"
           }
          ],
          "scattergl": [
           {
            "marker": {
             "colorbar": {
              "outlinewidth": 0,
              "ticks": ""
             }
            },
            "type": "scattergl"
           }
          ],
          "scattermapbox": [
           {
            "marker": {
             "colorbar": {
              "outlinewidth": 0,
              "ticks": ""
             }
            },
            "type": "scattermapbox"
           }
          ],
          "scatterpolar": [
           {
            "marker": {
             "colorbar": {
              "outlinewidth": 0,
              "ticks": ""
             }
            },
            "type": "scatterpolar"
           }
          ],
          "scatterpolargl": [
           {
            "marker": {
             "colorbar": {
              "outlinewidth": 0,
              "ticks": ""
             }
            },
            "type": "scatterpolargl"
           }
          ],
          "scatterternary": [
           {
            "marker": {
             "colorbar": {
              "outlinewidth": 0,
              "ticks": ""
             }
            },
            "type": "scatterternary"
           }
          ],
          "surface": [
           {
            "colorbar": {
             "outlinewidth": 0,
             "ticks": ""
            },
            "colorscale": [
             [
              0,
              "#0d0887"
             ],
             [
              0.1111111111111111,
              "#46039f"
             ],
             [
              0.2222222222222222,
              "#7201a8"
             ],
             [
              0.3333333333333333,
              "#9c179e"
             ],
             [
              0.4444444444444444,
              "#bd3786"
             ],
             [
              0.5555555555555556,
              "#d8576b"
             ],
             [
              0.6666666666666666,
              "#ed7953"
             ],
             [
              0.7777777777777778,
              "#fb9f3a"
             ],
             [
              0.8888888888888888,
              "#fdca26"
             ],
             [
              1,
              "#f0f921"
             ]
            ],
            "type": "surface"
           }
          ],
          "table": [
           {
            "cells": {
             "fill": {
              "color": "#EBF0F8"
             },
             "line": {
              "color": "white"
             }
            },
            "header": {
             "fill": {
              "color": "#C8D4E3"
             },
             "line": {
              "color": "white"
             }
            },
            "type": "table"
           }
          ]
         },
         "layout": {
          "annotationdefaults": {
           "arrowcolor": "#2a3f5f",
           "arrowhead": 0,
           "arrowwidth": 1
          },
          "autotypenumbers": "strict",
          "coloraxis": {
           "colorbar": {
            "outlinewidth": 0,
            "ticks": ""
           }
          },
          "colorscale": {
           "diverging": [
            [
             0,
             "#8e0152"
            ],
            [
             0.1,
             "#c51b7d"
            ],
            [
             0.2,
             "#de77ae"
            ],
            [
             0.3,
             "#f1b6da"
            ],
            [
             0.4,
             "#fde0ef"
            ],
            [
             0.5,
             "#f7f7f7"
            ],
            [
             0.6,
             "#e6f5d0"
            ],
            [
             0.7,
             "#b8e186"
            ],
            [
             0.8,
             "#7fbc41"
            ],
            [
             0.9,
             "#4d9221"
            ],
            [
             1,
             "#276419"
            ]
           ],
           "sequential": [
            [
             0,
             "#0d0887"
            ],
            [
             0.1111111111111111,
             "#46039f"
            ],
            [
             0.2222222222222222,
             "#7201a8"
            ],
            [
             0.3333333333333333,
             "#9c179e"
            ],
            [
             0.4444444444444444,
             "#bd3786"
            ],
            [
             0.5555555555555556,
             "#d8576b"
            ],
            [
             0.6666666666666666,
             "#ed7953"
            ],
            [
             0.7777777777777778,
             "#fb9f3a"
            ],
            [
             0.8888888888888888,
             "#fdca26"
            ],
            [
             1,
             "#f0f921"
            ]
           ],
           "sequentialminus": [
            [
             0,
             "#0d0887"
            ],
            [
             0.1111111111111111,
             "#46039f"
            ],
            [
             0.2222222222222222,
             "#7201a8"
            ],
            [
             0.3333333333333333,
             "#9c179e"
            ],
            [
             0.4444444444444444,
             "#bd3786"
            ],
            [
             0.5555555555555556,
             "#d8576b"
            ],
            [
             0.6666666666666666,
             "#ed7953"
            ],
            [
             0.7777777777777778,
             "#fb9f3a"
            ],
            [
             0.8888888888888888,
             "#fdca26"
            ],
            [
             1,
             "#f0f921"
            ]
           ]
          },
          "colorway": [
           "#636efa",
           "#EF553B",
           "#00cc96",
           "#ab63fa",
           "#FFA15A",
           "#19d3f3",
           "#FF6692",
           "#B6E880",
           "#FF97FF",
           "#FECB52"
          ],
          "font": {
           "color": "#2a3f5f"
          },
          "geo": {
           "bgcolor": "white",
           "lakecolor": "white",
           "landcolor": "#E5ECF6",
           "showlakes": true,
           "showland": true,
           "subunitcolor": "white"
          },
          "hoverlabel": {
           "align": "left"
          },
          "hovermode": "closest",
          "mapbox": {
           "style": "light"
          },
          "paper_bgcolor": "white",
          "plot_bgcolor": "#E5ECF6",
          "polar": {
           "angularaxis": {
            "gridcolor": "white",
            "linecolor": "white",
            "ticks": ""
           },
           "bgcolor": "#E5ECF6",
           "radialaxis": {
            "gridcolor": "white",
            "linecolor": "white",
            "ticks": ""
           }
          },
          "scene": {
           "xaxis": {
            "backgroundcolor": "#E5ECF6",
            "gridcolor": "white",
            "gridwidth": 2,
            "linecolor": "white",
            "showbackground": true,
            "ticks": "",
            "zerolinecolor": "white"
           },
           "yaxis": {
            "backgroundcolor": "#E5ECF6",
            "gridcolor": "white",
            "gridwidth": 2,
            "linecolor": "white",
            "showbackground": true,
            "ticks": "",
            "zerolinecolor": "white"
           },
           "zaxis": {
            "backgroundcolor": "#E5ECF6",
            "gridcolor": "white",
            "gridwidth": 2,
            "linecolor": "white",
            "showbackground": true,
            "ticks": "",
            "zerolinecolor": "white"
           }
          },
          "shapedefaults": {
           "line": {
            "color": "#2a3f5f"
           }
          },
          "ternary": {
           "aaxis": {
            "gridcolor": "white",
            "linecolor": "white",
            "ticks": ""
           },
           "baxis": {
            "gridcolor": "white",
            "linecolor": "white",
            "ticks": ""
           },
           "bgcolor": "#E5ECF6",
           "caxis": {
            "gridcolor": "white",
            "linecolor": "white",
            "ticks": ""
           }
          },
          "title": {
           "x": 0.05
          },
          "xaxis": {
           "automargin": true,
           "gridcolor": "white",
           "linecolor": "white",
           "ticks": "",
           "title": {
            "standoff": 15
           },
           "zerolinecolor": "white",
           "zerolinewidth": 2
          },
          "yaxis": {
           "automargin": true,
           "gridcolor": "white",
           "linecolor": "white",
           "ticks": "",
           "title": {
            "standoff": 15
           },
           "zerolinecolor": "white",
           "zerolinewidth": 2
          }
         }
        },
        "title": {
         "text": "Meals by day"
        },
        "xaxis": {
         "anchor": "y",
         "autorange": true,
         "domain": [
          0,
          1
         ],
         "range": [
          -0.25197482929441695,
          4.251974829294417
         ],
         "title": {
          "text": "weekday"
         },
         "type": "category"
        },
        "yaxis": {
         "anchor": "x",
         "autorange": true,
         "domain": [
          0,
          1
         ],
         "range": [
          -0.19736842105263164,
          15.197368421052632
         ],
         "title": {
          "text": "number_meals"
         },
         "type": "linear"
        }
       }
      },
      "image/png": "[encoded data removed]",
      "text/html": [
       "<div>                            <div id=\"e8e16640-8cae-4694-bb1d-2347e7230a34\" class=\"plotly-graph-div\" style=\"height:525px; width:100%;\"></div>            <script type=\"text/javascript\">                require([\"plotly\"], function(Plotly) {                    window.PLOTLYENV=window.PLOTLYENV || {};                                    if (document.getElementById(\"e8e16640-8cae-4694-bb1d-2347e7230a34\")) {                    Plotly.newPlot(                        \"e8e16640-8cae-4694-bb1d-2347e7230a34\",                        [{\"hovertemplate\":\"<b>%{hovertext}</b><br><br>Calc_Meal=Chicken<br>weekday=%{x}<br>number_meals=%{y}<extra></extra>\",\"hovertext\":[\"Soup\",\"butterfly chicken\",\"chicken fillet\",\"chicken soup\",\"roast chicken\",\"turkey fillet\",\"Soup\",\"chicken fillet\",\"chicken soup\",\"pasta soup\",\"roast chicken\",\"turkey fillet\",\"Soup\",\"butterfly chicken\",\"chicken and turnip greens\",\"chicken fillet\",\"chicken soup\",\"green beans with chicken\",\"roast chicken\",\"turkey fillet\",\"Soup\",\"chicken fillet\",\"chicken soup\",\"roast chicken\",\"turkey fillet\",\"Soup\",\"chicken fillet\",\"chicken soup\",\"pasta soup\",\"roast chicken\",\"turkey fillet\"],\"legendgroup\":\"Chicken\",\"marker\":{\"color\":\"#636efa\",\"symbol\":\"circle\",\"opacity\":0.6,\"size\":8},\"mode\":\"markers\",\"name\":\"Chicken\",\"orientation\":\"v\",\"showlegend\":true,\"x\":[\"friday\",\"friday\",\"friday\",\"friday\",\"friday\",\"friday\",\"monday\",\"monday\",\"monday\",\"monday\",\"monday\",\"monday\",\"thursday\",\"thursday\",\"thursday\",\"thursday\",\"thursday\",\"thursday\",\"thursday\",\"thursday\",\"tuesday\",\"tuesday\",\"tuesday\",\"tuesday\",\"tuesday\",\"wednesday\",\"wednesday\",\"wednesday\",\"wednesday\",\"wednesday\",\"wednesday\"],\"xaxis\":\"x\",\"y\":[5,1,1,2,2,1,4,4,1,1,1,2,4,1,1,2,3,1,1,1,5,2,2,1,1,2,3,3,2,5,2],\"yaxis\":\"y\",\"type\":\"scatter\"},{\"hovertemplate\":\"<b>%{hovertext}</b><br><br>Calc_Meal=beef<br>weekday=%{x}<br>number_meals=%{y}<extra></extra>\",\"hovertext\":[\"beef fillet\",\"broccoli with meat\",\"eggplant bolognese\",\"ground/minced meat\",\"steak\",\"breaded fillet\",\"meat\",\"spaghetti bolognese\",\"steak\",\"beef fillet\",\"breaded fillet\",\"broccoli with meat\",\"eggplant bolognese\",\"spaghetti bolognese\",\"steak\",\"breaded fillet\",\"roast beef\",\"spaghetti bolognese\",\"steak\",\"breaded fillet\",\"spaghetti bolognese\",\"steak\"],\"legendgroup\":\"beef\",\"marker\":{\"color\":\"#EF553B\",\"symbol\":\"circle\",\"opacity\":0.6,\"size\":8},\"mode\":\"markers\",\"name\":\"beef\",\"orientation\":\"v\",\"showlegend\":true,\"x\":[\"friday\",\"friday\",\"friday\",\"friday\",\"friday\",\"monday\",\"monday\",\"monday\",\"monday\",\"thursday\",\"thursday\",\"thursday\",\"thursday\",\"thursday\",\"thursday\",\"tuesday\",\"tuesday\",\"tuesday\",\"tuesday\",\"wednesday\",\"wednesday\",\"wednesday\"],\"xaxis\":\"x\",\"y\":[1,1,3,1,2,3,1,1,5,1,1,1,1,3,3,3,1,5,3,1,4,1],\"yaxis\":\"y\",\"type\":\"scatter\"},{\"hovertemplate\":\"<b>%{hovertext}</b><br><br>Calc_Meal=Egg<br>weekday=%{x}<br>number_meals=%{y}<extra></extra>\",\"hovertext\":[\"broccoli with fried egg\",\"egg\",\"green beans with fried egg\",\"peas with fried egg\",\"potato omelette\",\"boiled egg\",\"boiled eggs\",\"fried egg\",\"green beans with fried egg\",\"potato omelette\",\"boiled eggs\",\"egg\",\"fried egg\",\"potato omelette\",\"boiled egg\",\"fried egg\",\"potato omelette\"],\"legendgroup\":\"Egg\",\"marker\":{\"color\":\"#00cc96\",\"symbol\":\"circle\",\"opacity\":0.6,\"size\":8},\"mode\":\"markers\",\"name\":\"Egg\",\"orientation\":\"v\",\"showlegend\":true,\"x\":[\"friday\",\"friday\",\"friday\",\"friday\",\"friday\",\"monday\",\"monday\",\"monday\",\"thursday\",\"thursday\",\"tuesday\",\"tuesday\",\"tuesday\",\"tuesday\",\"wednesday\",\"wednesday\",\"wednesday\"],\"xaxis\":\"x\",\"y\":[1,1,1,1,9,1,1,4,1,2,1,1,3,6,1,3,3],\"yaxis\":\"y\",\"type\":\"scatter\"},{\"hovertemplate\":\"<b>%{hovertext}</b><br><br>Calc_Meal=Non-meat/wDairy<br>weekday=%{x}<br>number_meals=%{y}<extra></extra>\",\"hovertext\":[\"carrot cream\",\"cream\",\"leek cream\",\"pumpkin cream\",\"zucchini cream\",\"carrot cream\",\"cream\",\"leek cream\",\"pasta salad\",\"pumpkin cream\",\"quesadillas\",\"zucchini cream\",\"carrot cream\",\"cream\",\"fava bean cream\",\"leek cream\",\"pumpkin cream\",\"zucchini cream\",\"carrot cream\",\"cream\",\"leek cream\",\"quesadillas\",\"zucchini cream\",\"carrot cream\",\"cream\",\"leek cream\",\"pumpkin cream\",\"quesadillas\",\"zucchini cream\"],\"legendgroup\":\"Non-meat/wDairy\",\"marker\":{\"color\":\"#ab63fa\",\"symbol\":\"circle\",\"opacity\":0.6,\"size\":8},\"mode\":\"markers\",\"name\":\"Non-meat/wDairy\",\"orientation\":\"v\",\"showlegend\":true,\"x\":[\"friday\",\"friday\",\"friday\",\"friday\",\"friday\",\"monday\",\"monday\",\"monday\",\"monday\",\"monday\",\"monday\",\"monday\",\"thursday\",\"thursday\",\"thursday\",\"thursday\",\"thursday\",\"thursday\",\"tuesday\",\"tuesday\",\"tuesday\",\"tuesday\",\"tuesday\",\"wednesday\",\"wednesday\",\"wednesday\",\"wednesday\",\"wednesday\",\"wednesday\"],\"xaxis\":\"x\",\"y\":[7,7,3,1,1,6,4,3,1,1,1,8,6,5,1,5,2,3,2,5,2,2,5,4,4,5,2,1,4],\"yaxis\":\"y\",\"type\":\"scatter\"},{\"hovertemplate\":\"<b>%{hovertext}</b><br><br>Calc_Meal=Vegetable<br>weekday=%{x}<br>number_meals=%{y}<extra></extra>\",\"hovertext\":[\"chickpea salad\",\"french fries\",\"garlic mushrooms\",\"gazpacho\",\"kale with fried potatoes\",\"lentils\",\"refried beans\",\"rice\",\"salad\",\"sauteed spinach\",\"spinach mashed potatoes\",\"stewed vegetables\",\"tomato sauce\",\"boiled potato\",\"broccoli with garlic sauce\",\"broccoli with potato\",\"chard with potatoes\",\"french fries\",\"fried potato\",\"garlic mushrooms\",\"gazpacho\",\"green beans with potato\",\"kale with fried potatoes\",\"lentils\",\"peas with onion\",\"refried beans\",\"rice\",\"salad\",\"sauteed vegetables\",\"spinach mashed potatoes\",\"stewed vegetables\",\"stir-fried green beans\",\"tomato sauce\",\"turnip greens with potato\",\"baked eggplant and zucchini\",\"boiled potato\",\"broccoli with potato\",\"chickpea salad\",\"french fries\",\"garlic mushrooms\",\"green beans with potato\",\"large beans\",\"leftover mushrooms\",\"lentils\",\"refried beans\",\"rice\",\"salad\",\"sauteed spinach\",\"sauteed vegetables\",\"spaghetti with garlic mushrooms\",\"spinach mashed potatoes\",\"spinach stew\",\"stewed vegetables\",\"tomato sauce\",\"boiled potato\",\"broccoli with potato\",\"chickpea stew\",\"chickpeas\",\"chickpeas with spinach\",\"french fries\",\"garlic mushrooms\",\"green beans with garlic sauce\",\"grilled asparagus\",\"grilled zucchini\",\"large beans\",\"lentils\",\"pea puree\",\"peas with potato\",\"refried beans\",\"rice\",\"rice with tomato\",\"salad\",\"sauteed cauliflower\",\"sauteed spinach\",\"spinach mashed potatoes\",\"stewed vegetables\",\"stir-fried green beans\",\"boiled potato\",\"broccoli with garlic sauce\",\"broccoli with potato\",\"french fries\",\"garlic mushrooms\",\"green beans\",\"green beans with potato\",\"grilled asparagus\",\"grilled zucchini\",\"lentils\",\"peas with onion\",\"peas with potato\",\"rice\",\"salad\",\"sauteed spinach\",\"sauteed vegetables\",\"spaghetti with garlic mushrooms\",\"spinach mashed potatoes\",\"stewed vegetables\",\"tomato\",\"tomato sauce\"],\"legendgroup\":\"Vegetable\",\"marker\":{\"color\":\"#FFA15A\",\"symbol\":\"circle\",\"opacity\":0.6,\"size\":8},\"mode\":\"markers\",\"name\":\"Vegetable\",\"orientation\":\"v\",\"showlegend\":true,\"x\":[\"friday\",\"friday\",\"friday\",\"friday\",\"friday\",\"friday\",\"friday\",\"friday\",\"friday\",\"friday\",\"friday\",\"friday\",\"friday\",\"monday\",\"monday\",\"monday\",\"monday\",\"monday\",\"monday\",\"monday\",\"monday\",\"monday\",\"monday\",\"monday\",\"monday\",\"monday\",\"monday\",\"monday\",\"monday\",\"monday\",\"monday\",\"monday\",\"monday\",\"monday\",\"thursday\",\"thursday\",\"thursday\",\"thursday\",\"thursday\",\"thursday\",\"thursday\",\"thursday\",\"thursday\",\"thursday\",\"thursday\",\"thursday\",\"thursday\",\"thursday\",\"thursday\",\"thursday\",\"thursday\",\"thursday\",\"thursday\",\"thursday\",\"tuesday\",\"tuesday\",\"tuesday\",\"tuesday\",\"tuesday\",\"tuesday\",\"tuesday\",\"tuesday\",\"tuesday\",\"tuesday\",\"tuesday\",\"tuesday\",\"tuesday\",\"tuesday\",\"tuesday\",\"tuesday\",\"tuesday\",\"tuesday\",\"tuesday\",\"tuesday\",\"tuesday\",\"tuesday\",\"tuesday\",\"wednesday\",\"wednesday\",\"wednesday\",\"wednesday\",\"wednesday\",\"wednesday\",\"wednesday\",\"wednesday\",\"wednesday\",\"wednesday\",\"wednesday\",\"wednesday\",\"wednesday\",\"wednesday\",\"wednesday\",\"wednesday\",\"wednesday\",\"wednesday\",\"wednesday\",\"wednesday\",\"wednesday\"],\"xaxis\":\"x\",\"y\":[1,1,2,1,1,1,3,6,11,1,1,1,1,2,1,3,2,2,1,1,1,2,1,4,1,3,4,10,1,6,7,1,1,1,1,1,3,1,5,1,2,1,1,4,1,3,13,4,1,1,2,1,1,1,3,2,1,1,1,6,1,1,1,1,1,1,1,1,2,5,2,11,1,4,4,3,1,4,2,1,4,1,1,3,1,1,3,1,1,6,14,2,1,1,4,3,1,2],\"yaxis\":\"y\",\"type\":\"scatter\"},{\"hovertemplate\":\"<b>%{hovertext}</b><br><br>Calc_Meal=Fish<br>weekday=%{x}<br>number_meals=%{y}<extra></extra>\",\"hovertext\":[\"fish stew\",\"hake\",\"mixed salad\",\"peas with fish\",\"sea bass\",\"tuna\",\"Russian salad\",\"baked hake\",\"baked salmon\",\"battered hake\",\"croquettes\",\"fish stew\",\"gilt-head bream\",\"hake\",\"hake with mashed potatoes\",\"mixed salad\",\"paella with squid\",\"sea bass\",\"tuna\",\"baked fish\",\"baked salmon\",\"battered hake\",\"croquettes\",\"fish stew\",\"grilled sea bass\",\"hake\",\"mixed salad\",\"peas with fish\",\"sea bass\",\"baked hake\",\"baked salmon\",\"battered hake\",\"croquettes\",\"fish stew\",\"gilt-head bream\",\"grilled sea bass\",\"hake\",\"mixed salad\",\"sea bass\",\"baked salmon\",\"battered hake\",\"croquettes\",\"fish stew\",\"fried rooster\",\"hake\",\"mixed salad\",\"peas with fish\",\"sea bass\",\"swordfish\"],\"legendgroup\":\"Fish\",\"marker\":{\"color\":\"#19d3f3\",\"symbol\":\"circle\",\"opacity\":0.6,\"size\":8},\"mode\":\"markers\",\"name\":\"Fish\",\"orientation\":\"v\",\"showlegend\":true,\"x\":[\"friday\",\"friday\",\"friday\",\"friday\",\"friday\",\"friday\",\"monday\",\"monday\",\"monday\",\"monday\",\"monday\",\"monday\",\"monday\",\"monday\",\"monday\",\"monday\",\"monday\",\"monday\",\"monday\",\"thursday\",\"thursday\",\"thursday\",\"thursday\",\"thursday\",\"thursday\",\"thursday\",\"thursday\",\"thursday\",\"thursday\",\"tuesday\",\"tuesday\",\"tuesday\",\"tuesday\",\"tuesday\",\"tuesday\",\"tuesday\",\"tuesday\",\"tuesday\",\"tuesday\",\"wednesday\",\"wednesday\",\"wednesday\",\"wednesday\",\"wednesday\",\"wednesday\",\"wednesday\",\"wednesday\",\"wednesday\",\"wednesday\"],\"xaxis\":\"x\",\"y\":[1,2,1,1,2,1,1,1,1,1,1,2,1,1,1,3,1,1,1,1,1,1,4,3,1,1,2,1,4,1,3,1,4,2,2,1,3,3,2,2,2,5,2,1,2,1,1,5,1],\"yaxis\":\"y\",\"type\":\"scatter\"},{\"hovertemplate\":\"<b>%{hovertext}</b><br><br>Calc_Meal=Pork<br>weekday=%{x}<br>number_meals=%{y}<extra></extra>\",\"hovertext\":[\"pizza\",\"Saxon loin\",\"broccoli with ham\",\"macaroni\",\"peas with ham\",\"pork tenderloin\",\"sausages\",\"Saxon loin\",\"carbonara pasta\",\"loin\",\"peas with ham\",\"pork fillet\",\"sausages\",\"spaghetti carbonara\",\"marinated pork loin\",\"peas with ham\",\"sausages\",\"stroganoff tenderloin\",\"carbonara macaroni\",\"loin fillet\",\"peas with ham\",\"pork tenderloin\",\"sausages\"],\"legendgroup\":\"Pork\",\"marker\":{\"color\":\"#FF6692\",\"symbol\":\"circle\",\"opacity\":0.6,\"size\":8},\"mode\":\"markers\",\"name\":\"Pork\",\"orientation\":\"v\",\"showlegend\":true,\"x\":[\"friday\",\"monday\",\"monday\",\"monday\",\"monday\",\"monday\",\"monday\",\"thursday\",\"thursday\",\"thursday\",\"thursday\",\"thursday\",\"thursday\",\"thursday\",\"tuesday\",\"tuesday\",\"tuesday\",\"tuesday\",\"wednesday\",\"wednesday\",\"wednesday\",\"wednesday\",\"wednesday\"],\"xaxis\":\"x\",\"y\":[1,1,1,1,2,2,3,1,1,1,2,1,2,2,1,5,2,1,1,1,3,2,5],\"yaxis\":\"y\",\"type\":\"scatter\"}],                        {\"template\":{\"data\":{\"histogram2dcontour\":[{\"type\":\"histogram2dcontour\",\"colorbar\":{\"outlinewidth\":0,\"ticks\":\"\"},\"colorscale\":[[0.0,\"#0d0887\"],[0.1111111111111111,\"#46039f\"],[0.2222222222222222,\"#7201a8\"],[0.3333333333333333,\"#9c179e\"],[0.4444444444444444,\"#bd3786\"],[0.5555555555555556,\"#d8576b\"],[0.6666666666666666,\"#ed7953\"],[0.7777777777777778,\"#fb9f3a\"],[0.8888888888888888,\"#fdca26\"],[1.0,\"#f0f921\"]]}],\"choropleth\":[{\"type\":\"choropleth\",\"colorbar\":{\"outlinewidth\":0,\"ticks\":\"\"}}],\"histogram2d\":[{\"type\":\"histogram2d\",\"colorbar\":{\"outlinewidth\":0,\"ticks\":\"\"},\"colorscale\":[[0.0,\"#0d0887\"],[0.1111111111111111,\"#46039f\"],[0.2222222222222222,\"#7201a8\"],[0.3333333333333333,\"#9c179e\"],[0.4444444444444444,\"#bd3786\"],[0.5555555555555556,\"#d8576b\"],[0.6666666666666666,\"#ed7953\"],[0.7777777777777778,\"#fb9f3a\"],[0.8888888888888888,\"#fdca26\"],[1.0,\"#f0f921\"]]}],\"heatmap\":[{\"type\":\"heatmap\",\"colorbar\":{\"outlinewidth\":0,\"ticks\":\"\"},\"colorscale\":[[0.0,\"#0d0887\"],[0.1111111111111111,\"#46039f\"],[0.2222222222222222,\"#7201a8\"],[0.3333333333333333,\"#9c179e\"],[0.4444444444444444,\"#bd3786\"],[0.5555555555555556,\"#d8576b\"],[0.6666666666666666,\"#ed7953\"],[0.7777777777777778,\"#fb9f3a\"],[0.8888888888888888,\"#fdca26\"],[1.0,\"#f0f921\"]]}],\"heatmapgl\":[{\"type\":\"heatmapgl\",\"colorbar\":{\"outlinewidth\":0,\"ticks\":\"\"},\"colorscale\":[[0.0,\"#0d0887\"],[0.1111111111111111,\"#46039f\"],[0.2222222222222222,\"#7201a8\"],[0.3333333333333333,\"#9c179e\"],[0.4444444444444444,\"#bd3786\"],[0.5555555555555556,\"#d8576b\"],[0.6666666666666666,\"#ed7953\"],[0.7777777777777778,\"#fb9f3a\"],[0.8888888888888888,\"#fdca26\"],[1.0,\"#f0f921\"]]}],\"contourcarpet\":[{\"type\":\"contourcarpet\",\"colorbar\":{\"outlinewidth\":0,\"ticks\":\"\"}}],\"contour\":[{\"type\":\"contour\",\"colorbar\":{\"outlinewidth\":0,\"ticks\":\"\"},\"colorscale\":[[0.0,\"#0d0887\"],[0.1111111111111111,\"#46039f\"],[0.2222222222222222,\"#7201a8\"],[0.3333333333333333,\"#9c179e\"],[0.4444444444444444,\"#bd3786\"],[0.5555555555555556,\"#d8576b\"],[0.6666666666666666,\"#ed7953\"],[0.7777777777777778,\"#fb9f3a\"],[0.8888888888888888,\"#fdca26\"],[1.0,\"#f0f921\"]]}],\"surface\":[{\"type\":\"surface\",\"colorbar\":{\"outlinewidth\":0,\"ticks\":\"\"},\"colorscale\":[[0.0,\"#0d0887\"],[0.1111111111111111,\"#46039f\"],[0.2222222222222222,\"#7201a8\"],[0.3333333333333333,\"#9c179e\"],[0.4444444444444444,\"#bd3786\"],[0.5555555555555556,\"#d8576b\"],[0.6666666666666666,\"#ed7953\"],[0.7777777777777778,\"#fb9f3a\"],[0.8888888888888888,\"#fdca26\"],[1.0,\"#f0f921\"]]}],\"mesh3d\":[{\"type\":\"mesh3d\",\"colorbar\":{\"outlinewidth\":0,\"ticks\":\"\"}}],\"scatter\":[{\"fillpattern\":{\"fillmode\":\"overlay\",\"size\":10,\"solidity\":0.2},\"type\":\"scatter\"}],\"parcoords\":[{\"type\":\"parcoords\",\"line\":{\"colorbar\":{\"outlinewidth\":0,\"ticks\":\"\"}}}],\"scatterpolargl\":[{\"type\":\"scatterpolargl\",\"marker\":{\"colorbar\":{\"outlinewidth\":0,\"ticks\":\"\"}}}],\"bar\":[{\"error_x\":{\"color\":\"#2a3f5f\"},\"error_y\":{\"color\":\"#2a3f5f\"},\"marker\":{\"line\":{\"color\":\"#E5ECF6\",\"width\":0.5},\"pattern\":{\"fillmode\":\"overlay\",\"size\":10,\"solidity\":0.2}},\"type\":\"bar\"}],\"scattergeo\":[{\"type\":\"scattergeo\",\"marker\":{\"colorbar\":{\"outlinewidth\":0,\"ticks\":\"\"}}}],\"scatterpolar\":[{\"type\":\"scatterpolar\",\"marker\":{\"colorbar\":{\"outlinewidth\":0,\"ticks\":\"\"}}}],\"histogram\":[{\"marker\":{\"pattern\":{\"fillmode\":\"overlay\",\"size\":10,\"solidity\":0.2}},\"type\":\"histogram\"}],\"scattergl\":[{\"type\":\"scattergl\",\"marker\":{\"colorbar\":{\"outlinewidth\":0,\"ticks\":\"\"}}}],\"scatter3d\":[{\"type\":\"scatter3d\",\"line\":{\"colorbar\":{\"outlinewidth\":0,\"ticks\":\"\"}},\"marker\":{\"colorbar\":{\"outlinewidth\":0,\"ticks\":\"\"}}}],\"scattermapbox\":[{\"type\":\"scattermapbox\",\"marker\":{\"colorbar\":{\"outlinewidth\":0,\"ticks\":\"\"}}}],\"scatterternary\":[{\"type\":\"scatterternary\",\"marker\":{\"colorbar\":{\"outlinewidth\":0,\"ticks\":\"\"}}}],\"scattercarpet\":[{\"type\":\"scattercarpet\",\"marker\":{\"colorbar\":{\"outlinewidth\":0,\"ticks\":\"\"}}}],\"carpet\":[{\"aaxis\":{\"endlinecolor\":\"#2a3f5f\",\"gridcolor\":\"white\",\"linecolor\":\"white\",\"minorgridcolor\":\"white\",\"startlinecolor\":\"#2a3f5f\"},\"baxis\":{\"endlinecolor\":\"#2a3f5f\",\"gridcolor\":\"white\",\"linecolor\":\"white\",\"minorgridcolor\":\"white\",\"startlinecolor\":\"#2a3f5f\"},\"type\":\"carpet\"}],\"table\":[{\"cells\":{\"fill\":{\"color\":\"#EBF0F8\"},\"line\":{\"color\":\"white\"}},\"header\":{\"fill\":{\"color\":\"#C8D4E3\"},\"line\":{\"color\":\"white\"}},\"type\":\"table\"}],\"barpolar\":[{\"marker\":{\"line\":{\"color\":\"#E5ECF6\",\"width\":0.5},\"pattern\":{\"fillmode\":\"overlay\",\"size\":10,\"solidity\":0.2}},\"type\":\"barpolar\"}],\"pie\":[{\"automargin\":true,\"type\":\"pie\"}]},\"layout\":{\"autotypenumbers\":\"strict\",\"colorway\":[\"#636efa\",\"#EF553B\",\"#00cc96\",\"#ab63fa\",\"#FFA15A\",\"#19d3f3\",\"#FF6692\",\"#B6E880\",\"#FF97FF\",\"#FECB52\"],\"font\":{\"color\":\"#2a3f5f\"},\"hovermode\":\"closest\",\"hoverlabel\":{\"align\":\"left\"},\"paper_bgcolor\":\"white\",\"plot_bgcolor\":\"#E5ECF6\",\"polar\":{\"bgcolor\":\"#E5ECF6\",\"angularaxis\":{\"gridcolor\":\"white\",\"linecolor\":\"white\",\"ticks\":\"\"},\"radialaxis\":{\"gridcolor\":\"white\",\"linecolor\":\"white\",\"ticks\":\"\"}},\"ternary\":{\"bgcolor\":\"#E5ECF6\",\"aaxis\":{\"gridcolor\":\"white\",\"linecolor\":\"white\",\"ticks\":\"\"},\"baxis\":{\"gridcolor\":\"white\",\"linecolor\":\"white\",\"ticks\":\"\"},\"caxis\":{\"gridcolor\":\"white\",\"linecolor\":\"white\",\"ticks\":\"\"}},\"coloraxis\":{\"colorbar\":{\"outlinewidth\":0,\"ticks\":\"\"}},\"colorscale\":{\"sequential\":[[0.0,\"#0d0887\"],[0.1111111111111111,\"#46039f\"],[0.2222222222222222,\"#7201a8\"],[0.3333333333333333,\"#9c179e\"],[0.4444444444444444,\"#bd3786\"],[0.5555555555555556,\"#d8576b\"],[0.6666666666666666,\"#ed7953\"],[0.7777777777777778,\"#fb9f3a\"],[0.8888888888888888,\"#fdca26\"],[1.0,\"#f0f921\"]],\"sequentialminus\":[[0.0,\"#0d0887\"],[0.1111111111111111,\"#46039f\"],[0.2222222222222222,\"#7201a8\"],[0.3333333333333333,\"#9c179e\"],[0.4444444444444444,\"#bd3786\"],[0.5555555555555556,\"#d8576b\"],[0.6666666666666666,\"#ed7953\"],[0.7777777777777778,\"#fb9f3a\"],[0.8888888888888888,\"#fdca26\"],[1.0,\"#f0f921\"]],\"diverging\":[[0,\"#8e0152\"],[0.1,\"#c51b7d\"],[0.2,\"#de77ae\"],[0.3,\"#f1b6da\"],[0.4,\"#fde0ef\"],[0.5,\"#f7f7f7\"],[0.6,\"#e6f5d0\"],[0.7,\"#b8e186\"],[0.8,\"#7fbc41\"],[0.9,\"#4d9221\"],[1,\"#276419\"]]},\"xaxis\":{\"gridcolor\":\"white\",\"linecolor\":\"white\",\"ticks\":\"\",\"title\":{\"standoff\":15},\"zerolinecolor\":\"white\",\"automargin\":true,\"zerolinewidth\":2},\"yaxis\":{\"gridcolor\":\"white\",\"linecolor\":\"white\",\"ticks\":\"\",\"title\":{\"standoff\":15},\"zerolinecolor\":\"white\",\"automargin\":true,\"zerolinewidth\":2},\"scene\":{\"xaxis\":{\"backgroundcolor\":\"#E5ECF6\",\"gridcolor\":\"white\",\"linecolor\":\"white\",\"showbackground\":true,\"ticks\":\"\",\"zerolinecolor\":\"white\",\"gridwidth\":2},\"yaxis\":{\"backgroundcolor\":\"#E5ECF6\",\"gridcolor\":\"white\",\"linecolor\":\"white\",\"showbackground\":true,\"ticks\":\"\",\"zerolinecolor\":\"white\",\"gridwidth\":2},\"zaxis\":{\"backgroundcolor\":\"#E5ECF6\",\"gridcolor\":\"white\",\"linecolor\":\"white\",\"showbackground\":true,\"ticks\":\"\",\"zerolinecolor\":\"white\",\"gridwidth\":2}},\"shapedefaults\":{\"line\":{\"color\":\"#2a3f5f\"}},\"annotationdefaults\":{\"arrowcolor\":\"#2a3f5f\",\"arrowhead\":0,\"arrowwidth\":1},\"geo\":{\"bgcolor\":\"white\",\"landcolor\":\"#E5ECF6\",\"subunitcolor\":\"white\",\"showland\":true,\"showlakes\":true,\"lakecolor\":\"white\"},\"title\":{\"x\":0.05},\"mapbox\":{\"style\":\"light\"}}},\"xaxis\":{\"anchor\":\"y\",\"domain\":[0.0,1.0],\"title\":{\"text\":\"weekday\"}},\"yaxis\":{\"anchor\":\"x\",\"domain\":[0.0,1.0],\"title\":{\"text\":\"number_meals\"}},\"legend\":{\"title\":{\"text\":\"Calc_Meal\"},\"tracegroupgap\":0},\"title\":{\"text\":\"Meals by day\"}},                        {\"responsive\": true}                    ).then(function(){\n",
       "                            \n",
       "var gd = document.getElementById('e8e16640-8cae-4694-bb1d-2347e7230a34');\n",
       "var x = new MutationObserver(function (mutations, observer) {{\n",
       "        var display = window.getComputedStyle(gd).display;\n",
       "        if (!display || display === 'none') {{\n",
       "            console.log([gd, 'removed!']);\n",
       "            Plotly.purge(gd);\n",
       "            observer.disconnect();\n",
       "        }}\n",
       "}});\n",
       "\n",
       "// Listen for the removal of the full notebook cells\n",
       "var notebookContainer = gd.closest('#notebook-container');\n",
       "if (notebookContainer) {{\n",
       "    x.observe(notebookContainer, {childList: true});\n",
       "}}\n",
       "\n",
       "// Listen for the clearing of the current output cell\n",
       "var outputEl = gd.closest('.output');\n",
       "if (outputEl) {{\n",
       "    x.observe(outputEl, {childList: true});\n",
       "}}\n",
       "\n",
       "                        })                };                });            </script>        </div>"
      ]
     },
     "metadata": {},
     "output_type": "display_data"
    }
   ],
   "source": [
    "import plotly.express as px\n",
    "\n",
    "# Define the SQL query\n",
    "query = '''\n",
    "SELECT weekday, meal, count(weekday) as number_meals, Calc_Meal\n",
    "FROM df\n",
    "GROUP BY weekday, meal, Calc_Meal\n",
    "'''\n",
    "\n",
    "# Execute the query\n",
    "result_df = psql.sqldf(query, locals())\n",
    "\n",
    "# Interactive plot with Plotly\n",
    "fig = px.scatter(result_df, x='weekday', y='number_meals', color='Calc_Meal', hover_name='meal',\n",
    "                 title='Meals by day')\n",
    "fig.update_traces(marker=dict(size=8, opacity=0.6))\n",
    "fig.show()"
   ]
  },
  {
   "cell_type": "markdown",
   "id": "5ea06a9b-34b9-47e4-ab39-288221d99de1",
   "metadata": {},
   "source": [
    "The initial scatter plot made it difficult to extract meaningful insights because many meals overlapped, with each being made only about five times. To address this, I decided to group the data using the \"Calc_Meal\" column and sort the weekdays in order (Monday, Tuesday, Wednesday, etc.). This grouping and sorting approach provided a clearer, more informative visualization of our meal patterns."
   ]
  },
  {
   "cell_type": "code",
   "execution_count": 80,
   "id": "95983b41-2f1b-4047-8a39-4cd2a2322353",
   "metadata": {},
   "outputs": [
    {
     "data": {
      "image/png": "[encoded data removed]",
      "text/plain": [
       "<Figure size 1000x600 with 1 Axes>"
      ]
     },
     "metadata": {},
     "output_type": "display_data"
    }
   ],
   "source": [
    "# Define the SQL query\n",
    "query = '''\n",
    "SELECT weekday, Calc_meal, count(weekday) as number_meals\n",
    "FROM df\n",
    "WHERE weekday != \"none\" AND category = \"principal\"\n",
    "GROUP BY weekday, Calc_meal\n",
    "'''\n",
    "\n",
    "# Execute the query\n",
    "result_df2 = psql.sqldf(query, locals())\n",
    "\n",
    "# Assuming df is your existing DataFrame\n",
    "# Define the order of the days\n",
    "day_order = ['monday', 'tuesday', 'wednesday', 'thursday', 'friday', 'saturday', 'sunday']\n",
    "\n",
    "# Convert the 'weekday' column to a categorical type with the specified order\n",
    "result_df2['weekday'] = pd.Categorical(result_df2['weekday'], categories=day_order, ordered=True)\n",
    "\n",
    "\n",
    "# Create the dot plot\n",
    "plt.figure(figsize=(10, 6))\n",
    "sns.scatterplot(data=result_df2, x='weekday', y='number_meals', hue =\"Calc_Meal\", palette='deep', s=100)\n",
    "\n",
    "# Add titles and labels\n",
    "plt.title('Number of meals per day of week grouped')\n",
    "plt.xlabel('Days of the week')\n",
    "plt.ylabel('Number of meals')\n",
    "\n",
    "# Show the plot\n",
    "plt.show()\n"
   ]
  },
  {
   "cell_type": "markdown",
   "id": "c02c4eb6-8adc-48b5-bc5d-045aea657156",
   "metadata": {},
   "source": [
    "Next, I wanted to analyze our meal patterns by quarter. To achieve this, I created a new column in the dataset using Python code to split the data accordingly. This allowed for a more granular analysis of the meals grouped by type and their distribution throughout the year"
   ]
  },
  {
   "cell_type": "code",
   "execution_count": 132,
   "id": "7cada851-6ed0-4e80-8b99-8233e8105bff",
   "metadata": {
    "scrolled": true
   },
   "outputs": [
    {
     "data": {
      "image/png": "[encoded data removed]",
      "text/plain": [
       "<Figure size 1000x600 with 1 Axes>"
      ]
     },
     "metadata": {},
     "output_type": "display_data"
    }
   ],
   "source": [
    "df['quarter'] = df['date'].dt.to_period('Q')\n",
    "df['quarter'] = df['quarter'].dt.strftime('%Y-%m-%d')\n",
    "#df.head()\n",
    "\n",
    "# Define the SQL query\n",
    "query = '''\n",
    "SELECT quarter, calc_meal, count(weekday) as number_meals\n",
    "FROM df\n",
    "WHERE weekday != \"none\" AND category = \"principal\"\n",
    "GROUP BY quarter, calc_meal\n",
    "'''\n",
    "\n",
    "# Execute the query\n",
    "result_df3 = psql.sqldf(query, locals())\n",
    "\n",
    "# Assuming df is your existing DataFrame\n",
    "# Define the order of the days\n",
    "#day_order = ['monday', 'tuesday', 'wednesday', 'thursday', 'friday', 'saturday', 'sunday']\n",
    "\n",
    "# Convert the 'weekday' column to a categorical type with the specified order\n",
    "result_df3['quarter'] = pd.Categorical(result_df3['quarter'])\n",
    "\n",
    "\n",
    "# Create the dot plot\n",
    "plt.figure(figsize=(10, 6))\n",
    "sns.scatterplot(data=result_df3, x='quarter', y='number_meals', hue =\"Calc_Meal\", palette='deep', s=100)\n",
    "\n",
    "# Add titles and labels\n",
    "plt.title('Meals by quarter')\n",
    "plt.xlabel('Quarters')\n",
    "plt.ylabel('Number of meals')\n",
    "\n",
    "# Show the plot\n",
    "plt.show()"
   ]
  },
  {
   "cell_type": "markdown",
   "id": "b2a21c85-f006-496d-a167-bd887864c118",
   "metadata": {},
   "source": [
    "Moving on I wanted to make use of the time meals take to cook plus the carbon points it implies <br>\n",
    "The idea is to create quadrants and the 3rd of them (less points, less time) to be considered more for future meals."
   ]
  },
  {
   "cell_type": "code",
   "execution_count": 109,
   "id": "0e0a58d6-98c6-4732-a33a-6b36b46098dd",
   "metadata": {},
   "outputs": [
    {
     "data": {
      "application/vnd.plotly.v1+json": {
       "config": {
        "plotlyServerURL": "https://plot.ly"
       },
       "data": [
        {
         "hovertemplate": "<b>%{hovertext}</b><br><br>Calc_Meal=Fish<br>AVG(`carbon point`)=%{x}<br>AVG (time)=%{y}<extra></extra>",
         "hovertext": [
          "Russian salad",
          "baked fish",
          "baked hake",
          "baked salmon",
          "battered hake",
          "croquettes",
          "fish stew",
          "fried rooster",
          "gilt-head bream",
          "grilled sea bass",
          "hake",
          "hake with mashed potatoes",
          "mixed salad",
          "paella with squid",
          "peas with fish",
          "sea bass",
          "swordfish",
          "tuna"
         ],
         "legendgroup": "Fish",
         "marker": {
          "color": "#636efa",
          "opacity": 0.6,
          "size": 8,
          "symbol": "circle"
         },
         "mode": "markers",
         "name": "Fish",
         "orientation": "v",
         "showlegend": true,
         "type": "scatter",
         "x": [
          8,
          8,
          8,
          8,
          8,
          8,
          8,
          8,
          8,
          8,
          8,
          8,
          21,
          34,
          8,
          8,
          8,
          8
         ],
         "xaxis": "x",
         "y": [
          35,
          30,
          30,
          30,
          20,
          45,
          45,
          15,
          15,
          25,
          30,
          30,
          15,
          25,
          30,
          30,
          15,
          20
         ],
         "yaxis": "y"
        },
        {
         "hovertemplate": "<b>%{hovertext}</b><br><br>Calc_Meal=Pork<br>AVG(`carbon point`)=%{x}<br>AVG (time)=%{y}<extra></extra>",
         "hovertext": [
          "Saxon loin",
          "broccoli with ham",
          "carbonara macaroni",
          "carbonara pasta",
          "loin",
          "loin fillet",
          "macaroni",
          "marinated pork loin",
          "peas with ham",
          "pizza",
          "pork fillet",
          "pork tenderloin",
          "sausages",
          "spaghetti carbonara",
          "stroganoff tenderloin"
         ],
         "legendgroup": "Pork",
         "marker": {
          "color": "#EF553B",
          "opacity": 0.6,
          "size": 8,
          "symbol": "circle"
         },
         "mode": "markers",
         "name": "Pork",
         "orientation": "v",
         "showlegend": true,
         "type": "scatter",
         "x": [
          13,
          13,
          13,
          13,
          13,
          89,
          13,
          13,
          13,
          21,
          13,
          13,
          13,
          13,
          13
         ],
         "xaxis": "x",
         "y": [
          15,
          15,
          30,
          20,
          15,
          15,
          25,
          15,
          15,
          30,
          15,
          15,
          15,
          30,
          30
         ],
         "yaxis": "y"
        },
        {
         "hovertemplate": "<b>%{hovertext}</b><br><br>Calc_Meal=beef<br>AVG(`carbon point`)=%{x}<br>AVG (time)=%{y}<extra></extra>",
         "hovertext": [
          "beef fillet",
          "breaded fillet",
          "broccoli with meat",
          "eggplant bolognese",
          "ground/minced meat",
          "meat",
          "roast beef",
          "spaghetti bolognese",
          "steak"
         ],
         "legendgroup": "beef",
         "marker": {
          "color": "#00cc96",
          "opacity": 0.6,
          "size": 8,
          "symbol": "circle"
         },
         "mode": "markers",
         "name": "beef",
         "orientation": "v",
         "showlegend": true,
         "type": "scatter",
         "x": [
          89,
          89,
          89,
          89,
          89,
          89,
          89,
          89,
          89
         ],
         "xaxis": "x",
         "y": [
          20,
          19.375,
          30,
          45,
          20,
          15,
          45,
          45,
          20
         ],
         "yaxis": "y"
        },
        {
         "hovertemplate": "<b>%{hovertext}</b><br><br>Calc_Meal=Egg<br>AVG(`carbon point`)=%{x}<br>AVG (time)=%{y}<extra></extra>",
         "hovertext": [
          "boiled egg",
          "boiled eggs",
          "broccoli with fried egg",
          "egg",
          "fried egg",
          "green beans with fried egg",
          "peas with fried egg",
          "potato omelette"
         ],
         "legendgroup": "Egg",
         "marker": {
          "color": "#ab63fa",
          "opacity": 0.6,
          "size": 8,
          "symbol": "circle"
         },
         "mode": "markers",
         "name": "Egg",
         "orientation": "v",
         "showlegend": true,
         "type": "scatter",
         "x": [
          3,
          3,
          1,
          3,
          3,
          3,
          3,
          3
         ],
         "xaxis": "x",
         "y": [
          15,
          20,
          15,
          15,
          10,
          20,
          15,
          30
         ],
         "yaxis": "y"
        },
        {
         "hovertemplate": "<b>%{hovertext}</b><br><br>Calc_Meal=Vegetable<br>AVG(`carbon point`)=%{x}<br>AVG (time)=%{y}<extra></extra>",
         "hovertext": [
          "broccoli with garlic sauce",
          "broccoli with potato",
          "chard with potatoes",
          "chickpea salad",
          "chickpea stew",
          "chickpeas",
          "chickpeas with spinach",
          "green beans with garlic sauce",
          "green beans with potato",
          "kale with fried potatoes",
          "large beans",
          "lentils",
          "refried beans",
          "salad",
          "spaghetti with garlic mushrooms",
          "spinach stew",
          "stewed vegetables",
          "turnip greens with potato"
         ],
         "legendgroup": "Vegetable",
         "marker": {
          "color": "#FFA15A",
          "opacity": 0.6,
          "size": 8,
          "symbol": "circle"
         },
         "mode": "markers",
         "name": "Vegetable",
         "orientation": "v",
         "showlegend": true,
         "type": "scatter",
         "x": [
          1,
          1,
          1,
          1,
          1,
          1,
          1,
          1,
          1,
          1,
          1,
          1,
          1,
          1,
          1,
          1,
          1,
          1
         ],
         "xaxis": "x",
         "y": [
          25,
          35,
          30,
          25,
          30,
          30,
          30,
          20,
          30,
          25,
          20,
          45,
          38.333333333333336,
          15,
          20,
          35,
          15,
          30
         ],
         "yaxis": "y"
        },
        {
         "hovertemplate": "<b>%{hovertext}</b><br><br>Calc_Meal=Chicken<br>AVG(`carbon point`)=%{x}<br>AVG (time)=%{y}<extra></extra>",
         "hovertext": [
          "butterfly chicken",
          "chicken and turnip greens",
          "chicken fillet",
          "green beans with chicken",
          "roast chicken",
          "turkey fillet"
         ],
         "legendgroup": "Chicken",
         "marker": {
          "color": "#19d3f3",
          "opacity": 0.6,
          "size": 8,
          "symbol": "circle"
         },
         "mode": "markers",
         "name": "Chicken",
         "orientation": "v",
         "showlegend": true,
         "type": "scatter",
         "x": [
          5,
          5,
          5,
          5,
          5,
          5
         ],
         "xaxis": "x",
         "y": [
          30,
          30,
          15,
          20,
          45,
          15
         ],
         "yaxis": "y"
        },
        {
         "hovertemplate": "<b>%{hovertext}</b><br><br>Calc_Meal=Non-meat/wDairy<br>AVG(`carbon point`)=%{x}<br>AVG (time)=%{y}<extra></extra>",
         "hovertext": [
          "pasta salad",
          "quesadillas"
         ],
         "legendgroup": "Non-meat/wDairy",
         "marker": {
          "color": "#FF6692",
          "opacity": 0.6,
          "size": 8,
          "symbol": "circle"
         },
         "mode": "markers",
         "name": "Non-meat/wDairy",
         "orientation": "v",
         "showlegend": true,
         "type": "scatter",
         "x": [
          21,
          21
         ],
         "xaxis": "x",
         "y": [
          15,
          10
         ],
         "yaxis": "y"
        }
       ],
       "layout": {
        "autosize": true,
        "legend": {
         "title": {
          "text": "Calc_Meal"
         },
         "tracegroupgap": 0
        },
        "template": {
         "data": {
          "bar": [
           {
            "error_x": {
             "color": "#2a3f5f"
            },
            "error_y": {
             "color": "#2a3f5f"
            },
            "marker": {
             "line": {
              "color": "#E5ECF6",
              "width": 0.5
             },
             "pattern": {
              "fillmode": "overlay",
              "size": 10,
              "solidity": 0.2
             }
            },
            "type": "bar"
           }
          ],
          "barpolar": [
           {
            "marker": {
             "line": {
              "color": "#E5ECF6",
              "width": 0.5
             },
             "pattern": {
              "fillmode": "overlay",
              "size": 10,
              "solidity": 0.2
             }
            },
            "type": "barpolar"
           }
          ],
          "carpet": [
           {
            "aaxis": {
             "endlinecolor": "#2a3f5f",
             "gridcolor": "white",
             "linecolor": "white",
             "minorgridcolor": "white",
             "startlinecolor": "#2a3f5f"
            },
            "baxis": {
             "endlinecolor": "#2a3f5f",
             "gridcolor": "white",
             "linecolor": "white",
             "minorgridcolor": "white",
             "startlinecolor": "#2a3f5f"
            },
            "type": "carpet"
           }
          ],
          "choropleth": [
           {
            "colorbar": {
             "outlinewidth": 0,
             "ticks": ""
            },
            "type": "choropleth"
           }
          ],
          "contour": [
           {
            "colorbar": {
             "outlinewidth": 0,
             "ticks": ""
            },
            "colorscale": [
             [
              0,
              "#0d0887"
             ],
             [
              0.1111111111111111,
              "#46039f"
             ],
             [
              0.2222222222222222,
              "#7201a8"
             ],
             [
              0.3333333333333333,
              "#9c179e"
             ],
             [
              0.4444444444444444,
              "#bd3786"
             ],
             [
              0.5555555555555556,
              "#d8576b"
             ],
             [
              0.6666666666666666,
              "#ed7953"
             ],
             [
              0.7777777777777778,
              "#fb9f3a"
             ],
             [
              0.8888888888888888,
              "#fdca26"
             ],
             [
              1,
              "#f0f921"
             ]
            ],
            "type": "contour"
           }
          ],
          "contourcarpet": [
           {
            "colorbar": {
             "outlinewidth": 0,
             "ticks": ""
            },
            "type": "contourcarpet"
           }
          ],
          "heatmap": [
           {
            "colorbar": {
             "outlinewidth": 0,
             "ticks": ""
            },
            "colorscale": [
             [
              0,
              "#0d0887"
             ],
             [
              0.1111111111111111,
              "#46039f"
             ],
             [
              0.2222222222222222,
              "#7201a8"
             ],
             [
              0.3333333333333333,
              "#9c179e"
             ],
             [
              0.4444444444444444,
              "#bd3786"
             ],
             [
              0.5555555555555556,
              "#d8576b"
             ],
             [
              0.6666666666666666,
              "#ed7953"
             ],
             [
              0.7777777777777778,
              "#fb9f3a"
             ],
             [
              0.8888888888888888,
              "#fdca26"
             ],
             [
              1,
              "#f0f921"
             ]
            ],
            "type": "heatmap"
           }
          ],
          "heatmapgl": [
           {
            "colorbar": {
             "outlinewidth": 0,
             "ticks": ""
            },
            "colorscale": [
             [
              0,
              "#0d0887"
             ],
             [
              0.1111111111111111,
              "#46039f"
             ],
             [
              0.2222222222222222,
              "#7201a8"
             ],
             [
              0.3333333333333333,
              "#9c179e"
             ],
             [
              0.4444444444444444,
              "#bd3786"
             ],
             [
              0.5555555555555556,
              "#d8576b"
             ],
             [
              0.6666666666666666,
              "#ed7953"
             ],
             [
              0.7777777777777778,
              "#fb9f3a"
             ],
             [
              0.8888888888888888,
              "#fdca26"
             ],
             [
              1,
              "#f0f921"
             ]
            ],
            "type": "heatmapgl"
           }
          ],
          "histogram": [
           {
            "marker": {
             "pattern": {
              "fillmode": "overlay",
              "size": 10,
              "solidity": 0.2
             }
            },
            "type": "histogram"
           }
          ],
          "histogram2d": [
           {
            "colorbar": {
             "outlinewidth": 0,
             "ticks": ""
            },
            "colorscale": [
             [
              0,
              "#0d0887"
             ],
             [
              0.1111111111111111,
              "#46039f"
             ],
             [
              0.2222222222222222,
              "#7201a8"
             ],
             [
              0.3333333333333333,
              "#9c179e"
             ],
             [
              0.4444444444444444,
              "#bd3786"
             ],
             [
              0.5555555555555556,
              "#d8576b"
             ],
             [
              0.6666666666666666,
              "#ed7953"
             ],
             [
              0.7777777777777778,
              "#fb9f3a"
             ],
             [
              0.8888888888888888,
              "#fdca26"
             ],
             [
              1,
              "#f0f921"
             ]
            ],
            "type": "histogram2d"
           }
          ],
          "histogram2dcontour": [
           {
            "colorbar": {
             "outlinewidth": 0,
             "ticks": ""
            },
            "colorscale": [
             [
              0,
              "#0d0887"
             ],
             [
              0.1111111111111111,
              "#46039f"
             ],
             [
              0.2222222222222222,
              "#7201a8"
             ],
             [
              0.3333333333333333,
              "#9c179e"
             ],
             [
              0.4444444444444444,
              "#bd3786"
             ],
             [
              0.5555555555555556,
              "#d8576b"
             ],
             [
              0.6666666666666666,
              "#ed7953"
             ],
             [
              0.7777777777777778,
              "#fb9f3a"
             ],
             [
              0.8888888888888888,
              "#fdca26"
             ],
             [
              1,
              "#f0f921"
             ]
            ],
            "type": "histogram2dcontour"
           }
          ],
          "mesh3d": [
           {
            "colorbar": {
             "outlinewidth": 0,
             "ticks": ""
            },
            "type": "mesh3d"
           }
          ],
          "parcoords": [
           {
            "line": {
             "colorbar": {
              "outlinewidth": 0,
              "ticks": ""
             }
            },
            "type": "parcoords"
           }
          ],
          "pie": [
           {
            "automargin": true,
            "type": "pie"
           }
          ],
          "scatter": [
           {
            "fillpattern": {
             "fillmode": "overlay",
             "size": 10,
             "solidity": 0.2
            },
            "type": "scatter"
           }
          ],
          "scatter3d": [
           {
            "line": {
             "colorbar": {
              "outlinewidth": 0,
              "ticks": ""
             }
            },
            "marker": {
             "colorbar": {
              "outlinewidth": 0,
              "ticks": ""
             }
            },
            "type": "scatter3d"
           }
          ],
          "scattercarpet": [
           {
            "marker": {
             "colorbar": {
              "outlinewidth": 0,
              "ticks": ""
             }
            },
            "type": "scattercarpet"
           }
          ],
          "scattergeo": [
           {
            "marker": {
             "colorbar": {
              "outlinewidth": 0,
              "ticks": ""
             }
            },
            "type": "scattergeo"
           }
          ],
          "scattergl": [
           {
            "marker": {
             "colorbar": {
              "outlinewidth": 0,
              "ticks": ""
             }
            },
            "type": "scattergl"
           }
          ],
          "scattermapbox": [
           {
            "marker": {
             "colorbar": {
              "outlinewidth": 0,
              "ticks": ""
             }
            },
            "type": "scattermapbox"
           }
          ],
          "scatterpolar": [
           {
            "marker": {
             "colorbar": {
              "outlinewidth": 0,
              "ticks": ""
             }
            },
            "type": "scatterpolar"
           }
          ],
          "scatterpolargl": [
           {
            "marker": {
             "colorbar": {
              "outlinewidth": 0,
              "ticks": ""
             }
            },
            "type": "scatterpolargl"
           }
          ],
          "scatterternary": [
           {
            "marker": {
             "colorbar": {
              "outlinewidth": 0,
              "ticks": ""
             }
            },
            "type": "scatterternary"
           }
          ],
          "surface": [
           {
            "colorbar": {
             "outlinewidth": 0,
             "ticks": ""
            },
            "colorscale": [
             [
              0,
              "#0d0887"
             ],
             [
              0.1111111111111111,
              "#46039f"
             ],
             [
              0.2222222222222222,
              "#7201a8"
             ],
             [
              0.3333333333333333,
              "#9c179e"
             ],
             [
              0.4444444444444444,
              "#bd3786"
             ],
             [
              0.5555555555555556,
              "#d8576b"
             ],
             [
              0.6666666666666666,
              "#ed7953"
             ],
             [
              0.7777777777777778,
              "#fb9f3a"
             ],
             [
              0.8888888888888888,
              "#fdca26"
             ],
             [
              1,
              "#f0f921"
             ]
            ],
            "type": "surface"
           }
          ],
          "table": [
           {
            "cells": {
             "fill": {
              "color": "#EBF0F8"
             },
             "line": {
              "color": "white"
             }
            },
            "header": {
             "fill": {
              "color": "#C8D4E3"
             },
             "line": {
              "color": "white"
             }
            },
            "type": "table"
           }
          ]
         },
         "layout": {
          "annotationdefaults": {
           "arrowcolor": "#2a3f5f",
           "arrowhead": 0,
           "arrowwidth": 1
          },
          "autotypenumbers": "strict",
          "coloraxis": {
           "colorbar": {
            "outlinewidth": 0,
            "ticks": ""
           }
          },
          "colorscale": {
           "diverging": [
            [
             0,
             "#8e0152"
            ],
            [
             0.1,
             "#c51b7d"
            ],
            [
             0.2,
             "#de77ae"
            ],
            [
             0.3,
             "#f1b6da"
            ],
            [
             0.4,
             "#fde0ef"
            ],
            [
             0.5,
             "#f7f7f7"
            ],
            [
             0.6,
             "#e6f5d0"
            ],
            [
             0.7,
             "#b8e186"
            ],
            [
             0.8,
             "#7fbc41"
            ],
            [
             0.9,
             "#4d9221"
            ],
            [
             1,
             "#276419"
            ]
           ],
           "sequential": [
            [
             0,
             "#0d0887"
            ],
            [
             0.1111111111111111,
             "#46039f"
            ],
            [
             0.2222222222222222,
             "#7201a8"
            ],
            [
             0.3333333333333333,
             "#9c179e"
            ],
            [
             0.4444444444444444,
             "#bd3786"
            ],
            [
             0.5555555555555556,
             "#d8576b"
            ],
            [
             0.6666666666666666,
             "#ed7953"
            ],
            [
             0.7777777777777778,
             "#fb9f3a"
            ],
            [
             0.8888888888888888,
             "#fdca26"
            ],
            [
             1,
             "#f0f921"
            ]
           ],
           "sequentialminus": [
            [
             0,
             "#0d0887"
            ],
            [
             0.1111111111111111,
             "#46039f"
            ],
            [
             0.2222222222222222,
             "#7201a8"
            ],
            [
             0.3333333333333333,
             "#9c179e"
            ],
            [
             0.4444444444444444,
             "#bd3786"
            ],
            [
             0.5555555555555556,
             "#d8576b"
            ],
            [
             0.6666666666666666,
             "#ed7953"
            ],
            [
             0.7777777777777778,
             "#fb9f3a"
            ],
            [
             0.8888888888888888,
             "#fdca26"
            ],
            [
             1,
             "#f0f921"
            ]
           ]
          },
          "colorway": [
           "#636efa",
           "#EF553B",
           "#00cc96",
           "#ab63fa",
           "#FFA15A",
           "#19d3f3",
           "#FF6692",
           "#B6E880",
           "#FF97FF",
           "#FECB52"
          ],
          "font": {
           "color": "#2a3f5f"
          },
          "geo": {
           "bgcolor": "white",
           "lakecolor": "white",
           "landcolor": "#E5ECF6",
           "showlakes": true,
           "showland": true,
           "subunitcolor": "white"
          },
          "hoverlabel": {
           "align": "left"
          },
          "hovermode": "closest",
          "mapbox": {
           "style": "light"
          },
          "paper_bgcolor": "white",
          "plot_bgcolor": "#E5ECF6",
          "polar": {
           "angularaxis": {
            "gridcolor": "white",
            "linecolor": "white",
            "ticks": ""
           },
           "bgcolor": "#E5ECF6",
           "radialaxis": {
            "gridcolor": "white",
            "linecolor": "white",
            "ticks": ""
           }
          },
          "scene": {
           "xaxis": {
            "backgroundcolor": "#E5ECF6",
            "gridcolor": "white",
            "gridwidth": 2,
            "linecolor": "white",
            "showbackground": true,
            "ticks": "",
            "zerolinecolor": "white"
           },
           "yaxis": {
            "backgroundcolor": "#E5ECF6",
            "gridcolor": "white",
            "gridwidth": 2,
            "linecolor": "white",
            "showbackground": true,
            "ticks": "",
            "zerolinecolor": "white"
           },
           "zaxis": {
            "backgroundcolor": "#E5ECF6",
            "gridcolor": "white",
            "gridwidth": 2,
            "linecolor": "white",
            "showbackground": true,
            "ticks": "",
            "zerolinecolor": "white"
           }
          },
          "shapedefaults": {
           "line": {
            "color": "#2a3f5f"
           }
          },
          "ternary": {
           "aaxis": {
            "gridcolor": "white",
            "linecolor": "white",
            "ticks": ""
           },
           "baxis": {
            "gridcolor": "white",
            "linecolor": "white",
            "ticks": ""
           },
           "bgcolor": "#E5ECF6",
           "caxis": {
            "gridcolor": "white",
            "linecolor": "white",
            "ticks": ""
           }
          },
          "title": {
           "x": 0.05
          },
          "xaxis": {
           "automargin": true,
           "gridcolor": "white",
           "linecolor": "white",
           "ticks": "",
           "title": {
            "standoff": 15
           },
           "zerolinecolor": "white",
           "zerolinewidth": 2
          },
          "yaxis": {
           "automargin": true,
           "gridcolor": "white",
           "linecolor": "white",
           "ticks": "",
           "title": {
            "standoff": 15
           },
           "zerolinecolor": "white",
           "zerolinewidth": 2
          }
         }
        },
        "title": {
         "text": "Meals"
        },
        "xaxis": {
         "anchor": "y",
         "autorange": true,
         "domain": [
          0,
          1
         ],
         "range": [
          -4.543446244477172,
          94.54344624447717
         ],
         "title": {
          "text": "AVG(`carbon point`)"
         },
         "type": "linear"
        },
        "yaxis": {
         "anchor": "x",
         "autorange": true,
         "domain": [
          0,
          1
         ],
         "range": [
          6.776315789473684,
          48.223684210526315
         ],
         "title": {
          "text": "AVG (time)"
         },
         "type": "linear"
        }
       }
      },
      "image/png": "[encoded data removed]",
      "text/html": [
       "<div>                            <div id=\"02394c66-4e40-4055-bf74-3addb72a3499\" class=\"plotly-graph-div\" style=\"height:525px; width:100%;\"></div>            <script type=\"text/javascript\">                require([\"plotly\"], function(Plotly) {                    window.PLOTLYENV=window.PLOTLYENV || {};                                    if (document.getElementById(\"02394c66-4e40-4055-bf74-3addb72a3499\")) {                    Plotly.newPlot(                        \"02394c66-4e40-4055-bf74-3addb72a3499\",                        [{\"hovertemplate\":\"<b>%{hovertext}</b><br><br>Calc_Meal=Fish<br>AVG(`carbon point`)=%{x}<br>AVG (time)=%{y}<extra></extra>\",\"hovertext\":[\"Russian salad\",\"baked fish\",\"baked hake\",\"baked salmon\",\"battered hake\",\"croquettes\",\"fish stew\",\"fried rooster\",\"gilt-head bream\",\"grilled sea bass\",\"hake\",\"hake with mashed potatoes\",\"mixed salad\",\"paella with squid\",\"peas with fish\",\"sea bass\",\"swordfish\",\"tuna\"],\"legendgroup\":\"Fish\",\"marker\":{\"color\":\"#636efa\",\"symbol\":\"circle\",\"opacity\":0.6,\"size\":8},\"mode\":\"markers\",\"name\":\"Fish\",\"orientation\":\"v\",\"showlegend\":true,\"x\":[8.0,8.0,8.0,8.0,8.0,8.0,8.0,8.0,8.0,8.0,8.0,8.0,21.0,34.0,8.0,8.0,8.0,8.0],\"xaxis\":\"x\",\"y\":[35.0,30.0,30.0,30.0,20.0,45.0,45.0,15.0,15.0,25.0,30.0,30.0,15.0,25.0,30.0,30.0,15.0,20.0],\"yaxis\":\"y\",\"type\":\"scatter\"},{\"hovertemplate\":\"<b>%{hovertext}</b><br><br>Calc_Meal=Pork<br>AVG(`carbon point`)=%{x}<br>AVG (time)=%{y}<extra></extra>\",\"hovertext\":[\"Saxon loin\",\"broccoli with ham\",\"carbonara macaroni\",\"carbonara pasta\",\"loin\",\"loin fillet\",\"macaroni\",\"marinated pork loin\",\"peas with ham\",\"pizza\",\"pork fillet\",\"pork tenderloin\",\"sausages\",\"spaghetti carbonara\",\"stroganoff tenderloin\"],\"legendgroup\":\"Pork\",\"marker\":{\"color\":\"#EF553B\",\"symbol\":\"circle\",\"opacity\":0.6,\"size\":8},\"mode\":\"markers\",\"name\":\"Pork\",\"orientation\":\"v\",\"showlegend\":true,\"x\":[13.0,13.0,13.0,13.0,13.0,89.0,13.0,13.0,13.0,21.0,13.0,13.0,13.0,13.0,13.0],\"xaxis\":\"x\",\"y\":[15.0,15.0,30.0,20.0,15.0,15.0,25.0,15.0,15.0,30.0,15.0,15.0,15.0,30.0,30.0],\"yaxis\":\"y\",\"type\":\"scatter\"},{\"hovertemplate\":\"<b>%{hovertext}</b><br><br>Calc_Meal=beef<br>AVG(`carbon point`)=%{x}<br>AVG (time)=%{y}<extra></extra>\",\"hovertext\":[\"beef fillet\",\"breaded fillet\",\"broccoli with meat\",\"eggplant bolognese\",\"ground/minced meat\",\"meat\",\"roast beef\",\"spaghetti bolognese\",\"steak\"],\"legendgroup\":\"beef\",\"marker\":{\"color\":\"#00cc96\",\"symbol\":\"circle\",\"opacity\":0.6,\"size\":8},\"mode\":\"markers\",\"name\":\"beef\",\"orientation\":\"v\",\"showlegend\":true,\"x\":[89.0,89.0,89.0,89.0,89.0,89.0,89.0,89.0,89.0],\"xaxis\":\"x\",\"y\":[20.0,19.375,30.0,45.0,20.0,15.0,45.0,45.0,20.0],\"yaxis\":\"y\",\"type\":\"scatter\"},{\"hovertemplate\":\"<b>%{hovertext}</b><br><br>Calc_Meal=Egg<br>AVG(`carbon point`)=%{x}<br>AVG (time)=%{y}<extra></extra>\",\"hovertext\":[\"boiled egg\",\"boiled eggs\",\"broccoli with fried egg\",\"egg\",\"fried egg\",\"green beans with fried egg\",\"peas with fried egg\",\"potato omelette\"],\"legendgroup\":\"Egg\",\"marker\":{\"color\":\"#ab63fa\",\"symbol\":\"circle\",\"opacity\":0.6,\"size\":8},\"mode\":\"markers\",\"name\":\"Egg\",\"orientation\":\"v\",\"showlegend\":true,\"x\":[3.0,3.0,1.0,3.0,3.0,3.0,3.0,3.0],\"xaxis\":\"x\",\"y\":[15.0,20.0,15.0,15.0,10.0,20.0,15.0,30.0],\"yaxis\":\"y\",\"type\":\"scatter\"},{\"hovertemplate\":\"<b>%{hovertext}</b><br><br>Calc_Meal=Vegetable<br>AVG(`carbon point`)=%{x}<br>AVG (time)=%{y}<extra></extra>\",\"hovertext\":[\"broccoli with garlic sauce\",\"broccoli with potato\",\"chard with potatoes\",\"chickpea salad\",\"chickpea stew\",\"chickpeas\",\"chickpeas with spinach\",\"green beans with garlic sauce\",\"green beans with potato\",\"kale with fried potatoes\",\"large beans\",\"lentils\",\"refried beans\",\"salad\",\"spaghetti with garlic mushrooms\",\"spinach stew\",\"stewed vegetables\",\"turnip greens with potato\"],\"legendgroup\":\"Vegetable\",\"marker\":{\"color\":\"#FFA15A\",\"symbol\":\"circle\",\"opacity\":0.6,\"size\":8},\"mode\":\"markers\",\"name\":\"Vegetable\",\"orientation\":\"v\",\"showlegend\":true,\"x\":[1.0,1.0,1.0,1.0,1.0,1.0,1.0,1.0,1.0,1.0,1.0,1.0,1.0,1.0,1.0,1.0,1.0,1.0],\"xaxis\":\"x\",\"y\":[25.0,35.0,30.0,25.0,30.0,30.0,30.0,20.0,30.0,25.0,20.0,45.0,38.333333333333336,15.0,20.0,35.0,15.0,30.0],\"yaxis\":\"y\",\"type\":\"scatter\"},{\"hovertemplate\":\"<b>%{hovertext}</b><br><br>Calc_Meal=Chicken<br>AVG(`carbon point`)=%{x}<br>AVG (time)=%{y}<extra></extra>\",\"hovertext\":[\"butterfly chicken\",\"chicken and turnip greens\",\"chicken fillet\",\"green beans with chicken\",\"roast chicken\",\"turkey fillet\"],\"legendgroup\":\"Chicken\",\"marker\":{\"color\":\"#19d3f3\",\"symbol\":\"circle\",\"opacity\":0.6,\"size\":8},\"mode\":\"markers\",\"name\":\"Chicken\",\"orientation\":\"v\",\"showlegend\":true,\"x\":[5.0,5.0,5.0,5.0,5.0,5.0],\"xaxis\":\"x\",\"y\":[30.0,30.0,15.0,20.0,45.0,15.0],\"yaxis\":\"y\",\"type\":\"scatter\"},{\"hovertemplate\":\"<b>%{hovertext}</b><br><br>Calc_Meal=Non-meat/wDairy<br>AVG(`carbon point`)=%{x}<br>AVG (time)=%{y}<extra></extra>\",\"hovertext\":[\"pasta salad\",\"quesadillas\"],\"legendgroup\":\"Non-meat/wDairy\",\"marker\":{\"color\":\"#FF6692\",\"symbol\":\"circle\",\"opacity\":0.6,\"size\":8},\"mode\":\"markers\",\"name\":\"Non-meat/wDairy\",\"orientation\":\"v\",\"showlegend\":true,\"x\":[21.0,21.0],\"xaxis\":\"x\",\"y\":[15.0,10.0],\"yaxis\":\"y\",\"type\":\"scatter\"}],                        {\"template\":{\"data\":{\"histogram2dcontour\":[{\"type\":\"histogram2dcontour\",\"colorbar\":{\"outlinewidth\":0,\"ticks\":\"\"},\"colorscale\":[[0.0,\"#0d0887\"],[0.1111111111111111,\"#46039f\"],[0.2222222222222222,\"#7201a8\"],[0.3333333333333333,\"#9c179e\"],[0.4444444444444444,\"#bd3786\"],[0.5555555555555556,\"#d8576b\"],[0.6666666666666666,\"#ed7953\"],[0.7777777777777778,\"#fb9f3a\"],[0.8888888888888888,\"#fdca26\"],[1.0,\"#f0f921\"]]}],\"choropleth\":[{\"type\":\"choropleth\",\"colorbar\":{\"outlinewidth\":0,\"ticks\":\"\"}}],\"histogram2d\":[{\"type\":\"histogram2d\",\"colorbar\":{\"outlinewidth\":0,\"ticks\":\"\"},\"colorscale\":[[0.0,\"#0d0887\"],[0.1111111111111111,\"#46039f\"],[0.2222222222222222,\"#7201a8\"],[0.3333333333333333,\"#9c179e\"],[0.4444444444444444,\"#bd3786\"],[0.5555555555555556,\"#d8576b\"],[0.6666666666666666,\"#ed7953\"],[0.7777777777777778,\"#fb9f3a\"],[0.8888888888888888,\"#fdca26\"],[1.0,\"#f0f921\"]]}],\"heatmap\":[{\"type\":\"heatmap\",\"colorbar\":{\"outlinewidth\":0,\"ticks\":\"\"},\"colorscale\":[[0.0,\"#0d0887\"],[0.1111111111111111,\"#46039f\"],[0.2222222222222222,\"#7201a8\"],[0.3333333333333333,\"#9c179e\"],[0.4444444444444444,\"#bd3786\"],[0.5555555555555556,\"#d8576b\"],[0.6666666666666666,\"#ed7953\"],[0.7777777777777778,\"#fb9f3a\"],[0.8888888888888888,\"#fdca26\"],[1.0,\"#f0f921\"]]}],\"heatmapgl\":[{\"type\":\"heatmapgl\",\"colorbar\":{\"outlinewidth\":0,\"ticks\":\"\"},\"colorscale\":[[0.0,\"#0d0887\"],[0.1111111111111111,\"#46039f\"],[0.2222222222222222,\"#7201a8\"],[0.3333333333333333,\"#9c179e\"],[0.4444444444444444,\"#bd3786\"],[0.5555555555555556,\"#d8576b\"],[0.6666666666666666,\"#ed7953\"],[0.7777777777777778,\"#fb9f3a\"],[0.8888888888888888,\"#fdca26\"],[1.0,\"#f0f921\"]]}],\"contourcarpet\":[{\"type\":\"contourcarpet\",\"colorbar\":{\"outlinewidth\":0,\"ticks\":\"\"}}],\"contour\":[{\"type\":\"contour\",\"colorbar\":{\"outlinewidth\":0,\"ticks\":\"\"},\"colorscale\":[[0.0,\"#0d0887\"],[0.1111111111111111,\"#46039f\"],[0.2222222222222222,\"#7201a8\"],[0.3333333333333333,\"#9c179e\"],[0.4444444444444444,\"#bd3786\"],[0.5555555555555556,\"#d8576b\"],[0.6666666666666666,\"#ed7953\"],[0.7777777777777778,\"#fb9f3a\"],[0.8888888888888888,\"#fdca26\"],[1.0,\"#f0f921\"]]}],\"surface\":[{\"type\":\"surface\",\"colorbar\":{\"outlinewidth\":0,\"ticks\":\"\"},\"colorscale\":[[0.0,\"#0d0887\"],[0.1111111111111111,\"#46039f\"],[0.2222222222222222,\"#7201a8\"],[0.3333333333333333,\"#9c179e\"],[0.4444444444444444,\"#bd3786\"],[0.5555555555555556,\"#d8576b\"],[0.6666666666666666,\"#ed7953\"],[0.7777777777777778,\"#fb9f3a\"],[0.8888888888888888,\"#fdca26\"],[1.0,\"#f0f921\"]]}],\"mesh3d\":[{\"type\":\"mesh3d\",\"colorbar\":{\"outlinewidth\":0,\"ticks\":\"\"}}],\"scatter\":[{\"fillpattern\":{\"fillmode\":\"overlay\",\"size\":10,\"solidity\":0.2},\"type\":\"scatter\"}],\"parcoords\":[{\"type\":\"parcoords\",\"line\":{\"colorbar\":{\"outlinewidth\":0,\"ticks\":\"\"}}}],\"scatterpolargl\":[{\"type\":\"scatterpolargl\",\"marker\":{\"colorbar\":{\"outlinewidth\":0,\"ticks\":\"\"}}}],\"bar\":[{\"error_x\":{\"color\":\"#2a3f5f\"},\"error_y\":{\"color\":\"#2a3f5f\"},\"marker\":{\"line\":{\"color\":\"#E5ECF6\",\"width\":0.5},\"pattern\":{\"fillmode\":\"overlay\",\"size\":10,\"solidity\":0.2}},\"type\":\"bar\"}],\"scattergeo\":[{\"type\":\"scattergeo\",\"marker\":{\"colorbar\":{\"outlinewidth\":0,\"ticks\":\"\"}}}],\"scatterpolar\":[{\"type\":\"scatterpolar\",\"marker\":{\"colorbar\":{\"outlinewidth\":0,\"ticks\":\"\"}}}],\"histogram\":[{\"marker\":{\"pattern\":{\"fillmode\":\"overlay\",\"size\":10,\"solidity\":0.2}},\"type\":\"histogram\"}],\"scattergl\":[{\"type\":\"scattergl\",\"marker\":{\"colorbar\":{\"outlinewidth\":0,\"ticks\":\"\"}}}],\"scatter3d\":[{\"type\":\"scatter3d\",\"line\":{\"colorbar\":{\"outlinewidth\":0,\"ticks\":\"\"}},\"marker\":{\"colorbar\":{\"outlinewidth\":0,\"ticks\":\"\"}}}],\"scattermapbox\":[{\"type\":\"scattermapbox\",\"marker\":{\"colorbar\":{\"outlinewidth\":0,\"ticks\":\"\"}}}],\"scatterternary\":[{\"type\":\"scatterternary\",\"marker\":{\"colorbar\":{\"outlinewidth\":0,\"ticks\":\"\"}}}],\"scattercarpet\":[{\"type\":\"scattercarpet\",\"marker\":{\"colorbar\":{\"outlinewidth\":0,\"ticks\":\"\"}}}],\"carpet\":[{\"aaxis\":{\"endlinecolor\":\"#2a3f5f\",\"gridcolor\":\"white\",\"linecolor\":\"white\",\"minorgridcolor\":\"white\",\"startlinecolor\":\"#2a3f5f\"},\"baxis\":{\"endlinecolor\":\"#2a3f5f\",\"gridcolor\":\"white\",\"linecolor\":\"white\",\"minorgridcolor\":\"white\",\"startlinecolor\":\"#2a3f5f\"},\"type\":\"carpet\"}],\"table\":[{\"cells\":{\"fill\":{\"color\":\"#EBF0F8\"},\"line\":{\"color\":\"white\"}},\"header\":{\"fill\":{\"color\":\"#C8D4E3\"},\"line\":{\"color\":\"white\"}},\"type\":\"table\"}],\"barpolar\":[{\"marker\":{\"line\":{\"color\":\"#E5ECF6\",\"width\":0.5},\"pattern\":{\"fillmode\":\"overlay\",\"size\":10,\"solidity\":0.2}},\"type\":\"barpolar\"}],\"pie\":[{\"automargin\":true,\"type\":\"pie\"}]},\"layout\":{\"autotypenumbers\":\"strict\",\"colorway\":[\"#636efa\",\"#EF553B\",\"#00cc96\",\"#ab63fa\",\"#FFA15A\",\"#19d3f3\",\"#FF6692\",\"#B6E880\",\"#FF97FF\",\"#FECB52\"],\"font\":{\"color\":\"#2a3f5f\"},\"hovermode\":\"closest\",\"hoverlabel\":{\"align\":\"left\"},\"paper_bgcolor\":\"white\",\"plot_bgcolor\":\"#E5ECF6\",\"polar\":{\"bgcolor\":\"#E5ECF6\",\"angularaxis\":{\"gridcolor\":\"white\",\"linecolor\":\"white\",\"ticks\":\"\"},\"radialaxis\":{\"gridcolor\":\"white\",\"linecolor\":\"white\",\"ticks\":\"\"}},\"ternary\":{\"bgcolor\":\"#E5ECF6\",\"aaxis\":{\"gridcolor\":\"white\",\"linecolor\":\"white\",\"ticks\":\"\"},\"baxis\":{\"gridcolor\":\"white\",\"linecolor\":\"white\",\"ticks\":\"\"},\"caxis\":{\"gridcolor\":\"white\",\"linecolor\":\"white\",\"ticks\":\"\"}},\"coloraxis\":{\"colorbar\":{\"outlinewidth\":0,\"ticks\":\"\"}},\"colorscale\":{\"sequential\":[[0.0,\"#0d0887\"],[0.1111111111111111,\"#46039f\"],[0.2222222222222222,\"#7201a8\"],[0.3333333333333333,\"#9c179e\"],[0.4444444444444444,\"#bd3786\"],[0.5555555555555556,\"#d8576b\"],[0.6666666666666666,\"#ed7953\"],[0.7777777777777778,\"#fb9f3a\"],[0.8888888888888888,\"#fdca26\"],[1.0,\"#f0f921\"]],\"sequentialminus\":[[0.0,\"#0d0887\"],[0.1111111111111111,\"#46039f\"],[0.2222222222222222,\"#7201a8\"],[0.3333333333333333,\"#9c179e\"],[0.4444444444444444,\"#bd3786\"],[0.5555555555555556,\"#d8576b\"],[0.6666666666666666,\"#ed7953\"],[0.7777777777777778,\"#fb9f3a\"],[0.8888888888888888,\"#fdca26\"],[1.0,\"#f0f921\"]],\"diverging\":[[0,\"#8e0152\"],[0.1,\"#c51b7d\"],[0.2,\"#de77ae\"],[0.3,\"#f1b6da\"],[0.4,\"#fde0ef\"],[0.5,\"#f7f7f7\"],[0.6,\"#e6f5d0\"],[0.7,\"#b8e186\"],[0.8,\"#7fbc41\"],[0.9,\"#4d9221\"],[1,\"#276419\"]]},\"xaxis\":{\"gridcolor\":\"white\",\"linecolor\":\"white\",\"ticks\":\"\",\"title\":{\"standoff\":15},\"zerolinecolor\":\"white\",\"automargin\":true,\"zerolinewidth\":2},\"yaxis\":{\"gridcolor\":\"white\",\"linecolor\":\"white\",\"ticks\":\"\",\"title\":{\"standoff\":15},\"zerolinecolor\":\"white\",\"automargin\":true,\"zerolinewidth\":2},\"scene\":{\"xaxis\":{\"backgroundcolor\":\"#E5ECF6\",\"gridcolor\":\"white\",\"linecolor\":\"white\",\"showbackground\":true,\"ticks\":\"\",\"zerolinecolor\":\"white\",\"gridwidth\":2},\"yaxis\":{\"backgroundcolor\":\"#E5ECF6\",\"gridcolor\":\"white\",\"linecolor\":\"white\",\"showbackground\":true,\"ticks\":\"\",\"zerolinecolor\":\"white\",\"gridwidth\":2},\"zaxis\":{\"backgroundcolor\":\"#E5ECF6\",\"gridcolor\":\"white\",\"linecolor\":\"white\",\"showbackground\":true,\"ticks\":\"\",\"zerolinecolor\":\"white\",\"gridwidth\":2}},\"shapedefaults\":{\"line\":{\"color\":\"#2a3f5f\"}},\"annotationdefaults\":{\"arrowcolor\":\"#2a3f5f\",\"arrowhead\":0,\"arrowwidth\":1},\"geo\":{\"bgcolor\":\"white\",\"landcolor\":\"#E5ECF6\",\"subunitcolor\":\"white\",\"showland\":true,\"showlakes\":true,\"lakecolor\":\"white\"},\"title\":{\"x\":0.05},\"mapbox\":{\"style\":\"light\"}}},\"xaxis\":{\"anchor\":\"y\",\"domain\":[0.0,1.0],\"title\":{\"text\":\"AVG(`carbon point`)\"}},\"yaxis\":{\"anchor\":\"x\",\"domain\":[0.0,1.0],\"title\":{\"text\":\"AVG (time)\"}},\"legend\":{\"title\":{\"text\":\"Calc_Meal\"},\"tracegroupgap\":0},\"title\":{\"text\":\"Meals\"}},                        {\"responsive\": true}                    ).then(function(){\n",
       "                            \n",
       "var gd = document.getElementById('02394c66-4e40-4055-bf74-3addb72a3499');\n",
       "var x = new MutationObserver(function (mutations, observer) {{\n",
       "        var display = window.getComputedStyle(gd).display;\n",
       "        if (!display || display === 'none') {{\n",
       "            console.log([gd, 'removed!']);\n",
       "            Plotly.purge(gd);\n",
       "            observer.disconnect();\n",
       "        }}\n",
       "}});\n",
       "\n",
       "// Listen for the removal of the full notebook cells\n",
       "var notebookContainer = gd.closest('#notebook-container');\n",
       "if (notebookContainer) {{\n",
       "    x.observe(notebookContainer, {childList: true});\n",
       "}}\n",
       "\n",
       "// Listen for the clearing of the current output cell\n",
       "var outputEl = gd.closest('.output');\n",
       "if (outputEl) {{\n",
       "    x.observe(outputEl, {childList: true});\n",
       "}}\n",
       "\n",
       "                        })                };                });            </script>        </div>"
      ]
     },
     "metadata": {},
     "output_type": "display_data"
    }
   ],
   "source": [
    "# Convert the 'weekday' column to a categorical type with the specified order\n",
    "result_df3['quarter'] = pd.Categorical(result_df3['quarter'])\n",
    "\n",
    "# Define the SQL query\n",
    "query = '''\n",
    "SELECT meal,calc_meal ,AVG(`carbon point`), AVG (time), COUNT (meal)\n",
    "FROM df\n",
    "WHERE weekday != \"none\" AND category = \"principal\"\n",
    "GROUP BY meal, calc_meal\n",
    "'''\n",
    "\n",
    "# Execute the query\n",
    "result_df4 = psql.sqldf(query, locals())\n",
    "\n",
    "import plotly.express as px\n",
    "\n",
    "# Interactive plot with Plotly\n",
    "fig = px.scatter(result_df4, x='AVG(`carbon point`)', y='AVG (time)', color='Calc_Meal', hover_name='meal',\n",
    "                 title='Meals')\n",
    "fig.update_traces(marker=dict(size=8, opacity=0.6))\n",
    "fig.show()"
   ]
  },
  {
   "cell_type": "markdown",
   "id": "26f0bc64-9a55-47be-a1ca-ea14c0d5753a",
   "metadata": {},
   "source": [
    "Out of curiosity, I decided to check how the data would look when grouped by \"Calc_Meal\" and split by quarters. As expected, vegetables were the quickest to prepare and had the lowest carbon points, while beef dishes took the most time and had the highest carbon points. This confirmed the environmental impact and time investment associated with different meal types."
   ]
  },
  {
   "cell_type": "code",
   "execution_count": 114,
   "id": "aae4f92a-6e52-4759-b213-1f8a678cde20",
   "metadata": {},
   "outputs": [
    {
     "data": {
      "image/png": "[encoded data removed]",
      "text/plain": [
       "<Figure size 1000x600 with 1 Axes>"
      ]
     },
     "metadata": {},
     "output_type": "display_data"
    }
   ],
   "source": [
    "# Convert the 'weekday' column to a categorical type with the specified order\n",
    "result_df3['quarter'] = pd.Categorical(result_df3['quarter'])\n",
    "\n",
    "# Define the SQL query\n",
    "query = '''\n",
    "SELECT calc_meal ,AVG(`carbon point`), AVG (time), COUNT (meal)\n",
    "FROM df\n",
    "GROUP BY calc_meal\n",
    "'''\n",
    "\n",
    "# Execute the query\n",
    "result_df5 = psql.sqldf(query, locals())\n",
    "\n",
    "# Create the scatter plot\n",
    "plt.figure(figsize=(10, 6))\n",
    "scatter = sns.scatterplot(data=result_df5, x='AVG(`carbon point`)', y='AVG (time)', size='COUNT (meal)', hue='Calc_Meal', palette='deep', sizes=(100, 500))\n",
    "\n",
    "# Add titles and labels\n",
    "plt.title('Meals by Calc_Meal')\n",
    "plt.xlabel('Avg Carbon points')\n",
    "plt.ylabel('Avg Time')\n",
    "\n",
    "# Show the plot\n",
    "plt.show()"
   ]
  },
  {
   "cell_type": "markdown",
   "id": "b91888ff-aa84-4b0b-894f-44c3c19df371",
   "metadata": {},
   "source": [
    "\n",
    "As a final SQL query exploration, I wanted to calculate the average calories we consumed per week. This was relatively straightforward: I summed the calories for each week and divided by 5 since we only tracked Monday to Friday. <br>\n",
    "\n",
    "Next, I aimed to find the average calories per quarter. Once I understood how to use subqueries in SQL within NumPy, this calculation became straightforward. Here's the process I followed to get these insights"
   ]
  },
  {
   "cell_type": "code",
   "execution_count": 71,
   "id": "aef65931-f0bc-4928-b05f-5ff950e20f0f",
   "metadata": {},
   "outputs": [
    {
     "data": {
      "text/html": [
       "<div>\n",
       "<style scoped>\n",
       "    .dataframe tbody tr th:only-of-type {\n",
       "        vertical-align: middle;\n",
       "    }\n",
       "\n",
       "    .dataframe tbody tr th {\n",
       "        vertical-align: top;\n",
       "    }\n",
       "\n",
       "    .dataframe thead th {\n",
       "        text-align: right;\n",
       "    }\n",
       "</style>\n",
       "<table border=\"1\" class=\"dataframe\">\n",
       "  <thead>\n",
       "    <tr style=\"text-align: right;\">\n",
       "      <th></th>\n",
       "      <th>quarter</th>\n",
       "      <th>week</th>\n",
       "      <th>num_calories</th>\n",
       "      <th>avg_calories_per_quarter</th>\n",
       "    </tr>\n",
       "  </thead>\n",
       "  <tbody>\n",
       "    <tr>\n",
       "      <th>0</th>\n",
       "      <td>2023-03-31</td>\n",
       "      <td>3</td>\n",
       "      <td>465.0</td>\n",
       "      <td>500.555556</td>\n",
       "    </tr>\n",
       "    <tr>\n",
       "      <th>1</th>\n",
       "      <td>2023-03-31</td>\n",
       "      <td>4</td>\n",
       "      <td>500.0</td>\n",
       "      <td>500.555556</td>\n",
       "    </tr>\n",
       "    <tr>\n",
       "      <th>2</th>\n",
       "      <td>2023-03-31</td>\n",
       "      <td>5</td>\n",
       "      <td>405.0</td>\n",
       "      <td>500.555556</td>\n",
       "    </tr>\n",
       "    <tr>\n",
       "      <th>3</th>\n",
       "      <td>2023-03-31</td>\n",
       "      <td>6</td>\n",
       "      <td>635.0</td>\n",
       "      <td>500.555556</td>\n",
       "    </tr>\n",
       "    <tr>\n",
       "      <th>4</th>\n",
       "      <td>2023-03-31</td>\n",
       "      <td>7</td>\n",
       "      <td>415.0</td>\n",
       "      <td>500.555556</td>\n",
       "    </tr>\n",
       "  </tbody>\n",
       "</table>\n",
       "</div>"
      ],
      "text/plain": [
       "      quarter  week  num_calories  avg_calories_per_quarter\n",
       "0  2023-03-31     3         465.0                500.555556\n",
       "1  2023-03-31     4         500.0                500.555556\n",
       "2  2023-03-31     5         405.0                500.555556\n",
       "3  2023-03-31     6         635.0                500.555556\n",
       "4  2023-03-31     7         415.0                500.555556"
      ]
     },
     "execution_count": 71,
     "metadata": {},
     "output_type": "execute_result"
    }
   ],
   "source": [
    "df['week'] = df['date'].dt.isocalendar().week\n",
    "\n",
    "# Convert the 'weekday' column to a categorical type with the specified order\n",
    "result_df3['quarter'] = pd.Categorical(result_df3['quarter'])\n",
    "\n",
    "# Define the SQL query\n",
    "query = '''\n",
    "WITH weekly_calories AS (\n",
    "    SELECT\n",
    "        week,\n",
    "         SUM(`num calories`)/5 AS num_calories,\n",
    "        quarter\n",
    "    FROM df\n",
    "    GROUP BY week, quarter\n",
    "),\n",
    "quarterly_avg AS (\n",
    "    SELECT\n",
    "        quarter,\n",
    "        AVG(num_calories) AS avg_calories_per_quarter\n",
    "    FROM weekly_calories\n",
    "    GROUP BY quarter\n",
    ")\n",
    "SELECT\n",
    "q.quarter,\n",
    "    w.week,\n",
    "    w.num_calories,\n",
    "    q.avg_calories_per_quarter\n",
    "FROM weekly_calories w\n",
    "JOIN quarterly_avg q ON w.quarter = q.quarter;\n",
    "\n",
    "\n",
    "'''\n",
    "\n",
    "# Execute the query\n",
    "result_df6 = psql.sqldf(query, locals())\n",
    "\n",
    "# Display the results\n",
    "result_df6.head()"
   ]
  },
  {
   "cell_type": "markdown",
   "id": "97f2a26f-970d-4ea5-9531-f076e82d5df5",
   "metadata": {},
   "source": [
    "Finally, I visualized the data on calories per week, taking into account the quarterly average. Interestingly, after being advised to adopt a lower-fat diet in Q3, I observed a slight decrease in our average calorie intake. <br> \n",
    "On average, maintaining between 500 and 700 calories per meal is a healthy range. The graph shows that our household consistently stays within this range, which is happy news."
   ]
  },
  {
   "cell_type": "code",
   "execution_count": 73,
   "id": "bf122c5d-46d8-42f2-bdfa-8fa9576cd3f5",
   "metadata": {},
   "outputs": [
    {
     "data": {
      "image/png": "[encoded data removed]",
      "text/plain": [
       "<Figure size 640x480 with 2 Axes>"
      ]
     },
     "metadata": {},
     "output_type": "display_data"
    }
   ],
   "source": [
    "# Create a figure and a set of subplots\n",
    "fig, ax1 = plt.subplots()\n",
    "\n",
    "# Map quarters to specific colors\n",
    "quarter_colors = {\n",
    "    '2023-03-31': 'tab:blue',\n",
    "    '2023-06-30': 'tab:orange',\n",
    "    '2023-09-30': 'tab:green',\n",
    "    '2023-12-31': 'tab:red'\n",
    "}\n",
    "colors = result_df6['quarter'].map(quarter_colors)\n",
    "\n",
    "# Plot the first y-axis (price) with dots\n",
    "ax1.set_xlabel('Week')\n",
    "ax1.set_ylabel('Calories per week', color='tab:blue')\n",
    "ax1.scatter(result_df6['week'], result_df6['num_calories'], color=colors, label='Price')\n",
    "ax1.tick_params(axis='y', labelcolor='tab:blue')\n",
    "\n",
    "# Create a second y-axis sharing the same x-axis\n",
    "ax2 = ax1.twinx()\n",
    "ax2.set_ylabel('Avg calories per quarter', color='tab:red')\n",
    "ax2.scatter(result_df6['week'], result_df6['avg_calories_per_quarter'], color=\"grey\", label='Weight')\n",
    "ax2.tick_params(axis='y', labelcolor='tab:red')\n",
    "\n",
    "# Set the same min and max for both y-axes\n",
    "min_y = min(result_df6['num_calories'].min(), result_df6['avg_calories_per_quarter'].min())\n",
    "max_y = max(result_df6['num_calories'].max(), result_df6['avg_calories_per_quarter'].max())\n",
    "ax1.set_ylim(min_y, max_y)\n",
    "ax2.set_ylim(min_y, max_y)\n",
    "\n",
    "# Add a legend to show the quarter colors\n",
    "handles = [plt.Line2D([0], [0], marker='o', color='w', markerfacecolor=col, markersize=10, label=quarter) \n",
    "           for quarter, col in quarter_colors.items()]\n",
    "ax1.legend(handles=handles, title='Quarter')\n",
    "\n",
    "# Add title and show plot\n",
    "plt.title('Price and Weight Over Time with Quarter-based Colors')\n",
    "fig.tight_layout()\n",
    "plt.show()"
   ]
  }
 ],
 "metadata": {
  "kernelspec": {
   "display_name": "Python 3 (ipykernel)",
   "language": "python",
   "name": "python3"
  },
  "language_info": {
   "codemirror_mode": {
    "name": "ipython",
    "version": 3
   },
   "file_extension": ".py",
   "mimetype": "text/x-python",
   "name": "python",
   "nbconvert_exporter": "python",
   "pygments_lexer": "ipython3",
   "version": "3.11.7"
  }
 },
 "nbformat": 4,
 "nbformat_minor": 5
}
